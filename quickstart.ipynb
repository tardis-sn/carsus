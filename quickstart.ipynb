{
 "cells": [
  {
   "cell_type": "markdown",
   "metadata": {},
   "source": [
    "# Quickstart for Carsus\n",
    "\n",
    "In this guide you will learn how to create atomic data files suitable for [TARDIS](https://github.com/tardis-sn/tardis).\n",
    "\n",
    "<div class=\"alert alert-info\">\n",
    "\n",
    "**Note:**\n",
    "\n",
    "Get familiar with the [Notation in Carsus](reference/notation.rst) and learn how to correctly select ions.\n",
    "    \n",
    "</div>"
   ]
  },
  {
   "cell_type": "markdown",
   "metadata": {},
   "source": [
    "## Atomic Weights and Ionization Energies (NIST)\n",
    "\n",
    "Download atomic weights and ionization energies from the National Institute of Standards and Technology (NIST)."
   ]
  },
  {
   "cell_type": "code",
   "execution_count": 1,
   "metadata": {
    "execution": {
     "iopub.execute_input": "2025-06-30T14:45:37.260341Z",
     "iopub.status.busy": "2025-06-30T14:45:37.260177Z",
     "iopub.status.idle": "2025-06-30T14:45:38.676952Z",
     "shell.execute_reply": "2025-06-30T14:45:38.676447Z"
    }
   },
   "outputs": [
    {
     "name": "stdout",
     "output_type": "stream",
     "text": [
      " ChiantiPy version 0.15.0 \n",
      " found PyQt5 widgets\n",
      " using PyQt5 widgets\n"
     ]
    }
   ],
   "source": [
    "from carsus.io.nist import NISTWeightsComp, NISTIonizationEnergies"
   ]
  },
  {
   "cell_type": "code",
   "execution_count": 2,
   "metadata": {
    "execution": {
     "iopub.execute_input": "2025-06-30T14:45:38.679299Z",
     "iopub.status.busy": "2025-06-30T14:45:38.678803Z",
     "iopub.status.idle": "2025-06-30T14:45:40.550632Z",
     "shell.execute_reply": "2025-06-30T14:45:40.550158Z"
    }
   },
   "outputs": [
    {
     "name": "stdout",
     "output_type": "stream",
     "text": [
      "[\u001b[1m carsus.io.nist.weightscomp\u001b[0m][   \u001b[1;37mINFO\u001b[0m] - Downloading data from the carsus-dat-nist repository (\u001b[1mweightscomp.py\u001b[0m:69)\n"
     ]
    },
    {
     "name": "stdout",
     "output_type": "stream",
     "text": [
      "[\u001b[1m                py.warnings\u001b[0m][\u001b[1;33mWARNING\u001b[0m] - /home/runner/micromamba/envs/carsus/lib/python3.12/site-packages/urllib3/connectionpool.py:1099: InsecureRequestWarning: Unverified HTTPS request is being made to host 'raw.githubusercontent.com'. Adding certificate verification is strongly advised. See: https://urllib3.readthedocs.io/en/latest/advanced-usage.html#tls-warnings\n",
      "  warnings.warn(\n",
      " (\u001b[1mwarnings.py\u001b[0m:112)\n"
     ]
    },
    {
     "name": "stdout",
     "output_type": "stream",
     "text": [
      "[\u001b[1m  carsus.io.nist.ionization\u001b[0m][   \u001b[1;37mINFO\u001b[0m] - Downloading ionization energies from the carsus-data-nist repo. (\u001b[1mionization.py\u001b[0m:87)\n"
     ]
    },
    {
     "name": "stdout",
     "output_type": "stream",
     "text": [
      "[\u001b[1m                py.warnings\u001b[0m][\u001b[1;33mWARNING\u001b[0m] - /home/runner/micromamba/envs/carsus/lib/python3.12/site-packages/urllib3/connectionpool.py:1099: InsecureRequestWarning: Unverified HTTPS request is being made to host 'raw.githubusercontent.com'. Adding certificate verification is strongly advised. See: https://urllib3.readthedocs.io/en/latest/advanced-usage.html#tls-warnings\n",
      "  warnings.warn(\n",
      " (\u001b[1mwarnings.py\u001b[0m:112)\n"
     ]
    }
   ],
   "source": [
    "atomic_weights = NISTWeightsComp()\n",
    "ionization_energies = NISTIonizationEnergies('H-Zn')"
   ]
  },
  {
   "cell_type": "markdown",
   "metadata": {},
   "source": [
    "## Levels, Lines, Collisions & Cross-sections\n",
    "\n",
    "Carsus supports three sources of energy levels and spectral lines: **GFALL**, **CHIANTI** and **CMFGEN**.\n",
    "\n",
    "### GFALL\n",
    "\n",
    "The Robert Kurucz's Atomic Linelist (GFALL) reader is the main source of **levels and lines**.\n",
    "\n",
    "<div class=\"alert alert-warning\">\n",
    "\n",
    "**Warning:**\n",
    "    \n",
    "Creating a `GFALLReader` instance is **required**.\n",
    "\n",
    "</div>"
   ]
  },
  {
   "cell_type": "code",
   "execution_count": 3,
   "metadata": {
    "execution": {
     "iopub.execute_input": "2025-06-30T14:45:40.552553Z",
     "iopub.status.busy": "2025-06-30T14:45:40.552382Z",
     "iopub.status.idle": "2025-06-30T14:45:42.400943Z",
     "shell.execute_reply": "2025-06-30T14:45:42.400309Z"
    }
   },
   "outputs": [],
   "source": [
    "!wget -qO /tmp/gfall.dat https://media.githubusercontent.com/media/tardis-sn/carsus-db/master/gfall/gfall_latest.dat"
   ]
  },
  {
   "cell_type": "code",
   "execution_count": 4,
   "metadata": {
    "execution": {
     "iopub.execute_input": "2025-06-30T14:45:42.403019Z",
     "iopub.status.busy": "2025-06-30T14:45:42.402857Z",
     "iopub.status.idle": "2025-06-30T14:45:42.407641Z",
     "shell.execute_reply": "2025-06-30T14:45:42.407177Z"
    }
   },
   "outputs": [
    {
     "name": "stdout",
     "output_type": "stream",
     "text": [
      "[\u001b[1m     carsus.io.kurucz.gfall\u001b[0m][\u001b[1;33mWARNING\u001b[0m] - A specific combination to identify unique levels from GFALL data has not been given. Defaulting to [\"energy\", \"j\"]. (\u001b[1mgfall.py\u001b[0m:113)\n"
     ]
    }
   ],
   "source": [
    "from carsus.io.kurucz import GFALLReader\n",
    "\n",
    "gfall_reader = GFALLReader('H-Zn',\n",
    "                           '/tmp/gfall.dat')"
   ]
  },
  {
   "cell_type": "markdown",
   "metadata": {},
   "source": [
    "### CHIANTI\n",
    "\n",
    "The Chianti Atomic Database reader provides levels and lines but also **collision strengths**.\n",
    "\n",
    "<div class=\"alert alert-info\">\n",
    "\n",
    "**Note:**\n",
    "\n",
    "Creating a `ChiantiReader` instance is **optional**. \n",
    "\n",
    "</div>"
   ]
  },
  {
   "cell_type": "code",
   "execution_count": 5,
   "metadata": {
    "execution": {
     "iopub.execute_input": "2025-06-30T14:45:42.409272Z",
     "iopub.status.busy": "2025-06-30T14:45:42.409107Z",
     "iopub.status.idle": "2025-06-30T14:45:42.492301Z",
     "shell.execute_reply": "2025-06-30T14:45:42.491810Z"
    }
   },
   "outputs": [],
   "source": [
    "from carsus.io.chianti_ import ChiantiReader\n",
    "\n",
    "chianti_reader = ChiantiReader('H-He', \n",
    "                               collisions=True, \n",
    "                               priority=20)"
   ]
  },
  {
   "cell_type": "markdown",
   "metadata": {},
   "source": [
    "By default `priority` parameter is set to `10`. Increase this value if you want to keep CHIANTI levels and lines over GFALL."
   ]
  },
  {
   "cell_type": "markdown",
   "metadata": {},
   "source": [
    "### CMFGEN\n",
    "\n",
    "The atomic database of [CMFGEN](http://kookaburra.phyast.pitt.edu/hillier/web/CMFGEN.htm) is a source of levels, lines and (optionally) **ionization energies**, **photoionization cross-sections** and **collisions**.\n",
    "\n",
    "<div class=\"alert alert-info\">\n",
    "    \n",
    "**Note:**\n",
    "\n",
    "Creating a `CMFGENReader` instance is **optional**. \n",
    "\n",
    "</div>"
   ]
  },
  {
   "cell_type": "markdown",
   "metadata": {},
   "source": [
    "<div class=\"alert alert-warning\">\n",
    "\n",
    "**Warning:**\n",
    "    \n",
    "Cross-sections require data from `H 0`, use this the reader with enough `priority` to select levels from this ion.\n",
    "\n",
    "</div>"
   ]
  },
  {
   "cell_type": "code",
   "execution_count": 6,
   "metadata": {
    "execution": {
     "iopub.execute_input": "2025-06-30T14:45:42.494160Z",
     "iopub.status.busy": "2025-06-30T14:45:42.493974Z",
     "iopub.status.idle": "2025-06-30T14:45:45.103584Z",
     "shell.execute_reply": "2025-06-30T14:45:45.103146Z"
    }
   },
   "outputs": [
    {
     "name": "stdout",
     "output_type": "stream",
     "text": [
      "[\u001b[1m      carsus.io.cmfgen.base\u001b[0m][\u001b[1;33mWARNING\u001b[0m] - Selecting H 0 from CMFGEN (required to ingest cross-sections). (\u001b[1mbase.py\u001b[0m:562)\n"
     ]
    },
    {
     "name": "stdout",
     "output_type": "stream",
     "text": [
      "[\u001b[1m      carsus.io.cmfgen.base\u001b[0m][   \u001b[1;37mINFO\u001b[0m] - Configuration schema found for H 0. (\u001b[1mbase.py\u001b[0m:576)\n"
     ]
    },
    {
     "name": "stdout",
     "output_type": "stream",
     "text": [
      "[\u001b[1m      carsus.io.cmfgen.base\u001b[0m][   \u001b[1;37mINFO\u001b[0m] - Configuration schema found for Si 0. (\u001b[1mbase.py\u001b[0m:576)\n"
     ]
    },
    {
     "name": "stdout",
     "output_type": "stream",
     "text": [
      "[\u001b[1m      carsus.io.cmfgen.base\u001b[0m][   \u001b[1;37mINFO\u001b[0m] - Configuration schema found for Si 1. (\u001b[1mbase.py\u001b[0m:576)\n"
     ]
    },
    {
     "name": "stdout",
     "output_type": "stream",
     "text": [
      "[\u001b[1m      carsus.io.cmfgen.base\u001b[0m][   \u001b[1;37mINFO\u001b[0m] - Loading atomic data for H 0. (\u001b[1mbase.py\u001b[0m:861)\n"
     ]
    },
    {
     "name": "stdout",
     "output_type": "stream",
     "text": [
      "[\u001b[1m      carsus.io.cmfgen.base\u001b[0m][   \u001b[1;37mINFO\u001b[0m] - Loading atomic data for Si 0. (\u001b[1mbase.py\u001b[0m:861)\n"
     ]
    },
    {
     "name": "stdout",
     "output_type": "stream",
     "text": [
      "[\u001b[1m      carsus.io.cmfgen.base\u001b[0m][   \u001b[1;37mINFO\u001b[0m] - Loading atomic data for Si 1. (\u001b[1mbase.py\u001b[0m:861)\n"
     ]
    }
   ],
   "source": [
    "from carsus.io.cmfgen import CMFGENReader\n",
    "\n",
    "cmfgen_reader = CMFGENReader.from_config('Si 0-1', \n",
    "                                         '/tmp/atomic', \n",
    "                                         priority=30,\n",
    "                                         ionization_energies=True,\n",
    "                                         cross_sections=True,\n",
    "                                         collisions=False,\n",
    "                                         temperature_grid=None,\n",
    "                                         drop_mismatched_labels=True)"
   ]
  },
  {
   "cell_type": "markdown",
   "metadata": {},
   "source": [
    "## Zeta Data\n",
    "\n",
    "Long & Knigge's ground state recombinations fractions ($\\zeta$)."
   ]
  },
  {
   "cell_type": "code",
   "execution_count": 7,
   "metadata": {
    "execution": {
     "iopub.execute_input": "2025-06-30T14:45:45.105841Z",
     "iopub.status.busy": "2025-06-30T14:45:45.105397Z",
     "iopub.status.idle": "2025-06-30T14:45:45.128354Z",
     "shell.execute_reply": "2025-06-30T14:45:45.127868Z"
    }
   },
   "outputs": [],
   "source": [
    "from carsus.io.zeta import KnoxLongZeta\n",
    "\n",
    "zeta_data = KnoxLongZeta()"
   ]
  },
  {
   "cell_type": "markdown",
   "metadata": {},
   "source": [
    "## Nuclear decay data\n",
    "\n",
    "Carsus also supports the decay radiation data of all the nuclides at the [NNDC Archives](https://www.nndc.bnl.gov/ensdfarchivals/). The ENSDF data is stored in CSV format in the repository [carsus-data-nndc](https://github.com/tardis-sn/carsus-data-nndc).\n",
    "\n",
    "### NNDC\n",
    "\n",
    "The NNDCReader instance looks for the `carsus-data-nndc` repository in the local system at the path specified by the argument `dirname`. If the data is to be downloaded from the Github repository directly , the `remote` argument should be set to `True`.\n",
    "\n",
    "<div class=\"alert alert-info\">\n",
    "    \n",
    "**Note:**\n",
    "\n",
    "Creating a `NNDCReader` instance is **optional**. \n",
    "\n",
    "</div>"
   ]
  },
  {
   "cell_type": "code",
   "execution_count": 8,
   "metadata": {
    "execution": {
     "iopub.execute_input": "2025-06-30T14:45:45.130259Z",
     "iopub.status.busy": "2025-06-30T14:45:45.129863Z",
     "iopub.status.idle": "2025-06-30T14:45:45.135658Z",
     "shell.execute_reply": "2025-06-30T14:45:45.135244Z"
    }
   },
   "outputs": [
    {
     "name": "stdout",
     "output_type": "stream",
     "text": [
      "[\u001b[1m     carsus.io.nuclear.nndc\u001b[0m][\u001b[1;33mWARNING\u001b[0m] - Failed to clone the repository.\n",
      "Check if the repository already exists at {DECAY_DATA_SOURCE_DIR} (\u001b[1mnndc.py\u001b[0m:44)\n"
     ]
    },
    {
     "name": "stdout",
     "output_type": "stream",
     "text": [
      "[\u001b[1m     carsus.io.nuclear.nndc\u001b[0m][   \u001b[1;37mINFO\u001b[0m] - Parsing decay data from: /home/runner/Downloads/carsus-data-nndc/csv (\u001b[1mnndc.py\u001b[0m:50)\n"
     ]
    },
    {
     "name": "stderr",
     "output_type": "stream",
     "text": [
      "fatal: destination path '/home/runner/Downloads/carsus-data-nndc' already exists and is not an empty directory.\n"
     ]
    }
   ],
   "source": [
    "from carsus.io.nuclear import NNDCReader\n",
    "\n",
    "nndc_reader = NNDCReader(remote=True)"
   ]
  },
  {
   "cell_type": "markdown",
   "metadata": {},
   "source": [
    "## Create an Atomic Data File\n",
    "\n",
    "Finally, create a `TARDISAtomData` object and dump the data with the `to_hdf` method."
   ]
  },
  {
   "cell_type": "code",
   "execution_count": 9,
   "metadata": {
    "execution": {
     "iopub.execute_input": "2025-06-30T14:45:45.137511Z",
     "iopub.status.busy": "2025-06-30T14:45:45.137185Z",
     "iopub.status.idle": "2025-06-30T14:46:44.937347Z",
     "shell.execute_reply": "2025-06-30T14:46:44.936929Z"
    },
    "scrolled": true
   },
   "outputs": [
    {
     "name": "stdout",
     "output_type": "stream",
     "text": [
      "[\u001b[1mcarsus.io.output.levels_lines\u001b[0m][   \u001b[1;37mINFO\u001b[0m] - Ingesting energy levels. (\u001b[1mlevels_lines.py\u001b[0m:155)\n"
     ]
    },
    {
     "name": "stdout",
     "output_type": "stream",
     "text": [
      "[\u001b[1m     carsus.io.kurucz.gfall\u001b[0m][   \u001b[1;37mINFO\u001b[0m] - Parsing GFALL from: /tmp/gfall.dat (\u001b[1mgfall.py\u001b[0m:167)\n"
     ]
    },
    {
     "name": "stdout",
     "output_type": "stream",
     "text": [
      "[\u001b[1mcarsus.io.output.levels_lines\u001b[0m][   \u001b[1;37mINFO\u001b[0m] - GFALL selected species: Li 0, Li 1, Be 0, Be 1, Be 2, B 0, B 1, B 2, B 3, C 0, C 1, C 2, C 3, N 0, N 1, N 2, N 3, N 4, N 5, O 0, O 1, O 2, O 3, O 4, O 5, F 0, F 1, F 2, F 3, F 4, F 5, Ne 0, Ne 1, Ne 2, Ne 3, Ne 4, Ne 5, Na 0, Na 1, Na 2, Na 3, Na 4, Na 5, Mg 0, Mg 1, Mg 2, Mg 3, Mg 4, Mg 5, Al 0, Al 1, Al 2, Al 3, Al 4, Al 5, Si 2, Si 3, Si 4, Si 5, P 0, P 1, P 2, P 3, P 4, P 5, S 0, S 1, S 2, S 3, S 4, S 5, Cl 0, Cl 1, Cl 2, Cl 3, Cl 4, Ar 0, Ar 1, Ar 2, Ar 3, Ar 4, K 0, K 1, K 2, K 3, K 4, Ca 0, Ca 1, Ca 2, Ca 3, Ca 4, Ca 5, Ca 6, Ca 7, Ca 8, Sc 0, Sc 1, Sc 2, Sc 3, Sc 4, Sc 5, Sc 6, Sc 7, Sc 8, Ti 0, Ti 1, Ti 2, Ti 3, Ti 4, Ti 5, Ti 6, Ti 7, Ti 8, V 0, V 1, V 2, V 3, V 4, V 5, V 6, V 7, V 8, Cr 0, Cr 1, Cr 2, Cr 3, Cr 4, Cr 5, Cr 6, Cr 7, Cr 8, Mn 0, Mn 1, Mn 2, Mn 3, Mn 4, Mn 5, Mn 6, Mn 7, Mn 8, Fe 0, Fe 1, Fe 2, Fe 3, Fe 4, Fe 5, Fe 6, Fe 7, Fe 8, Co 0, Co 1, Co 2, Co 3, Co 4, Co 5, Co 6, Co 7, Co 8, Ni 0, Ni 1, Ni 2, Ni 3, Ni 4, Ni 5, Ni 6, Ni 7, Ni 8, Cu 0, Cu 1, Zn 0, Zn 1, Zn 2. (\u001b[1mlevels_lines.py\u001b[0m:181)\n"
     ]
    },
    {
     "name": "stdout",
     "output_type": "stream",
     "text": [
      "[\u001b[1mcarsus.io.output.levels_lines\u001b[0m][   \u001b[1;37mINFO\u001b[0m] - Chianti selected species: He 0, He 1. (\u001b[1mlevels_lines.py\u001b[0m:185)\n"
     ]
    },
    {
     "name": "stdout",
     "output_type": "stream",
     "text": [
      "[\u001b[1mcarsus.io.output.levels_lines\u001b[0m][   \u001b[1;37mINFO\u001b[0m] - CMFGEN selected species: H 0, Si 0, Si 1. (\u001b[1mlevels_lines.py\u001b[0m:189)\n"
     ]
    },
    {
     "name": "stdout",
     "output_type": "stream",
     "text": [
      "[\u001b[1mcarsus.io.output.levels_lines\u001b[0m][   \u001b[1;37mINFO\u001b[0m] - Ingesting transition lines. (\u001b[1mlevels_lines.py\u001b[0m:264)\n"
     ]
    },
    {
     "name": "stdout",
     "output_type": "stream",
     "text": [
      "[\u001b[1m     carsus.io.kurucz.gfall\u001b[0m][   \u001b[1;37mINFO\u001b[0m] - Extracting line data: atomic_number, ion_charge, energy_lower, j_lower, energy_upper, j_upper, wavelength, loggf. (\u001b[1mgfall.py\u001b[0m:410)\n"
     ]
    },
    {
     "name": "stdout",
     "output_type": "stream",
     "text": [
      "[\u001b[1m                py.warnings\u001b[0m][\u001b[1;33mWARNING\u001b[0m] - /home/runner/work/carsus/carsus/carsus/io/output/levels_lines.py:134: FutureWarning: The behavior of DataFrame concatenation with empty or all-NA entries is deprecated. In a future version, this will no longer exclude empty or all-NA columns when determining the result dtypes. To retain the old behavior, exclude the relevant entries before the concat operation.\n",
      "  return pd.concat(sources, sort=True)\n",
      " (\u001b[1mwarnings.py\u001b[0m:112)\n"
     ]
    },
    {
     "name": "stdout",
     "output_type": "stream",
     "text": [
      "[\u001b[1mcarsus.io.output.levels_lines\u001b[0m][   \u001b[1;37mINFO\u001b[0m] - Matching levels and lines. (\u001b[1mlevels_lines.py\u001b[0m:305)\n"
     ]
    },
    {
     "name": "stdout",
     "output_type": "stream",
     "text": [
      "[\u001b[1m                py.warnings\u001b[0m][\u001b[1;33mWARNING\u001b[0m] - /home/runner/micromamba/envs/carsus/lib/python3.12/site-packages/pandas/core/arraylike.py:399: RuntimeWarning: divide by zero encountered in log10\n",
      "  result = getattr(ufunc, method)(*inputs, **kwargs)\n",
      " (\u001b[1mwarnings.py\u001b[0m:112)\n"
     ]
    },
    {
     "name": "stdout",
     "output_type": "stream",
     "text": [
      "[\u001b[1mcarsus.io.output.collisions\u001b[0m][   \u001b[1;37mINFO\u001b[0m] - Ingesting collisional strengths. (\u001b[1mcollisions.py\u001b[0m:111)\n"
     ]
    },
    {
     "name": "stdout",
     "output_type": "stream",
     "text": [
      "[\u001b[1mcarsus.io.output.collisions\u001b[0m][   \u001b[1;37mINFO\u001b[0m] - Matching collisions and levels. (\u001b[1mcollisions.py\u001b[0m:123)\n"
     ]
    },
    {
     "name": "stdout",
     "output_type": "stream",
     "text": [
      "[\u001b[1m      carsus.io.output.base\u001b[0m][   \u001b[1;37mINFO\u001b[0m] - Finished. (\u001b[1mbase.py\u001b[0m:99)\n"
     ]
    }
   ],
   "source": [
    "from carsus.io.output import TARDISAtomData\n",
    "\n",
    "atom_data = TARDISAtomData(atomic_weights,\n",
    "                           ionization_energies,\n",
    "                           gfall_reader,\n",
    "                           zeta_data,\n",
    "                           chianti_reader,\n",
    "                           cmfgen_reader,\n",
    "                           nndc_reader,\n",
    "                           levels_lines_param={\"lines_loggf_threshold\": -3})  # Default cutoff is -3 (optional)"
   ]
  },
  {
   "cell_type": "code",
   "execution_count": 10,
   "metadata": {
    "execution": {
     "iopub.execute_input": "2025-06-30T14:46:44.939249Z",
     "iopub.status.busy": "2025-06-30T14:46:44.938967Z",
     "iopub.status.idle": "2025-06-30T14:47:07.643286Z",
     "shell.execute_reply": "2025-06-30T14:47:07.642704Z"
    }
   },
   "outputs": [
    {
     "name": "stdout",
     "output_type": "stream",
     "text": [
      "[\u001b[1m                py.warnings\u001b[0m][\u001b[1;33mWARNING\u001b[0m] - /home/runner/work/carsus/carsus/carsus/io/output/base.py:209: PerformanceWarning: \n",
      "your performance may suffer as PyTables will pickle object types that it cannot\n",
      "map directly to c-types [inferred_type->mixed-integer,key->block3_values] [items->Index(['Element', 'Parent E(level)', 'Uncertainty', 'JPi', 'Decay Mode',\n",
      "       'Q Value Uncertainty', 'T1/2 (txt)', 'Gammas Balance', 'X-Rays Balance',\n",
      "       'B- Balance', 'B+ Balance', 'Conversion Electrons Balance',\n",
      "       'Auger Electrons Balance', 'Neutrinos Balance', 'Recoil Balance',\n",
      "       'Neutrons Balance', ' Protons Balance', 'Alphas Balance', 'Sum Balance',\n",
      "       'Q-effective Balance', 'Missing Energy Balance', 'Ratio Balance',\n",
      "       'Daughter', 'Radiation', 'Rad subtype', 'Uncertainty.1',\n",
      "       'Uncertainty.3', 'Uncertainty.4'],\n",
      "      dtype='object')]\n",
      "\n",
      "  f.put(hdf_path, getattr(reader, data))\n",
      " (\u001b[1mwarnings.py\u001b[0m:112)\n"
     ]
    },
    {
     "name": "stdout",
     "output_type": "stream",
     "text": [
      "[\u001b[1m                py.warnings\u001b[0m][\u001b[1;33mWARNING\u001b[0m] - /home/runner/work/carsus/carsus/carsus/io/output/base.py:209: PerformanceWarning: \n",
      "your performance may suffer as PyTables will pickle object types that it cannot\n",
      "map directly to c-types [inferred_type->mixed,key->block2_values] [items->Index(['btemp', 'bscups'], dtype='object')]\n",
      "\n",
      "  f.put(hdf_path, getattr(reader, data))\n",
      " (\u001b[1mwarnings.py\u001b[0m:112)\n"
     ]
    },
    {
     "name": "stdout",
     "output_type": "stream",
     "text": [
      "[\u001b[1m                py.warnings\u001b[0m][\u001b[1;33mWARNING\u001b[0m] - /home/runner/work/carsus/carsus/carsus/io/output/base.py:209: PerformanceWarning: \n",
      "your performance may suffer as PyTables will pickle object types that it cannot\n",
      "map directly to c-types [inferred_type->mixed,key->values] [items->None]\n",
      "\n",
      "  f.put(hdf_path, getattr(reader, data))\n",
      " (\u001b[1mwarnings.py\u001b[0m:112)\n"
     ]
    },
    {
     "name": "stdout",
     "output_type": "stream",
     "text": [
      "[\u001b[1mcarsus.io.output.photo_ionization\u001b[0m][   \u001b[1;37mINFO\u001b[0m] - Ingesting photoionization cross-sections. (\u001b[1mphoto_ionization.py\u001b[0m:32)\n"
     ]
    },
    {
     "name": "stdout",
     "output_type": "stream",
     "text": [
      "[\u001b[1mcarsus.io.output.photo_ionization\u001b[0m][   \u001b[1;37mINFO\u001b[0m] - Matching levels and cross sections. (\u001b[1mphoto_ionization.py\u001b[0m:35)\n"
     ]
    },
    {
     "name": "stdout",
     "output_type": "stream",
     "text": [
      "[\u001b[1m      carsus.io.output.base\u001b[0m][   \u001b[1;37mINFO\u001b[0m] - Signing TARDISAtomData. (\u001b[1mbase.py\u001b[0m:266)\n"
     ]
    },
    {
     "name": "stdout",
     "output_type": "stream",
     "text": [
      "[\u001b[1m      carsus.io.output.base\u001b[0m][   \u001b[1;37mINFO\u001b[0m] - Format Version: 2.0 (\u001b[1mbase.py\u001b[0m:267)\n"
     ]
    },
    {
     "name": "stdout",
     "output_type": "stream",
     "text": [
      "[\u001b[1m      carsus.io.output.base\u001b[0m][   \u001b[1;37mINFO\u001b[0m] - MD5: f1a4ce0c1aa9475c8f2e640e8bf04cfd (\u001b[1mbase.py\u001b[0m:268)\n"
     ]
    },
    {
     "name": "stdout",
     "output_type": "stream",
     "text": [
      "[\u001b[1m      carsus.io.output.base\u001b[0m][   \u001b[1;37mINFO\u001b[0m] - UUID1: 187870e655c111f08ec97c1e522ba61d (\u001b[1mbase.py\u001b[0m:269)\n"
     ]
    }
   ],
   "source": [
    "atom_data.to_hdf('kurucz_cd23_chianti_He_cmfgen_H_Si_I-II.h5')"
   ]
  },
  {
   "cell_type": "markdown",
   "metadata": {},
   "source": [
    "A lower value of log(g f) includes weaker transitions, while a higher value filters out more lines.\n",
    "\n",
    "You are done! Now you can use your file to run TARDIS simulations."
   ]
  },
  {
   "cell_type": "markdown",
   "metadata": {},
   "source": [
    "### Metadata\n",
    "\n",
    "Carsus stores metadata inside the HDF5 files to ensure reproducibility. This metadata includes a checksum for each stored table, version number or checksum of selected datasets, and versions of relevant packages. "
   ]
  },
  {
   "cell_type": "code",
   "execution_count": 11,
   "metadata": {
    "execution": {
     "iopub.execute_input": "2025-06-30T14:47:07.645445Z",
     "iopub.status.busy": "2025-06-30T14:47:07.645255Z",
     "iopub.status.idle": "2025-06-30T14:47:07.647772Z",
     "shell.execute_reply": "2025-06-30T14:47:07.647308Z"
    }
   },
   "outputs": [],
   "source": [
    "import pandas as pd"
   ]
  },
  {
   "cell_type": "code",
   "execution_count": 12,
   "metadata": {
    "execution": {
     "iopub.execute_input": "2025-06-30T14:47:07.649282Z",
     "iopub.status.busy": "2025-06-30T14:47:07.649102Z",
     "iopub.status.idle": "2025-06-30T14:47:07.652712Z",
     "shell.execute_reply": "2025-06-30T14:47:07.652263Z"
    }
   },
   "outputs": [],
   "source": [
    "store = pd.HDFStore('kurucz_cd23_chianti_He_cmfgen_H_Si_I-II.h5', key='metadata')"
   ]
  },
  {
   "cell_type": "code",
   "execution_count": 13,
   "metadata": {
    "execution": {
     "iopub.execute_input": "2025-06-30T14:47:07.654264Z",
     "iopub.status.busy": "2025-06-30T14:47:07.654094Z",
     "iopub.status.idle": "2025-06-30T14:47:07.667611Z",
     "shell.execute_reply": "2025-06-30T14:47:07.667148Z"
    }
   },
   "outputs": [
    {
     "data": {
      "text/html": [
       "<div>\n",
       "<style scoped>\n",
       "    .dataframe tbody tr th:only-of-type {\n",
       "        vertical-align: middle;\n",
       "    }\n",
       "\n",
       "    .dataframe tbody tr th {\n",
       "        vertical-align: top;\n",
       "    }\n",
       "\n",
       "    .dataframe thead th {\n",
       "        text-align: right;\n",
       "    }\n",
       "</style>\n",
       "<table border=\"1\" class=\"dataframe\">\n",
       "  <thead>\n",
       "    <tr style=\"text-align: right;\">\n",
       "      <th></th>\n",
       "      <th></th>\n",
       "      <th>value</th>\n",
       "    </tr>\n",
       "    <tr>\n",
       "      <th>field</th>\n",
       "      <th>key</th>\n",
       "      <th></th>\n",
       "    </tr>\n",
       "  </thead>\n",
       "  <tbody>\n",
       "    <tr>\n",
       "      <th>format</th>\n",
       "      <th>version</th>\n",
       "      <td>2.0</td>\n",
       "    </tr>\n",
       "    <tr>\n",
       "      <th rowspan=\"12\" valign=\"top\">md5sum</th>\n",
       "      <th>atom_data</th>\n",
       "      <td>d14fd5c276cf0857a9d4b6eea81df35e</td>\n",
       "    </tr>\n",
       "    <tr>\n",
       "      <th>collisions_data</th>\n",
       "      <td>c8cb383c51ee88a4805fdec554a22236</td>\n",
       "    </tr>\n",
       "    <tr>\n",
       "      <th>collisions_metadata</th>\n",
       "      <td>1a845db11b82c8da75a22cfb5d0f0734</td>\n",
       "    </tr>\n",
       "    <tr>\n",
       "      <th>decay_radiation_data</th>\n",
       "      <td>b656360bff1a1fb97c1f4f30c3f1ffcd</td>\n",
       "    </tr>\n",
       "    <tr>\n",
       "      <th>ionization_data</th>\n",
       "      <td>e04b7f7aa807ebcff5f03c55eca8c772</td>\n",
       "    </tr>\n",
       "    <tr>\n",
       "      <th>levels_data</th>\n",
       "      <td>2bf0599d8c766f7f93acc5cdbb37a1f8</td>\n",
       "    </tr>\n",
       "    <tr>\n",
       "      <th>lines_data</th>\n",
       "      <td>49cb061b7de3093a38ecb8227efcad98</td>\n",
       "    </tr>\n",
       "    <tr>\n",
       "      <th>lines_metadata</th>\n",
       "      <td>510e72dd8e4ea80d8df140e87e635fb1</td>\n",
       "    </tr>\n",
       "    <tr>\n",
       "      <th>macro_atom_data</th>\n",
       "      <td>b7733f574a3f4297b1dacaebe593dda8</td>\n",
       "    </tr>\n",
       "    <tr>\n",
       "      <th>macro_atom_references</th>\n",
       "      <td>535fb1131e34a12616f52abcd880a551</td>\n",
       "    </tr>\n",
       "    <tr>\n",
       "      <th>photoionization_data</th>\n",
       "      <td>fd2b9278c1e0676f1d1c06e57376e920</td>\n",
       "    </tr>\n",
       "    <tr>\n",
       "      <th>zeta_data</th>\n",
       "      <td>2c9ac05732b3678212075b77cdf2ba62</td>\n",
       "    </tr>\n",
       "    <tr>\n",
       "      <th rowspan=\"6\" valign=\"top\">datasets</th>\n",
       "      <th>nist_weights</th>\n",
       "      <td>4.1</td>\n",
       "    </tr>\n",
       "    <tr>\n",
       "      <th>nist_spectra</th>\n",
       "      <td>5.12</td>\n",
       "    </tr>\n",
       "    <tr>\n",
       "      <th>gfall</th>\n",
       "      <td>2704fbda0b8cba61bb70426234224464</td>\n",
       "    </tr>\n",
       "    <tr>\n",
       "      <th>zeta</th>\n",
       "      <td>a1d4bed2982e8d6a4f8b0076bf637e49</td>\n",
       "    </tr>\n",
       "    <tr>\n",
       "      <th>chianti</th>\n",
       "      <td>10.0</td>\n",
       "    </tr>\n",
       "    <tr>\n",
       "      <th>cmfgen</th>\n",
       "      <td>2016.11.15</td>\n",
       "    </tr>\n",
       "    <tr>\n",
       "      <th rowspan=\"7\" valign=\"top\">software</th>\n",
       "      <th>python</th>\n",
       "      <td>3.12.5</td>\n",
       "    </tr>\n",
       "    <tr>\n",
       "      <th>carsus</th>\n",
       "      <td>2024.12.24.dev46+g0a040ce</td>\n",
       "    </tr>\n",
       "    <tr>\n",
       "      <th>astropy</th>\n",
       "      <td>6.1.3</td>\n",
       "    </tr>\n",
       "    <tr>\n",
       "      <th>numpy</th>\n",
       "      <td>2.1.1</td>\n",
       "    </tr>\n",
       "    <tr>\n",
       "      <th>pandas</th>\n",
       "      <td>2.2.2</td>\n",
       "    </tr>\n",
       "    <tr>\n",
       "      <th>tables</th>\n",
       "      <td>3.10.1</td>\n",
       "    </tr>\n",
       "    <tr>\n",
       "      <th>ChiantiPy</th>\n",
       "      <td>0.15.0</td>\n",
       "    </tr>\n",
       "  </tbody>\n",
       "</table>\n",
       "</div>"
      ],
      "text/plain": [
       "                                                           value\n",
       "field    key                                                    \n",
       "format   version                                             2.0\n",
       "md5sum   atom_data              d14fd5c276cf0857a9d4b6eea81df35e\n",
       "         collisions_data        c8cb383c51ee88a4805fdec554a22236\n",
       "         collisions_metadata    1a845db11b82c8da75a22cfb5d0f0734\n",
       "         decay_radiation_data   b656360bff1a1fb97c1f4f30c3f1ffcd\n",
       "         ionization_data        e04b7f7aa807ebcff5f03c55eca8c772\n",
       "         levels_data            2bf0599d8c766f7f93acc5cdbb37a1f8\n",
       "         lines_data             49cb061b7de3093a38ecb8227efcad98\n",
       "         lines_metadata         510e72dd8e4ea80d8df140e87e635fb1\n",
       "         macro_atom_data        b7733f574a3f4297b1dacaebe593dda8\n",
       "         macro_atom_references  535fb1131e34a12616f52abcd880a551\n",
       "         photoionization_data   fd2b9278c1e0676f1d1c06e57376e920\n",
       "         zeta_data              2c9ac05732b3678212075b77cdf2ba62\n",
       "datasets nist_weights                                        4.1\n",
       "         nist_spectra                                       5.12\n",
       "         gfall                  2704fbda0b8cba61bb70426234224464\n",
       "         zeta                   a1d4bed2982e8d6a4f8b0076bf637e49\n",
       "         chianti                                            10.0\n",
       "         cmfgen                                       2016.11.15\n",
       "software python                                           3.12.5\n",
       "         carsus                        2024.12.24.dev46+g0a040ce\n",
       "         astropy                                           6.1.3\n",
       "         numpy                                             2.1.1\n",
       "         pandas                                            2.2.2\n",
       "         tables                                           3.10.1\n",
       "         ChiantiPy                                        0.15.0"
      ]
     },
     "execution_count": 13,
     "metadata": {},
     "output_type": "execute_result"
    }
   ],
   "source": [
    "store[\"metadata\"]"
   ]
  },
  {
   "cell_type": "code",
   "execution_count": 14,
   "metadata": {
    "execution": {
     "iopub.execute_input": "2025-06-30T14:47:07.669323Z",
     "iopub.status.busy": "2025-06-30T14:47:07.669002Z",
     "iopub.status.idle": "2025-06-30T14:47:07.672307Z",
     "shell.execute_reply": "2025-06-30T14:47:07.671891Z"
    }
   },
   "outputs": [
    {
     "data": {
      "text/plain": [
       "/._v_attrs (AttributeSet), 8 attributes:\n",
       "   [CLASS := np.str_('GROUP'),\n",
       "    DATE := np.str_('2025-06-30T14:47:07.609933+00:00'),\n",
       "    FORMAT_VERSION := np.str_('2.0'),\n",
       "    MD5 := np.str_('f1a4ce0c1aa9475c8f2e640e8bf04cfd'),\n",
       "    PYTABLES_FORMAT_VERSION := np.str_('2.1'),\n",
       "    TITLE := np.str_(''),\n",
       "    UUID1 := np.str_('187870e655c111f08ec97c1e522ba61d'),\n",
       "    VERSION := np.str_('1.0')]"
      ]
     },
     "execution_count": 14,
     "metadata": {},
     "output_type": "execute_result"
    }
   ],
   "source": [
    "store.root._v_attrs"
   ]
  }
 ],
 "metadata": {
  "kernelspec": {
   "display_name": "Python 3",
   "language": "python",
   "name": "python3"
  },
  "language_info": {
   "codemirror_mode": {
    "name": "ipython",
    "version": 3
   },
   "file_extension": ".py",
   "mimetype": "text/x-python",
   "name": "python",
   "nbconvert_exporter": "python",
   "pygments_lexer": "ipython3",
   "version": "3.12.5"
  },
  "widgets": {
   "application/vnd.jupyter.widget-state+json": {
    "state": {},
    "version_major": 2,
    "version_minor": 0
   }
  }
 },
 "nbformat": 4,
 "nbformat_minor": 2
}
