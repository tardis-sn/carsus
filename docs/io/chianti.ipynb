{
 "cells": [
  {
   "cell_type": "markdown",
   "metadata": {},
   "source": [
    "# CHIANTI\n",
    "\n",
    "An Atomic Database for Spectroscopic Diagnostics of Astrophysical Plasmas <cite data-cite=\"1997A&AS..125..149D\"> </cite> <cite data-cite=\"2019ApJS..241...22D\"> </cite>.\n",
    "\n",
    "## ChiantiIonReader\n",
    "\n",
    "The `ChiantiIonReader` class is a wrapper for the `ChiantiPy` package that interacts directly with the [database files](https://db.chiantidatabase.org/) and as a consequence uses a different notation. It provides information about individual ions."
   ]
  },
  {
   "cell_type": "code",
   "execution_count": null,
   "metadata": {},
   "outputs": [],
   "source": [
    "from carsus.io.chianti_ import ChiantiIonReader"
   ]
  },
  {
   "cell_type": "code",
   "execution_count": null,
   "metadata": {},
   "outputs": [],
   "source": [
    "h_1 = ChiantiIonReader('h_1')  # H I == Chianti's `he_1` == Carsus's (1,0)"
   ]
  },
  {
   "cell_type": "code",
   "execution_count": null,
   "metadata": {},
   "outputs": [],
   "source": [
    "h_1.levels"
   ]
  },
  {
   "cell_type": "markdown",
   "metadata": {},
   "source": [
    "See the [API section](https://epassaro.github.io/carsus/api/carsus.io.chianti_.chianti_.html) for more information."
   ]
  },
  {
   "cell_type": "markdown",
   "metadata": {},
   "source": [
    "## ChiantiReader\n",
    "\n",
    "The `ChiantiReader` class mimics the structure of `GFALLReader` and provides `levels`, `lines` and `collisions` tables for the selected ions."
   ]
  },
  {
   "cell_type": "code",
   "execution_count": null,
   "metadata": {},
   "outputs": [],
   "source": [
    "from carsus.io.chianti_ import ChiantiReader"
   ]
  },
  {
   "cell_type": "code",
   "execution_count": null,
   "metadata": {},
   "outputs": [],
   "source": [
    "chianti_reader = ChiantiReader('H-He', collisions=True)"
   ]
  },
  {
   "cell_type": "code",
   "execution_count": null,
   "metadata": {},
   "outputs": [],
   "source": [
    "chianti_reader.levels"
   ]
  },
  {
   "cell_type": "code",
   "execution_count": null,
   "metadata": {},
   "outputs": [],
   "source": [
    "chianti_reader.lines"
   ]
  },
  {
   "cell_type": "code",
   "execution_count": null,
   "metadata": {},
   "outputs": [],
   "source": [
    "chianti_reader.collisions"
   ]
  }
 ],
 "metadata": {
  "kernelspec": {
   "display_name": "Python 3",
   "language": "python",
   "name": "python3"
  },
  "language_info": {
   "codemirror_mode": {
    "name": "ipython",
    "version": 3
   },
   "file_extension": ".py",
   "mimetype": "text/x-python",
   "name": "python",
   "nbconvert_exporter": "python",
   "pygments_lexer": "ipython3",
   "version": "3.6.13"
  }
 },
 "nbformat": 4,
 "nbformat_minor": 4
}
