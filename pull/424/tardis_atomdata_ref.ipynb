{
 "cells": [
  {
   "cell_type": "markdown",
   "metadata": {},
   "source": [
    "# Generate Atomic Data Reference for TARDIS\n",
    "This noteboook generates atomic data to be compared with the [atomic data stored in tardis refdata repository](https://github.com/tardis-sn/tardis-refdata/blob/master/atom_data/kurucz_cd23_chianti_H_He.h5) for testing purposes. "
   ]
  },
  {
   "cell_type": "code",
   "execution_count": 1,
   "metadata": {
    "ExecuteTime": {
     "end_time": "2022-08-02T10:44:42.401734Z",
     "start_time": "2022-08-02T10:44:42.398590Z"
    },
    "execution": {
     "iopub.execute_input": "2025-05-13T17:09:25.388782Z",
     "iopub.status.busy": "2025-05-13T17:09:25.388347Z",
     "iopub.status.idle": "2025-05-13T17:09:26.902403Z",
     "shell.execute_reply": "2025-05-13T17:09:26.901841Z"
    }
   },
   "outputs": [
    {
     "name": "stdout",
     "output_type": "stream",
     "text": [
      " ChiantiPy version 0.15.0 \n",
      " found PyQt5 widgets\n",
      " using PyQt5 widgets\n"
     ]
    },
    {
     "name": "stdout",
     "output_type": "stream",
     "text": [
      "[\u001b[1m                py.warnings\u001b[0m][\u001b[1;33mWARNING\u001b[0m] - /home/runner/micromamba/envs/carsus/lib/python3.12/site-packages/ChiantiPy/tools/data.py:72: UserWarning: klgfb files are not present: \n",
      "  it will not be possible to use the freeBound continuum method\n",
      "  warnings.warn('klgfb files are not present: \\n  it will not be possible to use the freeBound continuum method')\n",
      " (\u001b[1mwarnings.py\u001b[0m:112)\n"
     ]
    }
   ],
   "source": [
    "import pathlib\n",
    "from carsus.io.nist import NISTWeightsComp, NISTIonizationEnergies"
   ]
  },
  {
   "cell_type": "code",
   "execution_count": 2,
   "metadata": {
    "ExecuteTime": {
     "end_time": "2022-08-02T10:44:55.909963Z",
     "start_time": "2022-08-02T10:44:42.949132Z"
    },
    "execution": {
     "iopub.execute_input": "2025-05-13T17:09:26.904656Z",
     "iopub.status.busy": "2025-05-13T17:09:26.904363Z",
     "iopub.status.idle": "2025-05-13T17:09:28.920457Z",
     "shell.execute_reply": "2025-05-13T17:09:28.919965Z"
    }
   },
   "outputs": [
    {
     "name": "stdout",
     "output_type": "stream",
     "text": [
      "[\u001b[1m carsus.io.nist.weightscomp\u001b[0m][   \u001b[1;37mINFO\u001b[0m] - Downloading data from the carsus-dat-nist repository (\u001b[1mweightscomp.py\u001b[0m:69)\n"
     ]
    },
    {
     "name": "stdout",
     "output_type": "stream",
     "text": [
      "[\u001b[1m                py.warnings\u001b[0m][\u001b[1;33mWARNING\u001b[0m] - /home/runner/micromamba/envs/carsus/lib/python3.12/site-packages/urllib3/connectionpool.py:1099: InsecureRequestWarning: Unverified HTTPS request is being made to host 'raw.githubusercontent.com'. Adding certificate verification is strongly advised. See: https://urllib3.readthedocs.io/en/latest/advanced-usage.html#tls-warnings\n",
      "  warnings.warn(\n",
      " (\u001b[1mwarnings.py\u001b[0m:112)\n"
     ]
    },
    {
     "name": "stdout",
     "output_type": "stream",
     "text": [
      "[\u001b[1m  carsus.io.nist.ionization\u001b[0m][   \u001b[1;37mINFO\u001b[0m] - Downloading ionization energies from the carsus-data-nist repo. (\u001b[1mionization.py\u001b[0m:87)\n"
     ]
    },
    {
     "name": "stdout",
     "output_type": "stream",
     "text": [
      "[\u001b[1m                py.warnings\u001b[0m][\u001b[1;33mWARNING\u001b[0m] - /home/runner/micromamba/envs/carsus/lib/python3.12/site-packages/urllib3/connectionpool.py:1099: InsecureRequestWarning: Unverified HTTPS request is being made to host 'raw.githubusercontent.com'. Adding certificate verification is strongly advised. See: https://urllib3.readthedocs.io/en/latest/advanced-usage.html#tls-warnings\n",
      "  warnings.warn(\n",
      " (\u001b[1mwarnings.py\u001b[0m:112)\n"
     ]
    }
   ],
   "source": [
    "atomic_weights = NISTWeightsComp()\n",
    "ionization_energies = NISTIonizationEnergies('H-Zn', )"
   ]
  },
  {
   "cell_type": "code",
   "execution_count": 3,
   "metadata": {
    "ExecuteTime": {
     "end_time": "2022-08-02T08:10:59.427252Z",
     "start_time": "2022-08-02T08:10:59.409344Z"
    },
    "execution": {
     "iopub.execute_input": "2025-05-13T17:09:28.922466Z",
     "iopub.status.busy": "2025-05-13T17:09:28.922291Z",
     "iopub.status.idle": "2025-05-13T17:09:28.926305Z",
     "shell.execute_reply": "2025-05-13T17:09:28.925934Z"
    }
   },
   "outputs": [
    {
     "name": "stdout",
     "output_type": "stream",
     "text": [
      "[\u001b[1m     carsus.io.kurucz.gfall\u001b[0m][\u001b[1;33mWARNING\u001b[0m] - A specific combination to identify unique levels from GFALL data has not been given. Defaulting to [\"energy\", \"j\"]. (\u001b[1mgfall.py\u001b[0m:113)\n"
     ]
    }
   ],
   "source": [
    "from carsus.io.kurucz import GFALLReader\n",
    "\n",
    "gfall_reader = GFALLReader('H-Zn')"
   ]
  },
  {
   "cell_type": "code",
   "execution_count": 4,
   "metadata": {
    "execution": {
     "iopub.execute_input": "2025-05-13T17:09:28.928084Z",
     "iopub.status.busy": "2025-05-13T17:09:28.927717Z",
     "iopub.status.idle": "2025-05-13T17:09:28.930340Z",
     "shell.execute_reply": "2025-05-13T17:09:28.929883Z"
    }
   },
   "outputs": [],
   "source": [
    "cmfgen_path = '../../carsus-data-cmfgen/atomic/'\n",
    "if not pathlib.Path(cmfgen_path).exists():\n",
    "    cmfgen_path = \"/tmp/atomic/\""
   ]
  },
  {
   "cell_type": "code",
   "execution_count": 5,
   "metadata": {
    "execution": {
     "iopub.execute_input": "2025-05-13T17:09:28.932057Z",
     "iopub.status.busy": "2025-05-13T17:09:28.931758Z",
     "iopub.status.idle": "2025-05-13T17:09:31.784641Z",
     "shell.execute_reply": "2025-05-13T17:09:31.784211Z"
    }
   },
   "outputs": [
    {
     "name": "stdout",
     "output_type": "stream",
     "text": [
      "[\u001b[1m      carsus.io.cmfgen.base\u001b[0m][\u001b[1;33mWARNING\u001b[0m] - Selecting H 0 from CMFGEN (required to ingest cross-sections). (\u001b[1mbase.py\u001b[0m:562)\n"
     ]
    },
    {
     "name": "stdout",
     "output_type": "stream",
     "text": [
      "[\u001b[1m      carsus.io.cmfgen.base\u001b[0m][   \u001b[1;37mINFO\u001b[0m] - Configuration schema found for H 0. (\u001b[1mbase.py\u001b[0m:576)\n"
     ]
    },
    {
     "name": "stdout",
     "output_type": "stream",
     "text": [
      "[\u001b[1m      carsus.io.cmfgen.base\u001b[0m][   \u001b[1;37mINFO\u001b[0m] - Configuration schema found for Si 0. (\u001b[1mbase.py\u001b[0m:576)\n"
     ]
    },
    {
     "name": "stdout",
     "output_type": "stream",
     "text": [
      "[\u001b[1m      carsus.io.cmfgen.base\u001b[0m][   \u001b[1;37mINFO\u001b[0m] - Configuration schema found for Si 1. (\u001b[1mbase.py\u001b[0m:576)\n"
     ]
    },
    {
     "name": "stdout",
     "output_type": "stream",
     "text": [
      "[\u001b[1m      carsus.io.cmfgen.base\u001b[0m][   \u001b[1;37mINFO\u001b[0m] - Loading atomic data for H 0. (\u001b[1mbase.py\u001b[0m:861)\n"
     ]
    },
    {
     "name": "stdout",
     "output_type": "stream",
     "text": [
      "[\u001b[1m      carsus.io.cmfgen.base\u001b[0m][   \u001b[1;37mINFO\u001b[0m] - Loading atomic data for Si 0. (\u001b[1mbase.py\u001b[0m:861)\n"
     ]
    },
    {
     "name": "stdout",
     "output_type": "stream",
     "text": [
      "[\u001b[1m      carsus.io.cmfgen.base\u001b[0m][   \u001b[1;37mINFO\u001b[0m] - Loading atomic data for Si 1. (\u001b[1mbase.py\u001b[0m:861)\n"
     ]
    },
    {
     "name": "stdout",
     "output_type": "stream",
     "text": [
      "[\u001b[1m      carsus.io.cmfgen.base\u001b[0m][   \u001b[1;37mINFO\u001b[0m] - Dropping collisional ionization data. (\u001b[1mbase.py\u001b[0m:1059)\n"
     ]
    },
    {
     "name": "stdout",
     "output_type": "stream",
     "text": [
      "[\u001b[1m      carsus.io.cmfgen.base\u001b[0m][   \u001b[1;37mINFO\u001b[0m] - Dropping collisional ionization data. (\u001b[1mbase.py\u001b[0m:1059)\n"
     ]
    },
    {
     "name": "stdout",
     "output_type": "stream",
     "text": [
      "[\u001b[1m      carsus.io.cmfgen.base\u001b[0m][   \u001b[1;37mINFO\u001b[0m] - Dropping collisional ionization data. (\u001b[1mbase.py\u001b[0m:1059)\n"
     ]
    },
    {
     "name": "stdout",
     "output_type": "stream",
     "text": [
      "[\u001b[1m      carsus.io.cmfgen.base\u001b[0m][   \u001b[1;37mINFO\u001b[0m] - Dropping collisional ionization data. (\u001b[1mbase.py\u001b[0m:1059)\n"
     ]
    },
    {
     "name": "stdout",
     "output_type": "stream",
     "text": [
      "[\u001b[1m      carsus.io.cmfgen.base\u001b[0m][   \u001b[1;37mINFO\u001b[0m] - Dropping collisional ionization data. (\u001b[1mbase.py\u001b[0m:1059)\n"
     ]
    },
    {
     "name": "stdout",
     "output_type": "stream",
     "text": [
      "[\u001b[1m      carsus.io.cmfgen.base\u001b[0m][   \u001b[1;37mINFO\u001b[0m] - Dropping collisional ionization data. (\u001b[1mbase.py\u001b[0m:1059)\n"
     ]
    },
    {
     "name": "stdout",
     "output_type": "stream",
     "text": [
      "[\u001b[1m      carsus.io.cmfgen.base\u001b[0m][   \u001b[1;37mINFO\u001b[0m] - Dropping collisional ionization data. (\u001b[1mbase.py\u001b[0m:1059)\n"
     ]
    },
    {
     "name": "stdout",
     "output_type": "stream",
     "text": [
      "[\u001b[1m      carsus.io.cmfgen.base\u001b[0m][   \u001b[1;37mINFO\u001b[0m] - Dropping collisional ionization data. (\u001b[1mbase.py\u001b[0m:1059)\n"
     ]
    },
    {
     "name": "stdout",
     "output_type": "stream",
     "text": [
      "[\u001b[1m      carsus.io.cmfgen.base\u001b[0m][   \u001b[1;37mINFO\u001b[0m] - Dropping collisional ionization data. (\u001b[1mbase.py\u001b[0m:1059)\n"
     ]
    },
    {
     "name": "stdout",
     "output_type": "stream",
     "text": [
      "[\u001b[1m      carsus.io.cmfgen.base\u001b[0m][   \u001b[1;37mINFO\u001b[0m] - Dropping collisional ionization data. (\u001b[1mbase.py\u001b[0m:1059)\n"
     ]
    },
    {
     "name": "stdout",
     "output_type": "stream",
     "text": [
      "[\u001b[1m      carsus.io.cmfgen.base\u001b[0m][   \u001b[1;37mINFO\u001b[0m] - Dropping collisional ionization data. (\u001b[1mbase.py\u001b[0m:1059)\n"
     ]
    },
    {
     "name": "stdout",
     "output_type": "stream",
     "text": [
      "[\u001b[1m      carsus.io.cmfgen.base\u001b[0m][   \u001b[1;37mINFO\u001b[0m] - Dropping collisional ionization data. (\u001b[1mbase.py\u001b[0m:1059)\n"
     ]
    },
    {
     "name": "stdout",
     "output_type": "stream",
     "text": [
      "[\u001b[1m      carsus.io.cmfgen.base\u001b[0m][   \u001b[1;37mINFO\u001b[0m] - Dropping collisional ionization data. (\u001b[1mbase.py\u001b[0m:1059)\n"
     ]
    },
    {
     "name": "stdout",
     "output_type": "stream",
     "text": [
      "[\u001b[1m      carsus.io.cmfgen.base\u001b[0m][   \u001b[1;37mINFO\u001b[0m] - Dropping collisional ionization data. (\u001b[1mbase.py\u001b[0m:1059)\n"
     ]
    },
    {
     "name": "stdout",
     "output_type": "stream",
     "text": [
      "[\u001b[1m      carsus.io.cmfgen.base\u001b[0m][   \u001b[1;37mINFO\u001b[0m] - Dropping collisional ionization data. (\u001b[1mbase.py\u001b[0m:1059)\n"
     ]
    },
    {
     "name": "stdout",
     "output_type": "stream",
     "text": [
      "[\u001b[1m      carsus.io.cmfgen.base\u001b[0m][   \u001b[1;37mINFO\u001b[0m] - Dropping collisional ionization data. (\u001b[1mbase.py\u001b[0m:1059)\n"
     ]
    },
    {
     "name": "stdout",
     "output_type": "stream",
     "text": [
      "[\u001b[1m      carsus.io.cmfgen.base\u001b[0m][   \u001b[1;37mINFO\u001b[0m] - Dropping collisional ionization data. (\u001b[1mbase.py\u001b[0m:1059)\n"
     ]
    },
    {
     "name": "stdout",
     "output_type": "stream",
     "text": [
      "[\u001b[1m      carsus.io.cmfgen.base\u001b[0m][   \u001b[1;37mINFO\u001b[0m] - Dropping collisional ionization data. (\u001b[1mbase.py\u001b[0m:1059)\n"
     ]
    },
    {
     "name": "stdout",
     "output_type": "stream",
     "text": [
      "[\u001b[1m      carsus.io.cmfgen.base\u001b[0m][   \u001b[1;37mINFO\u001b[0m] - Dropping collisional ionization data. (\u001b[1mbase.py\u001b[0m:1059)\n"
     ]
    },
    {
     "name": "stdout",
     "output_type": "stream",
     "text": [
      "[\u001b[1m      carsus.io.cmfgen.base\u001b[0m][   \u001b[1;37mINFO\u001b[0m] - Dropping collisional ionization data. (\u001b[1mbase.py\u001b[0m:1059)\n"
     ]
    },
    {
     "name": "stdout",
     "output_type": "stream",
     "text": [
      "[\u001b[1m      carsus.io.cmfgen.base\u001b[0m][   \u001b[1;37mINFO\u001b[0m] - Dropping collisional ionization data. (\u001b[1mbase.py\u001b[0m:1059)\n"
     ]
    },
    {
     "name": "stdout",
     "output_type": "stream",
     "text": [
      "[\u001b[1m      carsus.io.cmfgen.base\u001b[0m][   \u001b[1;37mINFO\u001b[0m] - Dropping collisional ionization data. (\u001b[1mbase.py\u001b[0m:1059)\n"
     ]
    },
    {
     "name": "stdout",
     "output_type": "stream",
     "text": [
      "[\u001b[1m      carsus.io.cmfgen.base\u001b[0m][   \u001b[1;37mINFO\u001b[0m] - Dropping collisional ionization data. (\u001b[1mbase.py\u001b[0m:1059)\n"
     ]
    },
    {
     "name": "stdout",
     "output_type": "stream",
     "text": [
      "[\u001b[1m      carsus.io.cmfgen.base\u001b[0m][   \u001b[1;37mINFO\u001b[0m] - Dropping collisional ionization data. (\u001b[1mbase.py\u001b[0m:1059)\n"
     ]
    },
    {
     "name": "stdout",
     "output_type": "stream",
     "text": [
      "[\u001b[1m      carsus.io.cmfgen.base\u001b[0m][   \u001b[1;37mINFO\u001b[0m] - Dropping collisional ionization data. (\u001b[1mbase.py\u001b[0m:1059)\n"
     ]
    },
    {
     "name": "stdout",
     "output_type": "stream",
     "text": [
      "[\u001b[1m      carsus.io.cmfgen.base\u001b[0m][   \u001b[1;37mINFO\u001b[0m] - Dropping collisional ionization data. (\u001b[1mbase.py\u001b[0m:1059)\n"
     ]
    },
    {
     "name": "stdout",
     "output_type": "stream",
     "text": [
      "[\u001b[1m      carsus.io.cmfgen.base\u001b[0m][   \u001b[1;37mINFO\u001b[0m] - Dropping collisional ionization data. (\u001b[1mbase.py\u001b[0m:1059)\n"
     ]
    },
    {
     "name": "stdout",
     "output_type": "stream",
     "text": [
      "[\u001b[1m      carsus.io.cmfgen.base\u001b[0m][   \u001b[1;37mINFO\u001b[0m] - Dropping collisional ionization data. (\u001b[1mbase.py\u001b[0m:1059)\n"
     ]
    },
    {
     "name": "stdout",
     "output_type": "stream",
     "text": [
      "[\u001b[1m      carsus.io.cmfgen.base\u001b[0m][   \u001b[1;37mINFO\u001b[0m] - Dropping collisional ionization data. (\u001b[1mbase.py\u001b[0m:1059)\n"
     ]
    },
    {
     "name": "stdout",
     "output_type": "stream",
     "text": [
      "[\u001b[1m      carsus.io.cmfgen.base\u001b[0m][   \u001b[1;37mINFO\u001b[0m] - Dropping collisional ionization data. (\u001b[1mbase.py\u001b[0m:1059)\n"
     ]
    },
    {
     "name": "stdout",
     "output_type": "stream",
     "text": [
      "[\u001b[1m      carsus.io.cmfgen.base\u001b[0m][   \u001b[1;37mINFO\u001b[0m] - Entries having label(s): 3s_3p3_5So, 3s2_3p2_3Pe will be dropped for ion: (np.int64(14), 0). (\u001b[1mbase.py\u001b[0m:1064)\n"
     ]
    },
    {
     "name": "stdout",
     "output_type": "stream",
     "text": [
      "[\u001b[1m      carsus.io.cmfgen.base\u001b[0m][   \u001b[1;37mINFO\u001b[0m] - Filling in 1 values for ion (1, 0) that are outside the tabulated temperature range using the last tabulated value. (\u001b[1mbase.py\u001b[0m:1124)\n"
     ]
    },
    {
     "name": "stdout",
     "output_type": "stream",
     "text": [
      "[\u001b[1m      carsus.io.cmfgen.base\u001b[0m][   \u001b[1;37mINFO\u001b[0m] - Filling in 7 values for ion (np.int64(14), 0) that are outside the tabulated temperature range using the last tabulated value. (\u001b[1mbase.py\u001b[0m:1124)\n"
     ]
    },
    {
     "name": "stdout",
     "output_type": "stream",
     "text": [
      "[\u001b[1m      carsus.io.cmfgen.base\u001b[0m][   \u001b[1;37mINFO\u001b[0m] - Filling in 4 values for ion (np.int64(14), 1) that are outside the tabulated temperature range using the last tabulated value. (\u001b[1mbase.py\u001b[0m:1124)\n"
     ]
    }
   ],
   "source": [
    "from carsus.io.cmfgen import CMFGENReader\n",
    "\n",
    "cmfgen_reader = CMFGENReader.from_config('Si 0-1',\n",
    "                                         cmfgen_path,\n",
    "                                         priority=30,\n",
    "                                         ionization_energies=True,\n",
    "                                         cross_sections=True,\n",
    "                                         collisions=True,\n",
    "                                         temperature_grid=None,\n",
    "                                         drop_mismatched_labels=True)\n"
   ]
  },
  {
   "cell_type": "code",
   "execution_count": 6,
   "metadata": {
    "ExecuteTime": {
     "end_time": "2022-08-02T08:11:12.931369Z",
     "start_time": "2022-08-02T08:11:11.700068Z"
    },
    "execution": {
     "iopub.execute_input": "2025-05-13T17:09:31.786467Z",
     "iopub.status.busy": "2025-05-13T17:09:31.786314Z",
     "iopub.status.idle": "2025-05-13T17:09:31.804714Z",
     "shell.execute_reply": "2025-05-13T17:09:31.804200Z"
    }
   },
   "outputs": [],
   "source": [
    "from carsus.io.zeta import KnoxLongZeta\n",
    "\n",
    "zeta_data = KnoxLongZeta()"
   ]
  },
  {
   "cell_type": "code",
   "execution_count": 7,
   "metadata": {
    "ExecuteTime": {
     "end_time": "2022-08-02T08:11:30.555303Z",
     "start_time": "2022-08-02T08:11:13.631612Z"
    },
    "execution": {
     "iopub.execute_input": "2025-05-13T17:09:31.806619Z",
     "iopub.status.busy": "2025-05-13T17:09:31.806444Z",
     "iopub.status.idle": "2025-05-13T17:10:40.183179Z",
     "shell.execute_reply": "2025-05-13T17:10:40.182715Z"
    },
    "scrolled": true
   },
   "outputs": [
    {
     "name": "stdout",
     "output_type": "stream",
     "text": [
      "[\u001b[1mcarsus.io.output.levels_lines\u001b[0m][   \u001b[1;37mINFO\u001b[0m] - Ingesting energy levels. (\u001b[1mlevels_lines.py\u001b[0m:155)\n"
     ]
    },
    {
     "name": "stdout",
     "output_type": "stream",
     "text": [
      "[\u001b[1m     carsus.io.kurucz.gfall\u001b[0m][   \u001b[1;37mINFO\u001b[0m] - Parsing GFALL from: https://github.com/tardis-sn/carsus-data-kurucz/raw/main/linelists/gfall/gfall.dat?raw=true (\u001b[1mgfall.py\u001b[0m:167)\n"
     ]
    },
    {
     "name": "stdout",
     "output_type": "stream",
     "text": [
      "[\u001b[1mcarsus.io.output.levels_lines\u001b[0m][   \u001b[1;37mINFO\u001b[0m] - GFALL selected species: He 0, He 1, Li 0, Li 1, Be 0, Be 1, Be 2, B 0, B 1, B 2, B 3, C 0, C 1, C 2, C 3, N 0, N 1, N 2, N 3, N 4, N 5, O 0, O 1, O 2, O 3, O 4, O 5, F 0, F 1, F 2, F 3, F 4, F 5, Ne 0, Ne 1, Ne 2, Ne 3, Ne 4, Ne 5, Na 0, Na 1, Na 2, Na 3, Na 4, Na 5, Mg 0, Mg 1, Mg 2, Mg 3, Mg 4, Mg 5, Al 0, Al 1, Al 2, Al 3, Al 4, Al 5, Si 2, Si 3, Si 4, Si 5, P 0, P 1, P 2, P 3, P 4, P 5, S 0, S 1, S 2, S 3, S 4, S 5, Cl 0, Cl 1, Cl 2, Cl 3, Cl 4, Ar 0, Ar 1, Ar 2, Ar 3, Ar 4, K 0, K 1, K 2, K 3, K 4, Ca 0, Ca 1, Ca 2, Ca 3, Ca 4, Ca 5, Ca 6, Ca 7, Ca 8, Sc 0, Sc 1, Sc 2, Sc 3, Sc 4, Sc 5, Sc 6, Sc 7, Sc 8, Ti 0, Ti 1, Ti 2, Ti 3, Ti 4, Ti 5, Ti 6, Ti 7, Ti 8, V 0, V 1, V 2, V 3, V 4, V 5, V 6, V 7, V 8, Cr 0, Cr 1, Cr 2, Cr 3, Cr 4, Cr 5, Cr 6, Cr 7, Cr 8, Mn 0, Mn 1, Mn 2, Mn 3, Mn 4, Mn 5, Mn 6, Mn 7, Mn 8, Fe 0, Fe 1, Fe 2, Fe 3, Fe 4, Fe 5, Fe 6, Fe 7, Fe 8, Co 0, Co 1, Co 2, Co 3, Co 4, Co 5, Co 6, Co 7, Co 8, Ni 0, Ni 1, Ni 2, Ni 3, Ni 4, Ni 5, Ni 6, Ni 7, Ni 8, Cu 0, Cu 1, Zn 0, Zn 1, Zn 2. (\u001b[1mlevels_lines.py\u001b[0m:181)\n"
     ]
    },
    {
     "name": "stdout",
     "output_type": "stream",
     "text": [
      "[\u001b[1mcarsus.io.output.levels_lines\u001b[0m][   \u001b[1;37mINFO\u001b[0m] - CMFGEN selected species: H 0, Si 0, Si 1. (\u001b[1mlevels_lines.py\u001b[0m:189)\n"
     ]
    },
    {
     "name": "stdout",
     "output_type": "stream",
     "text": [
      "[\u001b[1m                py.warnings\u001b[0m][\u001b[1;33mWARNING\u001b[0m] - /home/runner/work/carsus/carsus/carsus/io/nist/ionization.py:248: FutureWarning: Setting an item of incompatible dtype is deprecated and will raise an error in a future version of pandas. Value '2S' has dtype incompatible with float64, please explicitly cast to a compatible dtype first.\n",
      "  lvl[\"term\"] = \"\".join([str(_) for _ in lvl_tokens[\"ls_term\"]])\n",
      " (\u001b[1mwarnings.py\u001b[0m:112)\n"
     ]
    },
    {
     "name": "stdout",
     "output_type": "stream",
     "text": [
      "[\u001b[1m                py.warnings\u001b[0m][\u001b[1;33mWARNING\u001b[0m] - /home/runner/work/carsus/carsus/carsus/io/nist/ionization.py:248: FutureWarning: Setting an item of incompatible dtype is deprecated and will raise an error in a future version of pandas. Value '1S' has dtype incompatible with float64, please explicitly cast to a compatible dtype first.\n",
      "  lvl[\"term\"] = \"\".join([str(_) for _ in lvl_tokens[\"ls_term\"]])\n",
      " (\u001b[1mwarnings.py\u001b[0m:112)\n"
     ]
    },
    {
     "name": "stdout",
     "output_type": "stream",
     "text": [
      "[\u001b[1m                py.warnings\u001b[0m][\u001b[1;33mWARNING\u001b[0m] - /home/runner/work/carsus/carsus/carsus/io/nist/ionization.py:248: FutureWarning: Setting an item of incompatible dtype is deprecated and will raise an error in a future version of pandas. Value '2S' has dtype incompatible with float64, please explicitly cast to a compatible dtype first.\n",
      "  lvl[\"term\"] = \"\".join([str(_) for _ in lvl_tokens[\"ls_term\"]])\n",
      " (\u001b[1mwarnings.py\u001b[0m:112)\n"
     ]
    },
    {
     "name": "stdout",
     "output_type": "stream",
     "text": [
      "[\u001b[1m                py.warnings\u001b[0m][\u001b[1;33mWARNING\u001b[0m] - /home/runner/work/carsus/carsus/carsus/io/nist/ionization.py:248: FutureWarning: Setting an item of incompatible dtype is deprecated and will raise an error in a future version of pandas. Value '2S' has dtype incompatible with float64, please explicitly cast to a compatible dtype first.\n",
      "  lvl[\"term\"] = \"\".join([str(_) for _ in lvl_tokens[\"ls_term\"]])\n",
      " (\u001b[1mwarnings.py\u001b[0m:112)\n"
     ]
    },
    {
     "name": "stdout",
     "output_type": "stream",
     "text": [
      "[\u001b[1m                py.warnings\u001b[0m][\u001b[1;33mWARNING\u001b[0m] - /home/runner/work/carsus/carsus/carsus/io/nist/ionization.py:248: FutureWarning: Setting an item of incompatible dtype is deprecated and will raise an error in a future version of pandas. Value '1S' has dtype incompatible with float64, please explicitly cast to a compatible dtype first.\n",
      "  lvl[\"term\"] = \"\".join([str(_) for _ in lvl_tokens[\"ls_term\"]])\n",
      " (\u001b[1mwarnings.py\u001b[0m:112)\n"
     ]
    },
    {
     "name": "stdout",
     "output_type": "stream",
     "text": [
      "[\u001b[1m                py.warnings\u001b[0m][\u001b[1;33mWARNING\u001b[0m] - /home/runner/work/carsus/carsus/carsus/io/nist/ionization.py:248: FutureWarning: Setting an item of incompatible dtype is deprecated and will raise an error in a future version of pandas. Value '2S' has dtype incompatible with float64, please explicitly cast to a compatible dtype first.\n",
      "  lvl[\"term\"] = \"\".join([str(_) for _ in lvl_tokens[\"ls_term\"]])\n",
      " (\u001b[1mwarnings.py\u001b[0m:112)\n"
     ]
    },
    {
     "name": "stdout",
     "output_type": "stream",
     "text": [
      "[\u001b[1m                py.warnings\u001b[0m][\u001b[1;33mWARNING\u001b[0m] - /home/runner/work/carsus/carsus/carsus/io/nist/ionization.py:248: FutureWarning: Setting an item of incompatible dtype is deprecated and will raise an error in a future version of pandas. Value '1S' has dtype incompatible with float64, please explicitly cast to a compatible dtype first.\n",
      "  lvl[\"term\"] = \"\".join([str(_) for _ in lvl_tokens[\"ls_term\"]])\n",
      " (\u001b[1mwarnings.py\u001b[0m:112)\n"
     ]
    },
    {
     "name": "stdout",
     "output_type": "stream",
     "text": [
      "[\u001b[1m                py.warnings\u001b[0m][\u001b[1;33mWARNING\u001b[0m] - /home/runner/work/carsus/carsus/carsus/io/nist/ionization.py:248: FutureWarning: Setting an item of incompatible dtype is deprecated and will raise an error in a future version of pandas. Value '2S' has dtype incompatible with float64, please explicitly cast to a compatible dtype first.\n",
      "  lvl[\"term\"] = \"\".join([str(_) for _ in lvl_tokens[\"ls_term\"]])\n",
      " (\u001b[1mwarnings.py\u001b[0m:112)\n"
     ]
    },
    {
     "name": "stdout",
     "output_type": "stream",
     "text": [
      "[\u001b[1m                py.warnings\u001b[0m][\u001b[1;33mWARNING\u001b[0m] - /home/runner/work/carsus/carsus/carsus/io/nist/ionization.py:248: FutureWarning: Setting an item of incompatible dtype is deprecated and will raise an error in a future version of pandas. Value '1S' has dtype incompatible with float64, please explicitly cast to a compatible dtype first.\n",
      "  lvl[\"term\"] = \"\".join([str(_) for _ in lvl_tokens[\"ls_term\"]])\n",
      " (\u001b[1mwarnings.py\u001b[0m:112)\n"
     ]
    },
    {
     "name": "stdout",
     "output_type": "stream",
     "text": [
      "[\u001b[1m                py.warnings\u001b[0m][\u001b[1;33mWARNING\u001b[0m] - /home/runner/work/carsus/carsus/carsus/io/nist/ionization.py:248: FutureWarning: Setting an item of incompatible dtype is deprecated and will raise an error in a future version of pandas. Value '2S' has dtype incompatible with float64, please explicitly cast to a compatible dtype first.\n",
      "  lvl[\"term\"] = \"\".join([str(_) for _ in lvl_tokens[\"ls_term\"]])\n",
      " (\u001b[1mwarnings.py\u001b[0m:112)\n"
     ]
    },
    {
     "name": "stdout",
     "output_type": "stream",
     "text": [
      "[\u001b[1m                py.warnings\u001b[0m][\u001b[1;33mWARNING\u001b[0m] - /home/runner/work/carsus/carsus/carsus/io/nist/ionization.py:248: FutureWarning: Setting an item of incompatible dtype is deprecated and will raise an error in a future version of pandas. Value '2P' has dtype incompatible with float64, please explicitly cast to a compatible dtype first.\n",
      "  lvl[\"term\"] = \"\".join([str(_) for _ in lvl_tokens[\"ls_term\"]])\n",
      " (\u001b[1mwarnings.py\u001b[0m:112)\n"
     ]
    },
    {
     "name": "stdout",
     "output_type": "stream",
     "text": [
      "[\u001b[1m                py.warnings\u001b[0m][\u001b[1;33mWARNING\u001b[0m] - /home/runner/work/carsus/carsus/carsus/io/nist/ionization.py:248: FutureWarning: Setting an item of incompatible dtype is deprecated and will raise an error in a future version of pandas. Value '1S' has dtype incompatible with float64, please explicitly cast to a compatible dtype first.\n",
      "  lvl[\"term\"] = \"\".join([str(_) for _ in lvl_tokens[\"ls_term\"]])\n",
      " (\u001b[1mwarnings.py\u001b[0m:112)\n"
     ]
    },
    {
     "name": "stdout",
     "output_type": "stream",
     "text": [
      "[\u001b[1m                py.warnings\u001b[0m][\u001b[1;33mWARNING\u001b[0m] - /home/runner/work/carsus/carsus/carsus/io/nist/ionization.py:248: FutureWarning: Setting an item of incompatible dtype is deprecated and will raise an error in a future version of pandas. Value '2S' has dtype incompatible with float64, please explicitly cast to a compatible dtype first.\n",
      "  lvl[\"term\"] = \"\".join([str(_) for _ in lvl_tokens[\"ls_term\"]])\n",
      " (\u001b[1mwarnings.py\u001b[0m:112)\n"
     ]
    },
    {
     "name": "stdout",
     "output_type": "stream",
     "text": [
      "[\u001b[1m                py.warnings\u001b[0m][\u001b[1;33mWARNING\u001b[0m] - /home/runner/work/carsus/carsus/carsus/io/nist/ionization.py:248: FutureWarning: Setting an item of incompatible dtype is deprecated and will raise an error in a future version of pandas. Value '1S' has dtype incompatible with float64, please explicitly cast to a compatible dtype first.\n",
      "  lvl[\"term\"] = \"\".join([str(_) for _ in lvl_tokens[\"ls_term\"]])\n",
      " (\u001b[1mwarnings.py\u001b[0m:112)\n"
     ]
    },
    {
     "name": "stdout",
     "output_type": "stream",
     "text": [
      "[\u001b[1m                py.warnings\u001b[0m][\u001b[1;33mWARNING\u001b[0m] - /home/runner/work/carsus/carsus/carsus/io/nist/ionization.py:248: FutureWarning: Setting an item of incompatible dtype is deprecated and will raise an error in a future version of pandas. Value '2S' has dtype incompatible with float64, please explicitly cast to a compatible dtype first.\n",
      "  lvl[\"term\"] = \"\".join([str(_) for _ in lvl_tokens[\"ls_term\"]])\n",
      " (\u001b[1mwarnings.py\u001b[0m:112)\n"
     ]
    },
    {
     "name": "stdout",
     "output_type": "stream",
     "text": [
      "[\u001b[1m                py.warnings\u001b[0m][\u001b[1;33mWARNING\u001b[0m] - /home/runner/work/carsus/carsus/carsus/io/nist/ionization.py:248: FutureWarning: Setting an item of incompatible dtype is deprecated and will raise an error in a future version of pandas. Value '3P' has dtype incompatible with float64, please explicitly cast to a compatible dtype first.\n",
      "  lvl[\"term\"] = \"\".join([str(_) for _ in lvl_tokens[\"ls_term\"]])\n",
      " (\u001b[1mwarnings.py\u001b[0m:112)\n"
     ]
    },
    {
     "name": "stdout",
     "output_type": "stream",
     "text": [
      "[\u001b[1m                py.warnings\u001b[0m][\u001b[1;33mWARNING\u001b[0m] - /home/runner/work/carsus/carsus/carsus/io/nist/ionization.py:248: FutureWarning: Setting an item of incompatible dtype is deprecated and will raise an error in a future version of pandas. Value '2P' has dtype incompatible with float64, please explicitly cast to a compatible dtype first.\n",
      "  lvl[\"term\"] = \"\".join([str(_) for _ in lvl_tokens[\"ls_term\"]])\n",
      " (\u001b[1mwarnings.py\u001b[0m:112)\n"
     ]
    },
    {
     "name": "stdout",
     "output_type": "stream",
     "text": [
      "[\u001b[1m                py.warnings\u001b[0m][\u001b[1;33mWARNING\u001b[0m] - /home/runner/work/carsus/carsus/carsus/io/nist/ionization.py:248: FutureWarning: Setting an item of incompatible dtype is deprecated and will raise an error in a future version of pandas. Value '1S' has dtype incompatible with float64, please explicitly cast to a compatible dtype first.\n",
      "  lvl[\"term\"] = \"\".join([str(_) for _ in lvl_tokens[\"ls_term\"]])\n",
      " (\u001b[1mwarnings.py\u001b[0m:112)\n"
     ]
    },
    {
     "name": "stdout",
     "output_type": "stream",
     "text": [
      "[\u001b[1m                py.warnings\u001b[0m][\u001b[1;33mWARNING\u001b[0m] - /home/runner/work/carsus/carsus/carsus/io/nist/ionization.py:248: FutureWarning: Setting an item of incompatible dtype is deprecated and will raise an error in a future version of pandas. Value '2S' has dtype incompatible with float64, please explicitly cast to a compatible dtype first.\n",
      "  lvl[\"term\"] = \"\".join([str(_) for _ in lvl_tokens[\"ls_term\"]])\n",
      " (\u001b[1mwarnings.py\u001b[0m:112)\n"
     ]
    },
    {
     "name": "stdout",
     "output_type": "stream",
     "text": [
      "[\u001b[1m                py.warnings\u001b[0m][\u001b[1;33mWARNING\u001b[0m] - /home/runner/work/carsus/carsus/carsus/io/nist/ionization.py:248: FutureWarning: Setting an item of incompatible dtype is deprecated and will raise an error in a future version of pandas. Value '1S' has dtype incompatible with float64, please explicitly cast to a compatible dtype first.\n",
      "  lvl[\"term\"] = \"\".join([str(_) for _ in lvl_tokens[\"ls_term\"]])\n",
      " (\u001b[1mwarnings.py\u001b[0m:112)\n"
     ]
    },
    {
     "name": "stdout",
     "output_type": "stream",
     "text": [
      "[\u001b[1m                py.warnings\u001b[0m][\u001b[1;33mWARNING\u001b[0m] - /home/runner/work/carsus/carsus/carsus/io/nist/ionization.py:248: FutureWarning: Setting an item of incompatible dtype is deprecated and will raise an error in a future version of pandas. Value '2S' has dtype incompatible with float64, please explicitly cast to a compatible dtype first.\n",
      "  lvl[\"term\"] = \"\".join([str(_) for _ in lvl_tokens[\"ls_term\"]])\n",
      " (\u001b[1mwarnings.py\u001b[0m:112)\n"
     ]
    },
    {
     "name": "stdout",
     "output_type": "stream",
     "text": [
      "[\u001b[1m                py.warnings\u001b[0m][\u001b[1;33mWARNING\u001b[0m] - /home/runner/work/carsus/carsus/carsus/io/nist/ionization.py:248: FutureWarning: Setting an item of incompatible dtype is deprecated and will raise an error in a future version of pandas. Value '4S' has dtype incompatible with float64, please explicitly cast to a compatible dtype first.\n",
      "  lvl[\"term\"] = \"\".join([str(_) for _ in lvl_tokens[\"ls_term\"]])\n",
      " (\u001b[1mwarnings.py\u001b[0m:112)\n"
     ]
    },
    {
     "name": "stdout",
     "output_type": "stream",
     "text": [
      "[\u001b[1m                py.warnings\u001b[0m][\u001b[1;33mWARNING\u001b[0m] - /home/runner/work/carsus/carsus/carsus/io/nist/ionization.py:248: FutureWarning: Setting an item of incompatible dtype is deprecated and will raise an error in a future version of pandas. Value '3P' has dtype incompatible with float64, please explicitly cast to a compatible dtype first.\n",
      "  lvl[\"term\"] = \"\".join([str(_) for _ in lvl_tokens[\"ls_term\"]])\n",
      " (\u001b[1mwarnings.py\u001b[0m:112)\n"
     ]
    },
    {
     "name": "stdout",
     "output_type": "stream",
     "text": [
      "[\u001b[1m                py.warnings\u001b[0m][\u001b[1;33mWARNING\u001b[0m] - /home/runner/work/carsus/carsus/carsus/io/nist/ionization.py:248: FutureWarning: Setting an item of incompatible dtype is deprecated and will raise an error in a future version of pandas. Value '2P' has dtype incompatible with float64, please explicitly cast to a compatible dtype first.\n",
      "  lvl[\"term\"] = \"\".join([str(_) for _ in lvl_tokens[\"ls_term\"]])\n",
      " (\u001b[1mwarnings.py\u001b[0m:112)\n"
     ]
    },
    {
     "name": "stdout",
     "output_type": "stream",
     "text": [
      "[\u001b[1m                py.warnings\u001b[0m][\u001b[1;33mWARNING\u001b[0m] - /home/runner/work/carsus/carsus/carsus/io/nist/ionization.py:248: FutureWarning: Setting an item of incompatible dtype is deprecated and will raise an error in a future version of pandas. Value '1S' has dtype incompatible with float64, please explicitly cast to a compatible dtype first.\n",
      "  lvl[\"term\"] = \"\".join([str(_) for _ in lvl_tokens[\"ls_term\"]])\n",
      " (\u001b[1mwarnings.py\u001b[0m:112)\n"
     ]
    },
    {
     "name": "stdout",
     "output_type": "stream",
     "text": [
      "[\u001b[1m                py.warnings\u001b[0m][\u001b[1;33mWARNING\u001b[0m] - /home/runner/work/carsus/carsus/carsus/io/nist/ionization.py:248: FutureWarning: Setting an item of incompatible dtype is deprecated and will raise an error in a future version of pandas. Value '2S' has dtype incompatible with float64, please explicitly cast to a compatible dtype first.\n",
      "  lvl[\"term\"] = \"\".join([str(_) for _ in lvl_tokens[\"ls_term\"]])\n",
      " (\u001b[1mwarnings.py\u001b[0m:112)\n"
     ]
    },
    {
     "name": "stdout",
     "output_type": "stream",
     "text": [
      "[\u001b[1m                py.warnings\u001b[0m][\u001b[1;33mWARNING\u001b[0m] - /home/runner/work/carsus/carsus/carsus/io/nist/ionization.py:248: FutureWarning: Setting an item of incompatible dtype is deprecated and will raise an error in a future version of pandas. Value '1S' has dtype incompatible with float64, please explicitly cast to a compatible dtype first.\n",
      "  lvl[\"term\"] = \"\".join([str(_) for _ in lvl_tokens[\"ls_term\"]])\n",
      " (\u001b[1mwarnings.py\u001b[0m:112)\n"
     ]
    },
    {
     "name": "stdout",
     "output_type": "stream",
     "text": [
      "[\u001b[1m                py.warnings\u001b[0m][\u001b[1;33mWARNING\u001b[0m] - /home/runner/work/carsus/carsus/carsus/io/nist/ionization.py:248: FutureWarning: Setting an item of incompatible dtype is deprecated and will raise an error in a future version of pandas. Value '2S' has dtype incompatible with float64, please explicitly cast to a compatible dtype first.\n",
      "  lvl[\"term\"] = \"\".join([str(_) for _ in lvl_tokens[\"ls_term\"]])\n",
      " (\u001b[1mwarnings.py\u001b[0m:112)\n"
     ]
    },
    {
     "name": "stdout",
     "output_type": "stream",
     "text": [
      "[\u001b[1m                py.warnings\u001b[0m][\u001b[1;33mWARNING\u001b[0m] - /home/runner/work/carsus/carsus/carsus/io/nist/ionization.py:248: FutureWarning: Setting an item of incompatible dtype is deprecated and will raise an error in a future version of pandas. Value '3P' has dtype incompatible with float64, please explicitly cast to a compatible dtype first.\n",
      "  lvl[\"term\"] = \"\".join([str(_) for _ in lvl_tokens[\"ls_term\"]])\n",
      " (\u001b[1mwarnings.py\u001b[0m:112)\n"
     ]
    },
    {
     "name": "stdout",
     "output_type": "stream",
     "text": [
      "[\u001b[1m                py.warnings\u001b[0m][\u001b[1;33mWARNING\u001b[0m] - /home/runner/work/carsus/carsus/carsus/io/nist/ionization.py:248: FutureWarning: Setting an item of incompatible dtype is deprecated and will raise an error in a future version of pandas. Value '4S' has dtype incompatible with float64, please explicitly cast to a compatible dtype first.\n",
      "  lvl[\"term\"] = \"\".join([str(_) for _ in lvl_tokens[\"ls_term\"]])\n",
      " (\u001b[1mwarnings.py\u001b[0m:112)\n"
     ]
    },
    {
     "name": "stdout",
     "output_type": "stream",
     "text": [
      "[\u001b[1m                py.warnings\u001b[0m][\u001b[1;33mWARNING\u001b[0m] - /home/runner/work/carsus/carsus/carsus/io/nist/ionization.py:248: FutureWarning: Setting an item of incompatible dtype is deprecated and will raise an error in a future version of pandas. Value '3P' has dtype incompatible with float64, please explicitly cast to a compatible dtype first.\n",
      "  lvl[\"term\"] = \"\".join([str(_) for _ in lvl_tokens[\"ls_term\"]])\n",
      " (\u001b[1mwarnings.py\u001b[0m:112)\n"
     ]
    },
    {
     "name": "stdout",
     "output_type": "stream",
     "text": [
      "[\u001b[1m                py.warnings\u001b[0m][\u001b[1;33mWARNING\u001b[0m] - /home/runner/work/carsus/carsus/carsus/io/nist/ionization.py:248: FutureWarning: Setting an item of incompatible dtype is deprecated and will raise an error in a future version of pandas. Value '2P' has dtype incompatible with float64, please explicitly cast to a compatible dtype first.\n",
      "  lvl[\"term\"] = \"\".join([str(_) for _ in lvl_tokens[\"ls_term\"]])\n",
      " (\u001b[1mwarnings.py\u001b[0m:112)\n"
     ]
    },
    {
     "name": "stdout",
     "output_type": "stream",
     "text": [
      "[\u001b[1m                py.warnings\u001b[0m][\u001b[1;33mWARNING\u001b[0m] - /home/runner/work/carsus/carsus/carsus/io/nist/ionization.py:248: FutureWarning: Setting an item of incompatible dtype is deprecated and will raise an error in a future version of pandas. Value '1S' has dtype incompatible with float64, please explicitly cast to a compatible dtype first.\n",
      "  lvl[\"term\"] = \"\".join([str(_) for _ in lvl_tokens[\"ls_term\"]])\n",
      " (\u001b[1mwarnings.py\u001b[0m:112)\n"
     ]
    },
    {
     "name": "stdout",
     "output_type": "stream",
     "text": [
      "[\u001b[1m                py.warnings\u001b[0m][\u001b[1;33mWARNING\u001b[0m] - /home/runner/work/carsus/carsus/carsus/io/nist/ionization.py:248: FutureWarning: Setting an item of incompatible dtype is deprecated and will raise an error in a future version of pandas. Value '2S' has dtype incompatible with float64, please explicitly cast to a compatible dtype first.\n",
      "  lvl[\"term\"] = \"\".join([str(_) for _ in lvl_tokens[\"ls_term\"]])\n",
      " (\u001b[1mwarnings.py\u001b[0m:112)\n"
     ]
    },
    {
     "name": "stdout",
     "output_type": "stream",
     "text": [
      "[\u001b[1m                py.warnings\u001b[0m][\u001b[1;33mWARNING\u001b[0m] - /home/runner/work/carsus/carsus/carsus/io/nist/ionization.py:248: FutureWarning: Setting an item of incompatible dtype is deprecated and will raise an error in a future version of pandas. Value '1S' has dtype incompatible with float64, please explicitly cast to a compatible dtype first.\n",
      "  lvl[\"term\"] = \"\".join([str(_) for _ in lvl_tokens[\"ls_term\"]])\n",
      " (\u001b[1mwarnings.py\u001b[0m:112)\n"
     ]
    },
    {
     "name": "stdout",
     "output_type": "stream",
     "text": [
      "[\u001b[1m                py.warnings\u001b[0m][\u001b[1;33mWARNING\u001b[0m] - /home/runner/work/carsus/carsus/carsus/io/nist/ionization.py:248: FutureWarning: Setting an item of incompatible dtype is deprecated and will raise an error in a future version of pandas. Value '2S' has dtype incompatible with float64, please explicitly cast to a compatible dtype first.\n",
      "  lvl[\"term\"] = \"\".join([str(_) for _ in lvl_tokens[\"ls_term\"]])\n",
      " (\u001b[1mwarnings.py\u001b[0m:112)\n"
     ]
    },
    {
     "name": "stdout",
     "output_type": "stream",
     "text": [
      "[\u001b[1m                py.warnings\u001b[0m][\u001b[1;33mWARNING\u001b[0m] - /home/runner/work/carsus/carsus/carsus/io/nist/ionization.py:248: FutureWarning: Setting an item of incompatible dtype is deprecated and will raise an error in a future version of pandas. Value '2P' has dtype incompatible with float64, please explicitly cast to a compatible dtype first.\n",
      "  lvl[\"term\"] = \"\".join([str(_) for _ in lvl_tokens[\"ls_term\"]])\n",
      " (\u001b[1mwarnings.py\u001b[0m:112)\n"
     ]
    },
    {
     "name": "stdout",
     "output_type": "stream",
     "text": [
      "[\u001b[1m                py.warnings\u001b[0m][\u001b[1;33mWARNING\u001b[0m] - /home/runner/work/carsus/carsus/carsus/io/nist/ionization.py:248: FutureWarning: Setting an item of incompatible dtype is deprecated and will raise an error in a future version of pandas. Value '3P' has dtype incompatible with float64, please explicitly cast to a compatible dtype first.\n",
      "  lvl[\"term\"] = \"\".join([str(_) for _ in lvl_tokens[\"ls_term\"]])\n",
      " (\u001b[1mwarnings.py\u001b[0m:112)\n"
     ]
    },
    {
     "name": "stdout",
     "output_type": "stream",
     "text": [
      "[\u001b[1m                py.warnings\u001b[0m][\u001b[1;33mWARNING\u001b[0m] - /home/runner/work/carsus/carsus/carsus/io/nist/ionization.py:248: FutureWarning: Setting an item of incompatible dtype is deprecated and will raise an error in a future version of pandas. Value '4S' has dtype incompatible with float64, please explicitly cast to a compatible dtype first.\n",
      "  lvl[\"term\"] = \"\".join([str(_) for _ in lvl_tokens[\"ls_term\"]])\n",
      " (\u001b[1mwarnings.py\u001b[0m:112)\n"
     ]
    },
    {
     "name": "stdout",
     "output_type": "stream",
     "text": [
      "[\u001b[1m                py.warnings\u001b[0m][\u001b[1;33mWARNING\u001b[0m] - /home/runner/work/carsus/carsus/carsus/io/nist/ionization.py:248: FutureWarning: Setting an item of incompatible dtype is deprecated and will raise an error in a future version of pandas. Value '3P' has dtype incompatible with float64, please explicitly cast to a compatible dtype first.\n",
      "  lvl[\"term\"] = \"\".join([str(_) for _ in lvl_tokens[\"ls_term\"]])\n",
      " (\u001b[1mwarnings.py\u001b[0m:112)\n"
     ]
    },
    {
     "name": "stdout",
     "output_type": "stream",
     "text": [
      "[\u001b[1m                py.warnings\u001b[0m][\u001b[1;33mWARNING\u001b[0m] - /home/runner/work/carsus/carsus/carsus/io/nist/ionization.py:248: FutureWarning: Setting an item of incompatible dtype is deprecated and will raise an error in a future version of pandas. Value '2P' has dtype incompatible with float64, please explicitly cast to a compatible dtype first.\n",
      "  lvl[\"term\"] = \"\".join([str(_) for _ in lvl_tokens[\"ls_term\"]])\n",
      " (\u001b[1mwarnings.py\u001b[0m:112)\n"
     ]
    },
    {
     "name": "stdout",
     "output_type": "stream",
     "text": [
      "[\u001b[1m                py.warnings\u001b[0m][\u001b[1;33mWARNING\u001b[0m] - /home/runner/work/carsus/carsus/carsus/io/nist/ionization.py:248: FutureWarning: Setting an item of incompatible dtype is deprecated and will raise an error in a future version of pandas. Value '1S' has dtype incompatible with float64, please explicitly cast to a compatible dtype first.\n",
      "  lvl[\"term\"] = \"\".join([str(_) for _ in lvl_tokens[\"ls_term\"]])\n",
      " (\u001b[1mwarnings.py\u001b[0m:112)\n"
     ]
    },
    {
     "name": "stdout",
     "output_type": "stream",
     "text": [
      "[\u001b[1m                py.warnings\u001b[0m][\u001b[1;33mWARNING\u001b[0m] - /home/runner/work/carsus/carsus/carsus/io/nist/ionization.py:248: FutureWarning: Setting an item of incompatible dtype is deprecated and will raise an error in a future version of pandas. Value '2S' has dtype incompatible with float64, please explicitly cast to a compatible dtype first.\n",
      "  lvl[\"term\"] = \"\".join([str(_) for _ in lvl_tokens[\"ls_term\"]])\n",
      " (\u001b[1mwarnings.py\u001b[0m:112)\n"
     ]
    },
    {
     "name": "stdout",
     "output_type": "stream",
     "text": [
      "[\u001b[1m                py.warnings\u001b[0m][\u001b[1;33mWARNING\u001b[0m] - /home/runner/work/carsus/carsus/carsus/io/nist/ionization.py:248: FutureWarning: Setting an item of incompatible dtype is deprecated and will raise an error in a future version of pandas. Value '1S' has dtype incompatible with float64, please explicitly cast to a compatible dtype first.\n",
      "  lvl[\"term\"] = \"\".join([str(_) for _ in lvl_tokens[\"ls_term\"]])\n",
      " (\u001b[1mwarnings.py\u001b[0m:112)\n"
     ]
    },
    {
     "name": "stdout",
     "output_type": "stream",
     "text": [
      "[\u001b[1m                py.warnings\u001b[0m][\u001b[1;33mWARNING\u001b[0m] - /home/runner/work/carsus/carsus/carsus/io/nist/ionization.py:248: FutureWarning: Setting an item of incompatible dtype is deprecated and will raise an error in a future version of pandas. Value '2S' has dtype incompatible with float64, please explicitly cast to a compatible dtype first.\n",
      "  lvl[\"term\"] = \"\".join([str(_) for _ in lvl_tokens[\"ls_term\"]])\n",
      " (\u001b[1mwarnings.py\u001b[0m:112)\n"
     ]
    },
    {
     "name": "stdout",
     "output_type": "stream",
     "text": [
      "[\u001b[1m                py.warnings\u001b[0m][\u001b[1;33mWARNING\u001b[0m] - /home/runner/work/carsus/carsus/carsus/io/nist/ionization.py:248: FutureWarning: Setting an item of incompatible dtype is deprecated and will raise an error in a future version of pandas. Value '1S' has dtype incompatible with float64, please explicitly cast to a compatible dtype first.\n",
      "  lvl[\"term\"] = \"\".join([str(_) for _ in lvl_tokens[\"ls_term\"]])\n",
      " (\u001b[1mwarnings.py\u001b[0m:112)\n"
     ]
    },
    {
     "name": "stdout",
     "output_type": "stream",
     "text": [
      "[\u001b[1m                py.warnings\u001b[0m][\u001b[1;33mWARNING\u001b[0m] - /home/runner/work/carsus/carsus/carsus/io/nist/ionization.py:248: FutureWarning: Setting an item of incompatible dtype is deprecated and will raise an error in a future version of pandas. Value '2P' has dtype incompatible with float64, please explicitly cast to a compatible dtype first.\n",
      "  lvl[\"term\"] = \"\".join([str(_) for _ in lvl_tokens[\"ls_term\"]])\n",
      " (\u001b[1mwarnings.py\u001b[0m:112)\n"
     ]
    },
    {
     "name": "stdout",
     "output_type": "stream",
     "text": [
      "[\u001b[1m                py.warnings\u001b[0m][\u001b[1;33mWARNING\u001b[0m] - /home/runner/work/carsus/carsus/carsus/io/nist/ionization.py:248: FutureWarning: Setting an item of incompatible dtype is deprecated and will raise an error in a future version of pandas. Value '3P' has dtype incompatible with float64, please explicitly cast to a compatible dtype first.\n",
      "  lvl[\"term\"] = \"\".join([str(_) for _ in lvl_tokens[\"ls_term\"]])\n",
      " (\u001b[1mwarnings.py\u001b[0m:112)\n"
     ]
    },
    {
     "name": "stdout",
     "output_type": "stream",
     "text": [
      "[\u001b[1m                py.warnings\u001b[0m][\u001b[1;33mWARNING\u001b[0m] - /home/runner/work/carsus/carsus/carsus/io/nist/ionization.py:248: FutureWarning: Setting an item of incompatible dtype is deprecated and will raise an error in a future version of pandas. Value '4S' has dtype incompatible with float64, please explicitly cast to a compatible dtype first.\n",
      "  lvl[\"term\"] = \"\".join([str(_) for _ in lvl_tokens[\"ls_term\"]])\n",
      " (\u001b[1mwarnings.py\u001b[0m:112)\n"
     ]
    },
    {
     "name": "stdout",
     "output_type": "stream",
     "text": [
      "[\u001b[1m                py.warnings\u001b[0m][\u001b[1;33mWARNING\u001b[0m] - /home/runner/work/carsus/carsus/carsus/io/nist/ionization.py:248: FutureWarning: Setting an item of incompatible dtype is deprecated and will raise an error in a future version of pandas. Value '3P' has dtype incompatible with float64, please explicitly cast to a compatible dtype first.\n",
      "  lvl[\"term\"] = \"\".join([str(_) for _ in lvl_tokens[\"ls_term\"]])\n",
      " (\u001b[1mwarnings.py\u001b[0m:112)\n"
     ]
    },
    {
     "name": "stdout",
     "output_type": "stream",
     "text": [
      "[\u001b[1m                py.warnings\u001b[0m][\u001b[1;33mWARNING\u001b[0m] - /home/runner/work/carsus/carsus/carsus/io/nist/ionization.py:248: FutureWarning: Setting an item of incompatible dtype is deprecated and will raise an error in a future version of pandas. Value '2P' has dtype incompatible with float64, please explicitly cast to a compatible dtype first.\n",
      "  lvl[\"term\"] = \"\".join([str(_) for _ in lvl_tokens[\"ls_term\"]])\n",
      " (\u001b[1mwarnings.py\u001b[0m:112)\n"
     ]
    },
    {
     "name": "stdout",
     "output_type": "stream",
     "text": [
      "[\u001b[1m                py.warnings\u001b[0m][\u001b[1;33mWARNING\u001b[0m] - /home/runner/work/carsus/carsus/carsus/io/nist/ionization.py:248: FutureWarning: Setting an item of incompatible dtype is deprecated and will raise an error in a future version of pandas. Value '1S' has dtype incompatible with float64, please explicitly cast to a compatible dtype first.\n",
      "  lvl[\"term\"] = \"\".join([str(_) for _ in lvl_tokens[\"ls_term\"]])\n",
      " (\u001b[1mwarnings.py\u001b[0m:112)\n"
     ]
    },
    {
     "name": "stdout",
     "output_type": "stream",
     "text": [
      "[\u001b[1m                py.warnings\u001b[0m][\u001b[1;33mWARNING\u001b[0m] - /home/runner/work/carsus/carsus/carsus/io/nist/ionization.py:248: FutureWarning: Setting an item of incompatible dtype is deprecated and will raise an error in a future version of pandas. Value '2S' has dtype incompatible with float64, please explicitly cast to a compatible dtype first.\n",
      "  lvl[\"term\"] = \"\".join([str(_) for _ in lvl_tokens[\"ls_term\"]])\n",
      " (\u001b[1mwarnings.py\u001b[0m:112)\n"
     ]
    },
    {
     "name": "stdout",
     "output_type": "stream",
     "text": [
      "[\u001b[1m                py.warnings\u001b[0m][\u001b[1;33mWARNING\u001b[0m] - /home/runner/work/carsus/carsus/carsus/io/nist/ionization.py:248: FutureWarning: Setting an item of incompatible dtype is deprecated and will raise an error in a future version of pandas. Value '1S' has dtype incompatible with float64, please explicitly cast to a compatible dtype first.\n",
      "  lvl[\"term\"] = \"\".join([str(_) for _ in lvl_tokens[\"ls_term\"]])\n",
      " (\u001b[1mwarnings.py\u001b[0m:112)\n"
     ]
    },
    {
     "name": "stdout",
     "output_type": "stream",
     "text": [
      "[\u001b[1m                py.warnings\u001b[0m][\u001b[1;33mWARNING\u001b[0m] - /home/runner/work/carsus/carsus/carsus/io/nist/ionization.py:248: FutureWarning: Setting an item of incompatible dtype is deprecated and will raise an error in a future version of pandas. Value '2S' has dtype incompatible with float64, please explicitly cast to a compatible dtype first.\n",
      "  lvl[\"term\"] = \"\".join([str(_) for _ in lvl_tokens[\"ls_term\"]])\n",
      " (\u001b[1mwarnings.py\u001b[0m:112)\n"
     ]
    },
    {
     "name": "stdout",
     "output_type": "stream",
     "text": [
      "[\u001b[1m                py.warnings\u001b[0m][\u001b[1;33mWARNING\u001b[0m] - /home/runner/work/carsus/carsus/carsus/io/nist/ionization.py:248: FutureWarning: Setting an item of incompatible dtype is deprecated and will raise an error in a future version of pandas. Value '2S' has dtype incompatible with float64, please explicitly cast to a compatible dtype first.\n",
      "  lvl[\"term\"] = \"\".join([str(_) for _ in lvl_tokens[\"ls_term\"]])\n",
      " (\u001b[1mwarnings.py\u001b[0m:112)\n"
     ]
    },
    {
     "name": "stdout",
     "output_type": "stream",
     "text": [
      "[\u001b[1m                py.warnings\u001b[0m][\u001b[1;33mWARNING\u001b[0m] - /home/runner/work/carsus/carsus/carsus/io/nist/ionization.py:248: FutureWarning: Setting an item of incompatible dtype is deprecated and will raise an error in a future version of pandas. Value '1S' has dtype incompatible with float64, please explicitly cast to a compatible dtype first.\n",
      "  lvl[\"term\"] = \"\".join([str(_) for _ in lvl_tokens[\"ls_term\"]])\n",
      " (\u001b[1mwarnings.py\u001b[0m:112)\n"
     ]
    },
    {
     "name": "stdout",
     "output_type": "stream",
     "text": [
      "[\u001b[1m                py.warnings\u001b[0m][\u001b[1;33mWARNING\u001b[0m] - /home/runner/work/carsus/carsus/carsus/io/nist/ionization.py:248: FutureWarning: Setting an item of incompatible dtype is deprecated and will raise an error in a future version of pandas. Value '2P' has dtype incompatible with float64, please explicitly cast to a compatible dtype first.\n",
      "  lvl[\"term\"] = \"\".join([str(_) for _ in lvl_tokens[\"ls_term\"]])\n",
      " (\u001b[1mwarnings.py\u001b[0m:112)\n"
     ]
    },
    {
     "name": "stdout",
     "output_type": "stream",
     "text": [
      "[\u001b[1m                py.warnings\u001b[0m][\u001b[1;33mWARNING\u001b[0m] - /home/runner/work/carsus/carsus/carsus/io/nist/ionization.py:248: FutureWarning: Setting an item of incompatible dtype is deprecated and will raise an error in a future version of pandas. Value '3P' has dtype incompatible with float64, please explicitly cast to a compatible dtype first.\n",
      "  lvl[\"term\"] = \"\".join([str(_) for _ in lvl_tokens[\"ls_term\"]])\n",
      " (\u001b[1mwarnings.py\u001b[0m:112)\n"
     ]
    },
    {
     "name": "stdout",
     "output_type": "stream",
     "text": [
      "[\u001b[1m                py.warnings\u001b[0m][\u001b[1;33mWARNING\u001b[0m] - /home/runner/work/carsus/carsus/carsus/io/nist/ionization.py:248: FutureWarning: Setting an item of incompatible dtype is deprecated and will raise an error in a future version of pandas. Value '4S' has dtype incompatible with float64, please explicitly cast to a compatible dtype first.\n",
      "  lvl[\"term\"] = \"\".join([str(_) for _ in lvl_tokens[\"ls_term\"]])\n",
      " (\u001b[1mwarnings.py\u001b[0m:112)\n"
     ]
    },
    {
     "name": "stdout",
     "output_type": "stream",
     "text": [
      "[\u001b[1m                py.warnings\u001b[0m][\u001b[1;33mWARNING\u001b[0m] - /home/runner/work/carsus/carsus/carsus/io/nist/ionization.py:248: FutureWarning: Setting an item of incompatible dtype is deprecated and will raise an error in a future version of pandas. Value '3P' has dtype incompatible with float64, please explicitly cast to a compatible dtype first.\n",
      "  lvl[\"term\"] = \"\".join([str(_) for _ in lvl_tokens[\"ls_term\"]])\n",
      " (\u001b[1mwarnings.py\u001b[0m:112)\n"
     ]
    },
    {
     "name": "stdout",
     "output_type": "stream",
     "text": [
      "[\u001b[1m                py.warnings\u001b[0m][\u001b[1;33mWARNING\u001b[0m] - /home/runner/work/carsus/carsus/carsus/io/nist/ionization.py:248: FutureWarning: Setting an item of incompatible dtype is deprecated and will raise an error in a future version of pandas. Value '2P' has dtype incompatible with float64, please explicitly cast to a compatible dtype first.\n",
      "  lvl[\"term\"] = \"\".join([str(_) for _ in lvl_tokens[\"ls_term\"]])\n",
      " (\u001b[1mwarnings.py\u001b[0m:112)\n"
     ]
    },
    {
     "name": "stdout",
     "output_type": "stream",
     "text": [
      "[\u001b[1m                py.warnings\u001b[0m][\u001b[1;33mWARNING\u001b[0m] - /home/runner/work/carsus/carsus/carsus/io/nist/ionization.py:248: FutureWarning: Setting an item of incompatible dtype is deprecated and will raise an error in a future version of pandas. Value '1S' has dtype incompatible with float64, please explicitly cast to a compatible dtype first.\n",
      "  lvl[\"term\"] = \"\".join([str(_) for _ in lvl_tokens[\"ls_term\"]])\n",
      " (\u001b[1mwarnings.py\u001b[0m:112)\n"
     ]
    },
    {
     "name": "stdout",
     "output_type": "stream",
     "text": [
      "[\u001b[1m                py.warnings\u001b[0m][\u001b[1;33mWARNING\u001b[0m] - /home/runner/work/carsus/carsus/carsus/io/nist/ionization.py:248: FutureWarning: Setting an item of incompatible dtype is deprecated and will raise an error in a future version of pandas. Value '2S' has dtype incompatible with float64, please explicitly cast to a compatible dtype first.\n",
      "  lvl[\"term\"] = \"\".join([str(_) for _ in lvl_tokens[\"ls_term\"]])\n",
      " (\u001b[1mwarnings.py\u001b[0m:112)\n"
     ]
    },
    {
     "name": "stdout",
     "output_type": "stream",
     "text": [
      "[\u001b[1m                py.warnings\u001b[0m][\u001b[1;33mWARNING\u001b[0m] - /home/runner/work/carsus/carsus/carsus/io/nist/ionization.py:248: FutureWarning: Setting an item of incompatible dtype is deprecated and will raise an error in a future version of pandas. Value '1S' has dtype incompatible with float64, please explicitly cast to a compatible dtype first.\n",
      "  lvl[\"term\"] = \"\".join([str(_) for _ in lvl_tokens[\"ls_term\"]])\n",
      " (\u001b[1mwarnings.py\u001b[0m:112)\n"
     ]
    },
    {
     "name": "stdout",
     "output_type": "stream",
     "text": [
      "[\u001b[1m                py.warnings\u001b[0m][\u001b[1;33mWARNING\u001b[0m] - /home/runner/work/carsus/carsus/carsus/io/nist/ionization.py:248: FutureWarning: Setting an item of incompatible dtype is deprecated and will raise an error in a future version of pandas. Value '2S' has dtype incompatible with float64, please explicitly cast to a compatible dtype first.\n",
      "  lvl[\"term\"] = \"\".join([str(_) for _ in lvl_tokens[\"ls_term\"]])\n",
      " (\u001b[1mwarnings.py\u001b[0m:112)\n"
     ]
    },
    {
     "name": "stdout",
     "output_type": "stream",
     "text": [
      "[\u001b[1m                py.warnings\u001b[0m][\u001b[1;33mWARNING\u001b[0m] - /home/runner/work/carsus/carsus/carsus/io/nist/ionization.py:248: FutureWarning: Setting an item of incompatible dtype is deprecated and will raise an error in a future version of pandas. Value '1S' has dtype incompatible with float64, please explicitly cast to a compatible dtype first.\n",
      "  lvl[\"term\"] = \"\".join([str(_) for _ in lvl_tokens[\"ls_term\"]])\n",
      " (\u001b[1mwarnings.py\u001b[0m:112)\n"
     ]
    },
    {
     "name": "stdout",
     "output_type": "stream",
     "text": [
      "[\u001b[1m                py.warnings\u001b[0m][\u001b[1;33mWARNING\u001b[0m] - /home/runner/work/carsus/carsus/carsus/io/nist/ionization.py:248: FutureWarning: Setting an item of incompatible dtype is deprecated and will raise an error in a future version of pandas. Value '2S' has dtype incompatible with float64, please explicitly cast to a compatible dtype first.\n",
      "  lvl[\"term\"] = \"\".join([str(_) for _ in lvl_tokens[\"ls_term\"]])\n",
      " (\u001b[1mwarnings.py\u001b[0m:112)\n"
     ]
    },
    {
     "name": "stdout",
     "output_type": "stream",
     "text": [
      "[\u001b[1m                py.warnings\u001b[0m][\u001b[1;33mWARNING\u001b[0m] - /home/runner/work/carsus/carsus/carsus/io/nist/ionization.py:248: FutureWarning: Setting an item of incompatible dtype is deprecated and will raise an error in a future version of pandas. Value '1S' has dtype incompatible with float64, please explicitly cast to a compatible dtype first.\n",
      "  lvl[\"term\"] = \"\".join([str(_) for _ in lvl_tokens[\"ls_term\"]])\n",
      " (\u001b[1mwarnings.py\u001b[0m:112)\n"
     ]
    },
    {
     "name": "stdout",
     "output_type": "stream",
     "text": [
      "[\u001b[1m                py.warnings\u001b[0m][\u001b[1;33mWARNING\u001b[0m] - /home/runner/work/carsus/carsus/carsus/io/nist/ionization.py:248: FutureWarning: Setting an item of incompatible dtype is deprecated and will raise an error in a future version of pandas. Value '2P' has dtype incompatible with float64, please explicitly cast to a compatible dtype first.\n",
      "  lvl[\"term\"] = \"\".join([str(_) for _ in lvl_tokens[\"ls_term\"]])\n",
      " (\u001b[1mwarnings.py\u001b[0m:112)\n"
     ]
    },
    {
     "name": "stdout",
     "output_type": "stream",
     "text": [
      "[\u001b[1m                py.warnings\u001b[0m][\u001b[1;33mWARNING\u001b[0m] - /home/runner/work/carsus/carsus/carsus/io/nist/ionization.py:248: FutureWarning: Setting an item of incompatible dtype is deprecated and will raise an error in a future version of pandas. Value '3P' has dtype incompatible with float64, please explicitly cast to a compatible dtype first.\n",
      "  lvl[\"term\"] = \"\".join([str(_) for _ in lvl_tokens[\"ls_term\"]])\n",
      " (\u001b[1mwarnings.py\u001b[0m:112)\n"
     ]
    },
    {
     "name": "stdout",
     "output_type": "stream",
     "text": [
      "[\u001b[1m                py.warnings\u001b[0m][\u001b[1;33mWARNING\u001b[0m] - /home/runner/work/carsus/carsus/carsus/io/nist/ionization.py:248: FutureWarning: Setting an item of incompatible dtype is deprecated and will raise an error in a future version of pandas. Value '4S' has dtype incompatible with float64, please explicitly cast to a compatible dtype first.\n",
      "  lvl[\"term\"] = \"\".join([str(_) for _ in lvl_tokens[\"ls_term\"]])\n",
      " (\u001b[1mwarnings.py\u001b[0m:112)\n"
     ]
    },
    {
     "name": "stdout",
     "output_type": "stream",
     "text": [
      "[\u001b[1m                py.warnings\u001b[0m][\u001b[1;33mWARNING\u001b[0m] - /home/runner/work/carsus/carsus/carsus/io/nist/ionization.py:248: FutureWarning: Setting an item of incompatible dtype is deprecated and will raise an error in a future version of pandas. Value '3P' has dtype incompatible with float64, please explicitly cast to a compatible dtype first.\n",
      "  lvl[\"term\"] = \"\".join([str(_) for _ in lvl_tokens[\"ls_term\"]])\n",
      " (\u001b[1mwarnings.py\u001b[0m:112)\n"
     ]
    },
    {
     "name": "stdout",
     "output_type": "stream",
     "text": [
      "[\u001b[1m                py.warnings\u001b[0m][\u001b[1;33mWARNING\u001b[0m] - /home/runner/work/carsus/carsus/carsus/io/nist/ionization.py:248: FutureWarning: Setting an item of incompatible dtype is deprecated and will raise an error in a future version of pandas. Value '2P' has dtype incompatible with float64, please explicitly cast to a compatible dtype first.\n",
      "  lvl[\"term\"] = \"\".join([str(_) for _ in lvl_tokens[\"ls_term\"]])\n",
      " (\u001b[1mwarnings.py\u001b[0m:112)\n"
     ]
    },
    {
     "name": "stdout",
     "output_type": "stream",
     "text": [
      "[\u001b[1m                py.warnings\u001b[0m][\u001b[1;33mWARNING\u001b[0m] - /home/runner/work/carsus/carsus/carsus/io/nist/ionization.py:248: FutureWarning: Setting an item of incompatible dtype is deprecated and will raise an error in a future version of pandas. Value '1S' has dtype incompatible with float64, please explicitly cast to a compatible dtype first.\n",
      "  lvl[\"term\"] = \"\".join([str(_) for _ in lvl_tokens[\"ls_term\"]])\n",
      " (\u001b[1mwarnings.py\u001b[0m:112)\n"
     ]
    },
    {
     "name": "stdout",
     "output_type": "stream",
     "text": [
      "[\u001b[1m                py.warnings\u001b[0m][\u001b[1;33mWARNING\u001b[0m] - /home/runner/work/carsus/carsus/carsus/io/nist/ionization.py:248: FutureWarning: Setting an item of incompatible dtype is deprecated and will raise an error in a future version of pandas. Value '2S' has dtype incompatible with float64, please explicitly cast to a compatible dtype first.\n",
      "  lvl[\"term\"] = \"\".join([str(_) for _ in lvl_tokens[\"ls_term\"]])\n",
      " (\u001b[1mwarnings.py\u001b[0m:112)\n"
     ]
    },
    {
     "name": "stdout",
     "output_type": "stream",
     "text": [
      "[\u001b[1m                py.warnings\u001b[0m][\u001b[1;33mWARNING\u001b[0m] - /home/runner/work/carsus/carsus/carsus/io/nist/ionization.py:248: FutureWarning: Setting an item of incompatible dtype is deprecated and will raise an error in a future version of pandas. Value '1S' has dtype incompatible with float64, please explicitly cast to a compatible dtype first.\n",
      "  lvl[\"term\"] = \"\".join([str(_) for _ in lvl_tokens[\"ls_term\"]])\n",
      " (\u001b[1mwarnings.py\u001b[0m:112)\n"
     ]
    },
    {
     "name": "stdout",
     "output_type": "stream",
     "text": [
      "[\u001b[1m                py.warnings\u001b[0m][\u001b[1;33mWARNING\u001b[0m] - /home/runner/work/carsus/carsus/carsus/io/nist/ionization.py:248: FutureWarning: Setting an item of incompatible dtype is deprecated and will raise an error in a future version of pandas. Value '2S' has dtype incompatible with float64, please explicitly cast to a compatible dtype first.\n",
      "  lvl[\"term\"] = \"\".join([str(_) for _ in lvl_tokens[\"ls_term\"]])\n",
      " (\u001b[1mwarnings.py\u001b[0m:112)\n"
     ]
    },
    {
     "name": "stdout",
     "output_type": "stream",
     "text": [
      "[\u001b[1m                py.warnings\u001b[0m][\u001b[1;33mWARNING\u001b[0m] - /home/runner/work/carsus/carsus/carsus/io/nist/ionization.py:248: FutureWarning: Setting an item of incompatible dtype is deprecated and will raise an error in a future version of pandas. Value '2P' has dtype incompatible with float64, please explicitly cast to a compatible dtype first.\n",
      "  lvl[\"term\"] = \"\".join([str(_) for _ in lvl_tokens[\"ls_term\"]])\n",
      " (\u001b[1mwarnings.py\u001b[0m:112)\n"
     ]
    },
    {
     "name": "stdout",
     "output_type": "stream",
     "text": [
      "[\u001b[1m                py.warnings\u001b[0m][\u001b[1;33mWARNING\u001b[0m] - /home/runner/work/carsus/carsus/carsus/io/nist/ionization.py:248: FutureWarning: Setting an item of incompatible dtype is deprecated and will raise an error in a future version of pandas. Value '1S' has dtype incompatible with float64, please explicitly cast to a compatible dtype first.\n",
      "  lvl[\"term\"] = \"\".join([str(_) for _ in lvl_tokens[\"ls_term\"]])\n",
      " (\u001b[1mwarnings.py\u001b[0m:112)\n"
     ]
    },
    {
     "name": "stdout",
     "output_type": "stream",
     "text": [
      "[\u001b[1m                py.warnings\u001b[0m][\u001b[1;33mWARNING\u001b[0m] - /home/runner/work/carsus/carsus/carsus/io/nist/ionization.py:248: FutureWarning: Setting an item of incompatible dtype is deprecated and will raise an error in a future version of pandas. Value '2S' has dtype incompatible with float64, please explicitly cast to a compatible dtype first.\n",
      "  lvl[\"term\"] = \"\".join([str(_) for _ in lvl_tokens[\"ls_term\"]])\n",
      " (\u001b[1mwarnings.py\u001b[0m:112)\n"
     ]
    },
    {
     "name": "stdout",
     "output_type": "stream",
     "text": [
      "[\u001b[1m                py.warnings\u001b[0m][\u001b[1;33mWARNING\u001b[0m] - /home/runner/work/carsus/carsus/carsus/io/nist/ionization.py:248: FutureWarning: Setting an item of incompatible dtype is deprecated and will raise an error in a future version of pandas. Value '1S' has dtype incompatible with float64, please explicitly cast to a compatible dtype first.\n",
      "  lvl[\"term\"] = \"\".join([str(_) for _ in lvl_tokens[\"ls_term\"]])\n",
      " (\u001b[1mwarnings.py\u001b[0m:112)\n"
     ]
    },
    {
     "name": "stdout",
     "output_type": "stream",
     "text": [
      "[\u001b[1m                py.warnings\u001b[0m][\u001b[1;33mWARNING\u001b[0m] - /home/runner/work/carsus/carsus/carsus/io/nist/ionization.py:248: FutureWarning: Setting an item of incompatible dtype is deprecated and will raise an error in a future version of pandas. Value '2P' has dtype incompatible with float64, please explicitly cast to a compatible dtype first.\n",
      "  lvl[\"term\"] = \"\".join([str(_) for _ in lvl_tokens[\"ls_term\"]])\n",
      " (\u001b[1mwarnings.py\u001b[0m:112)\n"
     ]
    },
    {
     "name": "stdout",
     "output_type": "stream",
     "text": [
      "[\u001b[1m                py.warnings\u001b[0m][\u001b[1;33mWARNING\u001b[0m] - /home/runner/work/carsus/carsus/carsus/io/nist/ionization.py:248: FutureWarning: Setting an item of incompatible dtype is deprecated and will raise an error in a future version of pandas. Value '3P' has dtype incompatible with float64, please explicitly cast to a compatible dtype first.\n",
      "  lvl[\"term\"] = \"\".join([str(_) for _ in lvl_tokens[\"ls_term\"]])\n",
      " (\u001b[1mwarnings.py\u001b[0m:112)\n"
     ]
    },
    {
     "name": "stdout",
     "output_type": "stream",
     "text": [
      "[\u001b[1m                py.warnings\u001b[0m][\u001b[1;33mWARNING\u001b[0m] - /home/runner/work/carsus/carsus/carsus/io/nist/ionization.py:248: FutureWarning: Setting an item of incompatible dtype is deprecated and will raise an error in a future version of pandas. Value '4S' has dtype incompatible with float64, please explicitly cast to a compatible dtype first.\n",
      "  lvl[\"term\"] = \"\".join([str(_) for _ in lvl_tokens[\"ls_term\"]])\n",
      " (\u001b[1mwarnings.py\u001b[0m:112)\n"
     ]
    },
    {
     "name": "stdout",
     "output_type": "stream",
     "text": [
      "[\u001b[1m                py.warnings\u001b[0m][\u001b[1;33mWARNING\u001b[0m] - /home/runner/work/carsus/carsus/carsus/io/nist/ionization.py:248: FutureWarning: Setting an item of incompatible dtype is deprecated and will raise an error in a future version of pandas. Value '3P' has dtype incompatible with float64, please explicitly cast to a compatible dtype first.\n",
      "  lvl[\"term\"] = \"\".join([str(_) for _ in lvl_tokens[\"ls_term\"]])\n",
      " (\u001b[1mwarnings.py\u001b[0m:112)\n"
     ]
    },
    {
     "name": "stdout",
     "output_type": "stream",
     "text": [
      "[\u001b[1m                py.warnings\u001b[0m][\u001b[1;33mWARNING\u001b[0m] - /home/runner/work/carsus/carsus/carsus/io/nist/ionization.py:248: FutureWarning: Setting an item of incompatible dtype is deprecated and will raise an error in a future version of pandas. Value '2P' has dtype incompatible with float64, please explicitly cast to a compatible dtype first.\n",
      "  lvl[\"term\"] = \"\".join([str(_) for _ in lvl_tokens[\"ls_term\"]])\n",
      " (\u001b[1mwarnings.py\u001b[0m:112)\n"
     ]
    },
    {
     "name": "stdout",
     "output_type": "stream",
     "text": [
      "[\u001b[1m                py.warnings\u001b[0m][\u001b[1;33mWARNING\u001b[0m] - /home/runner/work/carsus/carsus/carsus/io/nist/ionization.py:248: FutureWarning: Setting an item of incompatible dtype is deprecated and will raise an error in a future version of pandas. Value '1S' has dtype incompatible with float64, please explicitly cast to a compatible dtype first.\n",
      "  lvl[\"term\"] = \"\".join([str(_) for _ in lvl_tokens[\"ls_term\"]])\n",
      " (\u001b[1mwarnings.py\u001b[0m:112)\n"
     ]
    },
    {
     "name": "stdout",
     "output_type": "stream",
     "text": [
      "[\u001b[1m                py.warnings\u001b[0m][\u001b[1;33mWARNING\u001b[0m] - /home/runner/work/carsus/carsus/carsus/io/nist/ionization.py:248: FutureWarning: Setting an item of incompatible dtype is deprecated and will raise an error in a future version of pandas. Value '2S' has dtype incompatible with float64, please explicitly cast to a compatible dtype first.\n",
      "  lvl[\"term\"] = \"\".join([str(_) for _ in lvl_tokens[\"ls_term\"]])\n",
      " (\u001b[1mwarnings.py\u001b[0m:112)\n"
     ]
    },
    {
     "name": "stdout",
     "output_type": "stream",
     "text": [
      "[\u001b[1m                py.warnings\u001b[0m][\u001b[1;33mWARNING\u001b[0m] - /home/runner/work/carsus/carsus/carsus/io/nist/ionization.py:248: FutureWarning: Setting an item of incompatible dtype is deprecated and will raise an error in a future version of pandas. Value '1S' has dtype incompatible with float64, please explicitly cast to a compatible dtype first.\n",
      "  lvl[\"term\"] = \"\".join([str(_) for _ in lvl_tokens[\"ls_term\"]])\n",
      " (\u001b[1mwarnings.py\u001b[0m:112)\n"
     ]
    },
    {
     "name": "stdout",
     "output_type": "stream",
     "text": [
      "[\u001b[1m                py.warnings\u001b[0m][\u001b[1;33mWARNING\u001b[0m] - /home/runner/work/carsus/carsus/carsus/io/nist/ionization.py:248: FutureWarning: Setting an item of incompatible dtype is deprecated and will raise an error in a future version of pandas. Value '2S' has dtype incompatible with float64, please explicitly cast to a compatible dtype first.\n",
      "  lvl[\"term\"] = \"\".join([str(_) for _ in lvl_tokens[\"ls_term\"]])\n",
      " (\u001b[1mwarnings.py\u001b[0m:112)\n"
     ]
    },
    {
     "name": "stdout",
     "output_type": "stream",
     "text": [
      "[\u001b[1m                py.warnings\u001b[0m][\u001b[1;33mWARNING\u001b[0m] - /home/runner/work/carsus/carsus/carsus/io/nist/ionization.py:248: FutureWarning: Setting an item of incompatible dtype is deprecated and will raise an error in a future version of pandas. Value '3P' has dtype incompatible with float64, please explicitly cast to a compatible dtype first.\n",
      "  lvl[\"term\"] = \"\".join([str(_) for _ in lvl_tokens[\"ls_term\"]])\n",
      " (\u001b[1mwarnings.py\u001b[0m:112)\n"
     ]
    },
    {
     "name": "stdout",
     "output_type": "stream",
     "text": [
      "[\u001b[1m                py.warnings\u001b[0m][\u001b[1;33mWARNING\u001b[0m] - /home/runner/work/carsus/carsus/carsus/io/nist/ionization.py:248: FutureWarning: Setting an item of incompatible dtype is deprecated and will raise an error in a future version of pandas. Value '2P' has dtype incompatible with float64, please explicitly cast to a compatible dtype first.\n",
      "  lvl[\"term\"] = \"\".join([str(_) for _ in lvl_tokens[\"ls_term\"]])\n",
      " (\u001b[1mwarnings.py\u001b[0m:112)\n"
     ]
    },
    {
     "name": "stdout",
     "output_type": "stream",
     "text": [
      "[\u001b[1m                py.warnings\u001b[0m][\u001b[1;33mWARNING\u001b[0m] - /home/runner/work/carsus/carsus/carsus/io/nist/ionization.py:248: FutureWarning: Setting an item of incompatible dtype is deprecated and will raise an error in a future version of pandas. Value '1S' has dtype incompatible with float64, please explicitly cast to a compatible dtype first.\n",
      "  lvl[\"term\"] = \"\".join([str(_) for _ in lvl_tokens[\"ls_term\"]])\n",
      " (\u001b[1mwarnings.py\u001b[0m:112)\n"
     ]
    },
    {
     "name": "stdout",
     "output_type": "stream",
     "text": [
      "[\u001b[1m                py.warnings\u001b[0m][\u001b[1;33mWARNING\u001b[0m] - /home/runner/work/carsus/carsus/carsus/io/nist/ionization.py:248: FutureWarning: Setting an item of incompatible dtype is deprecated and will raise an error in a future version of pandas. Value '2S' has dtype incompatible with float64, please explicitly cast to a compatible dtype first.\n",
      "  lvl[\"term\"] = \"\".join([str(_) for _ in lvl_tokens[\"ls_term\"]])\n",
      " (\u001b[1mwarnings.py\u001b[0m:112)\n"
     ]
    },
    {
     "name": "stdout",
     "output_type": "stream",
     "text": [
      "[\u001b[1m                py.warnings\u001b[0m][\u001b[1;33mWARNING\u001b[0m] - /home/runner/work/carsus/carsus/carsus/io/nist/ionization.py:248: FutureWarning: Setting an item of incompatible dtype is deprecated and will raise an error in a future version of pandas. Value '1S' has dtype incompatible with float64, please explicitly cast to a compatible dtype first.\n",
      "  lvl[\"term\"] = \"\".join([str(_) for _ in lvl_tokens[\"ls_term\"]])\n",
      " (\u001b[1mwarnings.py\u001b[0m:112)\n"
     ]
    },
    {
     "name": "stdout",
     "output_type": "stream",
     "text": [
      "[\u001b[1m                py.warnings\u001b[0m][\u001b[1;33mWARNING\u001b[0m] - /home/runner/work/carsus/carsus/carsus/io/nist/ionization.py:248: FutureWarning: Setting an item of incompatible dtype is deprecated and will raise an error in a future version of pandas. Value '2P' has dtype incompatible with float64, please explicitly cast to a compatible dtype first.\n",
      "  lvl[\"term\"] = \"\".join([str(_) for _ in lvl_tokens[\"ls_term\"]])\n",
      " (\u001b[1mwarnings.py\u001b[0m:112)\n"
     ]
    },
    {
     "name": "stdout",
     "output_type": "stream",
     "text": [
      "[\u001b[1m                py.warnings\u001b[0m][\u001b[1;33mWARNING\u001b[0m] - /home/runner/work/carsus/carsus/carsus/io/nist/ionization.py:248: FutureWarning: Setting an item of incompatible dtype is deprecated and will raise an error in a future version of pandas. Value '3P' has dtype incompatible with float64, please explicitly cast to a compatible dtype first.\n",
      "  lvl[\"term\"] = \"\".join([str(_) for _ in lvl_tokens[\"ls_term\"]])\n",
      " (\u001b[1mwarnings.py\u001b[0m:112)\n"
     ]
    },
    {
     "name": "stdout",
     "output_type": "stream",
     "text": [
      "[\u001b[1m                py.warnings\u001b[0m][\u001b[1;33mWARNING\u001b[0m] - /home/runner/work/carsus/carsus/carsus/io/nist/ionization.py:248: FutureWarning: Setting an item of incompatible dtype is deprecated and will raise an error in a future version of pandas. Value '4S' has dtype incompatible with float64, please explicitly cast to a compatible dtype first.\n",
      "  lvl[\"term\"] = \"\".join([str(_) for _ in lvl_tokens[\"ls_term\"]])\n",
      " (\u001b[1mwarnings.py\u001b[0m:112)\n"
     ]
    },
    {
     "name": "stdout",
     "output_type": "stream",
     "text": [
      "[\u001b[1m                py.warnings\u001b[0m][\u001b[1;33mWARNING\u001b[0m] - /home/runner/work/carsus/carsus/carsus/io/nist/ionization.py:248: FutureWarning: Setting an item of incompatible dtype is deprecated and will raise an error in a future version of pandas. Value '3P' has dtype incompatible with float64, please explicitly cast to a compatible dtype first.\n",
      "  lvl[\"term\"] = \"\".join([str(_) for _ in lvl_tokens[\"ls_term\"]])\n",
      " (\u001b[1mwarnings.py\u001b[0m:112)\n"
     ]
    },
    {
     "name": "stdout",
     "output_type": "stream",
     "text": [
      "[\u001b[1m                py.warnings\u001b[0m][\u001b[1;33mWARNING\u001b[0m] - /home/runner/work/carsus/carsus/carsus/io/nist/ionization.py:248: FutureWarning: Setting an item of incompatible dtype is deprecated and will raise an error in a future version of pandas. Value '2P' has dtype incompatible with float64, please explicitly cast to a compatible dtype first.\n",
      "  lvl[\"term\"] = \"\".join([str(_) for _ in lvl_tokens[\"ls_term\"]])\n",
      " (\u001b[1mwarnings.py\u001b[0m:112)\n"
     ]
    },
    {
     "name": "stdout",
     "output_type": "stream",
     "text": [
      "[\u001b[1m                py.warnings\u001b[0m][\u001b[1;33mWARNING\u001b[0m] - /home/runner/work/carsus/carsus/carsus/io/nist/ionization.py:248: FutureWarning: Setting an item of incompatible dtype is deprecated and will raise an error in a future version of pandas. Value '1S' has dtype incompatible with float64, please explicitly cast to a compatible dtype first.\n",
      "  lvl[\"term\"] = \"\".join([str(_) for _ in lvl_tokens[\"ls_term\"]])\n",
      " (\u001b[1mwarnings.py\u001b[0m:112)\n"
     ]
    },
    {
     "name": "stdout",
     "output_type": "stream",
     "text": [
      "[\u001b[1m                py.warnings\u001b[0m][\u001b[1;33mWARNING\u001b[0m] - /home/runner/work/carsus/carsus/carsus/io/nist/ionization.py:248: FutureWarning: Setting an item of incompatible dtype is deprecated and will raise an error in a future version of pandas. Value '2S' has dtype incompatible with float64, please explicitly cast to a compatible dtype first.\n",
      "  lvl[\"term\"] = \"\".join([str(_) for _ in lvl_tokens[\"ls_term\"]])\n",
      " (\u001b[1mwarnings.py\u001b[0m:112)\n"
     ]
    },
    {
     "name": "stdout",
     "output_type": "stream",
     "text": [
      "[\u001b[1m                py.warnings\u001b[0m][\u001b[1;33mWARNING\u001b[0m] - /home/runner/work/carsus/carsus/carsus/io/nist/ionization.py:248: FutureWarning: Setting an item of incompatible dtype is deprecated and will raise an error in a future version of pandas. Value '1S' has dtype incompatible with float64, please explicitly cast to a compatible dtype first.\n",
      "  lvl[\"term\"] = \"\".join([str(_) for _ in lvl_tokens[\"ls_term\"]])\n",
      " (\u001b[1mwarnings.py\u001b[0m:112)\n"
     ]
    },
    {
     "name": "stdout",
     "output_type": "stream",
     "text": [
      "[\u001b[1m                py.warnings\u001b[0m][\u001b[1;33mWARNING\u001b[0m] - /home/runner/work/carsus/carsus/carsus/io/nist/ionization.py:248: FutureWarning: Setting an item of incompatible dtype is deprecated and will raise an error in a future version of pandas. Value '2S' has dtype incompatible with float64, please explicitly cast to a compatible dtype first.\n",
      "  lvl[\"term\"] = \"\".join([str(_) for _ in lvl_tokens[\"ls_term\"]])\n",
      " (\u001b[1mwarnings.py\u001b[0m:112)\n"
     ]
    },
    {
     "name": "stdout",
     "output_type": "stream",
     "text": [
      "[\u001b[1m                py.warnings\u001b[0m][\u001b[1;33mWARNING\u001b[0m] - /home/runner/work/carsus/carsus/carsus/io/nist/ionization.py:248: FutureWarning: Setting an item of incompatible dtype is deprecated and will raise an error in a future version of pandas. Value '4S' has dtype incompatible with float64, please explicitly cast to a compatible dtype first.\n",
      "  lvl[\"term\"] = \"\".join([str(_) for _ in lvl_tokens[\"ls_term\"]])\n",
      " (\u001b[1mwarnings.py\u001b[0m:112)\n"
     ]
    },
    {
     "name": "stdout",
     "output_type": "stream",
     "text": [
      "[\u001b[1m                py.warnings\u001b[0m][\u001b[1;33mWARNING\u001b[0m] - /home/runner/work/carsus/carsus/carsus/io/nist/ionization.py:248: FutureWarning: Setting an item of incompatible dtype is deprecated and will raise an error in a future version of pandas. Value '3P' has dtype incompatible with float64, please explicitly cast to a compatible dtype first.\n",
      "  lvl[\"term\"] = \"\".join([str(_) for _ in lvl_tokens[\"ls_term\"]])\n",
      " (\u001b[1mwarnings.py\u001b[0m:112)\n"
     ]
    },
    {
     "name": "stdout",
     "output_type": "stream",
     "text": [
      "[\u001b[1m                py.warnings\u001b[0m][\u001b[1;33mWARNING\u001b[0m] - /home/runner/work/carsus/carsus/carsus/io/nist/ionization.py:248: FutureWarning: Setting an item of incompatible dtype is deprecated and will raise an error in a future version of pandas. Value '2P' has dtype incompatible with float64, please explicitly cast to a compatible dtype first.\n",
      "  lvl[\"term\"] = \"\".join([str(_) for _ in lvl_tokens[\"ls_term\"]])\n",
      " (\u001b[1mwarnings.py\u001b[0m:112)\n"
     ]
    },
    {
     "name": "stdout",
     "output_type": "stream",
     "text": [
      "[\u001b[1m                py.warnings\u001b[0m][\u001b[1;33mWARNING\u001b[0m] - /home/runner/work/carsus/carsus/carsus/io/nist/ionization.py:248: FutureWarning: Setting an item of incompatible dtype is deprecated and will raise an error in a future version of pandas. Value '1S' has dtype incompatible with float64, please explicitly cast to a compatible dtype first.\n",
      "  lvl[\"term\"] = \"\".join([str(_) for _ in lvl_tokens[\"ls_term\"]])\n",
      " (\u001b[1mwarnings.py\u001b[0m:112)\n"
     ]
    },
    {
     "name": "stdout",
     "output_type": "stream",
     "text": [
      "[\u001b[1m                py.warnings\u001b[0m][\u001b[1;33mWARNING\u001b[0m] - /home/runner/work/carsus/carsus/carsus/io/nist/ionization.py:248: FutureWarning: Setting an item of incompatible dtype is deprecated and will raise an error in a future version of pandas. Value '2S' has dtype incompatible with float64, please explicitly cast to a compatible dtype first.\n",
      "  lvl[\"term\"] = \"\".join([str(_) for _ in lvl_tokens[\"ls_term\"]])\n",
      " (\u001b[1mwarnings.py\u001b[0m:112)\n"
     ]
    },
    {
     "name": "stdout",
     "output_type": "stream",
     "text": [
      "[\u001b[1m                py.warnings\u001b[0m][\u001b[1;33mWARNING\u001b[0m] - /home/runner/work/carsus/carsus/carsus/io/nist/ionization.py:248: FutureWarning: Setting an item of incompatible dtype is deprecated and will raise an error in a future version of pandas. Value '1S' has dtype incompatible with float64, please explicitly cast to a compatible dtype first.\n",
      "  lvl[\"term\"] = \"\".join([str(_) for _ in lvl_tokens[\"ls_term\"]])\n",
      " (\u001b[1mwarnings.py\u001b[0m:112)\n"
     ]
    },
    {
     "name": "stdout",
     "output_type": "stream",
     "text": [
      "[\u001b[1m                py.warnings\u001b[0m][\u001b[1;33mWARNING\u001b[0m] - /home/runner/work/carsus/carsus/carsus/io/nist/ionization.py:248: FutureWarning: Setting an item of incompatible dtype is deprecated and will raise an error in a future version of pandas. Value '2P' has dtype incompatible with float64, please explicitly cast to a compatible dtype first.\n",
      "  lvl[\"term\"] = \"\".join([str(_) for _ in lvl_tokens[\"ls_term\"]])\n",
      " (\u001b[1mwarnings.py\u001b[0m:112)\n"
     ]
    },
    {
     "name": "stdout",
     "output_type": "stream",
     "text": [
      "[\u001b[1m                py.warnings\u001b[0m][\u001b[1;33mWARNING\u001b[0m] - /home/runner/work/carsus/carsus/carsus/io/nist/ionization.py:248: FutureWarning: Setting an item of incompatible dtype is deprecated and will raise an error in a future version of pandas. Value '3P' has dtype incompatible with float64, please explicitly cast to a compatible dtype first.\n",
      "  lvl[\"term\"] = \"\".join([str(_) for _ in lvl_tokens[\"ls_term\"]])\n",
      " (\u001b[1mwarnings.py\u001b[0m:112)\n"
     ]
    },
    {
     "name": "stdout",
     "output_type": "stream",
     "text": [
      "[\u001b[1m                py.warnings\u001b[0m][\u001b[1;33mWARNING\u001b[0m] - /home/runner/work/carsus/carsus/carsus/io/nist/ionization.py:248: FutureWarning: Setting an item of incompatible dtype is deprecated and will raise an error in a future version of pandas. Value '4S' has dtype incompatible with float64, please explicitly cast to a compatible dtype first.\n",
      "  lvl[\"term\"] = \"\".join([str(_) for _ in lvl_tokens[\"ls_term\"]])\n",
      " (\u001b[1mwarnings.py\u001b[0m:112)\n"
     ]
    },
    {
     "name": "stdout",
     "output_type": "stream",
     "text": [
      "[\u001b[1m                py.warnings\u001b[0m][\u001b[1;33mWARNING\u001b[0m] - /home/runner/work/carsus/carsus/carsus/io/nist/ionization.py:248: FutureWarning: Setting an item of incompatible dtype is deprecated and will raise an error in a future version of pandas. Value '3P' has dtype incompatible with float64, please explicitly cast to a compatible dtype first.\n",
      "  lvl[\"term\"] = \"\".join([str(_) for _ in lvl_tokens[\"ls_term\"]])\n",
      " (\u001b[1mwarnings.py\u001b[0m:112)\n"
     ]
    },
    {
     "name": "stdout",
     "output_type": "stream",
     "text": [
      "[\u001b[1m                py.warnings\u001b[0m][\u001b[1;33mWARNING\u001b[0m] - /home/runner/work/carsus/carsus/carsus/io/nist/ionization.py:248: FutureWarning: Setting an item of incompatible dtype is deprecated and will raise an error in a future version of pandas. Value '2P' has dtype incompatible with float64, please explicitly cast to a compatible dtype first.\n",
      "  lvl[\"term\"] = \"\".join([str(_) for _ in lvl_tokens[\"ls_term\"]])\n",
      " (\u001b[1mwarnings.py\u001b[0m:112)\n"
     ]
    },
    {
     "name": "stdout",
     "output_type": "stream",
     "text": [
      "[\u001b[1m                py.warnings\u001b[0m][\u001b[1;33mWARNING\u001b[0m] - /home/runner/work/carsus/carsus/carsus/io/nist/ionization.py:248: FutureWarning: Setting an item of incompatible dtype is deprecated and will raise an error in a future version of pandas. Value '1S' has dtype incompatible with float64, please explicitly cast to a compatible dtype first.\n",
      "  lvl[\"term\"] = \"\".join([str(_) for _ in lvl_tokens[\"ls_term\"]])\n",
      " (\u001b[1mwarnings.py\u001b[0m:112)\n"
     ]
    },
    {
     "name": "stdout",
     "output_type": "stream",
     "text": [
      "[\u001b[1m                py.warnings\u001b[0m][\u001b[1;33mWARNING\u001b[0m] - /home/runner/work/carsus/carsus/carsus/io/nist/ionization.py:248: FutureWarning: Setting an item of incompatible dtype is deprecated and will raise an error in a future version of pandas. Value '2S' has dtype incompatible with float64, please explicitly cast to a compatible dtype first.\n",
      "  lvl[\"term\"] = \"\".join([str(_) for _ in lvl_tokens[\"ls_term\"]])\n",
      " (\u001b[1mwarnings.py\u001b[0m:112)\n"
     ]
    },
    {
     "name": "stdout",
     "output_type": "stream",
     "text": [
      "[\u001b[1m                py.warnings\u001b[0m][\u001b[1;33mWARNING\u001b[0m] - /home/runner/work/carsus/carsus/carsus/io/nist/ionization.py:248: FutureWarning: Setting an item of incompatible dtype is deprecated and will raise an error in a future version of pandas. Value '1S' has dtype incompatible with float64, please explicitly cast to a compatible dtype first.\n",
      "  lvl[\"term\"] = \"\".join([str(_) for _ in lvl_tokens[\"ls_term\"]])\n",
      " (\u001b[1mwarnings.py\u001b[0m:112)\n"
     ]
    },
    {
     "name": "stdout",
     "output_type": "stream",
     "text": [
      "[\u001b[1m                py.warnings\u001b[0m][\u001b[1;33mWARNING\u001b[0m] - /home/runner/work/carsus/carsus/carsus/io/nist/ionization.py:248: FutureWarning: Setting an item of incompatible dtype is deprecated and will raise an error in a future version of pandas. Value '2S' has dtype incompatible with float64, please explicitly cast to a compatible dtype first.\n",
      "  lvl[\"term\"] = \"\".join([str(_) for _ in lvl_tokens[\"ls_term\"]])\n",
      " (\u001b[1mwarnings.py\u001b[0m:112)\n"
     ]
    },
    {
     "name": "stdout",
     "output_type": "stream",
     "text": [
      "[\u001b[1m                py.warnings\u001b[0m][\u001b[1;33mWARNING\u001b[0m] - /home/runner/work/carsus/carsus/carsus/io/nist/ionization.py:248: FutureWarning: Setting an item of incompatible dtype is deprecated and will raise an error in a future version of pandas. Value '3P' has dtype incompatible with float64, please explicitly cast to a compatible dtype first.\n",
      "  lvl[\"term\"] = \"\".join([str(_) for _ in lvl_tokens[\"ls_term\"]])\n",
      " (\u001b[1mwarnings.py\u001b[0m:112)\n"
     ]
    },
    {
     "name": "stdout",
     "output_type": "stream",
     "text": [
      "[\u001b[1m                py.warnings\u001b[0m][\u001b[1;33mWARNING\u001b[0m] - /home/runner/work/carsus/carsus/carsus/io/nist/ionization.py:248: FutureWarning: Setting an item of incompatible dtype is deprecated and will raise an error in a future version of pandas. Value '4S' has dtype incompatible with float64, please explicitly cast to a compatible dtype first.\n",
      "  lvl[\"term\"] = \"\".join([str(_) for _ in lvl_tokens[\"ls_term\"]])\n",
      " (\u001b[1mwarnings.py\u001b[0m:112)\n"
     ]
    },
    {
     "name": "stdout",
     "output_type": "stream",
     "text": [
      "[\u001b[1m                py.warnings\u001b[0m][\u001b[1;33mWARNING\u001b[0m] - /home/runner/work/carsus/carsus/carsus/io/nist/ionization.py:248: FutureWarning: Setting an item of incompatible dtype is deprecated and will raise an error in a future version of pandas. Value '3P' has dtype incompatible with float64, please explicitly cast to a compatible dtype first.\n",
      "  lvl[\"term\"] = \"\".join([str(_) for _ in lvl_tokens[\"ls_term\"]])\n",
      " (\u001b[1mwarnings.py\u001b[0m:112)\n"
     ]
    },
    {
     "name": "stdout",
     "output_type": "stream",
     "text": [
      "[\u001b[1m                py.warnings\u001b[0m][\u001b[1;33mWARNING\u001b[0m] - /home/runner/work/carsus/carsus/carsus/io/nist/ionization.py:248: FutureWarning: Setting an item of incompatible dtype is deprecated and will raise an error in a future version of pandas. Value '2P' has dtype incompatible with float64, please explicitly cast to a compatible dtype first.\n",
      "  lvl[\"term\"] = \"\".join([str(_) for _ in lvl_tokens[\"ls_term\"]])\n",
      " (\u001b[1mwarnings.py\u001b[0m:112)\n"
     ]
    },
    {
     "name": "stdout",
     "output_type": "stream",
     "text": [
      "[\u001b[1m                py.warnings\u001b[0m][\u001b[1;33mWARNING\u001b[0m] - /home/runner/work/carsus/carsus/carsus/io/nist/ionization.py:248: FutureWarning: Setting an item of incompatible dtype is deprecated and will raise an error in a future version of pandas. Value '1S' has dtype incompatible with float64, please explicitly cast to a compatible dtype first.\n",
      "  lvl[\"term\"] = \"\".join([str(_) for _ in lvl_tokens[\"ls_term\"]])\n",
      " (\u001b[1mwarnings.py\u001b[0m:112)\n"
     ]
    },
    {
     "name": "stdout",
     "output_type": "stream",
     "text": [
      "[\u001b[1m                py.warnings\u001b[0m][\u001b[1;33mWARNING\u001b[0m] - /home/runner/work/carsus/carsus/carsus/io/nist/ionization.py:248: FutureWarning: Setting an item of incompatible dtype is deprecated and will raise an error in a future version of pandas. Value '2S' has dtype incompatible with float64, please explicitly cast to a compatible dtype first.\n",
      "  lvl[\"term\"] = \"\".join([str(_) for _ in lvl_tokens[\"ls_term\"]])\n",
      " (\u001b[1mwarnings.py\u001b[0m:112)\n"
     ]
    },
    {
     "name": "stdout",
     "output_type": "stream",
     "text": [
      "[\u001b[1m                py.warnings\u001b[0m][\u001b[1;33mWARNING\u001b[0m] - /home/runner/work/carsus/carsus/carsus/io/nist/ionization.py:248: FutureWarning: Setting an item of incompatible dtype is deprecated and will raise an error in a future version of pandas. Value '1S' has dtype incompatible with float64, please explicitly cast to a compatible dtype first.\n",
      "  lvl[\"term\"] = \"\".join([str(_) for _ in lvl_tokens[\"ls_term\"]])\n",
      " (\u001b[1mwarnings.py\u001b[0m:112)\n"
     ]
    },
    {
     "name": "stdout",
     "output_type": "stream",
     "text": [
      "[\u001b[1m                py.warnings\u001b[0m][\u001b[1;33mWARNING\u001b[0m] - /home/runner/work/carsus/carsus/carsus/io/nist/ionization.py:248: FutureWarning: Setting an item of incompatible dtype is deprecated and will raise an error in a future version of pandas. Value '2P' has dtype incompatible with float64, please explicitly cast to a compatible dtype first.\n",
      "  lvl[\"term\"] = \"\".join([str(_) for _ in lvl_tokens[\"ls_term\"]])\n",
      " (\u001b[1mwarnings.py\u001b[0m:112)\n"
     ]
    },
    {
     "name": "stdout",
     "output_type": "stream",
     "text": [
      "[\u001b[1m                py.warnings\u001b[0m][\u001b[1;33mWARNING\u001b[0m] - /home/runner/work/carsus/carsus/carsus/io/nist/ionization.py:248: FutureWarning: Setting an item of incompatible dtype is deprecated and will raise an error in a future version of pandas. Value '3P' has dtype incompatible with float64, please explicitly cast to a compatible dtype first.\n",
      "  lvl[\"term\"] = \"\".join([str(_) for _ in lvl_tokens[\"ls_term\"]])\n",
      " (\u001b[1mwarnings.py\u001b[0m:112)\n"
     ]
    },
    {
     "name": "stdout",
     "output_type": "stream",
     "text": [
      "[\u001b[1m                py.warnings\u001b[0m][\u001b[1;33mWARNING\u001b[0m] - /home/runner/work/carsus/carsus/carsus/io/nist/ionization.py:248: FutureWarning: Setting an item of incompatible dtype is deprecated and will raise an error in a future version of pandas. Value '4S' has dtype incompatible with float64, please explicitly cast to a compatible dtype first.\n",
      "  lvl[\"term\"] = \"\".join([str(_) for _ in lvl_tokens[\"ls_term\"]])\n",
      " (\u001b[1mwarnings.py\u001b[0m:112)\n"
     ]
    },
    {
     "name": "stdout",
     "output_type": "stream",
     "text": [
      "[\u001b[1m                py.warnings\u001b[0m][\u001b[1;33mWARNING\u001b[0m] - /home/runner/work/carsus/carsus/carsus/io/nist/ionization.py:248: FutureWarning: Setting an item of incompatible dtype is deprecated and will raise an error in a future version of pandas. Value '3P' has dtype incompatible with float64, please explicitly cast to a compatible dtype first.\n",
      "  lvl[\"term\"] = \"\".join([str(_) for _ in lvl_tokens[\"ls_term\"]])\n",
      " (\u001b[1mwarnings.py\u001b[0m:112)\n"
     ]
    },
    {
     "name": "stdout",
     "output_type": "stream",
     "text": [
      "[\u001b[1m                py.warnings\u001b[0m][\u001b[1;33mWARNING\u001b[0m] - /home/runner/work/carsus/carsus/carsus/io/nist/ionization.py:248: FutureWarning: Setting an item of incompatible dtype is deprecated and will raise an error in a future version of pandas. Value '2P' has dtype incompatible with float64, please explicitly cast to a compatible dtype first.\n",
      "  lvl[\"term\"] = \"\".join([str(_) for _ in lvl_tokens[\"ls_term\"]])\n",
      " (\u001b[1mwarnings.py\u001b[0m:112)\n"
     ]
    },
    {
     "name": "stdout",
     "output_type": "stream",
     "text": [
      "[\u001b[1m                py.warnings\u001b[0m][\u001b[1;33mWARNING\u001b[0m] - /home/runner/work/carsus/carsus/carsus/io/nist/ionization.py:248: FutureWarning: Setting an item of incompatible dtype is deprecated and will raise an error in a future version of pandas. Value '1S' has dtype incompatible with float64, please explicitly cast to a compatible dtype first.\n",
      "  lvl[\"term\"] = \"\".join([str(_) for _ in lvl_tokens[\"ls_term\"]])\n",
      " (\u001b[1mwarnings.py\u001b[0m:112)\n"
     ]
    },
    {
     "name": "stdout",
     "output_type": "stream",
     "text": [
      "[\u001b[1m                py.warnings\u001b[0m][\u001b[1;33mWARNING\u001b[0m] - /home/runner/work/carsus/carsus/carsus/io/nist/ionization.py:248: FutureWarning: Setting an item of incompatible dtype is deprecated and will raise an error in a future version of pandas. Value '2S' has dtype incompatible with float64, please explicitly cast to a compatible dtype first.\n",
      "  lvl[\"term\"] = \"\".join([str(_) for _ in lvl_tokens[\"ls_term\"]])\n",
      " (\u001b[1mwarnings.py\u001b[0m:112)\n"
     ]
    },
    {
     "name": "stdout",
     "output_type": "stream",
     "text": [
      "[\u001b[1m                py.warnings\u001b[0m][\u001b[1;33mWARNING\u001b[0m] - /home/runner/work/carsus/carsus/carsus/io/nist/ionization.py:248: FutureWarning: Setting an item of incompatible dtype is deprecated and will raise an error in a future version of pandas. Value '1S' has dtype incompatible with float64, please explicitly cast to a compatible dtype first.\n",
      "  lvl[\"term\"] = \"\".join([str(_) for _ in lvl_tokens[\"ls_term\"]])\n",
      " (\u001b[1mwarnings.py\u001b[0m:112)\n"
     ]
    },
    {
     "name": "stdout",
     "output_type": "stream",
     "text": [
      "[\u001b[1m                py.warnings\u001b[0m][\u001b[1;33mWARNING\u001b[0m] - /home/runner/work/carsus/carsus/carsus/io/nist/ionization.py:248: FutureWarning: Setting an item of incompatible dtype is deprecated and will raise an error in a future version of pandas. Value '2S' has dtype incompatible with float64, please explicitly cast to a compatible dtype first.\n",
      "  lvl[\"term\"] = \"\".join([str(_) for _ in lvl_tokens[\"ls_term\"]])\n",
      " (\u001b[1mwarnings.py\u001b[0m:112)\n"
     ]
    },
    {
     "name": "stdout",
     "output_type": "stream",
     "text": [
      "[\u001b[1m                py.warnings\u001b[0m][\u001b[1;33mWARNING\u001b[0m] - /home/runner/work/carsus/carsus/carsus/io/nist/ionization.py:248: FutureWarning: Setting an item of incompatible dtype is deprecated and will raise an error in a future version of pandas. Value '2P' has dtype incompatible with float64, please explicitly cast to a compatible dtype first.\n",
      "  lvl[\"term\"] = \"\".join([str(_) for _ in lvl_tokens[\"ls_term\"]])\n",
      " (\u001b[1mwarnings.py\u001b[0m:112)\n"
     ]
    },
    {
     "name": "stdout",
     "output_type": "stream",
     "text": [
      "[\u001b[1m                py.warnings\u001b[0m][\u001b[1;33mWARNING\u001b[0m] - /home/runner/work/carsus/carsus/carsus/io/nist/ionization.py:248: FutureWarning: Setting an item of incompatible dtype is deprecated and will raise an error in a future version of pandas. Value '3P' has dtype incompatible with float64, please explicitly cast to a compatible dtype first.\n",
      "  lvl[\"term\"] = \"\".join([str(_) for _ in lvl_tokens[\"ls_term\"]])\n",
      " (\u001b[1mwarnings.py\u001b[0m:112)\n"
     ]
    },
    {
     "name": "stdout",
     "output_type": "stream",
     "text": [
      "[\u001b[1m                py.warnings\u001b[0m][\u001b[1;33mWARNING\u001b[0m] - /home/runner/work/carsus/carsus/carsus/io/nist/ionization.py:248: FutureWarning: Setting an item of incompatible dtype is deprecated and will raise an error in a future version of pandas. Value '4S' has dtype incompatible with float64, please explicitly cast to a compatible dtype first.\n",
      "  lvl[\"term\"] = \"\".join([str(_) for _ in lvl_tokens[\"ls_term\"]])\n",
      " (\u001b[1mwarnings.py\u001b[0m:112)\n"
     ]
    },
    {
     "name": "stdout",
     "output_type": "stream",
     "text": [
      "[\u001b[1m                py.warnings\u001b[0m][\u001b[1;33mWARNING\u001b[0m] - /home/runner/work/carsus/carsus/carsus/io/nist/ionization.py:248: FutureWarning: Setting an item of incompatible dtype is deprecated and will raise an error in a future version of pandas. Value '3P' has dtype incompatible with float64, please explicitly cast to a compatible dtype first.\n",
      "  lvl[\"term\"] = \"\".join([str(_) for _ in lvl_tokens[\"ls_term\"]])\n",
      " (\u001b[1mwarnings.py\u001b[0m:112)\n"
     ]
    },
    {
     "name": "stdout",
     "output_type": "stream",
     "text": [
      "[\u001b[1m                py.warnings\u001b[0m][\u001b[1;33mWARNING\u001b[0m] - /home/runner/work/carsus/carsus/carsus/io/nist/ionization.py:248: FutureWarning: Setting an item of incompatible dtype is deprecated and will raise an error in a future version of pandas. Value '2P' has dtype incompatible with float64, please explicitly cast to a compatible dtype first.\n",
      "  lvl[\"term\"] = \"\".join([str(_) for _ in lvl_tokens[\"ls_term\"]])\n",
      " (\u001b[1mwarnings.py\u001b[0m:112)\n"
     ]
    },
    {
     "name": "stdout",
     "output_type": "stream",
     "text": [
      "[\u001b[1m                py.warnings\u001b[0m][\u001b[1;33mWARNING\u001b[0m] - /home/runner/work/carsus/carsus/carsus/io/nist/ionization.py:248: FutureWarning: Setting an item of incompatible dtype is deprecated and will raise an error in a future version of pandas. Value '1S' has dtype incompatible with float64, please explicitly cast to a compatible dtype first.\n",
      "  lvl[\"term\"] = \"\".join([str(_) for _ in lvl_tokens[\"ls_term\"]])\n",
      " (\u001b[1mwarnings.py\u001b[0m:112)\n"
     ]
    },
    {
     "name": "stdout",
     "output_type": "stream",
     "text": [
      "[\u001b[1m                py.warnings\u001b[0m][\u001b[1;33mWARNING\u001b[0m] - /home/runner/work/carsus/carsus/carsus/io/nist/ionization.py:248: FutureWarning: Setting an item of incompatible dtype is deprecated and will raise an error in a future version of pandas. Value '2S' has dtype incompatible with float64, please explicitly cast to a compatible dtype first.\n",
      "  lvl[\"term\"] = \"\".join([str(_) for _ in lvl_tokens[\"ls_term\"]])\n",
      " (\u001b[1mwarnings.py\u001b[0m:112)\n"
     ]
    },
    {
     "name": "stdout",
     "output_type": "stream",
     "text": [
      "[\u001b[1m                py.warnings\u001b[0m][\u001b[1;33mWARNING\u001b[0m] - /home/runner/work/carsus/carsus/carsus/io/nist/ionization.py:248: FutureWarning: Setting an item of incompatible dtype is deprecated and will raise an error in a future version of pandas. Value '1S' has dtype incompatible with float64, please explicitly cast to a compatible dtype first.\n",
      "  lvl[\"term\"] = \"\".join([str(_) for _ in lvl_tokens[\"ls_term\"]])\n",
      " (\u001b[1mwarnings.py\u001b[0m:112)\n"
     ]
    },
    {
     "name": "stdout",
     "output_type": "stream",
     "text": [
      "[\u001b[1m                py.warnings\u001b[0m][\u001b[1;33mWARNING\u001b[0m] - /home/runner/work/carsus/carsus/carsus/io/nist/ionization.py:248: FutureWarning: Setting an item of incompatible dtype is deprecated and will raise an error in a future version of pandas. Value '2P' has dtype incompatible with float64, please explicitly cast to a compatible dtype first.\n",
      "  lvl[\"term\"] = \"\".join([str(_) for _ in lvl_tokens[\"ls_term\"]])\n",
      " (\u001b[1mwarnings.py\u001b[0m:112)\n"
     ]
    },
    {
     "name": "stdout",
     "output_type": "stream",
     "text": [
      "[\u001b[1m                py.warnings\u001b[0m][\u001b[1;33mWARNING\u001b[0m] - /home/runner/work/carsus/carsus/carsus/io/nist/ionization.py:248: FutureWarning: Setting an item of incompatible dtype is deprecated and will raise an error in a future version of pandas. Value '3P' has dtype incompatible with float64, please explicitly cast to a compatible dtype first.\n",
      "  lvl[\"term\"] = \"\".join([str(_) for _ in lvl_tokens[\"ls_term\"]])\n",
      " (\u001b[1mwarnings.py\u001b[0m:112)\n"
     ]
    },
    {
     "name": "stdout",
     "output_type": "stream",
     "text": [
      "[\u001b[1m                py.warnings\u001b[0m][\u001b[1;33mWARNING\u001b[0m] - /home/runner/work/carsus/carsus/carsus/io/nist/ionization.py:248: FutureWarning: Setting an item of incompatible dtype is deprecated and will raise an error in a future version of pandas. Value '4S' has dtype incompatible with float64, please explicitly cast to a compatible dtype first.\n",
      "  lvl[\"term\"] = \"\".join([str(_) for _ in lvl_tokens[\"ls_term\"]])\n",
      " (\u001b[1mwarnings.py\u001b[0m:112)\n"
     ]
    },
    {
     "name": "stdout",
     "output_type": "stream",
     "text": [
      "[\u001b[1m                py.warnings\u001b[0m][\u001b[1;33mWARNING\u001b[0m] - /home/runner/work/carsus/carsus/carsus/io/nist/ionization.py:248: FutureWarning: Setting an item of incompatible dtype is deprecated and will raise an error in a future version of pandas. Value '3P' has dtype incompatible with float64, please explicitly cast to a compatible dtype first.\n",
      "  lvl[\"term\"] = \"\".join([str(_) for _ in lvl_tokens[\"ls_term\"]])\n",
      " (\u001b[1mwarnings.py\u001b[0m:112)\n"
     ]
    },
    {
     "name": "stdout",
     "output_type": "stream",
     "text": [
      "[\u001b[1m                py.warnings\u001b[0m][\u001b[1;33mWARNING\u001b[0m] - /home/runner/work/carsus/carsus/carsus/io/nist/ionization.py:248: FutureWarning: Setting an item of incompatible dtype is deprecated and will raise an error in a future version of pandas. Value '2P' has dtype incompatible with float64, please explicitly cast to a compatible dtype first.\n",
      "  lvl[\"term\"] = \"\".join([str(_) for _ in lvl_tokens[\"ls_term\"]])\n",
      " (\u001b[1mwarnings.py\u001b[0m:112)\n"
     ]
    },
    {
     "name": "stdout",
     "output_type": "stream",
     "text": [
      "[\u001b[1m                py.warnings\u001b[0m][\u001b[1;33mWARNING\u001b[0m] - /home/runner/work/carsus/carsus/carsus/io/nist/ionization.py:248: FutureWarning: Setting an item of incompatible dtype is deprecated and will raise an error in a future version of pandas. Value '1S' has dtype incompatible with float64, please explicitly cast to a compatible dtype first.\n",
      "  lvl[\"term\"] = \"\".join([str(_) for _ in lvl_tokens[\"ls_term\"]])\n",
      " (\u001b[1mwarnings.py\u001b[0m:112)\n"
     ]
    },
    {
     "name": "stdout",
     "output_type": "stream",
     "text": [
      "[\u001b[1m                py.warnings\u001b[0m][\u001b[1;33mWARNING\u001b[0m] - /home/runner/work/carsus/carsus/carsus/io/nist/ionization.py:248: FutureWarning: Setting an item of incompatible dtype is deprecated and will raise an error in a future version of pandas. Value '2S' has dtype incompatible with float64, please explicitly cast to a compatible dtype first.\n",
      "  lvl[\"term\"] = \"\".join([str(_) for _ in lvl_tokens[\"ls_term\"]])\n",
      " (\u001b[1mwarnings.py\u001b[0m:112)\n"
     ]
    },
    {
     "name": "stdout",
     "output_type": "stream",
     "text": [
      "[\u001b[1m                py.warnings\u001b[0m][\u001b[1;33mWARNING\u001b[0m] - /home/runner/work/carsus/carsus/carsus/io/nist/ionization.py:248: FutureWarning: Setting an item of incompatible dtype is deprecated and will raise an error in a future version of pandas. Value '1S' has dtype incompatible with float64, please explicitly cast to a compatible dtype first.\n",
      "  lvl[\"term\"] = \"\".join([str(_) for _ in lvl_tokens[\"ls_term\"]])\n",
      " (\u001b[1mwarnings.py\u001b[0m:112)\n"
     ]
    },
    {
     "name": "stdout",
     "output_type": "stream",
     "text": [
      "[\u001b[1m                py.warnings\u001b[0m][\u001b[1;33mWARNING\u001b[0m] - /home/runner/work/carsus/carsus/carsus/io/nist/ionization.py:248: FutureWarning: Setting an item of incompatible dtype is deprecated and will raise an error in a future version of pandas. Value '2S' has dtype incompatible with float64, please explicitly cast to a compatible dtype first.\n",
      "  lvl[\"term\"] = \"\".join([str(_) for _ in lvl_tokens[\"ls_term\"]])\n",
      " (\u001b[1mwarnings.py\u001b[0m:112)\n"
     ]
    },
    {
     "name": "stdout",
     "output_type": "stream",
     "text": [
      "[\u001b[1m                py.warnings\u001b[0m][\u001b[1;33mWARNING\u001b[0m] - /home/runner/work/carsus/carsus/carsus/io/nist/ionization.py:248: FutureWarning: Setting an item of incompatible dtype is deprecated and will raise an error in a future version of pandas. Value '1S' has dtype incompatible with float64, please explicitly cast to a compatible dtype first.\n",
      "  lvl[\"term\"] = \"\".join([str(_) for _ in lvl_tokens[\"ls_term\"]])\n",
      " (\u001b[1mwarnings.py\u001b[0m:112)\n"
     ]
    },
    {
     "name": "stdout",
     "output_type": "stream",
     "text": [
      "[\u001b[1m                py.warnings\u001b[0m][\u001b[1;33mWARNING\u001b[0m] - /home/runner/work/carsus/carsus/carsus/io/nist/ionization.py:248: FutureWarning: Setting an item of incompatible dtype is deprecated and will raise an error in a future version of pandas. Value '2P' has dtype incompatible with float64, please explicitly cast to a compatible dtype first.\n",
      "  lvl[\"term\"] = \"\".join([str(_) for _ in lvl_tokens[\"ls_term\"]])\n",
      " (\u001b[1mwarnings.py\u001b[0m:112)\n"
     ]
    },
    {
     "name": "stdout",
     "output_type": "stream",
     "text": [
      "[\u001b[1m                py.warnings\u001b[0m][\u001b[1;33mWARNING\u001b[0m] - /home/runner/work/carsus/carsus/carsus/io/nist/ionization.py:248: FutureWarning: Setting an item of incompatible dtype is deprecated and will raise an error in a future version of pandas. Value '3P' has dtype incompatible with float64, please explicitly cast to a compatible dtype first.\n",
      "  lvl[\"term\"] = \"\".join([str(_) for _ in lvl_tokens[\"ls_term\"]])\n",
      " (\u001b[1mwarnings.py\u001b[0m:112)\n"
     ]
    },
    {
     "name": "stdout",
     "output_type": "stream",
     "text": [
      "[\u001b[1m                py.warnings\u001b[0m][\u001b[1;33mWARNING\u001b[0m] - /home/runner/work/carsus/carsus/carsus/io/nist/ionization.py:248: FutureWarning: Setting an item of incompatible dtype is deprecated and will raise an error in a future version of pandas. Value '4S' has dtype incompatible with float64, please explicitly cast to a compatible dtype first.\n",
      "  lvl[\"term\"] = \"\".join([str(_) for _ in lvl_tokens[\"ls_term\"]])\n",
      " (\u001b[1mwarnings.py\u001b[0m:112)\n"
     ]
    },
    {
     "name": "stdout",
     "output_type": "stream",
     "text": [
      "[\u001b[1m                py.warnings\u001b[0m][\u001b[1;33mWARNING\u001b[0m] - /home/runner/work/carsus/carsus/carsus/io/nist/ionization.py:248: FutureWarning: Setting an item of incompatible dtype is deprecated and will raise an error in a future version of pandas. Value '3P' has dtype incompatible with float64, please explicitly cast to a compatible dtype first.\n",
      "  lvl[\"term\"] = \"\".join([str(_) for _ in lvl_tokens[\"ls_term\"]])\n",
      " (\u001b[1mwarnings.py\u001b[0m:112)\n"
     ]
    },
    {
     "name": "stdout",
     "output_type": "stream",
     "text": [
      "[\u001b[1m                py.warnings\u001b[0m][\u001b[1;33mWARNING\u001b[0m] - /home/runner/work/carsus/carsus/carsus/io/nist/ionization.py:248: FutureWarning: Setting an item of incompatible dtype is deprecated and will raise an error in a future version of pandas. Value '2P' has dtype incompatible with float64, please explicitly cast to a compatible dtype first.\n",
      "  lvl[\"term\"] = \"\".join([str(_) for _ in lvl_tokens[\"ls_term\"]])\n",
      " (\u001b[1mwarnings.py\u001b[0m:112)\n"
     ]
    },
    {
     "name": "stdout",
     "output_type": "stream",
     "text": [
      "[\u001b[1m                py.warnings\u001b[0m][\u001b[1;33mWARNING\u001b[0m] - /home/runner/work/carsus/carsus/carsus/io/nist/ionization.py:248: FutureWarning: Setting an item of incompatible dtype is deprecated and will raise an error in a future version of pandas. Value '1S' has dtype incompatible with float64, please explicitly cast to a compatible dtype first.\n",
      "  lvl[\"term\"] = \"\".join([str(_) for _ in lvl_tokens[\"ls_term\"]])\n",
      " (\u001b[1mwarnings.py\u001b[0m:112)\n"
     ]
    },
    {
     "name": "stdout",
     "output_type": "stream",
     "text": [
      "[\u001b[1m                py.warnings\u001b[0m][\u001b[1;33mWARNING\u001b[0m] - /home/runner/work/carsus/carsus/carsus/io/nist/ionization.py:248: FutureWarning: Setting an item of incompatible dtype is deprecated and will raise an error in a future version of pandas. Value '2S' has dtype incompatible with float64, please explicitly cast to a compatible dtype first.\n",
      "  lvl[\"term\"] = \"\".join([str(_) for _ in lvl_tokens[\"ls_term\"]])\n",
      " (\u001b[1mwarnings.py\u001b[0m:112)\n"
     ]
    },
    {
     "name": "stdout",
     "output_type": "stream",
     "text": [
      "[\u001b[1m                py.warnings\u001b[0m][\u001b[1;33mWARNING\u001b[0m] - /home/runner/work/carsus/carsus/carsus/io/nist/ionization.py:248: FutureWarning: Setting an item of incompatible dtype is deprecated and will raise an error in a future version of pandas. Value '1S' has dtype incompatible with float64, please explicitly cast to a compatible dtype first.\n",
      "  lvl[\"term\"] = \"\".join([str(_) for _ in lvl_tokens[\"ls_term\"]])\n",
      " (\u001b[1mwarnings.py\u001b[0m:112)\n"
     ]
    },
    {
     "name": "stdout",
     "output_type": "stream",
     "text": [
      "[\u001b[1m                py.warnings\u001b[0m][\u001b[1;33mWARNING\u001b[0m] - /home/runner/work/carsus/carsus/carsus/io/nist/ionization.py:248: FutureWarning: Setting an item of incompatible dtype is deprecated and will raise an error in a future version of pandas. Value '2P' has dtype incompatible with float64, please explicitly cast to a compatible dtype first.\n",
      "  lvl[\"term\"] = \"\".join([str(_) for _ in lvl_tokens[\"ls_term\"]])\n",
      " (\u001b[1mwarnings.py\u001b[0m:112)\n"
     ]
    },
    {
     "name": "stdout",
     "output_type": "stream",
     "text": [
      "[\u001b[1m                py.warnings\u001b[0m][\u001b[1;33mWARNING\u001b[0m] - /home/runner/work/carsus/carsus/carsus/io/nist/ionization.py:248: FutureWarning: Setting an item of incompatible dtype is deprecated and will raise an error in a future version of pandas. Value '3P' has dtype incompatible with float64, please explicitly cast to a compatible dtype first.\n",
      "  lvl[\"term\"] = \"\".join([str(_) for _ in lvl_tokens[\"ls_term\"]])\n",
      " (\u001b[1mwarnings.py\u001b[0m:112)\n"
     ]
    },
    {
     "name": "stdout",
     "output_type": "stream",
     "text": [
      "[\u001b[1m                py.warnings\u001b[0m][\u001b[1;33mWARNING\u001b[0m] - /home/runner/work/carsus/carsus/carsus/io/nist/ionization.py:248: FutureWarning: Setting an item of incompatible dtype is deprecated and will raise an error in a future version of pandas. Value '4S' has dtype incompatible with float64, please explicitly cast to a compatible dtype first.\n",
      "  lvl[\"term\"] = \"\".join([str(_) for _ in lvl_tokens[\"ls_term\"]])\n",
      " (\u001b[1mwarnings.py\u001b[0m:112)\n"
     ]
    },
    {
     "name": "stdout",
     "output_type": "stream",
     "text": [
      "[\u001b[1m                py.warnings\u001b[0m][\u001b[1;33mWARNING\u001b[0m] - /home/runner/work/carsus/carsus/carsus/io/nist/ionization.py:248: FutureWarning: Setting an item of incompatible dtype is deprecated and will raise an error in a future version of pandas. Value '3P' has dtype incompatible with float64, please explicitly cast to a compatible dtype first.\n",
      "  lvl[\"term\"] = \"\".join([str(_) for _ in lvl_tokens[\"ls_term\"]])\n",
      " (\u001b[1mwarnings.py\u001b[0m:112)\n"
     ]
    },
    {
     "name": "stdout",
     "output_type": "stream",
     "text": [
      "[\u001b[1m                py.warnings\u001b[0m][\u001b[1;33mWARNING\u001b[0m] - /home/runner/work/carsus/carsus/carsus/io/nist/ionization.py:248: FutureWarning: Setting an item of incompatible dtype is deprecated and will raise an error in a future version of pandas. Value '2P' has dtype incompatible with float64, please explicitly cast to a compatible dtype first.\n",
      "  lvl[\"term\"] = \"\".join([str(_) for _ in lvl_tokens[\"ls_term\"]])\n",
      " (\u001b[1mwarnings.py\u001b[0m:112)\n"
     ]
    },
    {
     "name": "stdout",
     "output_type": "stream",
     "text": [
      "[\u001b[1m                py.warnings\u001b[0m][\u001b[1;33mWARNING\u001b[0m] - /home/runner/work/carsus/carsus/carsus/io/nist/ionization.py:248: FutureWarning: Setting an item of incompatible dtype is deprecated and will raise an error in a future version of pandas. Value '1S' has dtype incompatible with float64, please explicitly cast to a compatible dtype first.\n",
      "  lvl[\"term\"] = \"\".join([str(_) for _ in lvl_tokens[\"ls_term\"]])\n",
      " (\u001b[1mwarnings.py\u001b[0m:112)\n"
     ]
    },
    {
     "name": "stdout",
     "output_type": "stream",
     "text": [
      "[\u001b[1m                py.warnings\u001b[0m][\u001b[1;33mWARNING\u001b[0m] - /home/runner/work/carsus/carsus/carsus/io/nist/ionization.py:248: FutureWarning: Setting an item of incompatible dtype is deprecated and will raise an error in a future version of pandas. Value '2S' has dtype incompatible with float64, please explicitly cast to a compatible dtype first.\n",
      "  lvl[\"term\"] = \"\".join([str(_) for _ in lvl_tokens[\"ls_term\"]])\n",
      " (\u001b[1mwarnings.py\u001b[0m:112)\n"
     ]
    },
    {
     "name": "stdout",
     "output_type": "stream",
     "text": [
      "[\u001b[1m                py.warnings\u001b[0m][\u001b[1;33mWARNING\u001b[0m] - /home/runner/work/carsus/carsus/carsus/io/nist/ionization.py:248: FutureWarning: Setting an item of incompatible dtype is deprecated and will raise an error in a future version of pandas. Value '1S' has dtype incompatible with float64, please explicitly cast to a compatible dtype first.\n",
      "  lvl[\"term\"] = \"\".join([str(_) for _ in lvl_tokens[\"ls_term\"]])\n",
      " (\u001b[1mwarnings.py\u001b[0m:112)\n"
     ]
    },
    {
     "name": "stdout",
     "output_type": "stream",
     "text": [
      "[\u001b[1m                py.warnings\u001b[0m][\u001b[1;33mWARNING\u001b[0m] - /home/runner/work/carsus/carsus/carsus/io/nist/ionization.py:248: FutureWarning: Setting an item of incompatible dtype is deprecated and will raise an error in a future version of pandas. Value '2S' has dtype incompatible with float64, please explicitly cast to a compatible dtype first.\n",
      "  lvl[\"term\"] = \"\".join([str(_) for _ in lvl_tokens[\"ls_term\"]])\n",
      " (\u001b[1mwarnings.py\u001b[0m:112)\n"
     ]
    },
    {
     "name": "stdout",
     "output_type": "stream",
     "text": [
      "[\u001b[1m                py.warnings\u001b[0m][\u001b[1;33mWARNING\u001b[0m] - /home/runner/work/carsus/carsus/carsus/io/nist/ionization.py:248: FutureWarning: Setting an item of incompatible dtype is deprecated and will raise an error in a future version of pandas. Value '2S' has dtype incompatible with float64, please explicitly cast to a compatible dtype first.\n",
      "  lvl[\"term\"] = \"\".join([str(_) for _ in lvl_tokens[\"ls_term\"]])\n",
      " (\u001b[1mwarnings.py\u001b[0m:112)\n"
     ]
    },
    {
     "name": "stdout",
     "output_type": "stream",
     "text": [
      "[\u001b[1m                py.warnings\u001b[0m][\u001b[1;33mWARNING\u001b[0m] - /home/runner/work/carsus/carsus/carsus/io/nist/ionization.py:248: FutureWarning: Setting an item of incompatible dtype is deprecated and will raise an error in a future version of pandas. Value '1S' has dtype incompatible with float64, please explicitly cast to a compatible dtype first.\n",
      "  lvl[\"term\"] = \"\".join([str(_) for _ in lvl_tokens[\"ls_term\"]])\n",
      " (\u001b[1mwarnings.py\u001b[0m:112)\n"
     ]
    },
    {
     "name": "stdout",
     "output_type": "stream",
     "text": [
      "[\u001b[1m                py.warnings\u001b[0m][\u001b[1;33mWARNING\u001b[0m] - /home/runner/work/carsus/carsus/carsus/io/nist/ionization.py:248: FutureWarning: Setting an item of incompatible dtype is deprecated and will raise an error in a future version of pandas. Value '2P' has dtype incompatible with float64, please explicitly cast to a compatible dtype first.\n",
      "  lvl[\"term\"] = \"\".join([str(_) for _ in lvl_tokens[\"ls_term\"]])\n",
      " (\u001b[1mwarnings.py\u001b[0m:112)\n"
     ]
    },
    {
     "name": "stdout",
     "output_type": "stream",
     "text": [
      "[\u001b[1m                py.warnings\u001b[0m][\u001b[1;33mWARNING\u001b[0m] - /home/runner/work/carsus/carsus/carsus/io/nist/ionization.py:248: FutureWarning: Setting an item of incompatible dtype is deprecated and will raise an error in a future version of pandas. Value '3P' has dtype incompatible with float64, please explicitly cast to a compatible dtype first.\n",
      "  lvl[\"term\"] = \"\".join([str(_) for _ in lvl_tokens[\"ls_term\"]])\n",
      " (\u001b[1mwarnings.py\u001b[0m:112)\n"
     ]
    },
    {
     "name": "stdout",
     "output_type": "stream",
     "text": [
      "[\u001b[1m                py.warnings\u001b[0m][\u001b[1;33mWARNING\u001b[0m] - /home/runner/work/carsus/carsus/carsus/io/nist/ionization.py:248: FutureWarning: Setting an item of incompatible dtype is deprecated and will raise an error in a future version of pandas. Value '4S' has dtype incompatible with float64, please explicitly cast to a compatible dtype first.\n",
      "  lvl[\"term\"] = \"\".join([str(_) for _ in lvl_tokens[\"ls_term\"]])\n",
      " (\u001b[1mwarnings.py\u001b[0m:112)\n"
     ]
    },
    {
     "name": "stdout",
     "output_type": "stream",
     "text": [
      "[\u001b[1m                py.warnings\u001b[0m][\u001b[1;33mWARNING\u001b[0m] - /home/runner/work/carsus/carsus/carsus/io/nist/ionization.py:248: FutureWarning: Setting an item of incompatible dtype is deprecated and will raise an error in a future version of pandas. Value '3P' has dtype incompatible with float64, please explicitly cast to a compatible dtype first.\n",
      "  lvl[\"term\"] = \"\".join([str(_) for _ in lvl_tokens[\"ls_term\"]])\n",
      " (\u001b[1mwarnings.py\u001b[0m:112)\n"
     ]
    },
    {
     "name": "stdout",
     "output_type": "stream",
     "text": [
      "[\u001b[1m                py.warnings\u001b[0m][\u001b[1;33mWARNING\u001b[0m] - /home/runner/work/carsus/carsus/carsus/io/nist/ionization.py:248: FutureWarning: Setting an item of incompatible dtype is deprecated and will raise an error in a future version of pandas. Value '2P' has dtype incompatible with float64, please explicitly cast to a compatible dtype first.\n",
      "  lvl[\"term\"] = \"\".join([str(_) for _ in lvl_tokens[\"ls_term\"]])\n",
      " (\u001b[1mwarnings.py\u001b[0m:112)\n"
     ]
    },
    {
     "name": "stdout",
     "output_type": "stream",
     "text": [
      "[\u001b[1m                py.warnings\u001b[0m][\u001b[1;33mWARNING\u001b[0m] - /home/runner/work/carsus/carsus/carsus/io/nist/ionization.py:248: FutureWarning: Setting an item of incompatible dtype is deprecated and will raise an error in a future version of pandas. Value '1S' has dtype incompatible with float64, please explicitly cast to a compatible dtype first.\n",
      "  lvl[\"term\"] = \"\".join([str(_) for _ in lvl_tokens[\"ls_term\"]])\n",
      " (\u001b[1mwarnings.py\u001b[0m:112)\n"
     ]
    },
    {
     "name": "stdout",
     "output_type": "stream",
     "text": [
      "[\u001b[1m                py.warnings\u001b[0m][\u001b[1;33mWARNING\u001b[0m] - /home/runner/work/carsus/carsus/carsus/io/nist/ionization.py:248: FutureWarning: Setting an item of incompatible dtype is deprecated and will raise an error in a future version of pandas. Value '2S' has dtype incompatible with float64, please explicitly cast to a compatible dtype first.\n",
      "  lvl[\"term\"] = \"\".join([str(_) for _ in lvl_tokens[\"ls_term\"]])\n",
      " (\u001b[1mwarnings.py\u001b[0m:112)\n"
     ]
    },
    {
     "name": "stdout",
     "output_type": "stream",
     "text": [
      "[\u001b[1m                py.warnings\u001b[0m][\u001b[1;33mWARNING\u001b[0m] - /home/runner/work/carsus/carsus/carsus/io/nist/ionization.py:248: FutureWarning: Setting an item of incompatible dtype is deprecated and will raise an error in a future version of pandas. Value '1S' has dtype incompatible with float64, please explicitly cast to a compatible dtype first.\n",
      "  lvl[\"term\"] = \"\".join([str(_) for _ in lvl_tokens[\"ls_term\"]])\n",
      " (\u001b[1mwarnings.py\u001b[0m:112)\n"
     ]
    },
    {
     "name": "stdout",
     "output_type": "stream",
     "text": [
      "[\u001b[1m                py.warnings\u001b[0m][\u001b[1;33mWARNING\u001b[0m] - /home/runner/work/carsus/carsus/carsus/io/nist/ionization.py:248: FutureWarning: Setting an item of incompatible dtype is deprecated and will raise an error in a future version of pandas. Value '2P' has dtype incompatible with float64, please explicitly cast to a compatible dtype first.\n",
      "  lvl[\"term\"] = \"\".join([str(_) for _ in lvl_tokens[\"ls_term\"]])\n",
      " (\u001b[1mwarnings.py\u001b[0m:112)\n"
     ]
    },
    {
     "name": "stdout",
     "output_type": "stream",
     "text": [
      "[\u001b[1m                py.warnings\u001b[0m][\u001b[1;33mWARNING\u001b[0m] - /home/runner/work/carsus/carsus/carsus/io/nist/ionization.py:248: FutureWarning: Setting an item of incompatible dtype is deprecated and will raise an error in a future version of pandas. Value '3P' has dtype incompatible with float64, please explicitly cast to a compatible dtype first.\n",
      "  lvl[\"term\"] = \"\".join([str(_) for _ in lvl_tokens[\"ls_term\"]])\n",
      " (\u001b[1mwarnings.py\u001b[0m:112)\n"
     ]
    },
    {
     "name": "stdout",
     "output_type": "stream",
     "text": [
      "[\u001b[1m                py.warnings\u001b[0m][\u001b[1;33mWARNING\u001b[0m] - /home/runner/work/carsus/carsus/carsus/io/nist/ionization.py:248: FutureWarning: Setting an item of incompatible dtype is deprecated and will raise an error in a future version of pandas. Value '4S' has dtype incompatible with float64, please explicitly cast to a compatible dtype first.\n",
      "  lvl[\"term\"] = \"\".join([str(_) for _ in lvl_tokens[\"ls_term\"]])\n",
      " (\u001b[1mwarnings.py\u001b[0m:112)\n"
     ]
    },
    {
     "name": "stdout",
     "output_type": "stream",
     "text": [
      "[\u001b[1m                py.warnings\u001b[0m][\u001b[1;33mWARNING\u001b[0m] - /home/runner/work/carsus/carsus/carsus/io/nist/ionization.py:248: FutureWarning: Setting an item of incompatible dtype is deprecated and will raise an error in a future version of pandas. Value '3P' has dtype incompatible with float64, please explicitly cast to a compatible dtype first.\n",
      "  lvl[\"term\"] = \"\".join([str(_) for _ in lvl_tokens[\"ls_term\"]])\n",
      " (\u001b[1mwarnings.py\u001b[0m:112)\n"
     ]
    },
    {
     "name": "stdout",
     "output_type": "stream",
     "text": [
      "[\u001b[1m                py.warnings\u001b[0m][\u001b[1;33mWARNING\u001b[0m] - /home/runner/work/carsus/carsus/carsus/io/nist/ionization.py:248: FutureWarning: Setting an item of incompatible dtype is deprecated and will raise an error in a future version of pandas. Value '2P' has dtype incompatible with float64, please explicitly cast to a compatible dtype first.\n",
      "  lvl[\"term\"] = \"\".join([str(_) for _ in lvl_tokens[\"ls_term\"]])\n",
      " (\u001b[1mwarnings.py\u001b[0m:112)\n"
     ]
    },
    {
     "name": "stdout",
     "output_type": "stream",
     "text": [
      "[\u001b[1m                py.warnings\u001b[0m][\u001b[1;33mWARNING\u001b[0m] - /home/runner/work/carsus/carsus/carsus/io/nist/ionization.py:248: FutureWarning: Setting an item of incompatible dtype is deprecated and will raise an error in a future version of pandas. Value '1S' has dtype incompatible with float64, please explicitly cast to a compatible dtype first.\n",
      "  lvl[\"term\"] = \"\".join([str(_) for _ in lvl_tokens[\"ls_term\"]])\n",
      " (\u001b[1mwarnings.py\u001b[0m:112)\n"
     ]
    },
    {
     "name": "stdout",
     "output_type": "stream",
     "text": [
      "[\u001b[1m                py.warnings\u001b[0m][\u001b[1;33mWARNING\u001b[0m] - /home/runner/work/carsus/carsus/carsus/io/nist/ionization.py:248: FutureWarning: Setting an item of incompatible dtype is deprecated and will raise an error in a future version of pandas. Value '2S' has dtype incompatible with float64, please explicitly cast to a compatible dtype first.\n",
      "  lvl[\"term\"] = \"\".join([str(_) for _ in lvl_tokens[\"ls_term\"]])\n",
      " (\u001b[1mwarnings.py\u001b[0m:112)\n"
     ]
    },
    {
     "name": "stdout",
     "output_type": "stream",
     "text": [
      "[\u001b[1m                py.warnings\u001b[0m][\u001b[1;33mWARNING\u001b[0m] - /home/runner/work/carsus/carsus/carsus/io/nist/ionization.py:248: FutureWarning: Setting an item of incompatible dtype is deprecated and will raise an error in a future version of pandas. Value '1S' has dtype incompatible with float64, please explicitly cast to a compatible dtype first.\n",
      "  lvl[\"term\"] = \"\".join([str(_) for _ in lvl_tokens[\"ls_term\"]])\n",
      " (\u001b[1mwarnings.py\u001b[0m:112)\n"
     ]
    },
    {
     "name": "stdout",
     "output_type": "stream",
     "text": [
      "[\u001b[1m                py.warnings\u001b[0m][\u001b[1;33mWARNING\u001b[0m] - /home/runner/work/carsus/carsus/carsus/io/nist/ionization.py:248: FutureWarning: Setting an item of incompatible dtype is deprecated and will raise an error in a future version of pandas. Value '2S' has dtype incompatible with float64, please explicitly cast to a compatible dtype first.\n",
      "  lvl[\"term\"] = \"\".join([str(_) for _ in lvl_tokens[\"ls_term\"]])\n",
      " (\u001b[1mwarnings.py\u001b[0m:112)\n"
     ]
    },
    {
     "name": "stdout",
     "output_type": "stream",
     "text": [
      "[\u001b[1m                py.warnings\u001b[0m][\u001b[1;33mWARNING\u001b[0m] - /home/runner/work/carsus/carsus/carsus/io/nist/ionization.py:248: FutureWarning: Setting an item of incompatible dtype is deprecated and will raise an error in a future version of pandas. Value '1S' has dtype incompatible with float64, please explicitly cast to a compatible dtype first.\n",
      "  lvl[\"term\"] = \"\".join([str(_) for _ in lvl_tokens[\"ls_term\"]])\n",
      " (\u001b[1mwarnings.py\u001b[0m:112)\n"
     ]
    },
    {
     "name": "stdout",
     "output_type": "stream",
     "text": [
      "[\u001b[1m                py.warnings\u001b[0m][\u001b[1;33mWARNING\u001b[0m] - /home/runner/work/carsus/carsus/carsus/io/nist/ionization.py:248: FutureWarning: Setting an item of incompatible dtype is deprecated and will raise an error in a future version of pandas. Value '2S' has dtype incompatible with float64, please explicitly cast to a compatible dtype first.\n",
      "  lvl[\"term\"] = \"\".join([str(_) for _ in lvl_tokens[\"ls_term\"]])\n",
      " (\u001b[1mwarnings.py\u001b[0m:112)\n"
     ]
    },
    {
     "name": "stdout",
     "output_type": "stream",
     "text": [
      "[\u001b[1m                py.warnings\u001b[0m][\u001b[1;33mWARNING\u001b[0m] - /home/runner/work/carsus/carsus/carsus/io/nist/ionization.py:248: FutureWarning: Setting an item of incompatible dtype is deprecated and will raise an error in a future version of pandas. Value '1S' has dtype incompatible with float64, please explicitly cast to a compatible dtype first.\n",
      "  lvl[\"term\"] = \"\".join([str(_) for _ in lvl_tokens[\"ls_term\"]])\n",
      " (\u001b[1mwarnings.py\u001b[0m:112)\n"
     ]
    },
    {
     "name": "stdout",
     "output_type": "stream",
     "text": [
      "[\u001b[1m                py.warnings\u001b[0m][\u001b[1;33mWARNING\u001b[0m] - /home/runner/work/carsus/carsus/carsus/io/nist/ionization.py:248: FutureWarning: Setting an item of incompatible dtype is deprecated and will raise an error in a future version of pandas. Value '2P' has dtype incompatible with float64, please explicitly cast to a compatible dtype first.\n",
      "  lvl[\"term\"] = \"\".join([str(_) for _ in lvl_tokens[\"ls_term\"]])\n",
      " (\u001b[1mwarnings.py\u001b[0m:112)\n"
     ]
    },
    {
     "name": "stdout",
     "output_type": "stream",
     "text": [
      "[\u001b[1m                py.warnings\u001b[0m][\u001b[1;33mWARNING\u001b[0m] - /home/runner/work/carsus/carsus/carsus/io/nist/ionization.py:248: FutureWarning: Setting an item of incompatible dtype is deprecated and will raise an error in a future version of pandas. Value '3P' has dtype incompatible with float64, please explicitly cast to a compatible dtype first.\n",
      "  lvl[\"term\"] = \"\".join([str(_) for _ in lvl_tokens[\"ls_term\"]])\n",
      " (\u001b[1mwarnings.py\u001b[0m:112)\n"
     ]
    },
    {
     "name": "stdout",
     "output_type": "stream",
     "text": [
      "[\u001b[1m                py.warnings\u001b[0m][\u001b[1;33mWARNING\u001b[0m] - /home/runner/work/carsus/carsus/carsus/io/nist/ionization.py:248: FutureWarning: Setting an item of incompatible dtype is deprecated and will raise an error in a future version of pandas. Value '4S' has dtype incompatible with float64, please explicitly cast to a compatible dtype first.\n",
      "  lvl[\"term\"] = \"\".join([str(_) for _ in lvl_tokens[\"ls_term\"]])\n",
      " (\u001b[1mwarnings.py\u001b[0m:112)\n"
     ]
    },
    {
     "name": "stdout",
     "output_type": "stream",
     "text": [
      "[\u001b[1m                py.warnings\u001b[0m][\u001b[1;33mWARNING\u001b[0m] - /home/runner/work/carsus/carsus/carsus/io/nist/ionization.py:248: FutureWarning: Setting an item of incompatible dtype is deprecated and will raise an error in a future version of pandas. Value '3P' has dtype incompatible with float64, please explicitly cast to a compatible dtype first.\n",
      "  lvl[\"term\"] = \"\".join([str(_) for _ in lvl_tokens[\"ls_term\"]])\n",
      " (\u001b[1mwarnings.py\u001b[0m:112)\n"
     ]
    },
    {
     "name": "stdout",
     "output_type": "stream",
     "text": [
      "[\u001b[1m                py.warnings\u001b[0m][\u001b[1;33mWARNING\u001b[0m] - /home/runner/work/carsus/carsus/carsus/io/nist/ionization.py:248: FutureWarning: Setting an item of incompatible dtype is deprecated and will raise an error in a future version of pandas. Value '2P' has dtype incompatible with float64, please explicitly cast to a compatible dtype first.\n",
      "  lvl[\"term\"] = \"\".join([str(_) for _ in lvl_tokens[\"ls_term\"]])\n",
      " (\u001b[1mwarnings.py\u001b[0m:112)\n"
     ]
    },
    {
     "name": "stdout",
     "output_type": "stream",
     "text": [
      "[\u001b[1m                py.warnings\u001b[0m][\u001b[1;33mWARNING\u001b[0m] - /home/runner/work/carsus/carsus/carsus/io/nist/ionization.py:248: FutureWarning: Setting an item of incompatible dtype is deprecated and will raise an error in a future version of pandas. Value '1S' has dtype incompatible with float64, please explicitly cast to a compatible dtype first.\n",
      "  lvl[\"term\"] = \"\".join([str(_) for _ in lvl_tokens[\"ls_term\"]])\n",
      " (\u001b[1mwarnings.py\u001b[0m:112)\n"
     ]
    },
    {
     "name": "stdout",
     "output_type": "stream",
     "text": [
      "[\u001b[1m                py.warnings\u001b[0m][\u001b[1;33mWARNING\u001b[0m] - /home/runner/work/carsus/carsus/carsus/io/nist/ionization.py:248: FutureWarning: Setting an item of incompatible dtype is deprecated and will raise an error in a future version of pandas. Value '2S' has dtype incompatible with float64, please explicitly cast to a compatible dtype first.\n",
      "  lvl[\"term\"] = \"\".join([str(_) for _ in lvl_tokens[\"ls_term\"]])\n",
      " (\u001b[1mwarnings.py\u001b[0m:112)\n"
     ]
    },
    {
     "name": "stdout",
     "output_type": "stream",
     "text": [
      "[\u001b[1m                py.warnings\u001b[0m][\u001b[1;33mWARNING\u001b[0m] - /home/runner/work/carsus/carsus/carsus/io/nist/ionization.py:248: FutureWarning: Setting an item of incompatible dtype is deprecated and will raise an error in a future version of pandas. Value '1S' has dtype incompatible with float64, please explicitly cast to a compatible dtype first.\n",
      "  lvl[\"term\"] = \"\".join([str(_) for _ in lvl_tokens[\"ls_term\"]])\n",
      " (\u001b[1mwarnings.py\u001b[0m:112)\n"
     ]
    },
    {
     "name": "stdout",
     "output_type": "stream",
     "text": [
      "[\u001b[1m                py.warnings\u001b[0m][\u001b[1;33mWARNING\u001b[0m] - /home/runner/work/carsus/carsus/carsus/io/nist/ionization.py:248: FutureWarning: Setting an item of incompatible dtype is deprecated and will raise an error in a future version of pandas. Value '2P' has dtype incompatible with float64, please explicitly cast to a compatible dtype first.\n",
      "  lvl[\"term\"] = \"\".join([str(_) for _ in lvl_tokens[\"ls_term\"]])\n",
      " (\u001b[1mwarnings.py\u001b[0m:112)\n"
     ]
    },
    {
     "name": "stdout",
     "output_type": "stream",
     "text": [
      "[\u001b[1m                py.warnings\u001b[0m][\u001b[1;33mWARNING\u001b[0m] - /home/runner/work/carsus/carsus/carsus/io/nist/ionization.py:248: FutureWarning: Setting an item of incompatible dtype is deprecated and will raise an error in a future version of pandas. Value '3P' has dtype incompatible with float64, please explicitly cast to a compatible dtype first.\n",
      "  lvl[\"term\"] = \"\".join([str(_) for _ in lvl_tokens[\"ls_term\"]])\n",
      " (\u001b[1mwarnings.py\u001b[0m:112)\n"
     ]
    },
    {
     "name": "stdout",
     "output_type": "stream",
     "text": [
      "[\u001b[1m                py.warnings\u001b[0m][\u001b[1;33mWARNING\u001b[0m] - /home/runner/work/carsus/carsus/carsus/io/nist/ionization.py:248: FutureWarning: Setting an item of incompatible dtype is deprecated and will raise an error in a future version of pandas. Value '4S' has dtype incompatible with float64, please explicitly cast to a compatible dtype first.\n",
      "  lvl[\"term\"] = \"\".join([str(_) for _ in lvl_tokens[\"ls_term\"]])\n",
      " (\u001b[1mwarnings.py\u001b[0m:112)\n"
     ]
    },
    {
     "name": "stdout",
     "output_type": "stream",
     "text": [
      "[\u001b[1m                py.warnings\u001b[0m][\u001b[1;33mWARNING\u001b[0m] - /home/runner/work/carsus/carsus/carsus/io/nist/ionization.py:248: FutureWarning: Setting an item of incompatible dtype is deprecated and will raise an error in a future version of pandas. Value '3P' has dtype incompatible with float64, please explicitly cast to a compatible dtype first.\n",
      "  lvl[\"term\"] = \"\".join([str(_) for _ in lvl_tokens[\"ls_term\"]])\n",
      " (\u001b[1mwarnings.py\u001b[0m:112)\n"
     ]
    },
    {
     "name": "stdout",
     "output_type": "stream",
     "text": [
      "[\u001b[1m                py.warnings\u001b[0m][\u001b[1;33mWARNING\u001b[0m] - /home/runner/work/carsus/carsus/carsus/io/nist/ionization.py:248: FutureWarning: Setting an item of incompatible dtype is deprecated and will raise an error in a future version of pandas. Value '2P' has dtype incompatible with float64, please explicitly cast to a compatible dtype first.\n",
      "  lvl[\"term\"] = \"\".join([str(_) for _ in lvl_tokens[\"ls_term\"]])\n",
      " (\u001b[1mwarnings.py\u001b[0m:112)\n"
     ]
    },
    {
     "name": "stdout",
     "output_type": "stream",
     "text": [
      "[\u001b[1m                py.warnings\u001b[0m][\u001b[1;33mWARNING\u001b[0m] - /home/runner/work/carsus/carsus/carsus/io/nist/ionization.py:248: FutureWarning: Setting an item of incompatible dtype is deprecated and will raise an error in a future version of pandas. Value '1S' has dtype incompatible with float64, please explicitly cast to a compatible dtype first.\n",
      "  lvl[\"term\"] = \"\".join([str(_) for _ in lvl_tokens[\"ls_term\"]])\n",
      " (\u001b[1mwarnings.py\u001b[0m:112)\n"
     ]
    },
    {
     "name": "stdout",
     "output_type": "stream",
     "text": [
      "[\u001b[1m                py.warnings\u001b[0m][\u001b[1;33mWARNING\u001b[0m] - /home/runner/work/carsus/carsus/carsus/io/nist/ionization.py:248: FutureWarning: Setting an item of incompatible dtype is deprecated and will raise an error in a future version of pandas. Value '2S' has dtype incompatible with float64, please explicitly cast to a compatible dtype first.\n",
      "  lvl[\"term\"] = \"\".join([str(_) for _ in lvl_tokens[\"ls_term\"]])\n",
      " (\u001b[1mwarnings.py\u001b[0m:112)\n"
     ]
    },
    {
     "name": "stdout",
     "output_type": "stream",
     "text": [
      "[\u001b[1m                py.warnings\u001b[0m][\u001b[1;33mWARNING\u001b[0m] - /home/runner/work/carsus/carsus/carsus/io/nist/ionization.py:248: FutureWarning: Setting an item of incompatible dtype is deprecated and will raise an error in a future version of pandas. Value '1S' has dtype incompatible with float64, please explicitly cast to a compatible dtype first.\n",
      "  lvl[\"term\"] = \"\".join([str(_) for _ in lvl_tokens[\"ls_term\"]])\n",
      " (\u001b[1mwarnings.py\u001b[0m:112)\n"
     ]
    },
    {
     "name": "stdout",
     "output_type": "stream",
     "text": [
      "[\u001b[1m                py.warnings\u001b[0m][\u001b[1;33mWARNING\u001b[0m] - /home/runner/work/carsus/carsus/carsus/io/nist/ionization.py:248: FutureWarning: Setting an item of incompatible dtype is deprecated and will raise an error in a future version of pandas. Value '2S' has dtype incompatible with float64, please explicitly cast to a compatible dtype first.\n",
      "  lvl[\"term\"] = \"\".join([str(_) for _ in lvl_tokens[\"ls_term\"]])\n",
      " (\u001b[1mwarnings.py\u001b[0m:112)\n"
     ]
    },
    {
     "name": "stdout",
     "output_type": "stream",
     "text": [
      "[\u001b[1m                py.warnings\u001b[0m][\u001b[1;33mWARNING\u001b[0m] - /home/runner/work/carsus/carsus/carsus/io/nist/ionization.py:248: FutureWarning: Setting an item of incompatible dtype is deprecated and will raise an error in a future version of pandas. Value '2D' has dtype incompatible with float64, please explicitly cast to a compatible dtype first.\n",
      "  lvl[\"term\"] = \"\".join([str(_) for _ in lvl_tokens[\"ls_term\"]])\n",
      " (\u001b[1mwarnings.py\u001b[0m:112)\n"
     ]
    },
    {
     "name": "stdout",
     "output_type": "stream",
     "text": [
      "[\u001b[1m                py.warnings\u001b[0m][\u001b[1;33mWARNING\u001b[0m] - /home/runner/work/carsus/carsus/carsus/io/nist/ionization.py:248: FutureWarning: Setting an item of incompatible dtype is deprecated and will raise an error in a future version of pandas. Value '3D' has dtype incompatible with float64, please explicitly cast to a compatible dtype first.\n",
      "  lvl[\"term\"] = \"\".join([str(_) for _ in lvl_tokens[\"ls_term\"]])\n",
      " (\u001b[1mwarnings.py\u001b[0m:112)\n"
     ]
    },
    {
     "name": "stdout",
     "output_type": "stream",
     "text": [
      "[\u001b[1m                py.warnings\u001b[0m][\u001b[1;33mWARNING\u001b[0m] - /home/runner/work/carsus/carsus/carsus/io/nist/ionization.py:248: FutureWarning: Setting an item of incompatible dtype is deprecated and will raise an error in a future version of pandas. Value '2D' has dtype incompatible with float64, please explicitly cast to a compatible dtype first.\n",
      "  lvl[\"term\"] = \"\".join([str(_) for _ in lvl_tokens[\"ls_term\"]])\n",
      " (\u001b[1mwarnings.py\u001b[0m:112)\n"
     ]
    },
    {
     "name": "stdout",
     "output_type": "stream",
     "text": [
      "[\u001b[1m                py.warnings\u001b[0m][\u001b[1;33mWARNING\u001b[0m] - /home/runner/work/carsus/carsus/carsus/io/nist/ionization.py:248: FutureWarning: Setting an item of incompatible dtype is deprecated and will raise an error in a future version of pandas. Value '1S' has dtype incompatible with float64, please explicitly cast to a compatible dtype first.\n",
      "  lvl[\"term\"] = \"\".join([str(_) for _ in lvl_tokens[\"ls_term\"]])\n",
      " (\u001b[1mwarnings.py\u001b[0m:112)\n"
     ]
    },
    {
     "name": "stdout",
     "output_type": "stream",
     "text": [
      "[\u001b[1m                py.warnings\u001b[0m][\u001b[1;33mWARNING\u001b[0m] - /home/runner/work/carsus/carsus/carsus/io/nist/ionization.py:248: FutureWarning: Setting an item of incompatible dtype is deprecated and will raise an error in a future version of pandas. Value '2P' has dtype incompatible with float64, please explicitly cast to a compatible dtype first.\n",
      "  lvl[\"term\"] = \"\".join([str(_) for _ in lvl_tokens[\"ls_term\"]])\n",
      " (\u001b[1mwarnings.py\u001b[0m:112)\n"
     ]
    },
    {
     "name": "stdout",
     "output_type": "stream",
     "text": [
      "[\u001b[1m                py.warnings\u001b[0m][\u001b[1;33mWARNING\u001b[0m] - /home/runner/work/carsus/carsus/carsus/io/nist/ionization.py:248: FutureWarning: Setting an item of incompatible dtype is deprecated and will raise an error in a future version of pandas. Value '3P' has dtype incompatible with float64, please explicitly cast to a compatible dtype first.\n",
      "  lvl[\"term\"] = \"\".join([str(_) for _ in lvl_tokens[\"ls_term\"]])\n",
      " (\u001b[1mwarnings.py\u001b[0m:112)\n"
     ]
    },
    {
     "name": "stdout",
     "output_type": "stream",
     "text": [
      "[\u001b[1m                py.warnings\u001b[0m][\u001b[1;33mWARNING\u001b[0m] - /home/runner/work/carsus/carsus/carsus/io/nist/ionization.py:248: FutureWarning: Setting an item of incompatible dtype is deprecated and will raise an error in a future version of pandas. Value '4S' has dtype incompatible with float64, please explicitly cast to a compatible dtype first.\n",
      "  lvl[\"term\"] = \"\".join([str(_) for _ in lvl_tokens[\"ls_term\"]])\n",
      " (\u001b[1mwarnings.py\u001b[0m:112)\n"
     ]
    },
    {
     "name": "stdout",
     "output_type": "stream",
     "text": [
      "[\u001b[1m                py.warnings\u001b[0m][\u001b[1;33mWARNING\u001b[0m] - /home/runner/work/carsus/carsus/carsus/io/nist/ionization.py:248: FutureWarning: Setting an item of incompatible dtype is deprecated and will raise an error in a future version of pandas. Value '3P' has dtype incompatible with float64, please explicitly cast to a compatible dtype first.\n",
      "  lvl[\"term\"] = \"\".join([str(_) for _ in lvl_tokens[\"ls_term\"]])\n",
      " (\u001b[1mwarnings.py\u001b[0m:112)\n"
     ]
    },
    {
     "name": "stdout",
     "output_type": "stream",
     "text": [
      "[\u001b[1m                py.warnings\u001b[0m][\u001b[1;33mWARNING\u001b[0m] - /home/runner/work/carsus/carsus/carsus/io/nist/ionization.py:248: FutureWarning: Setting an item of incompatible dtype is deprecated and will raise an error in a future version of pandas. Value '2P' has dtype incompatible with float64, please explicitly cast to a compatible dtype first.\n",
      "  lvl[\"term\"] = \"\".join([str(_) for _ in lvl_tokens[\"ls_term\"]])\n",
      " (\u001b[1mwarnings.py\u001b[0m:112)\n"
     ]
    },
    {
     "name": "stdout",
     "output_type": "stream",
     "text": [
      "[\u001b[1m                py.warnings\u001b[0m][\u001b[1;33mWARNING\u001b[0m] - /home/runner/work/carsus/carsus/carsus/io/nist/ionization.py:248: FutureWarning: Setting an item of incompatible dtype is deprecated and will raise an error in a future version of pandas. Value '1S' has dtype incompatible with float64, please explicitly cast to a compatible dtype first.\n",
      "  lvl[\"term\"] = \"\".join([str(_) for _ in lvl_tokens[\"ls_term\"]])\n",
      " (\u001b[1mwarnings.py\u001b[0m:112)\n"
     ]
    },
    {
     "name": "stdout",
     "output_type": "stream",
     "text": [
      "[\u001b[1m                py.warnings\u001b[0m][\u001b[1;33mWARNING\u001b[0m] - /home/runner/work/carsus/carsus/carsus/io/nist/ionization.py:248: FutureWarning: Setting an item of incompatible dtype is deprecated and will raise an error in a future version of pandas. Value '2S' has dtype incompatible with float64, please explicitly cast to a compatible dtype first.\n",
      "  lvl[\"term\"] = \"\".join([str(_) for _ in lvl_tokens[\"ls_term\"]])\n",
      " (\u001b[1mwarnings.py\u001b[0m:112)\n"
     ]
    },
    {
     "name": "stdout",
     "output_type": "stream",
     "text": [
      "[\u001b[1m                py.warnings\u001b[0m][\u001b[1;33mWARNING\u001b[0m] - /home/runner/work/carsus/carsus/carsus/io/nist/ionization.py:248: FutureWarning: Setting an item of incompatible dtype is deprecated and will raise an error in a future version of pandas. Value '1S' has dtype incompatible with float64, please explicitly cast to a compatible dtype first.\n",
      "  lvl[\"term\"] = \"\".join([str(_) for _ in lvl_tokens[\"ls_term\"]])\n",
      " (\u001b[1mwarnings.py\u001b[0m:112)\n"
     ]
    },
    {
     "name": "stdout",
     "output_type": "stream",
     "text": [
      "[\u001b[1m                py.warnings\u001b[0m][\u001b[1;33mWARNING\u001b[0m] - /home/runner/work/carsus/carsus/carsus/io/nist/ionization.py:248: FutureWarning: Setting an item of incompatible dtype is deprecated and will raise an error in a future version of pandas. Value '2P' has dtype incompatible with float64, please explicitly cast to a compatible dtype first.\n",
      "  lvl[\"term\"] = \"\".join([str(_) for _ in lvl_tokens[\"ls_term\"]])\n",
      " (\u001b[1mwarnings.py\u001b[0m:112)\n"
     ]
    },
    {
     "name": "stdout",
     "output_type": "stream",
     "text": [
      "[\u001b[1m                py.warnings\u001b[0m][\u001b[1;33mWARNING\u001b[0m] - /home/runner/work/carsus/carsus/carsus/io/nist/ionization.py:248: FutureWarning: Setting an item of incompatible dtype is deprecated and will raise an error in a future version of pandas. Value '3P' has dtype incompatible with float64, please explicitly cast to a compatible dtype first.\n",
      "  lvl[\"term\"] = \"\".join([str(_) for _ in lvl_tokens[\"ls_term\"]])\n",
      " (\u001b[1mwarnings.py\u001b[0m:112)\n"
     ]
    },
    {
     "name": "stdout",
     "output_type": "stream",
     "text": [
      "[\u001b[1m                py.warnings\u001b[0m][\u001b[1;33mWARNING\u001b[0m] - /home/runner/work/carsus/carsus/carsus/io/nist/ionization.py:248: FutureWarning: Setting an item of incompatible dtype is deprecated and will raise an error in a future version of pandas. Value '4S' has dtype incompatible with float64, please explicitly cast to a compatible dtype first.\n",
      "  lvl[\"term\"] = \"\".join([str(_) for _ in lvl_tokens[\"ls_term\"]])\n",
      " (\u001b[1mwarnings.py\u001b[0m:112)\n"
     ]
    },
    {
     "name": "stdout",
     "output_type": "stream",
     "text": [
      "[\u001b[1m                py.warnings\u001b[0m][\u001b[1;33mWARNING\u001b[0m] - /home/runner/work/carsus/carsus/carsus/io/nist/ionization.py:248: FutureWarning: Setting an item of incompatible dtype is deprecated and will raise an error in a future version of pandas. Value '3P' has dtype incompatible with float64, please explicitly cast to a compatible dtype first.\n",
      "  lvl[\"term\"] = \"\".join([str(_) for _ in lvl_tokens[\"ls_term\"]])\n",
      " (\u001b[1mwarnings.py\u001b[0m:112)\n"
     ]
    },
    {
     "name": "stdout",
     "output_type": "stream",
     "text": [
      "[\u001b[1m                py.warnings\u001b[0m][\u001b[1;33mWARNING\u001b[0m] - /home/runner/work/carsus/carsus/carsus/io/nist/ionization.py:248: FutureWarning: Setting an item of incompatible dtype is deprecated and will raise an error in a future version of pandas. Value '2P' has dtype incompatible with float64, please explicitly cast to a compatible dtype first.\n",
      "  lvl[\"term\"] = \"\".join([str(_) for _ in lvl_tokens[\"ls_term\"]])\n",
      " (\u001b[1mwarnings.py\u001b[0m:112)\n"
     ]
    },
    {
     "name": "stdout",
     "output_type": "stream",
     "text": [
      "[\u001b[1m                py.warnings\u001b[0m][\u001b[1;33mWARNING\u001b[0m] - /home/runner/work/carsus/carsus/carsus/io/nist/ionization.py:248: FutureWarning: Setting an item of incompatible dtype is deprecated and will raise an error in a future version of pandas. Value '1S' has dtype incompatible with float64, please explicitly cast to a compatible dtype first.\n",
      "  lvl[\"term\"] = \"\".join([str(_) for _ in lvl_tokens[\"ls_term\"]])\n",
      " (\u001b[1mwarnings.py\u001b[0m:112)\n"
     ]
    },
    {
     "name": "stdout",
     "output_type": "stream",
     "text": [
      "[\u001b[1m                py.warnings\u001b[0m][\u001b[1;33mWARNING\u001b[0m] - /home/runner/work/carsus/carsus/carsus/io/nist/ionization.py:248: FutureWarning: Setting an item of incompatible dtype is deprecated and will raise an error in a future version of pandas. Value '2S' has dtype incompatible with float64, please explicitly cast to a compatible dtype first.\n",
      "  lvl[\"term\"] = \"\".join([str(_) for _ in lvl_tokens[\"ls_term\"]])\n",
      " (\u001b[1mwarnings.py\u001b[0m:112)\n"
     ]
    },
    {
     "name": "stdout",
     "output_type": "stream",
     "text": [
      "[\u001b[1m                py.warnings\u001b[0m][\u001b[1;33mWARNING\u001b[0m] - /home/runner/work/carsus/carsus/carsus/io/nist/ionization.py:248: FutureWarning: Setting an item of incompatible dtype is deprecated and will raise an error in a future version of pandas. Value '1S' has dtype incompatible with float64, please explicitly cast to a compatible dtype first.\n",
      "  lvl[\"term\"] = \"\".join([str(_) for _ in lvl_tokens[\"ls_term\"]])\n",
      " (\u001b[1mwarnings.py\u001b[0m:112)\n"
     ]
    },
    {
     "name": "stdout",
     "output_type": "stream",
     "text": [
      "[\u001b[1m                py.warnings\u001b[0m][\u001b[1;33mWARNING\u001b[0m] - /home/runner/work/carsus/carsus/carsus/io/nist/ionization.py:248: FutureWarning: Setting an item of incompatible dtype is deprecated and will raise an error in a future version of pandas. Value '2S' has dtype incompatible with float64, please explicitly cast to a compatible dtype first.\n",
      "  lvl[\"term\"] = \"\".join([str(_) for _ in lvl_tokens[\"ls_term\"]])\n",
      " (\u001b[1mwarnings.py\u001b[0m:112)\n"
     ]
    },
    {
     "name": "stdout",
     "output_type": "stream",
     "text": [
      "[\u001b[1m                py.warnings\u001b[0m][\u001b[1;33mWARNING\u001b[0m] - /home/runner/work/carsus/carsus/carsus/io/nist/ionization.py:248: FutureWarning: Setting an item of incompatible dtype is deprecated and will raise an error in a future version of pandas. Value '3F' has dtype incompatible with float64, please explicitly cast to a compatible dtype first.\n",
      "  lvl[\"term\"] = \"\".join([str(_) for _ in lvl_tokens[\"ls_term\"]])\n",
      " (\u001b[1mwarnings.py\u001b[0m:112)\n"
     ]
    },
    {
     "name": "stdout",
     "output_type": "stream",
     "text": [
      "[\u001b[1m                py.warnings\u001b[0m][\u001b[1;33mWARNING\u001b[0m] - /home/runner/work/carsus/carsus/carsus/io/nist/ionization.py:248: FutureWarning: Setting an item of incompatible dtype is deprecated and will raise an error in a future version of pandas. Value '4F' has dtype incompatible with float64, please explicitly cast to a compatible dtype first.\n",
      "  lvl[\"term\"] = \"\".join([str(_) for _ in lvl_tokens[\"ls_term\"]])\n",
      " (\u001b[1mwarnings.py\u001b[0m:112)\n"
     ]
    },
    {
     "name": "stdout",
     "output_type": "stream",
     "text": [
      "[\u001b[1m                py.warnings\u001b[0m][\u001b[1;33mWARNING\u001b[0m] - /home/runner/work/carsus/carsus/carsus/io/nist/ionization.py:248: FutureWarning: Setting an item of incompatible dtype is deprecated and will raise an error in a future version of pandas. Value '3F' has dtype incompatible with float64, please explicitly cast to a compatible dtype first.\n",
      "  lvl[\"term\"] = \"\".join([str(_) for _ in lvl_tokens[\"ls_term\"]])\n",
      " (\u001b[1mwarnings.py\u001b[0m:112)\n"
     ]
    },
    {
     "name": "stdout",
     "output_type": "stream",
     "text": [
      "[\u001b[1m                py.warnings\u001b[0m][\u001b[1;33mWARNING\u001b[0m] - /home/runner/work/carsus/carsus/carsus/io/nist/ionization.py:248: FutureWarning: Setting an item of incompatible dtype is deprecated and will raise an error in a future version of pandas. Value '2D' has dtype incompatible with float64, please explicitly cast to a compatible dtype first.\n",
      "  lvl[\"term\"] = \"\".join([str(_) for _ in lvl_tokens[\"ls_term\"]])\n",
      " (\u001b[1mwarnings.py\u001b[0m:112)\n"
     ]
    },
    {
     "name": "stdout",
     "output_type": "stream",
     "text": [
      "[\u001b[1m                py.warnings\u001b[0m][\u001b[1;33mWARNING\u001b[0m] - /home/runner/work/carsus/carsus/carsus/io/nist/ionization.py:248: FutureWarning: Setting an item of incompatible dtype is deprecated and will raise an error in a future version of pandas. Value '1S' has dtype incompatible with float64, please explicitly cast to a compatible dtype first.\n",
      "  lvl[\"term\"] = \"\".join([str(_) for _ in lvl_tokens[\"ls_term\"]])\n",
      " (\u001b[1mwarnings.py\u001b[0m:112)\n"
     ]
    },
    {
     "name": "stdout",
     "output_type": "stream",
     "text": [
      "[\u001b[1m                py.warnings\u001b[0m][\u001b[1;33mWARNING\u001b[0m] - /home/runner/work/carsus/carsus/carsus/io/nist/ionization.py:248: FutureWarning: Setting an item of incompatible dtype is deprecated and will raise an error in a future version of pandas. Value '2P' has dtype incompatible with float64, please explicitly cast to a compatible dtype first.\n",
      "  lvl[\"term\"] = \"\".join([str(_) for _ in lvl_tokens[\"ls_term\"]])\n",
      " (\u001b[1mwarnings.py\u001b[0m:112)\n"
     ]
    },
    {
     "name": "stdout",
     "output_type": "stream",
     "text": [
      "[\u001b[1m                py.warnings\u001b[0m][\u001b[1;33mWARNING\u001b[0m] - /home/runner/work/carsus/carsus/carsus/io/nist/ionization.py:248: FutureWarning: Setting an item of incompatible dtype is deprecated and will raise an error in a future version of pandas. Value '3P' has dtype incompatible with float64, please explicitly cast to a compatible dtype first.\n",
      "  lvl[\"term\"] = \"\".join([str(_) for _ in lvl_tokens[\"ls_term\"]])\n",
      " (\u001b[1mwarnings.py\u001b[0m:112)\n"
     ]
    },
    {
     "name": "stdout",
     "output_type": "stream",
     "text": [
      "[\u001b[1m                py.warnings\u001b[0m][\u001b[1;33mWARNING\u001b[0m] - /home/runner/work/carsus/carsus/carsus/io/nist/ionization.py:248: FutureWarning: Setting an item of incompatible dtype is deprecated and will raise an error in a future version of pandas. Value '4S' has dtype incompatible with float64, please explicitly cast to a compatible dtype first.\n",
      "  lvl[\"term\"] = \"\".join([str(_) for _ in lvl_tokens[\"ls_term\"]])\n",
      " (\u001b[1mwarnings.py\u001b[0m:112)\n"
     ]
    },
    {
     "name": "stdout",
     "output_type": "stream",
     "text": [
      "[\u001b[1m                py.warnings\u001b[0m][\u001b[1;33mWARNING\u001b[0m] - /home/runner/work/carsus/carsus/carsus/io/nist/ionization.py:248: FutureWarning: Setting an item of incompatible dtype is deprecated and will raise an error in a future version of pandas. Value '3P' has dtype incompatible with float64, please explicitly cast to a compatible dtype first.\n",
      "  lvl[\"term\"] = \"\".join([str(_) for _ in lvl_tokens[\"ls_term\"]])\n",
      " (\u001b[1mwarnings.py\u001b[0m:112)\n"
     ]
    },
    {
     "name": "stdout",
     "output_type": "stream",
     "text": [
      "[\u001b[1m                py.warnings\u001b[0m][\u001b[1;33mWARNING\u001b[0m] - /home/runner/work/carsus/carsus/carsus/io/nist/ionization.py:248: FutureWarning: Setting an item of incompatible dtype is deprecated and will raise an error in a future version of pandas. Value '2P' has dtype incompatible with float64, please explicitly cast to a compatible dtype first.\n",
      "  lvl[\"term\"] = \"\".join([str(_) for _ in lvl_tokens[\"ls_term\"]])\n",
      " (\u001b[1mwarnings.py\u001b[0m:112)\n"
     ]
    },
    {
     "name": "stdout",
     "output_type": "stream",
     "text": [
      "[\u001b[1m                py.warnings\u001b[0m][\u001b[1;33mWARNING\u001b[0m] - /home/runner/work/carsus/carsus/carsus/io/nist/ionization.py:248: FutureWarning: Setting an item of incompatible dtype is deprecated and will raise an error in a future version of pandas. Value '1S' has dtype incompatible with float64, please explicitly cast to a compatible dtype first.\n",
      "  lvl[\"term\"] = \"\".join([str(_) for _ in lvl_tokens[\"ls_term\"]])\n",
      " (\u001b[1mwarnings.py\u001b[0m:112)\n"
     ]
    },
    {
     "name": "stdout",
     "output_type": "stream",
     "text": [
      "[\u001b[1m                py.warnings\u001b[0m][\u001b[1;33mWARNING\u001b[0m] - /home/runner/work/carsus/carsus/carsus/io/nist/ionization.py:248: FutureWarning: Setting an item of incompatible dtype is deprecated and will raise an error in a future version of pandas. Value '2S' has dtype incompatible with float64, please explicitly cast to a compatible dtype first.\n",
      "  lvl[\"term\"] = \"\".join([str(_) for _ in lvl_tokens[\"ls_term\"]])\n",
      " (\u001b[1mwarnings.py\u001b[0m:112)\n"
     ]
    },
    {
     "name": "stdout",
     "output_type": "stream",
     "text": [
      "[\u001b[1m                py.warnings\u001b[0m][\u001b[1;33mWARNING\u001b[0m] - /home/runner/work/carsus/carsus/carsus/io/nist/ionization.py:248: FutureWarning: Setting an item of incompatible dtype is deprecated and will raise an error in a future version of pandas. Value '1S' has dtype incompatible with float64, please explicitly cast to a compatible dtype first.\n",
      "  lvl[\"term\"] = \"\".join([str(_) for _ in lvl_tokens[\"ls_term\"]])\n",
      " (\u001b[1mwarnings.py\u001b[0m:112)\n"
     ]
    },
    {
     "name": "stdout",
     "output_type": "stream",
     "text": [
      "[\u001b[1m                py.warnings\u001b[0m][\u001b[1;33mWARNING\u001b[0m] - /home/runner/work/carsus/carsus/carsus/io/nist/ionization.py:248: FutureWarning: Setting an item of incompatible dtype is deprecated and will raise an error in a future version of pandas. Value '2P' has dtype incompatible with float64, please explicitly cast to a compatible dtype first.\n",
      "  lvl[\"term\"] = \"\".join([str(_) for _ in lvl_tokens[\"ls_term\"]])\n",
      " (\u001b[1mwarnings.py\u001b[0m:112)\n"
     ]
    },
    {
     "name": "stdout",
     "output_type": "stream",
     "text": [
      "[\u001b[1m                py.warnings\u001b[0m][\u001b[1;33mWARNING\u001b[0m] - /home/runner/work/carsus/carsus/carsus/io/nist/ionization.py:248: FutureWarning: Setting an item of incompatible dtype is deprecated and will raise an error in a future version of pandas. Value '3P' has dtype incompatible with float64, please explicitly cast to a compatible dtype first.\n",
      "  lvl[\"term\"] = \"\".join([str(_) for _ in lvl_tokens[\"ls_term\"]])\n",
      " (\u001b[1mwarnings.py\u001b[0m:112)\n"
     ]
    },
    {
     "name": "stdout",
     "output_type": "stream",
     "text": [
      "[\u001b[1m                py.warnings\u001b[0m][\u001b[1;33mWARNING\u001b[0m] - /home/runner/work/carsus/carsus/carsus/io/nist/ionization.py:248: FutureWarning: Setting an item of incompatible dtype is deprecated and will raise an error in a future version of pandas. Value '4S' has dtype incompatible with float64, please explicitly cast to a compatible dtype first.\n",
      "  lvl[\"term\"] = \"\".join([str(_) for _ in lvl_tokens[\"ls_term\"]])\n",
      " (\u001b[1mwarnings.py\u001b[0m:112)\n"
     ]
    },
    {
     "name": "stdout",
     "output_type": "stream",
     "text": [
      "[\u001b[1m                py.warnings\u001b[0m][\u001b[1;33mWARNING\u001b[0m] - /home/runner/work/carsus/carsus/carsus/io/nist/ionization.py:248: FutureWarning: Setting an item of incompatible dtype is deprecated and will raise an error in a future version of pandas. Value '3P' has dtype incompatible with float64, please explicitly cast to a compatible dtype first.\n",
      "  lvl[\"term\"] = \"\".join([str(_) for _ in lvl_tokens[\"ls_term\"]])\n",
      " (\u001b[1mwarnings.py\u001b[0m:112)\n"
     ]
    },
    {
     "name": "stdout",
     "output_type": "stream",
     "text": [
      "[\u001b[1m                py.warnings\u001b[0m][\u001b[1;33mWARNING\u001b[0m] - /home/runner/work/carsus/carsus/carsus/io/nist/ionization.py:248: FutureWarning: Setting an item of incompatible dtype is deprecated and will raise an error in a future version of pandas. Value '2P' has dtype incompatible with float64, please explicitly cast to a compatible dtype first.\n",
      "  lvl[\"term\"] = \"\".join([str(_) for _ in lvl_tokens[\"ls_term\"]])\n",
      " (\u001b[1mwarnings.py\u001b[0m:112)\n"
     ]
    },
    {
     "name": "stdout",
     "output_type": "stream",
     "text": [
      "[\u001b[1m                py.warnings\u001b[0m][\u001b[1;33mWARNING\u001b[0m] - /home/runner/work/carsus/carsus/carsus/io/nist/ionization.py:248: FutureWarning: Setting an item of incompatible dtype is deprecated and will raise an error in a future version of pandas. Value '1S' has dtype incompatible with float64, please explicitly cast to a compatible dtype first.\n",
      "  lvl[\"term\"] = \"\".join([str(_) for _ in lvl_tokens[\"ls_term\"]])\n",
      " (\u001b[1mwarnings.py\u001b[0m:112)\n"
     ]
    },
    {
     "name": "stdout",
     "output_type": "stream",
     "text": [
      "[\u001b[1m                py.warnings\u001b[0m][\u001b[1;33mWARNING\u001b[0m] - /home/runner/work/carsus/carsus/carsus/io/nist/ionization.py:248: FutureWarning: Setting an item of incompatible dtype is deprecated and will raise an error in a future version of pandas. Value '2S' has dtype incompatible with float64, please explicitly cast to a compatible dtype first.\n",
      "  lvl[\"term\"] = \"\".join([str(_) for _ in lvl_tokens[\"ls_term\"]])\n",
      " (\u001b[1mwarnings.py\u001b[0m:112)\n"
     ]
    },
    {
     "name": "stdout",
     "output_type": "stream",
     "text": [
      "[\u001b[1m                py.warnings\u001b[0m][\u001b[1;33mWARNING\u001b[0m] - /home/runner/work/carsus/carsus/carsus/io/nist/ionization.py:248: FutureWarning: Setting an item of incompatible dtype is deprecated and will raise an error in a future version of pandas. Value '1S' has dtype incompatible with float64, please explicitly cast to a compatible dtype first.\n",
      "  lvl[\"term\"] = \"\".join([str(_) for _ in lvl_tokens[\"ls_term\"]])\n",
      " (\u001b[1mwarnings.py\u001b[0m:112)\n"
     ]
    },
    {
     "name": "stdout",
     "output_type": "stream",
     "text": [
      "[\u001b[1m                py.warnings\u001b[0m][\u001b[1;33mWARNING\u001b[0m] - /home/runner/work/carsus/carsus/carsus/io/nist/ionization.py:248: FutureWarning: Setting an item of incompatible dtype is deprecated and will raise an error in a future version of pandas. Value '2S' has dtype incompatible with float64, please explicitly cast to a compatible dtype first.\n",
      "  lvl[\"term\"] = \"\".join([str(_) for _ in lvl_tokens[\"ls_term\"]])\n",
      " (\u001b[1mwarnings.py\u001b[0m:112)\n"
     ]
    },
    {
     "name": "stdout",
     "output_type": "stream",
     "text": [
      "[\u001b[1m                py.warnings\u001b[0m][\u001b[1;33mWARNING\u001b[0m] - /home/runner/work/carsus/carsus/carsus/io/nist/ionization.py:248: FutureWarning: Setting an item of incompatible dtype is deprecated and will raise an error in a future version of pandas. Value '4F' has dtype incompatible with float64, please explicitly cast to a compatible dtype first.\n",
      "  lvl[\"term\"] = \"\".join([str(_) for _ in lvl_tokens[\"ls_term\"]])\n",
      " (\u001b[1mwarnings.py\u001b[0m:112)\n"
     ]
    },
    {
     "name": "stdout",
     "output_type": "stream",
     "text": [
      "[\u001b[1m                py.warnings\u001b[0m][\u001b[1;33mWARNING\u001b[0m] - /home/runner/work/carsus/carsus/carsus/io/nist/ionization.py:248: FutureWarning: Setting an item of incompatible dtype is deprecated and will raise an error in a future version of pandas. Value '5D' has dtype incompatible with float64, please explicitly cast to a compatible dtype first.\n",
      "  lvl[\"term\"] = \"\".join([str(_) for _ in lvl_tokens[\"ls_term\"]])\n",
      " (\u001b[1mwarnings.py\u001b[0m:112)\n"
     ]
    },
    {
     "name": "stdout",
     "output_type": "stream",
     "text": [
      "[\u001b[1m                py.warnings\u001b[0m][\u001b[1;33mWARNING\u001b[0m] - /home/runner/work/carsus/carsus/carsus/io/nist/ionization.py:248: FutureWarning: Setting an item of incompatible dtype is deprecated and will raise an error in a future version of pandas. Value '4F' has dtype incompatible with float64, please explicitly cast to a compatible dtype first.\n",
      "  lvl[\"term\"] = \"\".join([str(_) for _ in lvl_tokens[\"ls_term\"]])\n",
      " (\u001b[1mwarnings.py\u001b[0m:112)\n"
     ]
    },
    {
     "name": "stdout",
     "output_type": "stream",
     "text": [
      "[\u001b[1m                py.warnings\u001b[0m][\u001b[1;33mWARNING\u001b[0m] - /home/runner/work/carsus/carsus/carsus/io/nist/ionization.py:248: FutureWarning: Setting an item of incompatible dtype is deprecated and will raise an error in a future version of pandas. Value '3F' has dtype incompatible with float64, please explicitly cast to a compatible dtype first.\n",
      "  lvl[\"term\"] = \"\".join([str(_) for _ in lvl_tokens[\"ls_term\"]])\n",
      " (\u001b[1mwarnings.py\u001b[0m:112)\n"
     ]
    },
    {
     "name": "stdout",
     "output_type": "stream",
     "text": [
      "[\u001b[1m                py.warnings\u001b[0m][\u001b[1;33mWARNING\u001b[0m] - /home/runner/work/carsus/carsus/carsus/io/nist/ionization.py:248: FutureWarning: Setting an item of incompatible dtype is deprecated and will raise an error in a future version of pandas. Value '2D' has dtype incompatible with float64, please explicitly cast to a compatible dtype first.\n",
      "  lvl[\"term\"] = \"\".join([str(_) for _ in lvl_tokens[\"ls_term\"]])\n",
      " (\u001b[1mwarnings.py\u001b[0m:112)\n"
     ]
    },
    {
     "name": "stdout",
     "output_type": "stream",
     "text": [
      "[\u001b[1m                py.warnings\u001b[0m][\u001b[1;33mWARNING\u001b[0m] - /home/runner/work/carsus/carsus/carsus/io/nist/ionization.py:248: FutureWarning: Setting an item of incompatible dtype is deprecated and will raise an error in a future version of pandas. Value '1S' has dtype incompatible with float64, please explicitly cast to a compatible dtype first.\n",
      "  lvl[\"term\"] = \"\".join([str(_) for _ in lvl_tokens[\"ls_term\"]])\n",
      " (\u001b[1mwarnings.py\u001b[0m:112)\n"
     ]
    },
    {
     "name": "stdout",
     "output_type": "stream",
     "text": [
      "[\u001b[1m                py.warnings\u001b[0m][\u001b[1;33mWARNING\u001b[0m] - /home/runner/work/carsus/carsus/carsus/io/nist/ionization.py:248: FutureWarning: Setting an item of incompatible dtype is deprecated and will raise an error in a future version of pandas. Value '2P' has dtype incompatible with float64, please explicitly cast to a compatible dtype first.\n",
      "  lvl[\"term\"] = \"\".join([str(_) for _ in lvl_tokens[\"ls_term\"]])\n",
      " (\u001b[1mwarnings.py\u001b[0m:112)\n"
     ]
    },
    {
     "name": "stdout",
     "output_type": "stream",
     "text": [
      "[\u001b[1m                py.warnings\u001b[0m][\u001b[1;33mWARNING\u001b[0m] - /home/runner/work/carsus/carsus/carsus/io/nist/ionization.py:248: FutureWarning: Setting an item of incompatible dtype is deprecated and will raise an error in a future version of pandas. Value '3P' has dtype incompatible with float64, please explicitly cast to a compatible dtype first.\n",
      "  lvl[\"term\"] = \"\".join([str(_) for _ in lvl_tokens[\"ls_term\"]])\n",
      " (\u001b[1mwarnings.py\u001b[0m:112)\n"
     ]
    },
    {
     "name": "stdout",
     "output_type": "stream",
     "text": [
      "[\u001b[1m                py.warnings\u001b[0m][\u001b[1;33mWARNING\u001b[0m] - /home/runner/work/carsus/carsus/carsus/io/nist/ionization.py:248: FutureWarning: Setting an item of incompatible dtype is deprecated and will raise an error in a future version of pandas. Value '4S' has dtype incompatible with float64, please explicitly cast to a compatible dtype first.\n",
      "  lvl[\"term\"] = \"\".join([str(_) for _ in lvl_tokens[\"ls_term\"]])\n",
      " (\u001b[1mwarnings.py\u001b[0m:112)\n"
     ]
    },
    {
     "name": "stdout",
     "output_type": "stream",
     "text": [
      "[\u001b[1m                py.warnings\u001b[0m][\u001b[1;33mWARNING\u001b[0m] - /home/runner/work/carsus/carsus/carsus/io/nist/ionization.py:248: FutureWarning: Setting an item of incompatible dtype is deprecated and will raise an error in a future version of pandas. Value '3P' has dtype incompatible with float64, please explicitly cast to a compatible dtype first.\n",
      "  lvl[\"term\"] = \"\".join([str(_) for _ in lvl_tokens[\"ls_term\"]])\n",
      " (\u001b[1mwarnings.py\u001b[0m:112)\n"
     ]
    },
    {
     "name": "stdout",
     "output_type": "stream",
     "text": [
      "[\u001b[1m                py.warnings\u001b[0m][\u001b[1;33mWARNING\u001b[0m] - /home/runner/work/carsus/carsus/carsus/io/nist/ionization.py:248: FutureWarning: Setting an item of incompatible dtype is deprecated and will raise an error in a future version of pandas. Value '2P' has dtype incompatible with float64, please explicitly cast to a compatible dtype first.\n",
      "  lvl[\"term\"] = \"\".join([str(_) for _ in lvl_tokens[\"ls_term\"]])\n",
      " (\u001b[1mwarnings.py\u001b[0m:112)\n"
     ]
    },
    {
     "name": "stdout",
     "output_type": "stream",
     "text": [
      "[\u001b[1m                py.warnings\u001b[0m][\u001b[1;33mWARNING\u001b[0m] - /home/runner/work/carsus/carsus/carsus/io/nist/ionization.py:248: FutureWarning: Setting an item of incompatible dtype is deprecated and will raise an error in a future version of pandas. Value '1S' has dtype incompatible with float64, please explicitly cast to a compatible dtype first.\n",
      "  lvl[\"term\"] = \"\".join([str(_) for _ in lvl_tokens[\"ls_term\"]])\n",
      " (\u001b[1mwarnings.py\u001b[0m:112)\n"
     ]
    },
    {
     "name": "stdout",
     "output_type": "stream",
     "text": [
      "[\u001b[1m                py.warnings\u001b[0m][\u001b[1;33mWARNING\u001b[0m] - /home/runner/work/carsus/carsus/carsus/io/nist/ionization.py:248: FutureWarning: Setting an item of incompatible dtype is deprecated and will raise an error in a future version of pandas. Value '2S' has dtype incompatible with float64, please explicitly cast to a compatible dtype first.\n",
      "  lvl[\"term\"] = \"\".join([str(_) for _ in lvl_tokens[\"ls_term\"]])\n",
      " (\u001b[1mwarnings.py\u001b[0m:112)\n"
     ]
    },
    {
     "name": "stdout",
     "output_type": "stream",
     "text": [
      "[\u001b[1m                py.warnings\u001b[0m][\u001b[1;33mWARNING\u001b[0m] - /home/runner/work/carsus/carsus/carsus/io/nist/ionization.py:248: FutureWarning: Setting an item of incompatible dtype is deprecated and will raise an error in a future version of pandas. Value '1S' has dtype incompatible with float64, please explicitly cast to a compatible dtype first.\n",
      "  lvl[\"term\"] = \"\".join([str(_) for _ in lvl_tokens[\"ls_term\"]])\n",
      " (\u001b[1mwarnings.py\u001b[0m:112)\n"
     ]
    },
    {
     "name": "stdout",
     "output_type": "stream",
     "text": [
      "[\u001b[1m                py.warnings\u001b[0m][\u001b[1;33mWARNING\u001b[0m] - /home/runner/work/carsus/carsus/carsus/io/nist/ionization.py:248: FutureWarning: Setting an item of incompatible dtype is deprecated and will raise an error in a future version of pandas. Value '2P' has dtype incompatible with float64, please explicitly cast to a compatible dtype first.\n",
      "  lvl[\"term\"] = \"\".join([str(_) for _ in lvl_tokens[\"ls_term\"]])\n",
      " (\u001b[1mwarnings.py\u001b[0m:112)\n"
     ]
    },
    {
     "name": "stdout",
     "output_type": "stream",
     "text": [
      "[\u001b[1m                py.warnings\u001b[0m][\u001b[1;33mWARNING\u001b[0m] - /home/runner/work/carsus/carsus/carsus/io/nist/ionization.py:248: FutureWarning: Setting an item of incompatible dtype is deprecated and will raise an error in a future version of pandas. Value '3P' has dtype incompatible with float64, please explicitly cast to a compatible dtype first.\n",
      "  lvl[\"term\"] = \"\".join([str(_) for _ in lvl_tokens[\"ls_term\"]])\n",
      " (\u001b[1mwarnings.py\u001b[0m:112)\n"
     ]
    },
    {
     "name": "stdout",
     "output_type": "stream",
     "text": [
      "[\u001b[1m                py.warnings\u001b[0m][\u001b[1;33mWARNING\u001b[0m] - /home/runner/work/carsus/carsus/carsus/io/nist/ionization.py:248: FutureWarning: Setting an item of incompatible dtype is deprecated and will raise an error in a future version of pandas. Value '4S' has dtype incompatible with float64, please explicitly cast to a compatible dtype first.\n",
      "  lvl[\"term\"] = \"\".join([str(_) for _ in lvl_tokens[\"ls_term\"]])\n",
      " (\u001b[1mwarnings.py\u001b[0m:112)\n"
     ]
    },
    {
     "name": "stdout",
     "output_type": "stream",
     "text": [
      "[\u001b[1m                py.warnings\u001b[0m][\u001b[1;33mWARNING\u001b[0m] - /home/runner/work/carsus/carsus/carsus/io/nist/ionization.py:248: FutureWarning: Setting an item of incompatible dtype is deprecated and will raise an error in a future version of pandas. Value '3P' has dtype incompatible with float64, please explicitly cast to a compatible dtype first.\n",
      "  lvl[\"term\"] = \"\".join([str(_) for _ in lvl_tokens[\"ls_term\"]])\n",
      " (\u001b[1mwarnings.py\u001b[0m:112)\n"
     ]
    },
    {
     "name": "stdout",
     "output_type": "stream",
     "text": [
      "[\u001b[1m                py.warnings\u001b[0m][\u001b[1;33mWARNING\u001b[0m] - /home/runner/work/carsus/carsus/carsus/io/nist/ionization.py:248: FutureWarning: Setting an item of incompatible dtype is deprecated and will raise an error in a future version of pandas. Value '2P' has dtype incompatible with float64, please explicitly cast to a compatible dtype first.\n",
      "  lvl[\"term\"] = \"\".join([str(_) for _ in lvl_tokens[\"ls_term\"]])\n",
      " (\u001b[1mwarnings.py\u001b[0m:112)\n"
     ]
    },
    {
     "name": "stdout",
     "output_type": "stream",
     "text": [
      "[\u001b[1m                py.warnings\u001b[0m][\u001b[1;33mWARNING\u001b[0m] - /home/runner/work/carsus/carsus/carsus/io/nist/ionization.py:248: FutureWarning: Setting an item of incompatible dtype is deprecated and will raise an error in a future version of pandas. Value '1S' has dtype incompatible with float64, please explicitly cast to a compatible dtype first.\n",
      "  lvl[\"term\"] = \"\".join([str(_) for _ in lvl_tokens[\"ls_term\"]])\n",
      " (\u001b[1mwarnings.py\u001b[0m:112)\n"
     ]
    },
    {
     "name": "stdout",
     "output_type": "stream",
     "text": [
      "[\u001b[1m                py.warnings\u001b[0m][\u001b[1;33mWARNING\u001b[0m] - /home/runner/work/carsus/carsus/carsus/io/nist/ionization.py:248: FutureWarning: Setting an item of incompatible dtype is deprecated and will raise an error in a future version of pandas. Value '2S' has dtype incompatible with float64, please explicitly cast to a compatible dtype first.\n",
      "  lvl[\"term\"] = \"\".join([str(_) for _ in lvl_tokens[\"ls_term\"]])\n",
      " (\u001b[1mwarnings.py\u001b[0m:112)\n"
     ]
    },
    {
     "name": "stdout",
     "output_type": "stream",
     "text": [
      "[\u001b[1m                py.warnings\u001b[0m][\u001b[1;33mWARNING\u001b[0m] - /home/runner/work/carsus/carsus/carsus/io/nist/ionization.py:248: FutureWarning: Setting an item of incompatible dtype is deprecated and will raise an error in a future version of pandas. Value '1S' has dtype incompatible with float64, please explicitly cast to a compatible dtype first.\n",
      "  lvl[\"term\"] = \"\".join([str(_) for _ in lvl_tokens[\"ls_term\"]])\n",
      " (\u001b[1mwarnings.py\u001b[0m:112)\n"
     ]
    },
    {
     "name": "stdout",
     "output_type": "stream",
     "text": [
      "[\u001b[1m                py.warnings\u001b[0m][\u001b[1;33mWARNING\u001b[0m] - /home/runner/work/carsus/carsus/carsus/io/nist/ionization.py:248: FutureWarning: Setting an item of incompatible dtype is deprecated and will raise an error in a future version of pandas. Value '2S' has dtype incompatible with float64, please explicitly cast to a compatible dtype first.\n",
      "  lvl[\"term\"] = \"\".join([str(_) for _ in lvl_tokens[\"ls_term\"]])\n",
      " (\u001b[1mwarnings.py\u001b[0m:112)\n"
     ]
    },
    {
     "name": "stdout",
     "output_type": "stream",
     "text": [
      "[\u001b[1m                py.warnings\u001b[0m][\u001b[1;33mWARNING\u001b[0m] - /home/runner/work/carsus/carsus/carsus/io/nist/ionization.py:248: FutureWarning: Setting an item of incompatible dtype is deprecated and will raise an error in a future version of pandas. Value '7S' has dtype incompatible with float64, please explicitly cast to a compatible dtype first.\n",
      "  lvl[\"term\"] = \"\".join([str(_) for _ in lvl_tokens[\"ls_term\"]])\n",
      " (\u001b[1mwarnings.py\u001b[0m:112)\n"
     ]
    },
    {
     "name": "stdout",
     "output_type": "stream",
     "text": [
      "[\u001b[1m                py.warnings\u001b[0m][\u001b[1;33mWARNING\u001b[0m] - /home/runner/work/carsus/carsus/carsus/io/nist/ionization.py:248: FutureWarning: Setting an item of incompatible dtype is deprecated and will raise an error in a future version of pandas. Value '6S' has dtype incompatible with float64, please explicitly cast to a compatible dtype first.\n",
      "  lvl[\"term\"] = \"\".join([str(_) for _ in lvl_tokens[\"ls_term\"]])\n",
      " (\u001b[1mwarnings.py\u001b[0m:112)\n"
     ]
    },
    {
     "name": "stdout",
     "output_type": "stream",
     "text": [
      "[\u001b[1m                py.warnings\u001b[0m][\u001b[1;33mWARNING\u001b[0m] - /home/runner/work/carsus/carsus/carsus/io/nist/ionization.py:248: FutureWarning: Setting an item of incompatible dtype is deprecated and will raise an error in a future version of pandas. Value '5D' has dtype incompatible with float64, please explicitly cast to a compatible dtype first.\n",
      "  lvl[\"term\"] = \"\".join([str(_) for _ in lvl_tokens[\"ls_term\"]])\n",
      " (\u001b[1mwarnings.py\u001b[0m:112)\n"
     ]
    },
    {
     "name": "stdout",
     "output_type": "stream",
     "text": [
      "[\u001b[1m                py.warnings\u001b[0m][\u001b[1;33mWARNING\u001b[0m] - /home/runner/work/carsus/carsus/carsus/io/nist/ionization.py:248: FutureWarning: Setting an item of incompatible dtype is deprecated and will raise an error in a future version of pandas. Value '4F' has dtype incompatible with float64, please explicitly cast to a compatible dtype first.\n",
      "  lvl[\"term\"] = \"\".join([str(_) for _ in lvl_tokens[\"ls_term\"]])\n",
      " (\u001b[1mwarnings.py\u001b[0m:112)\n"
     ]
    },
    {
     "name": "stdout",
     "output_type": "stream",
     "text": [
      "[\u001b[1m                py.warnings\u001b[0m][\u001b[1;33mWARNING\u001b[0m] - /home/runner/work/carsus/carsus/carsus/io/nist/ionization.py:248: FutureWarning: Setting an item of incompatible dtype is deprecated and will raise an error in a future version of pandas. Value '3F' has dtype incompatible with float64, please explicitly cast to a compatible dtype first.\n",
      "  lvl[\"term\"] = \"\".join([str(_) for _ in lvl_tokens[\"ls_term\"]])\n",
      " (\u001b[1mwarnings.py\u001b[0m:112)\n"
     ]
    },
    {
     "name": "stdout",
     "output_type": "stream",
     "text": [
      "[\u001b[1m                py.warnings\u001b[0m][\u001b[1;33mWARNING\u001b[0m] - /home/runner/work/carsus/carsus/carsus/io/nist/ionization.py:248: FutureWarning: Setting an item of incompatible dtype is deprecated and will raise an error in a future version of pandas. Value '2D' has dtype incompatible with float64, please explicitly cast to a compatible dtype first.\n",
      "  lvl[\"term\"] = \"\".join([str(_) for _ in lvl_tokens[\"ls_term\"]])\n",
      " (\u001b[1mwarnings.py\u001b[0m:112)\n"
     ]
    },
    {
     "name": "stdout",
     "output_type": "stream",
     "text": [
      "[\u001b[1m                py.warnings\u001b[0m][\u001b[1;33mWARNING\u001b[0m] - /home/runner/work/carsus/carsus/carsus/io/nist/ionization.py:248: FutureWarning: Setting an item of incompatible dtype is deprecated and will raise an error in a future version of pandas. Value '1S' has dtype incompatible with float64, please explicitly cast to a compatible dtype first.\n",
      "  lvl[\"term\"] = \"\".join([str(_) for _ in lvl_tokens[\"ls_term\"]])\n",
      " (\u001b[1mwarnings.py\u001b[0m:112)\n"
     ]
    },
    {
     "name": "stdout",
     "output_type": "stream",
     "text": [
      "[\u001b[1m                py.warnings\u001b[0m][\u001b[1;33mWARNING\u001b[0m] - /home/runner/work/carsus/carsus/carsus/io/nist/ionization.py:248: FutureWarning: Setting an item of incompatible dtype is deprecated and will raise an error in a future version of pandas. Value '2P' has dtype incompatible with float64, please explicitly cast to a compatible dtype first.\n",
      "  lvl[\"term\"] = \"\".join([str(_) for _ in lvl_tokens[\"ls_term\"]])\n",
      " (\u001b[1mwarnings.py\u001b[0m:112)\n"
     ]
    },
    {
     "name": "stdout",
     "output_type": "stream",
     "text": [
      "[\u001b[1m                py.warnings\u001b[0m][\u001b[1;33mWARNING\u001b[0m] - /home/runner/work/carsus/carsus/carsus/io/nist/ionization.py:248: FutureWarning: Setting an item of incompatible dtype is deprecated and will raise an error in a future version of pandas. Value '3P' has dtype incompatible with float64, please explicitly cast to a compatible dtype first.\n",
      "  lvl[\"term\"] = \"\".join([str(_) for _ in lvl_tokens[\"ls_term\"]])\n",
      " (\u001b[1mwarnings.py\u001b[0m:112)\n"
     ]
    },
    {
     "name": "stdout",
     "output_type": "stream",
     "text": [
      "[\u001b[1m                py.warnings\u001b[0m][\u001b[1;33mWARNING\u001b[0m] - /home/runner/work/carsus/carsus/carsus/io/nist/ionization.py:248: FutureWarning: Setting an item of incompatible dtype is deprecated and will raise an error in a future version of pandas. Value '4S' has dtype incompatible with float64, please explicitly cast to a compatible dtype first.\n",
      "  lvl[\"term\"] = \"\".join([str(_) for _ in lvl_tokens[\"ls_term\"]])\n",
      " (\u001b[1mwarnings.py\u001b[0m:112)\n"
     ]
    },
    {
     "name": "stdout",
     "output_type": "stream",
     "text": [
      "[\u001b[1m                py.warnings\u001b[0m][\u001b[1;33mWARNING\u001b[0m] - /home/runner/work/carsus/carsus/carsus/io/nist/ionization.py:248: FutureWarning: Setting an item of incompatible dtype is deprecated and will raise an error in a future version of pandas. Value '3P' has dtype incompatible with float64, please explicitly cast to a compatible dtype first.\n",
      "  lvl[\"term\"] = \"\".join([str(_) for _ in lvl_tokens[\"ls_term\"]])\n",
      " (\u001b[1mwarnings.py\u001b[0m:112)\n"
     ]
    },
    {
     "name": "stdout",
     "output_type": "stream",
     "text": [
      "[\u001b[1m                py.warnings\u001b[0m][\u001b[1;33mWARNING\u001b[0m] - /home/runner/work/carsus/carsus/carsus/io/nist/ionization.py:248: FutureWarning: Setting an item of incompatible dtype is deprecated and will raise an error in a future version of pandas. Value '2P' has dtype incompatible with float64, please explicitly cast to a compatible dtype first.\n",
      "  lvl[\"term\"] = \"\".join([str(_) for _ in lvl_tokens[\"ls_term\"]])\n",
      " (\u001b[1mwarnings.py\u001b[0m:112)\n"
     ]
    },
    {
     "name": "stdout",
     "output_type": "stream",
     "text": [
      "[\u001b[1m                py.warnings\u001b[0m][\u001b[1;33mWARNING\u001b[0m] - /home/runner/work/carsus/carsus/carsus/io/nist/ionization.py:248: FutureWarning: Setting an item of incompatible dtype is deprecated and will raise an error in a future version of pandas. Value '1S' has dtype incompatible with float64, please explicitly cast to a compatible dtype first.\n",
      "  lvl[\"term\"] = \"\".join([str(_) for _ in lvl_tokens[\"ls_term\"]])\n",
      " (\u001b[1mwarnings.py\u001b[0m:112)\n"
     ]
    },
    {
     "name": "stdout",
     "output_type": "stream",
     "text": [
      "[\u001b[1m                py.warnings\u001b[0m][\u001b[1;33mWARNING\u001b[0m] - /home/runner/work/carsus/carsus/carsus/io/nist/ionization.py:248: FutureWarning: Setting an item of incompatible dtype is deprecated and will raise an error in a future version of pandas. Value '2S' has dtype incompatible with float64, please explicitly cast to a compatible dtype first.\n",
      "  lvl[\"term\"] = \"\".join([str(_) for _ in lvl_tokens[\"ls_term\"]])\n",
      " (\u001b[1mwarnings.py\u001b[0m:112)\n"
     ]
    },
    {
     "name": "stdout",
     "output_type": "stream",
     "text": [
      "[\u001b[1m                py.warnings\u001b[0m][\u001b[1;33mWARNING\u001b[0m] - /home/runner/work/carsus/carsus/carsus/io/nist/ionization.py:248: FutureWarning: Setting an item of incompatible dtype is deprecated and will raise an error in a future version of pandas. Value '1S' has dtype incompatible with float64, please explicitly cast to a compatible dtype first.\n",
      "  lvl[\"term\"] = \"\".join([str(_) for _ in lvl_tokens[\"ls_term\"]])\n",
      " (\u001b[1mwarnings.py\u001b[0m:112)\n"
     ]
    },
    {
     "name": "stdout",
     "output_type": "stream",
     "text": [
      "[\u001b[1m                py.warnings\u001b[0m][\u001b[1;33mWARNING\u001b[0m] - /home/runner/work/carsus/carsus/carsus/io/nist/ionization.py:248: FutureWarning: Setting an item of incompatible dtype is deprecated and will raise an error in a future version of pandas. Value '2P' has dtype incompatible with float64, please explicitly cast to a compatible dtype first.\n",
      "  lvl[\"term\"] = \"\".join([str(_) for _ in lvl_tokens[\"ls_term\"]])\n",
      " (\u001b[1mwarnings.py\u001b[0m:112)\n"
     ]
    },
    {
     "name": "stdout",
     "output_type": "stream",
     "text": [
      "[\u001b[1m                py.warnings\u001b[0m][\u001b[1;33mWARNING\u001b[0m] - /home/runner/work/carsus/carsus/carsus/io/nist/ionization.py:248: FutureWarning: Setting an item of incompatible dtype is deprecated and will raise an error in a future version of pandas. Value '3P' has dtype incompatible with float64, please explicitly cast to a compatible dtype first.\n",
      "  lvl[\"term\"] = \"\".join([str(_) for _ in lvl_tokens[\"ls_term\"]])\n",
      " (\u001b[1mwarnings.py\u001b[0m:112)\n"
     ]
    },
    {
     "name": "stdout",
     "output_type": "stream",
     "text": [
      "[\u001b[1m                py.warnings\u001b[0m][\u001b[1;33mWARNING\u001b[0m] - /home/runner/work/carsus/carsus/carsus/io/nist/ionization.py:248: FutureWarning: Setting an item of incompatible dtype is deprecated and will raise an error in a future version of pandas. Value '4S' has dtype incompatible with float64, please explicitly cast to a compatible dtype first.\n",
      "  lvl[\"term\"] = \"\".join([str(_) for _ in lvl_tokens[\"ls_term\"]])\n",
      " (\u001b[1mwarnings.py\u001b[0m:112)\n"
     ]
    },
    {
     "name": "stdout",
     "output_type": "stream",
     "text": [
      "[\u001b[1m                py.warnings\u001b[0m][\u001b[1;33mWARNING\u001b[0m] - /home/runner/work/carsus/carsus/carsus/io/nist/ionization.py:248: FutureWarning: Setting an item of incompatible dtype is deprecated and will raise an error in a future version of pandas. Value '3P' has dtype incompatible with float64, please explicitly cast to a compatible dtype first.\n",
      "  lvl[\"term\"] = \"\".join([str(_) for _ in lvl_tokens[\"ls_term\"]])\n",
      " (\u001b[1mwarnings.py\u001b[0m:112)\n"
     ]
    },
    {
     "name": "stdout",
     "output_type": "stream",
     "text": [
      "[\u001b[1m                py.warnings\u001b[0m][\u001b[1;33mWARNING\u001b[0m] - /home/runner/work/carsus/carsus/carsus/io/nist/ionization.py:248: FutureWarning: Setting an item of incompatible dtype is deprecated and will raise an error in a future version of pandas. Value '2P' has dtype incompatible with float64, please explicitly cast to a compatible dtype first.\n",
      "  lvl[\"term\"] = \"\".join([str(_) for _ in lvl_tokens[\"ls_term\"]])\n",
      " (\u001b[1mwarnings.py\u001b[0m:112)\n"
     ]
    },
    {
     "name": "stdout",
     "output_type": "stream",
     "text": [
      "[\u001b[1m                py.warnings\u001b[0m][\u001b[1;33mWARNING\u001b[0m] - /home/runner/work/carsus/carsus/carsus/io/nist/ionization.py:248: FutureWarning: Setting an item of incompatible dtype is deprecated and will raise an error in a future version of pandas. Value '1S' has dtype incompatible with float64, please explicitly cast to a compatible dtype first.\n",
      "  lvl[\"term\"] = \"\".join([str(_) for _ in lvl_tokens[\"ls_term\"]])\n",
      " (\u001b[1mwarnings.py\u001b[0m:112)\n"
     ]
    },
    {
     "name": "stdout",
     "output_type": "stream",
     "text": [
      "[\u001b[1m                py.warnings\u001b[0m][\u001b[1;33mWARNING\u001b[0m] - /home/runner/work/carsus/carsus/carsus/io/nist/ionization.py:248: FutureWarning: Setting an item of incompatible dtype is deprecated and will raise an error in a future version of pandas. Value '2S' has dtype incompatible with float64, please explicitly cast to a compatible dtype first.\n",
      "  lvl[\"term\"] = \"\".join([str(_) for _ in lvl_tokens[\"ls_term\"]])\n",
      " (\u001b[1mwarnings.py\u001b[0m:112)\n"
     ]
    },
    {
     "name": "stdout",
     "output_type": "stream",
     "text": [
      "[\u001b[1m                py.warnings\u001b[0m][\u001b[1;33mWARNING\u001b[0m] - /home/runner/work/carsus/carsus/carsus/io/nist/ionization.py:248: FutureWarning: Setting an item of incompatible dtype is deprecated and will raise an error in a future version of pandas. Value '1S' has dtype incompatible with float64, please explicitly cast to a compatible dtype first.\n",
      "  lvl[\"term\"] = \"\".join([str(_) for _ in lvl_tokens[\"ls_term\"]])\n",
      " (\u001b[1mwarnings.py\u001b[0m:112)\n"
     ]
    },
    {
     "name": "stdout",
     "output_type": "stream",
     "text": [
      "[\u001b[1m                py.warnings\u001b[0m][\u001b[1;33mWARNING\u001b[0m] - /home/runner/work/carsus/carsus/carsus/io/nist/ionization.py:248: FutureWarning: Setting an item of incompatible dtype is deprecated and will raise an error in a future version of pandas. Value '2S' has dtype incompatible with float64, please explicitly cast to a compatible dtype first.\n",
      "  lvl[\"term\"] = \"\".join([str(_) for _ in lvl_tokens[\"ls_term\"]])\n",
      " (\u001b[1mwarnings.py\u001b[0m:112)\n"
     ]
    },
    {
     "name": "stdout",
     "output_type": "stream",
     "text": [
      "[\u001b[1m                py.warnings\u001b[0m][\u001b[1;33mWARNING\u001b[0m] - /home/runner/work/carsus/carsus/carsus/io/nist/ionization.py:248: FutureWarning: Setting an item of incompatible dtype is deprecated and will raise an error in a future version of pandas. Value '6S' has dtype incompatible with float64, please explicitly cast to a compatible dtype first.\n",
      "  lvl[\"term\"] = \"\".join([str(_) for _ in lvl_tokens[\"ls_term\"]])\n",
      " (\u001b[1mwarnings.py\u001b[0m:112)\n"
     ]
    },
    {
     "name": "stdout",
     "output_type": "stream",
     "text": [
      "[\u001b[1m                py.warnings\u001b[0m][\u001b[1;33mWARNING\u001b[0m] - /home/runner/work/carsus/carsus/carsus/io/nist/ionization.py:248: FutureWarning: Setting an item of incompatible dtype is deprecated and will raise an error in a future version of pandas. Value '7S' has dtype incompatible with float64, please explicitly cast to a compatible dtype first.\n",
      "  lvl[\"term\"] = \"\".join([str(_) for _ in lvl_tokens[\"ls_term\"]])\n",
      " (\u001b[1mwarnings.py\u001b[0m:112)\n"
     ]
    },
    {
     "name": "stdout",
     "output_type": "stream",
     "text": [
      "[\u001b[1m                py.warnings\u001b[0m][\u001b[1;33mWARNING\u001b[0m] - /home/runner/work/carsus/carsus/carsus/io/nist/ionization.py:248: FutureWarning: Setting an item of incompatible dtype is deprecated and will raise an error in a future version of pandas. Value '6S' has dtype incompatible with float64, please explicitly cast to a compatible dtype first.\n",
      "  lvl[\"term\"] = \"\".join([str(_) for _ in lvl_tokens[\"ls_term\"]])\n",
      " (\u001b[1mwarnings.py\u001b[0m:112)\n"
     ]
    },
    {
     "name": "stdout",
     "output_type": "stream",
     "text": [
      "[\u001b[1m                py.warnings\u001b[0m][\u001b[1;33mWARNING\u001b[0m] - /home/runner/work/carsus/carsus/carsus/io/nist/ionization.py:248: FutureWarning: Setting an item of incompatible dtype is deprecated and will raise an error in a future version of pandas. Value '5D' has dtype incompatible with float64, please explicitly cast to a compatible dtype first.\n",
      "  lvl[\"term\"] = \"\".join([str(_) for _ in lvl_tokens[\"ls_term\"]])\n",
      " (\u001b[1mwarnings.py\u001b[0m:112)\n"
     ]
    },
    {
     "name": "stdout",
     "output_type": "stream",
     "text": [
      "[\u001b[1m                py.warnings\u001b[0m][\u001b[1;33mWARNING\u001b[0m] - /home/runner/work/carsus/carsus/carsus/io/nist/ionization.py:248: FutureWarning: Setting an item of incompatible dtype is deprecated and will raise an error in a future version of pandas. Value '4F' has dtype incompatible with float64, please explicitly cast to a compatible dtype first.\n",
      "  lvl[\"term\"] = \"\".join([str(_) for _ in lvl_tokens[\"ls_term\"]])\n",
      " (\u001b[1mwarnings.py\u001b[0m:112)\n"
     ]
    },
    {
     "name": "stdout",
     "output_type": "stream",
     "text": [
      "[\u001b[1m                py.warnings\u001b[0m][\u001b[1;33mWARNING\u001b[0m] - /home/runner/work/carsus/carsus/carsus/io/nist/ionization.py:248: FutureWarning: Setting an item of incompatible dtype is deprecated and will raise an error in a future version of pandas. Value '3F' has dtype incompatible with float64, please explicitly cast to a compatible dtype first.\n",
      "  lvl[\"term\"] = \"\".join([str(_) for _ in lvl_tokens[\"ls_term\"]])\n",
      " (\u001b[1mwarnings.py\u001b[0m:112)\n"
     ]
    },
    {
     "name": "stdout",
     "output_type": "stream",
     "text": [
      "[\u001b[1m                py.warnings\u001b[0m][\u001b[1;33mWARNING\u001b[0m] - /home/runner/work/carsus/carsus/carsus/io/nist/ionization.py:248: FutureWarning: Setting an item of incompatible dtype is deprecated and will raise an error in a future version of pandas. Value '2D' has dtype incompatible with float64, please explicitly cast to a compatible dtype first.\n",
      "  lvl[\"term\"] = \"\".join([str(_) for _ in lvl_tokens[\"ls_term\"]])\n",
      " (\u001b[1mwarnings.py\u001b[0m:112)\n"
     ]
    },
    {
     "name": "stdout",
     "output_type": "stream",
     "text": [
      "[\u001b[1m                py.warnings\u001b[0m][\u001b[1;33mWARNING\u001b[0m] - /home/runner/work/carsus/carsus/carsus/io/nist/ionization.py:248: FutureWarning: Setting an item of incompatible dtype is deprecated and will raise an error in a future version of pandas. Value '1S' has dtype incompatible with float64, please explicitly cast to a compatible dtype first.\n",
      "  lvl[\"term\"] = \"\".join([str(_) for _ in lvl_tokens[\"ls_term\"]])\n",
      " (\u001b[1mwarnings.py\u001b[0m:112)\n"
     ]
    },
    {
     "name": "stdout",
     "output_type": "stream",
     "text": [
      "[\u001b[1m                py.warnings\u001b[0m][\u001b[1;33mWARNING\u001b[0m] - /home/runner/work/carsus/carsus/carsus/io/nist/ionization.py:248: FutureWarning: Setting an item of incompatible dtype is deprecated and will raise an error in a future version of pandas. Value '2P' has dtype incompatible with float64, please explicitly cast to a compatible dtype first.\n",
      "  lvl[\"term\"] = \"\".join([str(_) for _ in lvl_tokens[\"ls_term\"]])\n",
      " (\u001b[1mwarnings.py\u001b[0m:112)\n"
     ]
    },
    {
     "name": "stdout",
     "output_type": "stream",
     "text": [
      "[\u001b[1m                py.warnings\u001b[0m][\u001b[1;33mWARNING\u001b[0m] - /home/runner/work/carsus/carsus/carsus/io/nist/ionization.py:248: FutureWarning: Setting an item of incompatible dtype is deprecated and will raise an error in a future version of pandas. Value '3P' has dtype incompatible with float64, please explicitly cast to a compatible dtype first.\n",
      "  lvl[\"term\"] = \"\".join([str(_) for _ in lvl_tokens[\"ls_term\"]])\n",
      " (\u001b[1mwarnings.py\u001b[0m:112)\n"
     ]
    },
    {
     "name": "stdout",
     "output_type": "stream",
     "text": [
      "[\u001b[1m                py.warnings\u001b[0m][\u001b[1;33mWARNING\u001b[0m] - /home/runner/work/carsus/carsus/carsus/io/nist/ionization.py:248: FutureWarning: Setting an item of incompatible dtype is deprecated and will raise an error in a future version of pandas. Value '4S' has dtype incompatible with float64, please explicitly cast to a compatible dtype first.\n",
      "  lvl[\"term\"] = \"\".join([str(_) for _ in lvl_tokens[\"ls_term\"]])\n",
      " (\u001b[1mwarnings.py\u001b[0m:112)\n"
     ]
    },
    {
     "name": "stdout",
     "output_type": "stream",
     "text": [
      "[\u001b[1m                py.warnings\u001b[0m][\u001b[1;33mWARNING\u001b[0m] - /home/runner/work/carsus/carsus/carsus/io/nist/ionization.py:248: FutureWarning: Setting an item of incompatible dtype is deprecated and will raise an error in a future version of pandas. Value '3P' has dtype incompatible with float64, please explicitly cast to a compatible dtype first.\n",
      "  lvl[\"term\"] = \"\".join([str(_) for _ in lvl_tokens[\"ls_term\"]])\n",
      " (\u001b[1mwarnings.py\u001b[0m:112)\n"
     ]
    },
    {
     "name": "stdout",
     "output_type": "stream",
     "text": [
      "[\u001b[1m                py.warnings\u001b[0m][\u001b[1;33mWARNING\u001b[0m] - /home/runner/work/carsus/carsus/carsus/io/nist/ionization.py:248: FutureWarning: Setting an item of incompatible dtype is deprecated and will raise an error in a future version of pandas. Value '2P' has dtype incompatible with float64, please explicitly cast to a compatible dtype first.\n",
      "  lvl[\"term\"] = \"\".join([str(_) for _ in lvl_tokens[\"ls_term\"]])\n",
      " (\u001b[1mwarnings.py\u001b[0m:112)\n"
     ]
    },
    {
     "name": "stdout",
     "output_type": "stream",
     "text": [
      "[\u001b[1m                py.warnings\u001b[0m][\u001b[1;33mWARNING\u001b[0m] - /home/runner/work/carsus/carsus/carsus/io/nist/ionization.py:248: FutureWarning: Setting an item of incompatible dtype is deprecated and will raise an error in a future version of pandas. Value '1S' has dtype incompatible with float64, please explicitly cast to a compatible dtype first.\n",
      "  lvl[\"term\"] = \"\".join([str(_) for _ in lvl_tokens[\"ls_term\"]])\n",
      " (\u001b[1mwarnings.py\u001b[0m:112)\n"
     ]
    },
    {
     "name": "stdout",
     "output_type": "stream",
     "text": [
      "[\u001b[1m                py.warnings\u001b[0m][\u001b[1;33mWARNING\u001b[0m] - /home/runner/work/carsus/carsus/carsus/io/nist/ionization.py:248: FutureWarning: Setting an item of incompatible dtype is deprecated and will raise an error in a future version of pandas. Value '2S' has dtype incompatible with float64, please explicitly cast to a compatible dtype first.\n",
      "  lvl[\"term\"] = \"\".join([str(_) for _ in lvl_tokens[\"ls_term\"]])\n",
      " (\u001b[1mwarnings.py\u001b[0m:112)\n"
     ]
    },
    {
     "name": "stdout",
     "output_type": "stream",
     "text": [
      "[\u001b[1m                py.warnings\u001b[0m][\u001b[1;33mWARNING\u001b[0m] - /home/runner/work/carsus/carsus/carsus/io/nist/ionization.py:248: FutureWarning: Setting an item of incompatible dtype is deprecated and will raise an error in a future version of pandas. Value '1S' has dtype incompatible with float64, please explicitly cast to a compatible dtype first.\n",
      "  lvl[\"term\"] = \"\".join([str(_) for _ in lvl_tokens[\"ls_term\"]])\n",
      " (\u001b[1mwarnings.py\u001b[0m:112)\n"
     ]
    },
    {
     "name": "stdout",
     "output_type": "stream",
     "text": [
      "[\u001b[1m                py.warnings\u001b[0m][\u001b[1;33mWARNING\u001b[0m] - /home/runner/work/carsus/carsus/carsus/io/nist/ionization.py:248: FutureWarning: Setting an item of incompatible dtype is deprecated and will raise an error in a future version of pandas. Value '2P' has dtype incompatible with float64, please explicitly cast to a compatible dtype first.\n",
      "  lvl[\"term\"] = \"\".join([str(_) for _ in lvl_tokens[\"ls_term\"]])\n",
      " (\u001b[1mwarnings.py\u001b[0m:112)\n"
     ]
    },
    {
     "name": "stdout",
     "output_type": "stream",
     "text": [
      "[\u001b[1m                py.warnings\u001b[0m][\u001b[1;33mWARNING\u001b[0m] - /home/runner/work/carsus/carsus/carsus/io/nist/ionization.py:248: FutureWarning: Setting an item of incompatible dtype is deprecated and will raise an error in a future version of pandas. Value '3P' has dtype incompatible with float64, please explicitly cast to a compatible dtype first.\n",
      "  lvl[\"term\"] = \"\".join([str(_) for _ in lvl_tokens[\"ls_term\"]])\n",
      " (\u001b[1mwarnings.py\u001b[0m:112)\n"
     ]
    },
    {
     "name": "stdout",
     "output_type": "stream",
     "text": [
      "[\u001b[1m                py.warnings\u001b[0m][\u001b[1;33mWARNING\u001b[0m] - /home/runner/work/carsus/carsus/carsus/io/nist/ionization.py:248: FutureWarning: Setting an item of incompatible dtype is deprecated and will raise an error in a future version of pandas. Value '4S' has dtype incompatible with float64, please explicitly cast to a compatible dtype first.\n",
      "  lvl[\"term\"] = \"\".join([str(_) for _ in lvl_tokens[\"ls_term\"]])\n",
      " (\u001b[1mwarnings.py\u001b[0m:112)\n"
     ]
    },
    {
     "name": "stdout",
     "output_type": "stream",
     "text": [
      "[\u001b[1m                py.warnings\u001b[0m][\u001b[1;33mWARNING\u001b[0m] - /home/runner/work/carsus/carsus/carsus/io/nist/ionization.py:248: FutureWarning: Setting an item of incompatible dtype is deprecated and will raise an error in a future version of pandas. Value '3P' has dtype incompatible with float64, please explicitly cast to a compatible dtype first.\n",
      "  lvl[\"term\"] = \"\".join([str(_) for _ in lvl_tokens[\"ls_term\"]])\n",
      " (\u001b[1mwarnings.py\u001b[0m:112)\n"
     ]
    },
    {
     "name": "stdout",
     "output_type": "stream",
     "text": [
      "[\u001b[1m                py.warnings\u001b[0m][\u001b[1;33mWARNING\u001b[0m] - /home/runner/work/carsus/carsus/carsus/io/nist/ionization.py:248: FutureWarning: Setting an item of incompatible dtype is deprecated and will raise an error in a future version of pandas. Value '2P' has dtype incompatible with float64, please explicitly cast to a compatible dtype first.\n",
      "  lvl[\"term\"] = \"\".join([str(_) for _ in lvl_tokens[\"ls_term\"]])\n",
      " (\u001b[1mwarnings.py\u001b[0m:112)\n"
     ]
    },
    {
     "name": "stdout",
     "output_type": "stream",
     "text": [
      "[\u001b[1m                py.warnings\u001b[0m][\u001b[1;33mWARNING\u001b[0m] - /home/runner/work/carsus/carsus/carsus/io/nist/ionization.py:248: FutureWarning: Setting an item of incompatible dtype is deprecated and will raise an error in a future version of pandas. Value '1S' has dtype incompatible with float64, please explicitly cast to a compatible dtype first.\n",
      "  lvl[\"term\"] = \"\".join([str(_) for _ in lvl_tokens[\"ls_term\"]])\n",
      " (\u001b[1mwarnings.py\u001b[0m:112)\n"
     ]
    },
    {
     "name": "stdout",
     "output_type": "stream",
     "text": [
      "[\u001b[1m                py.warnings\u001b[0m][\u001b[1;33mWARNING\u001b[0m] - /home/runner/work/carsus/carsus/carsus/io/nist/ionization.py:248: FutureWarning: Setting an item of incompatible dtype is deprecated and will raise an error in a future version of pandas. Value '2S' has dtype incompatible with float64, please explicitly cast to a compatible dtype first.\n",
      "  lvl[\"term\"] = \"\".join([str(_) for _ in lvl_tokens[\"ls_term\"]])\n",
      " (\u001b[1mwarnings.py\u001b[0m:112)\n"
     ]
    },
    {
     "name": "stdout",
     "output_type": "stream",
     "text": [
      "[\u001b[1m                py.warnings\u001b[0m][\u001b[1;33mWARNING\u001b[0m] - /home/runner/work/carsus/carsus/carsus/io/nist/ionization.py:248: FutureWarning: Setting an item of incompatible dtype is deprecated and will raise an error in a future version of pandas. Value '1S' has dtype incompatible with float64, please explicitly cast to a compatible dtype first.\n",
      "  lvl[\"term\"] = \"\".join([str(_) for _ in lvl_tokens[\"ls_term\"]])\n",
      " (\u001b[1mwarnings.py\u001b[0m:112)\n"
     ]
    },
    {
     "name": "stdout",
     "output_type": "stream",
     "text": [
      "[\u001b[1m                py.warnings\u001b[0m][\u001b[1;33mWARNING\u001b[0m] - /home/runner/work/carsus/carsus/carsus/io/nist/ionization.py:248: FutureWarning: Setting an item of incompatible dtype is deprecated and will raise an error in a future version of pandas. Value '2S' has dtype incompatible with float64, please explicitly cast to a compatible dtype first.\n",
      "  lvl[\"term\"] = \"\".join([str(_) for _ in lvl_tokens[\"ls_term\"]])\n",
      " (\u001b[1mwarnings.py\u001b[0m:112)\n"
     ]
    },
    {
     "name": "stdout",
     "output_type": "stream",
     "text": [
      "[\u001b[1m                py.warnings\u001b[0m][\u001b[1;33mWARNING\u001b[0m] - /home/runner/work/carsus/carsus/carsus/io/nist/ionization.py:248: FutureWarning: Setting an item of incompatible dtype is deprecated and will raise an error in a future version of pandas. Value '5D' has dtype incompatible with float64, please explicitly cast to a compatible dtype first.\n",
      "  lvl[\"term\"] = \"\".join([str(_) for _ in lvl_tokens[\"ls_term\"]])\n",
      " (\u001b[1mwarnings.py\u001b[0m:112)\n"
     ]
    },
    {
     "name": "stdout",
     "output_type": "stream",
     "text": [
      "[\u001b[1m                py.warnings\u001b[0m][\u001b[1;33mWARNING\u001b[0m] - /home/runner/work/carsus/carsus/carsus/io/nist/ionization.py:248: FutureWarning: Setting an item of incompatible dtype is deprecated and will raise an error in a future version of pandas. Value '6D' has dtype incompatible with float64, please explicitly cast to a compatible dtype first.\n",
      "  lvl[\"term\"] = \"\".join([str(_) for _ in lvl_tokens[\"ls_term\"]])\n",
      " (\u001b[1mwarnings.py\u001b[0m:112)\n"
     ]
    },
    {
     "name": "stdout",
     "output_type": "stream",
     "text": [
      "[\u001b[1m                py.warnings\u001b[0m][\u001b[1;33mWARNING\u001b[0m] - /home/runner/work/carsus/carsus/carsus/io/nist/ionization.py:248: FutureWarning: Setting an item of incompatible dtype is deprecated and will raise an error in a future version of pandas. Value '5D' has dtype incompatible with float64, please explicitly cast to a compatible dtype first.\n",
      "  lvl[\"term\"] = \"\".join([str(_) for _ in lvl_tokens[\"ls_term\"]])\n",
      " (\u001b[1mwarnings.py\u001b[0m:112)\n"
     ]
    },
    {
     "name": "stdout",
     "output_type": "stream",
     "text": [
      "[\u001b[1m                py.warnings\u001b[0m][\u001b[1;33mWARNING\u001b[0m] - /home/runner/work/carsus/carsus/carsus/io/nist/ionization.py:248: FutureWarning: Setting an item of incompatible dtype is deprecated and will raise an error in a future version of pandas. Value '6S' has dtype incompatible with float64, please explicitly cast to a compatible dtype first.\n",
      "  lvl[\"term\"] = \"\".join([str(_) for _ in lvl_tokens[\"ls_term\"]])\n",
      " (\u001b[1mwarnings.py\u001b[0m:112)\n"
     ]
    },
    {
     "name": "stdout",
     "output_type": "stream",
     "text": [
      "[\u001b[1m                py.warnings\u001b[0m][\u001b[1;33mWARNING\u001b[0m] - /home/runner/work/carsus/carsus/carsus/io/nist/ionization.py:248: FutureWarning: Setting an item of incompatible dtype is deprecated and will raise an error in a future version of pandas. Value '5D' has dtype incompatible with float64, please explicitly cast to a compatible dtype first.\n",
      "  lvl[\"term\"] = \"\".join([str(_) for _ in lvl_tokens[\"ls_term\"]])\n",
      " (\u001b[1mwarnings.py\u001b[0m:112)\n"
     ]
    },
    {
     "name": "stdout",
     "output_type": "stream",
     "text": [
      "[\u001b[1m                py.warnings\u001b[0m][\u001b[1;33mWARNING\u001b[0m] - /home/runner/work/carsus/carsus/carsus/io/nist/ionization.py:248: FutureWarning: Setting an item of incompatible dtype is deprecated and will raise an error in a future version of pandas. Value '4F' has dtype incompatible with float64, please explicitly cast to a compatible dtype first.\n",
      "  lvl[\"term\"] = \"\".join([str(_) for _ in lvl_tokens[\"ls_term\"]])\n",
      " (\u001b[1mwarnings.py\u001b[0m:112)\n"
     ]
    },
    {
     "name": "stdout",
     "output_type": "stream",
     "text": [
      "[\u001b[1m                py.warnings\u001b[0m][\u001b[1;33mWARNING\u001b[0m] - /home/runner/work/carsus/carsus/carsus/io/nist/ionization.py:248: FutureWarning: Setting an item of incompatible dtype is deprecated and will raise an error in a future version of pandas. Value '3F' has dtype incompatible with float64, please explicitly cast to a compatible dtype first.\n",
      "  lvl[\"term\"] = \"\".join([str(_) for _ in lvl_tokens[\"ls_term\"]])\n",
      " (\u001b[1mwarnings.py\u001b[0m:112)\n"
     ]
    },
    {
     "name": "stdout",
     "output_type": "stream",
     "text": [
      "[\u001b[1m                py.warnings\u001b[0m][\u001b[1;33mWARNING\u001b[0m] - /home/runner/work/carsus/carsus/carsus/io/nist/ionization.py:248: FutureWarning: Setting an item of incompatible dtype is deprecated and will raise an error in a future version of pandas. Value '2D' has dtype incompatible with float64, please explicitly cast to a compatible dtype first.\n",
      "  lvl[\"term\"] = \"\".join([str(_) for _ in lvl_tokens[\"ls_term\"]])\n",
      " (\u001b[1mwarnings.py\u001b[0m:112)\n"
     ]
    },
    {
     "name": "stdout",
     "output_type": "stream",
     "text": [
      "[\u001b[1m                py.warnings\u001b[0m][\u001b[1;33mWARNING\u001b[0m] - /home/runner/work/carsus/carsus/carsus/io/nist/ionization.py:248: FutureWarning: Setting an item of incompatible dtype is deprecated and will raise an error in a future version of pandas. Value '1S' has dtype incompatible with float64, please explicitly cast to a compatible dtype first.\n",
      "  lvl[\"term\"] = \"\".join([str(_) for _ in lvl_tokens[\"ls_term\"]])\n",
      " (\u001b[1mwarnings.py\u001b[0m:112)\n"
     ]
    },
    {
     "name": "stdout",
     "output_type": "stream",
     "text": [
      "[\u001b[1m                py.warnings\u001b[0m][\u001b[1;33mWARNING\u001b[0m] - /home/runner/work/carsus/carsus/carsus/io/nist/ionization.py:248: FutureWarning: Setting an item of incompatible dtype is deprecated and will raise an error in a future version of pandas. Value '2P' has dtype incompatible with float64, please explicitly cast to a compatible dtype first.\n",
      "  lvl[\"term\"] = \"\".join([str(_) for _ in lvl_tokens[\"ls_term\"]])\n",
      " (\u001b[1mwarnings.py\u001b[0m:112)\n"
     ]
    },
    {
     "name": "stdout",
     "output_type": "stream",
     "text": [
      "[\u001b[1m                py.warnings\u001b[0m][\u001b[1;33mWARNING\u001b[0m] - /home/runner/work/carsus/carsus/carsus/io/nist/ionization.py:248: FutureWarning: Setting an item of incompatible dtype is deprecated and will raise an error in a future version of pandas. Value '3P' has dtype incompatible with float64, please explicitly cast to a compatible dtype first.\n",
      "  lvl[\"term\"] = \"\".join([str(_) for _ in lvl_tokens[\"ls_term\"]])\n",
      " (\u001b[1mwarnings.py\u001b[0m:112)\n"
     ]
    },
    {
     "name": "stdout",
     "output_type": "stream",
     "text": [
      "[\u001b[1m                py.warnings\u001b[0m][\u001b[1;33mWARNING\u001b[0m] - /home/runner/work/carsus/carsus/carsus/io/nist/ionization.py:248: FutureWarning: Setting an item of incompatible dtype is deprecated and will raise an error in a future version of pandas. Value '4S' has dtype incompatible with float64, please explicitly cast to a compatible dtype first.\n",
      "  lvl[\"term\"] = \"\".join([str(_) for _ in lvl_tokens[\"ls_term\"]])\n",
      " (\u001b[1mwarnings.py\u001b[0m:112)\n"
     ]
    },
    {
     "name": "stdout",
     "output_type": "stream",
     "text": [
      "[\u001b[1m                py.warnings\u001b[0m][\u001b[1;33mWARNING\u001b[0m] - /home/runner/work/carsus/carsus/carsus/io/nist/ionization.py:248: FutureWarning: Setting an item of incompatible dtype is deprecated and will raise an error in a future version of pandas. Value '3P' has dtype incompatible with float64, please explicitly cast to a compatible dtype first.\n",
      "  lvl[\"term\"] = \"\".join([str(_) for _ in lvl_tokens[\"ls_term\"]])\n",
      " (\u001b[1mwarnings.py\u001b[0m:112)\n"
     ]
    },
    {
     "name": "stdout",
     "output_type": "stream",
     "text": [
      "[\u001b[1m                py.warnings\u001b[0m][\u001b[1;33mWARNING\u001b[0m] - /home/runner/work/carsus/carsus/carsus/io/nist/ionization.py:248: FutureWarning: Setting an item of incompatible dtype is deprecated and will raise an error in a future version of pandas. Value '2P' has dtype incompatible with float64, please explicitly cast to a compatible dtype first.\n",
      "  lvl[\"term\"] = \"\".join([str(_) for _ in lvl_tokens[\"ls_term\"]])\n",
      " (\u001b[1mwarnings.py\u001b[0m:112)\n"
     ]
    },
    {
     "name": "stdout",
     "output_type": "stream",
     "text": [
      "[\u001b[1m                py.warnings\u001b[0m][\u001b[1;33mWARNING\u001b[0m] - /home/runner/work/carsus/carsus/carsus/io/nist/ionization.py:248: FutureWarning: Setting an item of incompatible dtype is deprecated and will raise an error in a future version of pandas. Value '1S' has dtype incompatible with float64, please explicitly cast to a compatible dtype first.\n",
      "  lvl[\"term\"] = \"\".join([str(_) for _ in lvl_tokens[\"ls_term\"]])\n",
      " (\u001b[1mwarnings.py\u001b[0m:112)\n"
     ]
    },
    {
     "name": "stdout",
     "output_type": "stream",
     "text": [
      "[\u001b[1m                py.warnings\u001b[0m][\u001b[1;33mWARNING\u001b[0m] - /home/runner/work/carsus/carsus/carsus/io/nist/ionization.py:248: FutureWarning: Setting an item of incompatible dtype is deprecated and will raise an error in a future version of pandas. Value '2S' has dtype incompatible with float64, please explicitly cast to a compatible dtype first.\n",
      "  lvl[\"term\"] = \"\".join([str(_) for _ in lvl_tokens[\"ls_term\"]])\n",
      " (\u001b[1mwarnings.py\u001b[0m:112)\n"
     ]
    },
    {
     "name": "stdout",
     "output_type": "stream",
     "text": [
      "[\u001b[1m                py.warnings\u001b[0m][\u001b[1;33mWARNING\u001b[0m] - /home/runner/work/carsus/carsus/carsus/io/nist/ionization.py:248: FutureWarning: Setting an item of incompatible dtype is deprecated and will raise an error in a future version of pandas. Value '1S' has dtype incompatible with float64, please explicitly cast to a compatible dtype first.\n",
      "  lvl[\"term\"] = \"\".join([str(_) for _ in lvl_tokens[\"ls_term\"]])\n",
      " (\u001b[1mwarnings.py\u001b[0m:112)\n"
     ]
    },
    {
     "name": "stdout",
     "output_type": "stream",
     "text": [
      "[\u001b[1m                py.warnings\u001b[0m][\u001b[1;33mWARNING\u001b[0m] - /home/runner/work/carsus/carsus/carsus/io/nist/ionization.py:248: FutureWarning: Setting an item of incompatible dtype is deprecated and will raise an error in a future version of pandas. Value '2P' has dtype incompatible with float64, please explicitly cast to a compatible dtype first.\n",
      "  lvl[\"term\"] = \"\".join([str(_) for _ in lvl_tokens[\"ls_term\"]])\n",
      " (\u001b[1mwarnings.py\u001b[0m:112)\n"
     ]
    },
    {
     "name": "stdout",
     "output_type": "stream",
     "text": [
      "[\u001b[1m                py.warnings\u001b[0m][\u001b[1;33mWARNING\u001b[0m] - /home/runner/work/carsus/carsus/carsus/io/nist/ionization.py:248: FutureWarning: Setting an item of incompatible dtype is deprecated and will raise an error in a future version of pandas. Value '3P' has dtype incompatible with float64, please explicitly cast to a compatible dtype first.\n",
      "  lvl[\"term\"] = \"\".join([str(_) for _ in lvl_tokens[\"ls_term\"]])\n",
      " (\u001b[1mwarnings.py\u001b[0m:112)\n"
     ]
    },
    {
     "name": "stdout",
     "output_type": "stream",
     "text": [
      "[\u001b[1m                py.warnings\u001b[0m][\u001b[1;33mWARNING\u001b[0m] - /home/runner/work/carsus/carsus/carsus/io/nist/ionization.py:248: FutureWarning: Setting an item of incompatible dtype is deprecated and will raise an error in a future version of pandas. Value '4S' has dtype incompatible with float64, please explicitly cast to a compatible dtype first.\n",
      "  lvl[\"term\"] = \"\".join([str(_) for _ in lvl_tokens[\"ls_term\"]])\n",
      " (\u001b[1mwarnings.py\u001b[0m:112)\n"
     ]
    },
    {
     "name": "stdout",
     "output_type": "stream",
     "text": [
      "[\u001b[1m                py.warnings\u001b[0m][\u001b[1;33mWARNING\u001b[0m] - /home/runner/work/carsus/carsus/carsus/io/nist/ionization.py:248: FutureWarning: Setting an item of incompatible dtype is deprecated and will raise an error in a future version of pandas. Value '3P' has dtype incompatible with float64, please explicitly cast to a compatible dtype first.\n",
      "  lvl[\"term\"] = \"\".join([str(_) for _ in lvl_tokens[\"ls_term\"]])\n",
      " (\u001b[1mwarnings.py\u001b[0m:112)\n"
     ]
    },
    {
     "name": "stdout",
     "output_type": "stream",
     "text": [
      "[\u001b[1m                py.warnings\u001b[0m][\u001b[1;33mWARNING\u001b[0m] - /home/runner/work/carsus/carsus/carsus/io/nist/ionization.py:248: FutureWarning: Setting an item of incompatible dtype is deprecated and will raise an error in a future version of pandas. Value '2P' has dtype incompatible with float64, please explicitly cast to a compatible dtype first.\n",
      "  lvl[\"term\"] = \"\".join([str(_) for _ in lvl_tokens[\"ls_term\"]])\n",
      " (\u001b[1mwarnings.py\u001b[0m:112)\n"
     ]
    },
    {
     "name": "stdout",
     "output_type": "stream",
     "text": [
      "[\u001b[1m                py.warnings\u001b[0m][\u001b[1;33mWARNING\u001b[0m] - /home/runner/work/carsus/carsus/carsus/io/nist/ionization.py:248: FutureWarning: Setting an item of incompatible dtype is deprecated and will raise an error in a future version of pandas. Value '1S' has dtype incompatible with float64, please explicitly cast to a compatible dtype first.\n",
      "  lvl[\"term\"] = \"\".join([str(_) for _ in lvl_tokens[\"ls_term\"]])\n",
      " (\u001b[1mwarnings.py\u001b[0m:112)\n"
     ]
    },
    {
     "name": "stdout",
     "output_type": "stream",
     "text": [
      "[\u001b[1m                py.warnings\u001b[0m][\u001b[1;33mWARNING\u001b[0m] - /home/runner/work/carsus/carsus/carsus/io/nist/ionization.py:248: FutureWarning: Setting an item of incompatible dtype is deprecated and will raise an error in a future version of pandas. Value '2S' has dtype incompatible with float64, please explicitly cast to a compatible dtype first.\n",
      "  lvl[\"term\"] = \"\".join([str(_) for _ in lvl_tokens[\"ls_term\"]])\n",
      " (\u001b[1mwarnings.py\u001b[0m:112)\n"
     ]
    },
    {
     "name": "stdout",
     "output_type": "stream",
     "text": [
      "[\u001b[1m                py.warnings\u001b[0m][\u001b[1;33mWARNING\u001b[0m] - /home/runner/work/carsus/carsus/carsus/io/nist/ionization.py:248: FutureWarning: Setting an item of incompatible dtype is deprecated and will raise an error in a future version of pandas. Value '1S' has dtype incompatible with float64, please explicitly cast to a compatible dtype first.\n",
      "  lvl[\"term\"] = \"\".join([str(_) for _ in lvl_tokens[\"ls_term\"]])\n",
      " (\u001b[1mwarnings.py\u001b[0m:112)\n"
     ]
    },
    {
     "name": "stdout",
     "output_type": "stream",
     "text": [
      "[\u001b[1m                py.warnings\u001b[0m][\u001b[1;33mWARNING\u001b[0m] - /home/runner/work/carsus/carsus/carsus/io/nist/ionization.py:248: FutureWarning: Setting an item of incompatible dtype is deprecated and will raise an error in a future version of pandas. Value '2S' has dtype incompatible with float64, please explicitly cast to a compatible dtype first.\n",
      "  lvl[\"term\"] = \"\".join([str(_) for _ in lvl_tokens[\"ls_term\"]])\n",
      " (\u001b[1mwarnings.py\u001b[0m:112)\n"
     ]
    },
    {
     "name": "stdout",
     "output_type": "stream",
     "text": [
      "[\u001b[1m                py.warnings\u001b[0m][\u001b[1;33mWARNING\u001b[0m] - /home/runner/work/carsus/carsus/carsus/io/nist/ionization.py:248: FutureWarning: Setting an item of incompatible dtype is deprecated and will raise an error in a future version of pandas. Value '4F' has dtype incompatible with float64, please explicitly cast to a compatible dtype first.\n",
      "  lvl[\"term\"] = \"\".join([str(_) for _ in lvl_tokens[\"ls_term\"]])\n",
      " (\u001b[1mwarnings.py\u001b[0m:112)\n"
     ]
    },
    {
     "name": "stdout",
     "output_type": "stream",
     "text": [
      "[\u001b[1m                py.warnings\u001b[0m][\u001b[1;33mWARNING\u001b[0m] - /home/runner/work/carsus/carsus/carsus/io/nist/ionization.py:248: FutureWarning: Setting an item of incompatible dtype is deprecated and will raise an error in a future version of pandas. Value '3F' has dtype incompatible with float64, please explicitly cast to a compatible dtype first.\n",
      "  lvl[\"term\"] = \"\".join([str(_) for _ in lvl_tokens[\"ls_term\"]])\n",
      " (\u001b[1mwarnings.py\u001b[0m:112)\n"
     ]
    },
    {
     "name": "stdout",
     "output_type": "stream",
     "text": [
      "[\u001b[1m                py.warnings\u001b[0m][\u001b[1;33mWARNING\u001b[0m] - /home/runner/work/carsus/carsus/carsus/io/nist/ionization.py:248: FutureWarning: Setting an item of incompatible dtype is deprecated and will raise an error in a future version of pandas. Value '4F' has dtype incompatible with float64, please explicitly cast to a compatible dtype first.\n",
      "  lvl[\"term\"] = \"\".join([str(_) for _ in lvl_tokens[\"ls_term\"]])\n",
      " (\u001b[1mwarnings.py\u001b[0m:112)\n"
     ]
    },
    {
     "name": "stdout",
     "output_type": "stream",
     "text": [
      "[\u001b[1m                py.warnings\u001b[0m][\u001b[1;33mWARNING\u001b[0m] - /home/runner/work/carsus/carsus/carsus/io/nist/ionization.py:248: FutureWarning: Setting an item of incompatible dtype is deprecated and will raise an error in a future version of pandas. Value '5D' has dtype incompatible with float64, please explicitly cast to a compatible dtype first.\n",
      "  lvl[\"term\"] = \"\".join([str(_) for _ in lvl_tokens[\"ls_term\"]])\n",
      " (\u001b[1mwarnings.py\u001b[0m:112)\n"
     ]
    },
    {
     "name": "stdout",
     "output_type": "stream",
     "text": [
      "[\u001b[1m                py.warnings\u001b[0m][\u001b[1;33mWARNING\u001b[0m] - /home/runner/work/carsus/carsus/carsus/io/nist/ionization.py:248: FutureWarning: Setting an item of incompatible dtype is deprecated and will raise an error in a future version of pandas. Value '6S' has dtype incompatible with float64, please explicitly cast to a compatible dtype first.\n",
      "  lvl[\"term\"] = \"\".join([str(_) for _ in lvl_tokens[\"ls_term\"]])\n",
      " (\u001b[1mwarnings.py\u001b[0m:112)\n"
     ]
    },
    {
     "name": "stdout",
     "output_type": "stream",
     "text": [
      "[\u001b[1m                py.warnings\u001b[0m][\u001b[1;33mWARNING\u001b[0m] - /home/runner/work/carsus/carsus/carsus/io/nist/ionization.py:248: FutureWarning: Setting an item of incompatible dtype is deprecated and will raise an error in a future version of pandas. Value '5D' has dtype incompatible with float64, please explicitly cast to a compatible dtype first.\n",
      "  lvl[\"term\"] = \"\".join([str(_) for _ in lvl_tokens[\"ls_term\"]])\n",
      " (\u001b[1mwarnings.py\u001b[0m:112)\n"
     ]
    },
    {
     "name": "stdout",
     "output_type": "stream",
     "text": [
      "[\u001b[1m                py.warnings\u001b[0m][\u001b[1;33mWARNING\u001b[0m] - /home/runner/work/carsus/carsus/carsus/io/nist/ionization.py:248: FutureWarning: Setting an item of incompatible dtype is deprecated and will raise an error in a future version of pandas. Value '4F' has dtype incompatible with float64, please explicitly cast to a compatible dtype first.\n",
      "  lvl[\"term\"] = \"\".join([str(_) for _ in lvl_tokens[\"ls_term\"]])\n",
      " (\u001b[1mwarnings.py\u001b[0m:112)\n"
     ]
    },
    {
     "name": "stdout",
     "output_type": "stream",
     "text": [
      "[\u001b[1m                py.warnings\u001b[0m][\u001b[1;33mWARNING\u001b[0m] - /home/runner/work/carsus/carsus/carsus/io/nist/ionization.py:248: FutureWarning: Setting an item of incompatible dtype is deprecated and will raise an error in a future version of pandas. Value '3F' has dtype incompatible with float64, please explicitly cast to a compatible dtype first.\n",
      "  lvl[\"term\"] = \"\".join([str(_) for _ in lvl_tokens[\"ls_term\"]])\n",
      " (\u001b[1mwarnings.py\u001b[0m:112)\n"
     ]
    },
    {
     "name": "stdout",
     "output_type": "stream",
     "text": [
      "[\u001b[1m                py.warnings\u001b[0m][\u001b[1;33mWARNING\u001b[0m] - /home/runner/work/carsus/carsus/carsus/io/nist/ionization.py:248: FutureWarning: Setting an item of incompatible dtype is deprecated and will raise an error in a future version of pandas. Value '2D' has dtype incompatible with float64, please explicitly cast to a compatible dtype first.\n",
      "  lvl[\"term\"] = \"\".join([str(_) for _ in lvl_tokens[\"ls_term\"]])\n",
      " (\u001b[1mwarnings.py\u001b[0m:112)\n"
     ]
    },
    {
     "name": "stdout",
     "output_type": "stream",
     "text": [
      "[\u001b[1m                py.warnings\u001b[0m][\u001b[1;33mWARNING\u001b[0m] - /home/runner/work/carsus/carsus/carsus/io/nist/ionization.py:248: FutureWarning: Setting an item of incompatible dtype is deprecated and will raise an error in a future version of pandas. Value '1S' has dtype incompatible with float64, please explicitly cast to a compatible dtype first.\n",
      "  lvl[\"term\"] = \"\".join([str(_) for _ in lvl_tokens[\"ls_term\"]])\n",
      " (\u001b[1mwarnings.py\u001b[0m:112)\n"
     ]
    },
    {
     "name": "stdout",
     "output_type": "stream",
     "text": [
      "[\u001b[1m                py.warnings\u001b[0m][\u001b[1;33mWARNING\u001b[0m] - /home/runner/work/carsus/carsus/carsus/io/nist/ionization.py:248: FutureWarning: Setting an item of incompatible dtype is deprecated and will raise an error in a future version of pandas. Value '2P' has dtype incompatible with float64, please explicitly cast to a compatible dtype first.\n",
      "  lvl[\"term\"] = \"\".join([str(_) for _ in lvl_tokens[\"ls_term\"]])\n",
      " (\u001b[1mwarnings.py\u001b[0m:112)\n"
     ]
    },
    {
     "name": "stdout",
     "output_type": "stream",
     "text": [
      "[\u001b[1m                py.warnings\u001b[0m][\u001b[1;33mWARNING\u001b[0m] - /home/runner/work/carsus/carsus/carsus/io/nist/ionization.py:248: FutureWarning: Setting an item of incompatible dtype is deprecated and will raise an error in a future version of pandas. Value '3P' has dtype incompatible with float64, please explicitly cast to a compatible dtype first.\n",
      "  lvl[\"term\"] = \"\".join([str(_) for _ in lvl_tokens[\"ls_term\"]])\n",
      " (\u001b[1mwarnings.py\u001b[0m:112)\n"
     ]
    },
    {
     "name": "stdout",
     "output_type": "stream",
     "text": [
      "[\u001b[1m                py.warnings\u001b[0m][\u001b[1;33mWARNING\u001b[0m] - /home/runner/work/carsus/carsus/carsus/io/nist/ionization.py:248: FutureWarning: Setting an item of incompatible dtype is deprecated and will raise an error in a future version of pandas. Value '4S' has dtype incompatible with float64, please explicitly cast to a compatible dtype first.\n",
      "  lvl[\"term\"] = \"\".join([str(_) for _ in lvl_tokens[\"ls_term\"]])\n",
      " (\u001b[1mwarnings.py\u001b[0m:112)\n"
     ]
    },
    {
     "name": "stdout",
     "output_type": "stream",
     "text": [
      "[\u001b[1m                py.warnings\u001b[0m][\u001b[1;33mWARNING\u001b[0m] - /home/runner/work/carsus/carsus/carsus/io/nist/ionization.py:248: FutureWarning: Setting an item of incompatible dtype is deprecated and will raise an error in a future version of pandas. Value '3P' has dtype incompatible with float64, please explicitly cast to a compatible dtype first.\n",
      "  lvl[\"term\"] = \"\".join([str(_) for _ in lvl_tokens[\"ls_term\"]])\n",
      " (\u001b[1mwarnings.py\u001b[0m:112)\n"
     ]
    },
    {
     "name": "stdout",
     "output_type": "stream",
     "text": [
      "[\u001b[1m                py.warnings\u001b[0m][\u001b[1;33mWARNING\u001b[0m] - /home/runner/work/carsus/carsus/carsus/io/nist/ionization.py:248: FutureWarning: Setting an item of incompatible dtype is deprecated and will raise an error in a future version of pandas. Value '2P' has dtype incompatible with float64, please explicitly cast to a compatible dtype first.\n",
      "  lvl[\"term\"] = \"\".join([str(_) for _ in lvl_tokens[\"ls_term\"]])\n",
      " (\u001b[1mwarnings.py\u001b[0m:112)\n"
     ]
    },
    {
     "name": "stdout",
     "output_type": "stream",
     "text": [
      "[\u001b[1m                py.warnings\u001b[0m][\u001b[1;33mWARNING\u001b[0m] - /home/runner/work/carsus/carsus/carsus/io/nist/ionization.py:248: FutureWarning: Setting an item of incompatible dtype is deprecated and will raise an error in a future version of pandas. Value '1S' has dtype incompatible with float64, please explicitly cast to a compatible dtype first.\n",
      "  lvl[\"term\"] = \"\".join([str(_) for _ in lvl_tokens[\"ls_term\"]])\n",
      " (\u001b[1mwarnings.py\u001b[0m:112)\n"
     ]
    },
    {
     "name": "stdout",
     "output_type": "stream",
     "text": [
      "[\u001b[1m                py.warnings\u001b[0m][\u001b[1;33mWARNING\u001b[0m] - /home/runner/work/carsus/carsus/carsus/io/nist/ionization.py:248: FutureWarning: Setting an item of incompatible dtype is deprecated and will raise an error in a future version of pandas. Value '2S' has dtype incompatible with float64, please explicitly cast to a compatible dtype first.\n",
      "  lvl[\"term\"] = \"\".join([str(_) for _ in lvl_tokens[\"ls_term\"]])\n",
      " (\u001b[1mwarnings.py\u001b[0m:112)\n"
     ]
    },
    {
     "name": "stdout",
     "output_type": "stream",
     "text": [
      "[\u001b[1m                py.warnings\u001b[0m][\u001b[1;33mWARNING\u001b[0m] - /home/runner/work/carsus/carsus/carsus/io/nist/ionization.py:248: FutureWarning: Setting an item of incompatible dtype is deprecated and will raise an error in a future version of pandas. Value '1S' has dtype incompatible with float64, please explicitly cast to a compatible dtype first.\n",
      "  lvl[\"term\"] = \"\".join([str(_) for _ in lvl_tokens[\"ls_term\"]])\n",
      " (\u001b[1mwarnings.py\u001b[0m:112)\n"
     ]
    },
    {
     "name": "stdout",
     "output_type": "stream",
     "text": [
      "[\u001b[1m                py.warnings\u001b[0m][\u001b[1;33mWARNING\u001b[0m] - /home/runner/work/carsus/carsus/carsus/io/nist/ionization.py:248: FutureWarning: Setting an item of incompatible dtype is deprecated and will raise an error in a future version of pandas. Value '2P' has dtype incompatible with float64, please explicitly cast to a compatible dtype first.\n",
      "  lvl[\"term\"] = \"\".join([str(_) for _ in lvl_tokens[\"ls_term\"]])\n",
      " (\u001b[1mwarnings.py\u001b[0m:112)\n"
     ]
    },
    {
     "name": "stdout",
     "output_type": "stream",
     "text": [
      "[\u001b[1m                py.warnings\u001b[0m][\u001b[1;33mWARNING\u001b[0m] - /home/runner/work/carsus/carsus/carsus/io/nist/ionization.py:248: FutureWarning: Setting an item of incompatible dtype is deprecated and will raise an error in a future version of pandas. Value '3P' has dtype incompatible with float64, please explicitly cast to a compatible dtype first.\n",
      "  lvl[\"term\"] = \"\".join([str(_) for _ in lvl_tokens[\"ls_term\"]])\n",
      " (\u001b[1mwarnings.py\u001b[0m:112)\n"
     ]
    },
    {
     "name": "stdout",
     "output_type": "stream",
     "text": [
      "[\u001b[1m                py.warnings\u001b[0m][\u001b[1;33mWARNING\u001b[0m] - /home/runner/work/carsus/carsus/carsus/io/nist/ionization.py:248: FutureWarning: Setting an item of incompatible dtype is deprecated and will raise an error in a future version of pandas. Value '4S' has dtype incompatible with float64, please explicitly cast to a compatible dtype first.\n",
      "  lvl[\"term\"] = \"\".join([str(_) for _ in lvl_tokens[\"ls_term\"]])\n",
      " (\u001b[1mwarnings.py\u001b[0m:112)\n"
     ]
    },
    {
     "name": "stdout",
     "output_type": "stream",
     "text": [
      "[\u001b[1m                py.warnings\u001b[0m][\u001b[1;33mWARNING\u001b[0m] - /home/runner/work/carsus/carsus/carsus/io/nist/ionization.py:248: FutureWarning: Setting an item of incompatible dtype is deprecated and will raise an error in a future version of pandas. Value '3P' has dtype incompatible with float64, please explicitly cast to a compatible dtype first.\n",
      "  lvl[\"term\"] = \"\".join([str(_) for _ in lvl_tokens[\"ls_term\"]])\n",
      " (\u001b[1mwarnings.py\u001b[0m:112)\n"
     ]
    },
    {
     "name": "stdout",
     "output_type": "stream",
     "text": [
      "[\u001b[1m                py.warnings\u001b[0m][\u001b[1;33mWARNING\u001b[0m] - /home/runner/work/carsus/carsus/carsus/io/nist/ionization.py:248: FutureWarning: Setting an item of incompatible dtype is deprecated and will raise an error in a future version of pandas. Value '2P' has dtype incompatible with float64, please explicitly cast to a compatible dtype first.\n",
      "  lvl[\"term\"] = \"\".join([str(_) for _ in lvl_tokens[\"ls_term\"]])\n",
      " (\u001b[1mwarnings.py\u001b[0m:112)\n"
     ]
    },
    {
     "name": "stdout",
     "output_type": "stream",
     "text": [
      "[\u001b[1m                py.warnings\u001b[0m][\u001b[1;33mWARNING\u001b[0m] - /home/runner/work/carsus/carsus/carsus/io/nist/ionization.py:248: FutureWarning: Setting an item of incompatible dtype is deprecated and will raise an error in a future version of pandas. Value '1S' has dtype incompatible with float64, please explicitly cast to a compatible dtype first.\n",
      "  lvl[\"term\"] = \"\".join([str(_) for _ in lvl_tokens[\"ls_term\"]])\n",
      " (\u001b[1mwarnings.py\u001b[0m:112)\n"
     ]
    },
    {
     "name": "stdout",
     "output_type": "stream",
     "text": [
      "[\u001b[1m                py.warnings\u001b[0m][\u001b[1;33mWARNING\u001b[0m] - /home/runner/work/carsus/carsus/carsus/io/nist/ionization.py:248: FutureWarning: Setting an item of incompatible dtype is deprecated and will raise an error in a future version of pandas. Value '2S' has dtype incompatible with float64, please explicitly cast to a compatible dtype first.\n",
      "  lvl[\"term\"] = \"\".join([str(_) for _ in lvl_tokens[\"ls_term\"]])\n",
      " (\u001b[1mwarnings.py\u001b[0m:112)\n"
     ]
    },
    {
     "name": "stdout",
     "output_type": "stream",
     "text": [
      "[\u001b[1m                py.warnings\u001b[0m][\u001b[1;33mWARNING\u001b[0m] - /home/runner/work/carsus/carsus/carsus/io/nist/ionization.py:248: FutureWarning: Setting an item of incompatible dtype is deprecated and will raise an error in a future version of pandas. Value '1S' has dtype incompatible with float64, please explicitly cast to a compatible dtype first.\n",
      "  lvl[\"term\"] = \"\".join([str(_) for _ in lvl_tokens[\"ls_term\"]])\n",
      " (\u001b[1mwarnings.py\u001b[0m:112)\n"
     ]
    },
    {
     "name": "stdout",
     "output_type": "stream",
     "text": [
      "[\u001b[1m                py.warnings\u001b[0m][\u001b[1;33mWARNING\u001b[0m] - /home/runner/work/carsus/carsus/carsus/io/nist/ionization.py:248: FutureWarning: Setting an item of incompatible dtype is deprecated and will raise an error in a future version of pandas. Value '2S' has dtype incompatible with float64, please explicitly cast to a compatible dtype first.\n",
      "  lvl[\"term\"] = \"\".join([str(_) for _ in lvl_tokens[\"ls_term\"]])\n",
      " (\u001b[1mwarnings.py\u001b[0m:112)\n"
     ]
    },
    {
     "name": "stdout",
     "output_type": "stream",
     "text": [
      "[\u001b[1m                py.warnings\u001b[0m][\u001b[1;33mWARNING\u001b[0m] - /home/runner/work/carsus/carsus/carsus/io/nist/ionization.py:248: FutureWarning: Setting an item of incompatible dtype is deprecated and will raise an error in a future version of pandas. Value '3F' has dtype incompatible with float64, please explicitly cast to a compatible dtype first.\n",
      "  lvl[\"term\"] = \"\".join([str(_) for _ in lvl_tokens[\"ls_term\"]])\n",
      " (\u001b[1mwarnings.py\u001b[0m:112)\n"
     ]
    },
    {
     "name": "stdout",
     "output_type": "stream",
     "text": [
      "[\u001b[1m                py.warnings\u001b[0m][\u001b[1;33mWARNING\u001b[0m] - /home/runner/work/carsus/carsus/carsus/io/nist/ionization.py:248: FutureWarning: Setting an item of incompatible dtype is deprecated and will raise an error in a future version of pandas. Value '2D' has dtype incompatible with float64, please explicitly cast to a compatible dtype first.\n",
      "  lvl[\"term\"] = \"\".join([str(_) for _ in lvl_tokens[\"ls_term\"]])\n",
      " (\u001b[1mwarnings.py\u001b[0m:112)\n"
     ]
    },
    {
     "name": "stdout",
     "output_type": "stream",
     "text": [
      "[\u001b[1m                py.warnings\u001b[0m][\u001b[1;33mWARNING\u001b[0m] - /home/runner/work/carsus/carsus/carsus/io/nist/ionization.py:248: FutureWarning: Setting an item of incompatible dtype is deprecated and will raise an error in a future version of pandas. Value '3F' has dtype incompatible with float64, please explicitly cast to a compatible dtype first.\n",
      "  lvl[\"term\"] = \"\".join([str(_) for _ in lvl_tokens[\"ls_term\"]])\n",
      " (\u001b[1mwarnings.py\u001b[0m:112)\n"
     ]
    },
    {
     "name": "stdout",
     "output_type": "stream",
     "text": [
      "[\u001b[1m                py.warnings\u001b[0m][\u001b[1;33mWARNING\u001b[0m] - /home/runner/work/carsus/carsus/carsus/io/nist/ionization.py:248: FutureWarning: Setting an item of incompatible dtype is deprecated and will raise an error in a future version of pandas. Value '4F' has dtype incompatible with float64, please explicitly cast to a compatible dtype first.\n",
      "  lvl[\"term\"] = \"\".join([str(_) for _ in lvl_tokens[\"ls_term\"]])\n",
      " (\u001b[1mwarnings.py\u001b[0m:112)\n"
     ]
    },
    {
     "name": "stdout",
     "output_type": "stream",
     "text": [
      "[\u001b[1m                py.warnings\u001b[0m][\u001b[1;33mWARNING\u001b[0m] - /home/runner/work/carsus/carsus/carsus/io/nist/ionization.py:248: FutureWarning: Setting an item of incompatible dtype is deprecated and will raise an error in a future version of pandas. Value '5D' has dtype incompatible with float64, please explicitly cast to a compatible dtype first.\n",
      "  lvl[\"term\"] = \"\".join([str(_) for _ in lvl_tokens[\"ls_term\"]])\n",
      " (\u001b[1mwarnings.py\u001b[0m:112)\n"
     ]
    },
    {
     "name": "stdout",
     "output_type": "stream",
     "text": [
      "[\u001b[1m                py.warnings\u001b[0m][\u001b[1;33mWARNING\u001b[0m] - /home/runner/work/carsus/carsus/carsus/io/nist/ionization.py:248: FutureWarning: Setting an item of incompatible dtype is deprecated and will raise an error in a future version of pandas. Value '6S' has dtype incompatible with float64, please explicitly cast to a compatible dtype first.\n",
      "  lvl[\"term\"] = \"\".join([str(_) for _ in lvl_tokens[\"ls_term\"]])\n",
      " (\u001b[1mwarnings.py\u001b[0m:112)\n"
     ]
    },
    {
     "name": "stdout",
     "output_type": "stream",
     "text": [
      "[\u001b[1m                py.warnings\u001b[0m][\u001b[1;33mWARNING\u001b[0m] - /home/runner/work/carsus/carsus/carsus/io/nist/ionization.py:248: FutureWarning: Setting an item of incompatible dtype is deprecated and will raise an error in a future version of pandas. Value '5D' has dtype incompatible with float64, please explicitly cast to a compatible dtype first.\n",
      "  lvl[\"term\"] = \"\".join([str(_) for _ in lvl_tokens[\"ls_term\"]])\n",
      " (\u001b[1mwarnings.py\u001b[0m:112)\n"
     ]
    },
    {
     "name": "stdout",
     "output_type": "stream",
     "text": [
      "[\u001b[1m                py.warnings\u001b[0m][\u001b[1;33mWARNING\u001b[0m] - /home/runner/work/carsus/carsus/carsus/io/nist/ionization.py:248: FutureWarning: Setting an item of incompatible dtype is deprecated and will raise an error in a future version of pandas. Value '4F' has dtype incompatible with float64, please explicitly cast to a compatible dtype first.\n",
      "  lvl[\"term\"] = \"\".join([str(_) for _ in lvl_tokens[\"ls_term\"]])\n",
      " (\u001b[1mwarnings.py\u001b[0m:112)\n"
     ]
    },
    {
     "name": "stdout",
     "output_type": "stream",
     "text": [
      "[\u001b[1m                py.warnings\u001b[0m][\u001b[1;33mWARNING\u001b[0m] - /home/runner/work/carsus/carsus/carsus/io/nist/ionization.py:248: FutureWarning: Setting an item of incompatible dtype is deprecated and will raise an error in a future version of pandas. Value '3F' has dtype incompatible with float64, please explicitly cast to a compatible dtype first.\n",
      "  lvl[\"term\"] = \"\".join([str(_) for _ in lvl_tokens[\"ls_term\"]])\n",
      " (\u001b[1mwarnings.py\u001b[0m:112)\n"
     ]
    },
    {
     "name": "stdout",
     "output_type": "stream",
     "text": [
      "[\u001b[1m                py.warnings\u001b[0m][\u001b[1;33mWARNING\u001b[0m] - /home/runner/work/carsus/carsus/carsus/io/nist/ionization.py:248: FutureWarning: Setting an item of incompatible dtype is deprecated and will raise an error in a future version of pandas. Value '2D' has dtype incompatible with float64, please explicitly cast to a compatible dtype first.\n",
      "  lvl[\"term\"] = \"\".join([str(_) for _ in lvl_tokens[\"ls_term\"]])\n",
      " (\u001b[1mwarnings.py\u001b[0m:112)\n"
     ]
    },
    {
     "name": "stdout",
     "output_type": "stream",
     "text": [
      "[\u001b[1m                py.warnings\u001b[0m][\u001b[1;33mWARNING\u001b[0m] - /home/runner/work/carsus/carsus/carsus/io/nist/ionization.py:248: FutureWarning: Setting an item of incompatible dtype is deprecated and will raise an error in a future version of pandas. Value '1S' has dtype incompatible with float64, please explicitly cast to a compatible dtype first.\n",
      "  lvl[\"term\"] = \"\".join([str(_) for _ in lvl_tokens[\"ls_term\"]])\n",
      " (\u001b[1mwarnings.py\u001b[0m:112)\n"
     ]
    },
    {
     "name": "stdout",
     "output_type": "stream",
     "text": [
      "[\u001b[1m                py.warnings\u001b[0m][\u001b[1;33mWARNING\u001b[0m] - /home/runner/work/carsus/carsus/carsus/io/nist/ionization.py:248: FutureWarning: Setting an item of incompatible dtype is deprecated and will raise an error in a future version of pandas. Value '2P' has dtype incompatible with float64, please explicitly cast to a compatible dtype first.\n",
      "  lvl[\"term\"] = \"\".join([str(_) for _ in lvl_tokens[\"ls_term\"]])\n",
      " (\u001b[1mwarnings.py\u001b[0m:112)\n"
     ]
    },
    {
     "name": "stdout",
     "output_type": "stream",
     "text": [
      "[\u001b[1m                py.warnings\u001b[0m][\u001b[1;33mWARNING\u001b[0m] - /home/runner/work/carsus/carsus/carsus/io/nist/ionization.py:248: FutureWarning: Setting an item of incompatible dtype is deprecated and will raise an error in a future version of pandas. Value '3P' has dtype incompatible with float64, please explicitly cast to a compatible dtype first.\n",
      "  lvl[\"term\"] = \"\".join([str(_) for _ in lvl_tokens[\"ls_term\"]])\n",
      " (\u001b[1mwarnings.py\u001b[0m:112)\n"
     ]
    },
    {
     "name": "stdout",
     "output_type": "stream",
     "text": [
      "[\u001b[1m                py.warnings\u001b[0m][\u001b[1;33mWARNING\u001b[0m] - /home/runner/work/carsus/carsus/carsus/io/nist/ionization.py:248: FutureWarning: Setting an item of incompatible dtype is deprecated and will raise an error in a future version of pandas. Value '4S' has dtype incompatible with float64, please explicitly cast to a compatible dtype first.\n",
      "  lvl[\"term\"] = \"\".join([str(_) for _ in lvl_tokens[\"ls_term\"]])\n",
      " (\u001b[1mwarnings.py\u001b[0m:112)\n"
     ]
    },
    {
     "name": "stdout",
     "output_type": "stream",
     "text": [
      "[\u001b[1m                py.warnings\u001b[0m][\u001b[1;33mWARNING\u001b[0m] - /home/runner/work/carsus/carsus/carsus/io/nist/ionization.py:248: FutureWarning: Setting an item of incompatible dtype is deprecated and will raise an error in a future version of pandas. Value '3P' has dtype incompatible with float64, please explicitly cast to a compatible dtype first.\n",
      "  lvl[\"term\"] = \"\".join([str(_) for _ in lvl_tokens[\"ls_term\"]])\n",
      " (\u001b[1mwarnings.py\u001b[0m:112)\n"
     ]
    },
    {
     "name": "stdout",
     "output_type": "stream",
     "text": [
      "[\u001b[1m                py.warnings\u001b[0m][\u001b[1;33mWARNING\u001b[0m] - /home/runner/work/carsus/carsus/carsus/io/nist/ionization.py:248: FutureWarning: Setting an item of incompatible dtype is deprecated and will raise an error in a future version of pandas. Value '2P' has dtype incompatible with float64, please explicitly cast to a compatible dtype first.\n",
      "  lvl[\"term\"] = \"\".join([str(_) for _ in lvl_tokens[\"ls_term\"]])\n",
      " (\u001b[1mwarnings.py\u001b[0m:112)\n"
     ]
    },
    {
     "name": "stdout",
     "output_type": "stream",
     "text": [
      "[\u001b[1m                py.warnings\u001b[0m][\u001b[1;33mWARNING\u001b[0m] - /home/runner/work/carsus/carsus/carsus/io/nist/ionization.py:248: FutureWarning: Setting an item of incompatible dtype is deprecated and will raise an error in a future version of pandas. Value '1S' has dtype incompatible with float64, please explicitly cast to a compatible dtype first.\n",
      "  lvl[\"term\"] = \"\".join([str(_) for _ in lvl_tokens[\"ls_term\"]])\n",
      " (\u001b[1mwarnings.py\u001b[0m:112)\n"
     ]
    },
    {
     "name": "stdout",
     "output_type": "stream",
     "text": [
      "[\u001b[1m                py.warnings\u001b[0m][\u001b[1;33mWARNING\u001b[0m] - /home/runner/work/carsus/carsus/carsus/io/nist/ionization.py:248: FutureWarning: Setting an item of incompatible dtype is deprecated and will raise an error in a future version of pandas. Value '2S' has dtype incompatible with float64, please explicitly cast to a compatible dtype first.\n",
      "  lvl[\"term\"] = \"\".join([str(_) for _ in lvl_tokens[\"ls_term\"]])\n",
      " (\u001b[1mwarnings.py\u001b[0m:112)\n"
     ]
    },
    {
     "name": "stdout",
     "output_type": "stream",
     "text": [
      "[\u001b[1m                py.warnings\u001b[0m][\u001b[1;33mWARNING\u001b[0m] - /home/runner/work/carsus/carsus/carsus/io/nist/ionization.py:248: FutureWarning: Setting an item of incompatible dtype is deprecated and will raise an error in a future version of pandas. Value '1S' has dtype incompatible with float64, please explicitly cast to a compatible dtype first.\n",
      "  lvl[\"term\"] = \"\".join([str(_) for _ in lvl_tokens[\"ls_term\"]])\n",
      " (\u001b[1mwarnings.py\u001b[0m:112)\n"
     ]
    },
    {
     "name": "stdout",
     "output_type": "stream",
     "text": [
      "[\u001b[1m                py.warnings\u001b[0m][\u001b[1;33mWARNING\u001b[0m] - /home/runner/work/carsus/carsus/carsus/io/nist/ionization.py:248: FutureWarning: Setting an item of incompatible dtype is deprecated and will raise an error in a future version of pandas. Value '2P' has dtype incompatible with float64, please explicitly cast to a compatible dtype first.\n",
      "  lvl[\"term\"] = \"\".join([str(_) for _ in lvl_tokens[\"ls_term\"]])\n",
      " (\u001b[1mwarnings.py\u001b[0m:112)\n"
     ]
    },
    {
     "name": "stdout",
     "output_type": "stream",
     "text": [
      "[\u001b[1m                py.warnings\u001b[0m][\u001b[1;33mWARNING\u001b[0m] - /home/runner/work/carsus/carsus/carsus/io/nist/ionization.py:248: FutureWarning: Setting an item of incompatible dtype is deprecated and will raise an error in a future version of pandas. Value '3P' has dtype incompatible with float64, please explicitly cast to a compatible dtype first.\n",
      "  lvl[\"term\"] = \"\".join([str(_) for _ in lvl_tokens[\"ls_term\"]])\n",
      " (\u001b[1mwarnings.py\u001b[0m:112)\n"
     ]
    },
    {
     "name": "stdout",
     "output_type": "stream",
     "text": [
      "[\u001b[1m                py.warnings\u001b[0m][\u001b[1;33mWARNING\u001b[0m] - /home/runner/work/carsus/carsus/carsus/io/nist/ionization.py:248: FutureWarning: Setting an item of incompatible dtype is deprecated and will raise an error in a future version of pandas. Value '4S' has dtype incompatible with float64, please explicitly cast to a compatible dtype first.\n",
      "  lvl[\"term\"] = \"\".join([str(_) for _ in lvl_tokens[\"ls_term\"]])\n",
      " (\u001b[1mwarnings.py\u001b[0m:112)\n"
     ]
    },
    {
     "name": "stdout",
     "output_type": "stream",
     "text": [
      "[\u001b[1m                py.warnings\u001b[0m][\u001b[1;33mWARNING\u001b[0m] - /home/runner/work/carsus/carsus/carsus/io/nist/ionization.py:248: FutureWarning: Setting an item of incompatible dtype is deprecated and will raise an error in a future version of pandas. Value '3P' has dtype incompatible with float64, please explicitly cast to a compatible dtype first.\n",
      "  lvl[\"term\"] = \"\".join([str(_) for _ in lvl_tokens[\"ls_term\"]])\n",
      " (\u001b[1mwarnings.py\u001b[0m:112)\n"
     ]
    },
    {
     "name": "stdout",
     "output_type": "stream",
     "text": [
      "[\u001b[1m                py.warnings\u001b[0m][\u001b[1;33mWARNING\u001b[0m] - /home/runner/work/carsus/carsus/carsus/io/nist/ionization.py:248: FutureWarning: Setting an item of incompatible dtype is deprecated and will raise an error in a future version of pandas. Value '2P' has dtype incompatible with float64, please explicitly cast to a compatible dtype first.\n",
      "  lvl[\"term\"] = \"\".join([str(_) for _ in lvl_tokens[\"ls_term\"]])\n",
      " (\u001b[1mwarnings.py\u001b[0m:112)\n"
     ]
    },
    {
     "name": "stdout",
     "output_type": "stream",
     "text": [
      "[\u001b[1m                py.warnings\u001b[0m][\u001b[1;33mWARNING\u001b[0m] - /home/runner/work/carsus/carsus/carsus/io/nist/ionization.py:248: FutureWarning: Setting an item of incompatible dtype is deprecated and will raise an error in a future version of pandas. Value '1S' has dtype incompatible with float64, please explicitly cast to a compatible dtype first.\n",
      "  lvl[\"term\"] = \"\".join([str(_) for _ in lvl_tokens[\"ls_term\"]])\n",
      " (\u001b[1mwarnings.py\u001b[0m:112)\n"
     ]
    },
    {
     "name": "stdout",
     "output_type": "stream",
     "text": [
      "[\u001b[1m                py.warnings\u001b[0m][\u001b[1;33mWARNING\u001b[0m] - /home/runner/work/carsus/carsus/carsus/io/nist/ionization.py:248: FutureWarning: Setting an item of incompatible dtype is deprecated and will raise an error in a future version of pandas. Value '2S' has dtype incompatible with float64, please explicitly cast to a compatible dtype first.\n",
      "  lvl[\"term\"] = \"\".join([str(_) for _ in lvl_tokens[\"ls_term\"]])\n",
      " (\u001b[1mwarnings.py\u001b[0m:112)\n"
     ]
    },
    {
     "name": "stdout",
     "output_type": "stream",
     "text": [
      "[\u001b[1m                py.warnings\u001b[0m][\u001b[1;33mWARNING\u001b[0m] - /home/runner/work/carsus/carsus/carsus/io/nist/ionization.py:248: FutureWarning: Setting an item of incompatible dtype is deprecated and will raise an error in a future version of pandas. Value '1S' has dtype incompatible with float64, please explicitly cast to a compatible dtype first.\n",
      "  lvl[\"term\"] = \"\".join([str(_) for _ in lvl_tokens[\"ls_term\"]])\n",
      " (\u001b[1mwarnings.py\u001b[0m:112)\n"
     ]
    },
    {
     "name": "stdout",
     "output_type": "stream",
     "text": [
      "[\u001b[1m                py.warnings\u001b[0m][\u001b[1;33mWARNING\u001b[0m] - /home/runner/work/carsus/carsus/carsus/io/nist/ionization.py:248: FutureWarning: Setting an item of incompatible dtype is deprecated and will raise an error in a future version of pandas. Value '2S' has dtype incompatible with float64, please explicitly cast to a compatible dtype first.\n",
      "  lvl[\"term\"] = \"\".join([str(_) for _ in lvl_tokens[\"ls_term\"]])\n",
      " (\u001b[1mwarnings.py\u001b[0m:112)\n"
     ]
    },
    {
     "name": "stdout",
     "output_type": "stream",
     "text": [
      "[\u001b[1m                py.warnings\u001b[0m][\u001b[1;33mWARNING\u001b[0m] - /home/runner/work/carsus/carsus/carsus/io/nist/ionization.py:248: FutureWarning: Setting an item of incompatible dtype is deprecated and will raise an error in a future version of pandas. Value '2S' has dtype incompatible with float64, please explicitly cast to a compatible dtype first.\n",
      "  lvl[\"term\"] = \"\".join([str(_) for _ in lvl_tokens[\"ls_term\"]])\n",
      " (\u001b[1mwarnings.py\u001b[0m:112)\n"
     ]
    },
    {
     "name": "stdout",
     "output_type": "stream",
     "text": [
      "[\u001b[1m                py.warnings\u001b[0m][\u001b[1;33mWARNING\u001b[0m] - /home/runner/work/carsus/carsus/carsus/io/nist/ionization.py:248: FutureWarning: Setting an item of incompatible dtype is deprecated and will raise an error in a future version of pandas. Value '1S' has dtype incompatible with float64, please explicitly cast to a compatible dtype first.\n",
      "  lvl[\"term\"] = \"\".join([str(_) for _ in lvl_tokens[\"ls_term\"]])\n",
      " (\u001b[1mwarnings.py\u001b[0m:112)\n"
     ]
    },
    {
     "name": "stdout",
     "output_type": "stream",
     "text": [
      "[\u001b[1m                py.warnings\u001b[0m][\u001b[1;33mWARNING\u001b[0m] - /home/runner/work/carsus/carsus/carsus/io/nist/ionization.py:248: FutureWarning: Setting an item of incompatible dtype is deprecated and will raise an error in a future version of pandas. Value '2D' has dtype incompatible with float64, please explicitly cast to a compatible dtype first.\n",
      "  lvl[\"term\"] = \"\".join([str(_) for _ in lvl_tokens[\"ls_term\"]])\n",
      " (\u001b[1mwarnings.py\u001b[0m:112)\n"
     ]
    },
    {
     "name": "stdout",
     "output_type": "stream",
     "text": [
      "[\u001b[1m                py.warnings\u001b[0m][\u001b[1;33mWARNING\u001b[0m] - /home/runner/work/carsus/carsus/carsus/io/nist/ionization.py:248: FutureWarning: Setting an item of incompatible dtype is deprecated and will raise an error in a future version of pandas. Value '3F' has dtype incompatible with float64, please explicitly cast to a compatible dtype first.\n",
      "  lvl[\"term\"] = \"\".join([str(_) for _ in lvl_tokens[\"ls_term\"]])\n",
      " (\u001b[1mwarnings.py\u001b[0m:112)\n"
     ]
    },
    {
     "name": "stdout",
     "output_type": "stream",
     "text": [
      "[\u001b[1m                py.warnings\u001b[0m][\u001b[1;33mWARNING\u001b[0m] - /home/runner/work/carsus/carsus/carsus/io/nist/ionization.py:248: FutureWarning: Setting an item of incompatible dtype is deprecated and will raise an error in a future version of pandas. Value '4F' has dtype incompatible with float64, please explicitly cast to a compatible dtype first.\n",
      "  lvl[\"term\"] = \"\".join([str(_) for _ in lvl_tokens[\"ls_term\"]])\n",
      " (\u001b[1mwarnings.py\u001b[0m:112)\n"
     ]
    },
    {
     "name": "stdout",
     "output_type": "stream",
     "text": [
      "[\u001b[1m                py.warnings\u001b[0m][\u001b[1;33mWARNING\u001b[0m] - /home/runner/work/carsus/carsus/carsus/io/nist/ionization.py:248: FutureWarning: Setting an item of incompatible dtype is deprecated and will raise an error in a future version of pandas. Value '5D' has dtype incompatible with float64, please explicitly cast to a compatible dtype first.\n",
      "  lvl[\"term\"] = \"\".join([str(_) for _ in lvl_tokens[\"ls_term\"]])\n",
      " (\u001b[1mwarnings.py\u001b[0m:112)\n"
     ]
    },
    {
     "name": "stdout",
     "output_type": "stream",
     "text": [
      "[\u001b[1m                py.warnings\u001b[0m][\u001b[1;33mWARNING\u001b[0m] - /home/runner/work/carsus/carsus/carsus/io/nist/ionization.py:248: FutureWarning: Setting an item of incompatible dtype is deprecated and will raise an error in a future version of pandas. Value '6S' has dtype incompatible with float64, please explicitly cast to a compatible dtype first.\n",
      "  lvl[\"term\"] = \"\".join([str(_) for _ in lvl_tokens[\"ls_term\"]])\n",
      " (\u001b[1mwarnings.py\u001b[0m:112)\n"
     ]
    },
    {
     "name": "stdout",
     "output_type": "stream",
     "text": [
      "[\u001b[1m                py.warnings\u001b[0m][\u001b[1;33mWARNING\u001b[0m] - /home/runner/work/carsus/carsus/carsus/io/nist/ionization.py:248: FutureWarning: Setting an item of incompatible dtype is deprecated and will raise an error in a future version of pandas. Value '5D' has dtype incompatible with float64, please explicitly cast to a compatible dtype first.\n",
      "  lvl[\"term\"] = \"\".join([str(_) for _ in lvl_tokens[\"ls_term\"]])\n",
      " (\u001b[1mwarnings.py\u001b[0m:112)\n"
     ]
    },
    {
     "name": "stdout",
     "output_type": "stream",
     "text": [
      "[\u001b[1m                py.warnings\u001b[0m][\u001b[1;33mWARNING\u001b[0m] - /home/runner/work/carsus/carsus/carsus/io/nist/ionization.py:248: FutureWarning: Setting an item of incompatible dtype is deprecated and will raise an error in a future version of pandas. Value '4F' has dtype incompatible with float64, please explicitly cast to a compatible dtype first.\n",
      "  lvl[\"term\"] = \"\".join([str(_) for _ in lvl_tokens[\"ls_term\"]])\n",
      " (\u001b[1mwarnings.py\u001b[0m:112)\n"
     ]
    },
    {
     "name": "stdout",
     "output_type": "stream",
     "text": [
      "[\u001b[1m                py.warnings\u001b[0m][\u001b[1;33mWARNING\u001b[0m] - /home/runner/work/carsus/carsus/carsus/io/nist/ionization.py:248: FutureWarning: Setting an item of incompatible dtype is deprecated and will raise an error in a future version of pandas. Value '3F' has dtype incompatible with float64, please explicitly cast to a compatible dtype first.\n",
      "  lvl[\"term\"] = \"\".join([str(_) for _ in lvl_tokens[\"ls_term\"]])\n",
      " (\u001b[1mwarnings.py\u001b[0m:112)\n"
     ]
    },
    {
     "name": "stdout",
     "output_type": "stream",
     "text": [
      "[\u001b[1m                py.warnings\u001b[0m][\u001b[1;33mWARNING\u001b[0m] - /home/runner/work/carsus/carsus/carsus/io/nist/ionization.py:248: FutureWarning: Setting an item of incompatible dtype is deprecated and will raise an error in a future version of pandas. Value '2D' has dtype incompatible with float64, please explicitly cast to a compatible dtype first.\n",
      "  lvl[\"term\"] = \"\".join([str(_) for _ in lvl_tokens[\"ls_term\"]])\n",
      " (\u001b[1mwarnings.py\u001b[0m:112)\n"
     ]
    },
    {
     "name": "stdout",
     "output_type": "stream",
     "text": [
      "[\u001b[1m                py.warnings\u001b[0m][\u001b[1;33mWARNING\u001b[0m] - /home/runner/work/carsus/carsus/carsus/io/nist/ionization.py:248: FutureWarning: Setting an item of incompatible dtype is deprecated and will raise an error in a future version of pandas. Value '1S' has dtype incompatible with float64, please explicitly cast to a compatible dtype first.\n",
      "  lvl[\"term\"] = \"\".join([str(_) for _ in lvl_tokens[\"ls_term\"]])\n",
      " (\u001b[1mwarnings.py\u001b[0m:112)\n"
     ]
    },
    {
     "name": "stdout",
     "output_type": "stream",
     "text": [
      "[\u001b[1m                py.warnings\u001b[0m][\u001b[1;33mWARNING\u001b[0m] - /home/runner/work/carsus/carsus/carsus/io/nist/ionization.py:248: FutureWarning: Setting an item of incompatible dtype is deprecated and will raise an error in a future version of pandas. Value '2P' has dtype incompatible with float64, please explicitly cast to a compatible dtype first.\n",
      "  lvl[\"term\"] = \"\".join([str(_) for _ in lvl_tokens[\"ls_term\"]])\n",
      " (\u001b[1mwarnings.py\u001b[0m:112)\n"
     ]
    },
    {
     "name": "stdout",
     "output_type": "stream",
     "text": [
      "[\u001b[1m                py.warnings\u001b[0m][\u001b[1;33mWARNING\u001b[0m] - /home/runner/work/carsus/carsus/carsus/io/nist/ionization.py:248: FutureWarning: Setting an item of incompatible dtype is deprecated and will raise an error in a future version of pandas. Value '3P' has dtype incompatible with float64, please explicitly cast to a compatible dtype first.\n",
      "  lvl[\"term\"] = \"\".join([str(_) for _ in lvl_tokens[\"ls_term\"]])\n",
      " (\u001b[1mwarnings.py\u001b[0m:112)\n"
     ]
    },
    {
     "name": "stdout",
     "output_type": "stream",
     "text": [
      "[\u001b[1m                py.warnings\u001b[0m][\u001b[1;33mWARNING\u001b[0m] - /home/runner/work/carsus/carsus/carsus/io/nist/ionization.py:248: FutureWarning: Setting an item of incompatible dtype is deprecated and will raise an error in a future version of pandas. Value '4S' has dtype incompatible with float64, please explicitly cast to a compatible dtype first.\n",
      "  lvl[\"term\"] = \"\".join([str(_) for _ in lvl_tokens[\"ls_term\"]])\n",
      " (\u001b[1mwarnings.py\u001b[0m:112)\n"
     ]
    },
    {
     "name": "stdout",
     "output_type": "stream",
     "text": [
      "[\u001b[1m                py.warnings\u001b[0m][\u001b[1;33mWARNING\u001b[0m] - /home/runner/work/carsus/carsus/carsus/io/nist/ionization.py:248: FutureWarning: Setting an item of incompatible dtype is deprecated and will raise an error in a future version of pandas. Value '3P' has dtype incompatible with float64, please explicitly cast to a compatible dtype first.\n",
      "  lvl[\"term\"] = \"\".join([str(_) for _ in lvl_tokens[\"ls_term\"]])\n",
      " (\u001b[1mwarnings.py\u001b[0m:112)\n"
     ]
    },
    {
     "name": "stdout",
     "output_type": "stream",
     "text": [
      "[\u001b[1m                py.warnings\u001b[0m][\u001b[1;33mWARNING\u001b[0m] - /home/runner/work/carsus/carsus/carsus/io/nist/ionization.py:248: FutureWarning: Setting an item of incompatible dtype is deprecated and will raise an error in a future version of pandas. Value '2P' has dtype incompatible with float64, please explicitly cast to a compatible dtype first.\n",
      "  lvl[\"term\"] = \"\".join([str(_) for _ in lvl_tokens[\"ls_term\"]])\n",
      " (\u001b[1mwarnings.py\u001b[0m:112)\n"
     ]
    },
    {
     "name": "stdout",
     "output_type": "stream",
     "text": [
      "[\u001b[1m                py.warnings\u001b[0m][\u001b[1;33mWARNING\u001b[0m] - /home/runner/work/carsus/carsus/carsus/io/nist/ionization.py:248: FutureWarning: Setting an item of incompatible dtype is deprecated and will raise an error in a future version of pandas. Value '1S' has dtype incompatible with float64, please explicitly cast to a compatible dtype first.\n",
      "  lvl[\"term\"] = \"\".join([str(_) for _ in lvl_tokens[\"ls_term\"]])\n",
      " (\u001b[1mwarnings.py\u001b[0m:112)\n"
     ]
    },
    {
     "name": "stdout",
     "output_type": "stream",
     "text": [
      "[\u001b[1m                py.warnings\u001b[0m][\u001b[1;33mWARNING\u001b[0m] - /home/runner/work/carsus/carsus/carsus/io/nist/ionization.py:248: FutureWarning: Setting an item of incompatible dtype is deprecated and will raise an error in a future version of pandas. Value '2S' has dtype incompatible with float64, please explicitly cast to a compatible dtype first.\n",
      "  lvl[\"term\"] = \"\".join([str(_) for _ in lvl_tokens[\"ls_term\"]])\n",
      " (\u001b[1mwarnings.py\u001b[0m:112)\n"
     ]
    },
    {
     "name": "stdout",
     "output_type": "stream",
     "text": [
      "[\u001b[1m                py.warnings\u001b[0m][\u001b[1;33mWARNING\u001b[0m] - /home/runner/work/carsus/carsus/carsus/io/nist/ionization.py:248: FutureWarning: Setting an item of incompatible dtype is deprecated and will raise an error in a future version of pandas. Value '1S' has dtype incompatible with float64, please explicitly cast to a compatible dtype first.\n",
      "  lvl[\"term\"] = \"\".join([str(_) for _ in lvl_tokens[\"ls_term\"]])\n",
      " (\u001b[1mwarnings.py\u001b[0m:112)\n"
     ]
    },
    {
     "name": "stdout",
     "output_type": "stream",
     "text": [
      "[\u001b[1m                py.warnings\u001b[0m][\u001b[1;33mWARNING\u001b[0m] - /home/runner/work/carsus/carsus/carsus/io/nist/ionization.py:248: FutureWarning: Setting an item of incompatible dtype is deprecated and will raise an error in a future version of pandas. Value '2P' has dtype incompatible with float64, please explicitly cast to a compatible dtype first.\n",
      "  lvl[\"term\"] = \"\".join([str(_) for _ in lvl_tokens[\"ls_term\"]])\n",
      " (\u001b[1mwarnings.py\u001b[0m:112)\n"
     ]
    },
    {
     "name": "stdout",
     "output_type": "stream",
     "text": [
      "[\u001b[1m                py.warnings\u001b[0m][\u001b[1;33mWARNING\u001b[0m] - /home/runner/work/carsus/carsus/carsus/io/nist/ionization.py:248: FutureWarning: Setting an item of incompatible dtype is deprecated and will raise an error in a future version of pandas. Value '3P' has dtype incompatible with float64, please explicitly cast to a compatible dtype first.\n",
      "  lvl[\"term\"] = \"\".join([str(_) for _ in lvl_tokens[\"ls_term\"]])\n",
      " (\u001b[1mwarnings.py\u001b[0m:112)\n"
     ]
    },
    {
     "name": "stdout",
     "output_type": "stream",
     "text": [
      "[\u001b[1m                py.warnings\u001b[0m][\u001b[1;33mWARNING\u001b[0m] - /home/runner/work/carsus/carsus/carsus/io/nist/ionization.py:248: FutureWarning: Setting an item of incompatible dtype is deprecated and will raise an error in a future version of pandas. Value '4S' has dtype incompatible with float64, please explicitly cast to a compatible dtype first.\n",
      "  lvl[\"term\"] = \"\".join([str(_) for _ in lvl_tokens[\"ls_term\"]])\n",
      " (\u001b[1mwarnings.py\u001b[0m:112)\n"
     ]
    },
    {
     "name": "stdout",
     "output_type": "stream",
     "text": [
      "[\u001b[1m                py.warnings\u001b[0m][\u001b[1;33mWARNING\u001b[0m] - /home/runner/work/carsus/carsus/carsus/io/nist/ionization.py:248: FutureWarning: Setting an item of incompatible dtype is deprecated and will raise an error in a future version of pandas. Value '3P' has dtype incompatible with float64, please explicitly cast to a compatible dtype first.\n",
      "  lvl[\"term\"] = \"\".join([str(_) for _ in lvl_tokens[\"ls_term\"]])\n",
      " (\u001b[1mwarnings.py\u001b[0m:112)\n"
     ]
    },
    {
     "name": "stdout",
     "output_type": "stream",
     "text": [
      "[\u001b[1m                py.warnings\u001b[0m][\u001b[1;33mWARNING\u001b[0m] - /home/runner/work/carsus/carsus/carsus/io/nist/ionization.py:248: FutureWarning: Setting an item of incompatible dtype is deprecated and will raise an error in a future version of pandas. Value '2P' has dtype incompatible with float64, please explicitly cast to a compatible dtype first.\n",
      "  lvl[\"term\"] = \"\".join([str(_) for _ in lvl_tokens[\"ls_term\"]])\n",
      " (\u001b[1mwarnings.py\u001b[0m:112)\n"
     ]
    },
    {
     "name": "stdout",
     "output_type": "stream",
     "text": [
      "[\u001b[1m                py.warnings\u001b[0m][\u001b[1;33mWARNING\u001b[0m] - /home/runner/work/carsus/carsus/carsus/io/nist/ionization.py:248: FutureWarning: Setting an item of incompatible dtype is deprecated and will raise an error in a future version of pandas. Value '1S' has dtype incompatible with float64, please explicitly cast to a compatible dtype first.\n",
      "  lvl[\"term\"] = \"\".join([str(_) for _ in lvl_tokens[\"ls_term\"]])\n",
      " (\u001b[1mwarnings.py\u001b[0m:112)\n"
     ]
    },
    {
     "name": "stdout",
     "output_type": "stream",
     "text": [
      "[\u001b[1m                py.warnings\u001b[0m][\u001b[1;33mWARNING\u001b[0m] - /home/runner/work/carsus/carsus/carsus/io/nist/ionization.py:248: FutureWarning: Setting an item of incompatible dtype is deprecated and will raise an error in a future version of pandas. Value '2S' has dtype incompatible with float64, please explicitly cast to a compatible dtype first.\n",
      "  lvl[\"term\"] = \"\".join([str(_) for _ in lvl_tokens[\"ls_term\"]])\n",
      " (\u001b[1mwarnings.py\u001b[0m:112)\n"
     ]
    },
    {
     "name": "stdout",
     "output_type": "stream",
     "text": [
      "[\u001b[1m                py.warnings\u001b[0m][\u001b[1;33mWARNING\u001b[0m] - /home/runner/work/carsus/carsus/carsus/io/nist/ionization.py:248: FutureWarning: Setting an item of incompatible dtype is deprecated and will raise an error in a future version of pandas. Value '1S' has dtype incompatible with float64, please explicitly cast to a compatible dtype first.\n",
      "  lvl[\"term\"] = \"\".join([str(_) for _ in lvl_tokens[\"ls_term\"]])\n",
      " (\u001b[1mwarnings.py\u001b[0m:112)\n"
     ]
    },
    {
     "name": "stdout",
     "output_type": "stream",
     "text": [
      "[\u001b[1m                py.warnings\u001b[0m][\u001b[1;33mWARNING\u001b[0m] - /home/runner/work/carsus/carsus/carsus/io/nist/ionization.py:248: FutureWarning: Setting an item of incompatible dtype is deprecated and will raise an error in a future version of pandas. Value '2S' has dtype incompatible with float64, please explicitly cast to a compatible dtype first.\n",
      "  lvl[\"term\"] = \"\".join([str(_) for _ in lvl_tokens[\"ls_term\"]])\n",
      " (\u001b[1mwarnings.py\u001b[0m:112)\n"
     ]
    },
    {
     "name": "stdout",
     "output_type": "stream",
     "text": [
      "[\u001b[1m                py.warnings\u001b[0m][\u001b[1;33mWARNING\u001b[0m] - /home/runner/work/carsus/carsus/carsus/io/nist/ionization.py:248: FutureWarning: Setting an item of incompatible dtype is deprecated and will raise an error in a future version of pandas. Value '1S' has dtype incompatible with float64, please explicitly cast to a compatible dtype first.\n",
      "  lvl[\"term\"] = \"\".join([str(_) for _ in lvl_tokens[\"ls_term\"]])\n",
      " (\u001b[1mwarnings.py\u001b[0m:112)\n"
     ]
    },
    {
     "name": "stdout",
     "output_type": "stream",
     "text": [
      "[\u001b[1m                py.warnings\u001b[0m][\u001b[1;33mWARNING\u001b[0m] - /home/runner/work/carsus/carsus/carsus/io/nist/ionization.py:248: FutureWarning: Setting an item of incompatible dtype is deprecated and will raise an error in a future version of pandas. Value '2S' has dtype incompatible with float64, please explicitly cast to a compatible dtype first.\n",
      "  lvl[\"term\"] = \"\".join([str(_) for _ in lvl_tokens[\"ls_term\"]])\n",
      " (\u001b[1mwarnings.py\u001b[0m:112)\n"
     ]
    },
    {
     "name": "stdout",
     "output_type": "stream",
     "text": [
      "[\u001b[1m                py.warnings\u001b[0m][\u001b[1;33mWARNING\u001b[0m] - /home/runner/work/carsus/carsus/carsus/io/nist/ionization.py:248: FutureWarning: Setting an item of incompatible dtype is deprecated and will raise an error in a future version of pandas. Value '1S' has dtype incompatible with float64, please explicitly cast to a compatible dtype first.\n",
      "  lvl[\"term\"] = \"\".join([str(_) for _ in lvl_tokens[\"ls_term\"]])\n",
      " (\u001b[1mwarnings.py\u001b[0m:112)\n"
     ]
    },
    {
     "name": "stdout",
     "output_type": "stream",
     "text": [
      "[\u001b[1m                py.warnings\u001b[0m][\u001b[1;33mWARNING\u001b[0m] - /home/runner/work/carsus/carsus/carsus/io/nist/ionization.py:248: FutureWarning: Setting an item of incompatible dtype is deprecated and will raise an error in a future version of pandas. Value '2D' has dtype incompatible with float64, please explicitly cast to a compatible dtype first.\n",
      "  lvl[\"term\"] = \"\".join([str(_) for _ in lvl_tokens[\"ls_term\"]])\n",
      " (\u001b[1mwarnings.py\u001b[0m:112)\n"
     ]
    },
    {
     "name": "stdout",
     "output_type": "stream",
     "text": [
      "[\u001b[1m                py.warnings\u001b[0m][\u001b[1;33mWARNING\u001b[0m] - /home/runner/work/carsus/carsus/carsus/io/nist/ionization.py:248: FutureWarning: Setting an item of incompatible dtype is deprecated and will raise an error in a future version of pandas. Value '3F' has dtype incompatible with float64, please explicitly cast to a compatible dtype first.\n",
      "  lvl[\"term\"] = \"\".join([str(_) for _ in lvl_tokens[\"ls_term\"]])\n",
      " (\u001b[1mwarnings.py\u001b[0m:112)\n"
     ]
    },
    {
     "name": "stdout",
     "output_type": "stream",
     "text": [
      "[\u001b[1m                py.warnings\u001b[0m][\u001b[1;33mWARNING\u001b[0m] - /home/runner/work/carsus/carsus/carsus/io/nist/ionization.py:248: FutureWarning: Setting an item of incompatible dtype is deprecated and will raise an error in a future version of pandas. Value '4F' has dtype incompatible with float64, please explicitly cast to a compatible dtype first.\n",
      "  lvl[\"term\"] = \"\".join([str(_) for _ in lvl_tokens[\"ls_term\"]])\n",
      " (\u001b[1mwarnings.py\u001b[0m:112)\n"
     ]
    },
    {
     "name": "stdout",
     "output_type": "stream",
     "text": [
      "[\u001b[1m                py.warnings\u001b[0m][\u001b[1;33mWARNING\u001b[0m] - /home/runner/work/carsus/carsus/carsus/io/nist/ionization.py:248: FutureWarning: Setting an item of incompatible dtype is deprecated and will raise an error in a future version of pandas. Value '5D' has dtype incompatible with float64, please explicitly cast to a compatible dtype first.\n",
      "  lvl[\"term\"] = \"\".join([str(_) for _ in lvl_tokens[\"ls_term\"]])\n",
      " (\u001b[1mwarnings.py\u001b[0m:112)\n"
     ]
    },
    {
     "name": "stdout",
     "output_type": "stream",
     "text": [
      "[\u001b[1m                py.warnings\u001b[0m][\u001b[1;33mWARNING\u001b[0m] - /home/runner/work/carsus/carsus/carsus/io/nist/ionization.py:248: FutureWarning: Setting an item of incompatible dtype is deprecated and will raise an error in a future version of pandas. Value '6S' has dtype incompatible with float64, please explicitly cast to a compatible dtype first.\n",
      "  lvl[\"term\"] = \"\".join([str(_) for _ in lvl_tokens[\"ls_term\"]])\n",
      " (\u001b[1mwarnings.py\u001b[0m:112)\n"
     ]
    },
    {
     "name": "stdout",
     "output_type": "stream",
     "text": [
      "[\u001b[1m                py.warnings\u001b[0m][\u001b[1;33mWARNING\u001b[0m] - /home/runner/work/carsus/carsus/carsus/io/nist/ionization.py:248: FutureWarning: Setting an item of incompatible dtype is deprecated and will raise an error in a future version of pandas. Value '5D' has dtype incompatible with float64, please explicitly cast to a compatible dtype first.\n",
      "  lvl[\"term\"] = \"\".join([str(_) for _ in lvl_tokens[\"ls_term\"]])\n",
      " (\u001b[1mwarnings.py\u001b[0m:112)\n"
     ]
    },
    {
     "name": "stdout",
     "output_type": "stream",
     "text": [
      "[\u001b[1m                py.warnings\u001b[0m][\u001b[1;33mWARNING\u001b[0m] - /home/runner/work/carsus/carsus/carsus/io/nist/ionization.py:248: FutureWarning: Setting an item of incompatible dtype is deprecated and will raise an error in a future version of pandas. Value '4F' has dtype incompatible with float64, please explicitly cast to a compatible dtype first.\n",
      "  lvl[\"term\"] = \"\".join([str(_) for _ in lvl_tokens[\"ls_term\"]])\n",
      " (\u001b[1mwarnings.py\u001b[0m:112)\n"
     ]
    },
    {
     "name": "stdout",
     "output_type": "stream",
     "text": [
      "[\u001b[1m                py.warnings\u001b[0m][\u001b[1;33mWARNING\u001b[0m] - /home/runner/work/carsus/carsus/carsus/io/nist/ionization.py:248: FutureWarning: Setting an item of incompatible dtype is deprecated and will raise an error in a future version of pandas. Value '3F' has dtype incompatible with float64, please explicitly cast to a compatible dtype first.\n",
      "  lvl[\"term\"] = \"\".join([str(_) for _ in lvl_tokens[\"ls_term\"]])\n",
      " (\u001b[1mwarnings.py\u001b[0m:112)\n"
     ]
    },
    {
     "name": "stdout",
     "output_type": "stream",
     "text": [
      "[\u001b[1m                py.warnings\u001b[0m][\u001b[1;33mWARNING\u001b[0m] - /home/runner/work/carsus/carsus/carsus/io/nist/ionization.py:248: FutureWarning: Setting an item of incompatible dtype is deprecated and will raise an error in a future version of pandas. Value '2D' has dtype incompatible with float64, please explicitly cast to a compatible dtype first.\n",
      "  lvl[\"term\"] = \"\".join([str(_) for _ in lvl_tokens[\"ls_term\"]])\n",
      " (\u001b[1mwarnings.py\u001b[0m:112)\n"
     ]
    },
    {
     "name": "stdout",
     "output_type": "stream",
     "text": [
      "[\u001b[1m                py.warnings\u001b[0m][\u001b[1;33mWARNING\u001b[0m] - /home/runner/work/carsus/carsus/carsus/io/nist/ionization.py:248: FutureWarning: Setting an item of incompatible dtype is deprecated and will raise an error in a future version of pandas. Value '1S' has dtype incompatible with float64, please explicitly cast to a compatible dtype first.\n",
      "  lvl[\"term\"] = \"\".join([str(_) for _ in lvl_tokens[\"ls_term\"]])\n",
      " (\u001b[1mwarnings.py\u001b[0m:112)\n"
     ]
    },
    {
     "name": "stdout",
     "output_type": "stream",
     "text": [
      "[\u001b[1m                py.warnings\u001b[0m][\u001b[1;33mWARNING\u001b[0m] - /home/runner/work/carsus/carsus/carsus/io/nist/ionization.py:248: FutureWarning: Setting an item of incompatible dtype is deprecated and will raise an error in a future version of pandas. Value '2P' has dtype incompatible with float64, please explicitly cast to a compatible dtype first.\n",
      "  lvl[\"term\"] = \"\".join([str(_) for _ in lvl_tokens[\"ls_term\"]])\n",
      " (\u001b[1mwarnings.py\u001b[0m:112)\n"
     ]
    },
    {
     "name": "stdout",
     "output_type": "stream",
     "text": [
      "[\u001b[1m                py.warnings\u001b[0m][\u001b[1;33mWARNING\u001b[0m] - /home/runner/work/carsus/carsus/carsus/io/nist/ionization.py:248: FutureWarning: Setting an item of incompatible dtype is deprecated and will raise an error in a future version of pandas. Value '3P' has dtype incompatible with float64, please explicitly cast to a compatible dtype first.\n",
      "  lvl[\"term\"] = \"\".join([str(_) for _ in lvl_tokens[\"ls_term\"]])\n",
      " (\u001b[1mwarnings.py\u001b[0m:112)\n"
     ]
    },
    {
     "name": "stdout",
     "output_type": "stream",
     "text": [
      "[\u001b[1m                py.warnings\u001b[0m][\u001b[1;33mWARNING\u001b[0m] - /home/runner/work/carsus/carsus/carsus/io/nist/ionization.py:248: FutureWarning: Setting an item of incompatible dtype is deprecated and will raise an error in a future version of pandas. Value '4S' has dtype incompatible with float64, please explicitly cast to a compatible dtype first.\n",
      "  lvl[\"term\"] = \"\".join([str(_) for _ in lvl_tokens[\"ls_term\"]])\n",
      " (\u001b[1mwarnings.py\u001b[0m:112)\n"
     ]
    },
    {
     "name": "stdout",
     "output_type": "stream",
     "text": [
      "[\u001b[1m                py.warnings\u001b[0m][\u001b[1;33mWARNING\u001b[0m] - /home/runner/work/carsus/carsus/carsus/io/nist/ionization.py:248: FutureWarning: Setting an item of incompatible dtype is deprecated and will raise an error in a future version of pandas. Value '3P' has dtype incompatible with float64, please explicitly cast to a compatible dtype first.\n",
      "  lvl[\"term\"] = \"\".join([str(_) for _ in lvl_tokens[\"ls_term\"]])\n",
      " (\u001b[1mwarnings.py\u001b[0m:112)\n"
     ]
    },
    {
     "name": "stdout",
     "output_type": "stream",
     "text": [
      "[\u001b[1m                py.warnings\u001b[0m][\u001b[1;33mWARNING\u001b[0m] - /home/runner/work/carsus/carsus/carsus/io/nist/ionization.py:248: FutureWarning: Setting an item of incompatible dtype is deprecated and will raise an error in a future version of pandas. Value '2P' has dtype incompatible with float64, please explicitly cast to a compatible dtype first.\n",
      "  lvl[\"term\"] = \"\".join([str(_) for _ in lvl_tokens[\"ls_term\"]])\n",
      " (\u001b[1mwarnings.py\u001b[0m:112)\n"
     ]
    },
    {
     "name": "stdout",
     "output_type": "stream",
     "text": [
      "[\u001b[1m                py.warnings\u001b[0m][\u001b[1;33mWARNING\u001b[0m] - /home/runner/work/carsus/carsus/carsus/io/nist/ionization.py:248: FutureWarning: Setting an item of incompatible dtype is deprecated and will raise an error in a future version of pandas. Value '1S' has dtype incompatible with float64, please explicitly cast to a compatible dtype first.\n",
      "  lvl[\"term\"] = \"\".join([str(_) for _ in lvl_tokens[\"ls_term\"]])\n",
      " (\u001b[1mwarnings.py\u001b[0m:112)\n"
     ]
    },
    {
     "name": "stdout",
     "output_type": "stream",
     "text": [
      "[\u001b[1m                py.warnings\u001b[0m][\u001b[1;33mWARNING\u001b[0m] - /home/runner/work/carsus/carsus/carsus/io/nist/ionization.py:248: FutureWarning: Setting an item of incompatible dtype is deprecated and will raise an error in a future version of pandas. Value '2S' has dtype incompatible with float64, please explicitly cast to a compatible dtype first.\n",
      "  lvl[\"term\"] = \"\".join([str(_) for _ in lvl_tokens[\"ls_term\"]])\n",
      " (\u001b[1mwarnings.py\u001b[0m:112)\n"
     ]
    },
    {
     "name": "stdout",
     "output_type": "stream",
     "text": [
      "[\u001b[1m                py.warnings\u001b[0m][\u001b[1;33mWARNING\u001b[0m] - /home/runner/work/carsus/carsus/carsus/io/nist/ionization.py:248: FutureWarning: Setting an item of incompatible dtype is deprecated and will raise an error in a future version of pandas. Value '1S' has dtype incompatible with float64, please explicitly cast to a compatible dtype first.\n",
      "  lvl[\"term\"] = \"\".join([str(_) for _ in lvl_tokens[\"ls_term\"]])\n",
      " (\u001b[1mwarnings.py\u001b[0m:112)\n"
     ]
    },
    {
     "name": "stdout",
     "output_type": "stream",
     "text": [
      "[\u001b[1m                py.warnings\u001b[0m][\u001b[1;33mWARNING\u001b[0m] - /home/runner/work/carsus/carsus/carsus/io/nist/ionization.py:248: FutureWarning: Setting an item of incompatible dtype is deprecated and will raise an error in a future version of pandas. Value '2P' has dtype incompatible with float64, please explicitly cast to a compatible dtype first.\n",
      "  lvl[\"term\"] = \"\".join([str(_) for _ in lvl_tokens[\"ls_term\"]])\n",
      " (\u001b[1mwarnings.py\u001b[0m:112)\n"
     ]
    },
    {
     "name": "stdout",
     "output_type": "stream",
     "text": [
      "[\u001b[1m                py.warnings\u001b[0m][\u001b[1;33mWARNING\u001b[0m] - /home/runner/work/carsus/carsus/carsus/io/nist/ionization.py:248: FutureWarning: Setting an item of incompatible dtype is deprecated and will raise an error in a future version of pandas. Value '3P' has dtype incompatible with float64, please explicitly cast to a compatible dtype first.\n",
      "  lvl[\"term\"] = \"\".join([str(_) for _ in lvl_tokens[\"ls_term\"]])\n",
      " (\u001b[1mwarnings.py\u001b[0m:112)\n"
     ]
    },
    {
     "name": "stdout",
     "output_type": "stream",
     "text": [
      "[\u001b[1m                py.warnings\u001b[0m][\u001b[1;33mWARNING\u001b[0m] - /home/runner/work/carsus/carsus/carsus/io/nist/ionization.py:248: FutureWarning: Setting an item of incompatible dtype is deprecated and will raise an error in a future version of pandas. Value '4S' has dtype incompatible with float64, please explicitly cast to a compatible dtype first.\n",
      "  lvl[\"term\"] = \"\".join([str(_) for _ in lvl_tokens[\"ls_term\"]])\n",
      " (\u001b[1mwarnings.py\u001b[0m:112)\n"
     ]
    },
    {
     "name": "stdout",
     "output_type": "stream",
     "text": [
      "[\u001b[1m                py.warnings\u001b[0m][\u001b[1;33mWARNING\u001b[0m] - /home/runner/work/carsus/carsus/carsus/io/nist/ionization.py:248: FutureWarning: Setting an item of incompatible dtype is deprecated and will raise an error in a future version of pandas. Value '3P' has dtype incompatible with float64, please explicitly cast to a compatible dtype first.\n",
      "  lvl[\"term\"] = \"\".join([str(_) for _ in lvl_tokens[\"ls_term\"]])\n",
      " (\u001b[1mwarnings.py\u001b[0m:112)\n"
     ]
    },
    {
     "name": "stdout",
     "output_type": "stream",
     "text": [
      "[\u001b[1m                py.warnings\u001b[0m][\u001b[1;33mWARNING\u001b[0m] - /home/runner/work/carsus/carsus/carsus/io/nist/ionization.py:248: FutureWarning: Setting an item of incompatible dtype is deprecated and will raise an error in a future version of pandas. Value '2P' has dtype incompatible with float64, please explicitly cast to a compatible dtype first.\n",
      "  lvl[\"term\"] = \"\".join([str(_) for _ in lvl_tokens[\"ls_term\"]])\n",
      " (\u001b[1mwarnings.py\u001b[0m:112)\n"
     ]
    },
    {
     "name": "stdout",
     "output_type": "stream",
     "text": [
      "[\u001b[1m                py.warnings\u001b[0m][\u001b[1;33mWARNING\u001b[0m] - /home/runner/work/carsus/carsus/carsus/io/nist/ionization.py:248: FutureWarning: Setting an item of incompatible dtype is deprecated and will raise an error in a future version of pandas. Value '1S' has dtype incompatible with float64, please explicitly cast to a compatible dtype first.\n",
      "  lvl[\"term\"] = \"\".join([str(_) for _ in lvl_tokens[\"ls_term\"]])\n",
      " (\u001b[1mwarnings.py\u001b[0m:112)\n"
     ]
    },
    {
     "name": "stdout",
     "output_type": "stream",
     "text": [
      "[\u001b[1m                py.warnings\u001b[0m][\u001b[1;33mWARNING\u001b[0m] - /home/runner/work/carsus/carsus/carsus/io/nist/ionization.py:248: FutureWarning: Setting an item of incompatible dtype is deprecated and will raise an error in a future version of pandas. Value '2S' has dtype incompatible with float64, please explicitly cast to a compatible dtype first.\n",
      "  lvl[\"term\"] = \"\".join([str(_) for _ in lvl_tokens[\"ls_term\"]])\n",
      " (\u001b[1mwarnings.py\u001b[0m:112)\n"
     ]
    },
    {
     "name": "stdout",
     "output_type": "stream",
     "text": [
      "[\u001b[1m                py.warnings\u001b[0m][\u001b[1;33mWARNING\u001b[0m] - /home/runner/work/carsus/carsus/carsus/io/nist/ionization.py:248: FutureWarning: Setting an item of incompatible dtype is deprecated and will raise an error in a future version of pandas. Value '1S' has dtype incompatible with float64, please explicitly cast to a compatible dtype first.\n",
      "  lvl[\"term\"] = \"\".join([str(_) for _ in lvl_tokens[\"ls_term\"]])\n",
      " (\u001b[1mwarnings.py\u001b[0m:112)\n"
     ]
    },
    {
     "name": "stdout",
     "output_type": "stream",
     "text": [
      "[\u001b[1m                py.warnings\u001b[0m][\u001b[1;33mWARNING\u001b[0m] - /home/runner/work/carsus/carsus/carsus/io/nist/ionization.py:248: FutureWarning: Setting an item of incompatible dtype is deprecated and will raise an error in a future version of pandas. Value '2S' has dtype incompatible with float64, please explicitly cast to a compatible dtype first.\n",
      "  lvl[\"term\"] = \"\".join([str(_) for _ in lvl_tokens[\"ls_term\"]])\n",
      " (\u001b[1mwarnings.py\u001b[0m:112)\n"
     ]
    },
    {
     "name": "stdout",
     "output_type": "stream",
     "text": [
      "[\u001b[1mcarsus.io.output.levels_lines\u001b[0m][   \u001b[1;37mINFO\u001b[0m] - Ingesting transition lines. (\u001b[1mlevels_lines.py\u001b[0m:264)\n"
     ]
    },
    {
     "name": "stdout",
     "output_type": "stream",
     "text": [
      "[\u001b[1m     carsus.io.kurucz.gfall\u001b[0m][   \u001b[1;37mINFO\u001b[0m] - Extracting line data: atomic_number, ion_charge, energy_lower, j_lower, energy_upper, j_upper, wavelength, loggf. (\u001b[1mgfall.py\u001b[0m:410)\n"
     ]
    },
    {
     "name": "stdout",
     "output_type": "stream",
     "text": [
      "[\u001b[1mcarsus.io.output.levels_lines\u001b[0m][   \u001b[1;37mINFO\u001b[0m] - Matching levels and lines. (\u001b[1mlevels_lines.py\u001b[0m:305)\n"
     ]
    },
    {
     "name": "stdout",
     "output_type": "stream",
     "text": [
      "[\u001b[1m      carsus.io.output.base\u001b[0m][   \u001b[1;37mINFO\u001b[0m] - Finished. (\u001b[1mbase.py\u001b[0m:101)\n"
     ]
    }
   ],
   "source": [
    "from carsus.io.output import TARDISAtomData\n",
    "\n",
    "atom_data = TARDISAtomData(atomic_weights,\n",
    "                           ionization_energies,\n",
    "                           gfall_reader,\n",
    "                           zeta_data,\n",
    "                           cmfgen_reader=cmfgen_reader)"
   ]
  },
  {
   "cell_type": "code",
   "execution_count": 8,
   "metadata": {
    "ExecuteTime": {
     "end_time": "2022-07-29T10:28:50.219288Z",
     "start_time": "2022-07-29T10:28:49.208901Z"
    },
    "execution": {
     "iopub.execute_input": "2025-05-13T17:10:40.185117Z",
     "iopub.status.busy": "2025-05-13T17:10:40.184795Z",
     "iopub.status.idle": "2025-05-13T17:10:43.225095Z",
     "shell.execute_reply": "2025-05-13T17:10:43.224736Z"
    }
   },
   "outputs": [
    {
     "name": "stdout",
     "output_type": "stream",
     "text": [
      "[\u001b[1m                py.warnings\u001b[0m][\u001b[1;33mWARNING\u001b[0m] - /home/runner/work/carsus/carsus/carsus/io/output/base.py:211: PerformanceWarning: \n",
      "your performance may suffer as PyTables will pickle object types that it cannot\n",
      "map directly to c-types [inferred_type->integer,key->axis0] [items->None]\n",
      "\n",
      "  f.put(hdf_path, getattr(reader, data))\n",
      " (\u001b[1mwarnings.py\u001b[0m:112)\n"
     ]
    },
    {
     "name": "stdout",
     "output_type": "stream",
     "text": [
      "[\u001b[1m                py.warnings\u001b[0m][\u001b[1;33mWARNING\u001b[0m] - /home/runner/work/carsus/carsus/carsus/io/output/base.py:211: PerformanceWarning: \n",
      "your performance may suffer as PyTables will pickle object types that it cannot\n",
      "map directly to c-types [inferred_type->integer,key->block0_items] [items->None]\n",
      "\n",
      "  f.put(hdf_path, getattr(reader, data))\n",
      " (\u001b[1mwarnings.py\u001b[0m:112)\n"
     ]
    },
    {
     "name": "stdout",
     "output_type": "stream",
     "text": [
      "[\u001b[1m                py.warnings\u001b[0m][\u001b[1;33mWARNING\u001b[0m] - /home/runner/work/carsus/carsus/carsus/io/output/base.py:211: PerformanceWarning: \n",
      "your performance may suffer as PyTables will pickle object types that it cannot\n",
      "map directly to c-types [inferred_type->mixed,key->values] [items->None]\n",
      "\n",
      "  f.put(hdf_path, getattr(reader, data))\n",
      " (\u001b[1mwarnings.py\u001b[0m:112)\n"
     ]
    },
    {
     "name": "stdout",
     "output_type": "stream",
     "text": [
      "[\u001b[1mcarsus.io.output.photo_ionization\u001b[0m][   \u001b[1;37mINFO\u001b[0m] - Ingesting photoionization cross-sections. (\u001b[1mphoto_ionization.py\u001b[0m:32)\n"
     ]
    },
    {
     "name": "stdout",
     "output_type": "stream",
     "text": [
      "[\u001b[1mcarsus.io.output.photo_ionization\u001b[0m][   \u001b[1;37mINFO\u001b[0m] - Matching levels and cross sections. (\u001b[1mphoto_ionization.py\u001b[0m:35)\n"
     ]
    },
    {
     "name": "stdout",
     "output_type": "stream",
     "text": [
      "[\u001b[1m      carsus.io.output.base\u001b[0m][   \u001b[1;37mINFO\u001b[0m] - Signing TARDISAtomData. (\u001b[1mbase.py\u001b[0m:268)\n"
     ]
    },
    {
     "name": "stdout",
     "output_type": "stream",
     "text": [
      "[\u001b[1m      carsus.io.output.base\u001b[0m][   \u001b[1;37mINFO\u001b[0m] - Format Version: 1.0 (\u001b[1mbase.py\u001b[0m:269)\n"
     ]
    },
    {
     "name": "stdout",
     "output_type": "stream",
     "text": [
      "[\u001b[1m      carsus.io.output.base\u001b[0m][   \u001b[1;37mINFO\u001b[0m] - MD5: 136b11ed2fcb8e1c7e0e78cffebdc595 (\u001b[1mbase.py\u001b[0m:270)\n"
     ]
    },
    {
     "name": "stdout",
     "output_type": "stream",
     "text": [
      "[\u001b[1m      carsus.io.output.base\u001b[0m][   \u001b[1;37mINFO\u001b[0m] - UUID1: 33f16996301d11f09576000d3acfccd3 (\u001b[1mbase.py\u001b[0m:271)\n"
     ]
    }
   ],
   "source": [
    "atom_data.to_hdf('kurucz_cd23_cmfgen_H_Si.h5')"
   ]
  }
 ],
 "metadata": {
  "kernelspec": {
   "display_name": "Python 3",
   "language": "python",
   "name": "python3"
  },
  "language_info": {
   "codemirror_mode": {
    "name": "ipython",
    "version": 3
   },
   "file_extension": ".py",
   "mimetype": "text/x-python",
   "name": "python",
   "nbconvert_exporter": "python",
   "pygments_lexer": "ipython3",
   "version": "3.12.5"
  },
  "varInspector": {
   "cols": {
    "lenName": 16,
    "lenType": 16,
    "lenVar": 40
   },
   "kernels_config": {
    "python": {
     "delete_cmd_postfix": "",
     "delete_cmd_prefix": "del ",
     "library": "var_list.py",
     "varRefreshCmd": "print(var_dic_list())"
    },
    "r": {
     "delete_cmd_postfix": ") ",
     "delete_cmd_prefix": "rm(",
     "library": "var_list.r",
     "varRefreshCmd": "cat(var_dic_list()) "
    }
   },
   "types_to_exclude": [
    "module",
    "function",
    "builtin_function_or_method",
    "instance",
    "_Feature"
   ],
   "window_display": false
  },
  "widgets": {
   "application/vnd.jupyter.widget-state+json": {
    "state": {},
    "version_major": 2,
    "version_minor": 0
   }
  }
 },
 "nbformat": 4,
 "nbformat_minor": 2
}
