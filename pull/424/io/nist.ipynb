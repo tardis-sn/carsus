{
 "cells": [
  {
   "cell_type": "markdown",
   "metadata": {},
   "source": [
    "# NIST"
   ]
  },
  {
   "cell_type": "markdown",
   "metadata": {},
   "source": [
    "The National Institute of Standards and Technology (NIST) supplies Carsus with atomic weights, ionization energies and ground levels configurations."
   ]
  },
  {
   "cell_type": "markdown",
   "metadata": {},
   "source": [
    "## Atomic Weights\n",
    "\n",
    "Provided by the NIST Atomic Weights and Isotopic Compositions Database.\n",
    "\n",
    "<div class=\"alert alert-warning\">\n",
    "\n",
    "**Warning:** \n",
    "    \n",
    "Carsus does not support unstable atoms with atomic numbers greater than 94\n",
    "\n",
    "</div>"
   ]
  },
  {
   "cell_type": "code",
   "execution_count": 1,
   "metadata": {
    "execution": {
     "iopub.execute_input": "2025-05-12T14:50:42.600390Z",
     "iopub.status.busy": "2025-05-12T14:50:42.600226Z",
     "iopub.status.idle": "2025-05-12T14:50:44.165494Z",
     "shell.execute_reply": "2025-05-12T14:50:44.164904Z"
    }
   },
   "outputs": [
    {
     "name": "stdout",
     "output_type": "stream",
     "text": [
      " ChiantiPy version 0.15.0 \n",
      " found PyQt5 widgets\n",
      " using PyQt5 widgets\n"
     ]
    },
    {
     "name": "stdout",
     "output_type": "stream",
     "text": [
      "[\u001b[1m                py.warnings\u001b[0m][\u001b[1;33mWARNING\u001b[0m] - /home/runner/micromamba/envs/carsus/lib/python3.12/site-packages/ChiantiPy/tools/data.py:72: UserWarning: klgfb files are not present: \n",
      "  it will not be possible to use the freeBound continuum method\n",
      "  warnings.warn('klgfb files are not present: \\n  it will not be possible to use the freeBound continuum method')\n",
      " (\u001b[1mwarnings.py\u001b[0m:112)\n"
     ]
    }
   ],
   "source": [
    "from carsus.io.nist import NISTWeightsComp"
   ]
  },
  {
   "cell_type": "code",
   "execution_count": 2,
   "metadata": {
    "execution": {
     "iopub.execute_input": "2025-05-12T14:50:44.167763Z",
     "iopub.status.busy": "2025-05-12T14:50:44.167458Z",
     "iopub.status.idle": "2025-05-12T14:50:46.076427Z",
     "shell.execute_reply": "2025-05-12T14:50:46.075976Z"
    }
   },
   "outputs": [
    {
     "name": "stdout",
     "output_type": "stream",
     "text": [
      "[\u001b[1m carsus.io.nist.weightscomp\u001b[0m][   \u001b[1;37mINFO\u001b[0m] - Downloading data from the carsus-dat-nist repository (\u001b[1mweightscomp.py\u001b[0m:69)\n"
     ]
    },
    {
     "name": "stdout",
     "output_type": "stream",
     "text": [
      "[\u001b[1m                py.warnings\u001b[0m][\u001b[1;33mWARNING\u001b[0m] - /home/runner/micromamba/envs/carsus/lib/python3.12/site-packages/urllib3/connectionpool.py:1099: InsecureRequestWarning: Unverified HTTPS request is being made to host 'raw.githubusercontent.com'. Adding certificate verification is strongly advised. See: https://urllib3.readthedocs.io/en/latest/advanced-usage.html#tls-warnings\n",
      "  warnings.warn(\n",
      " (\u001b[1mwarnings.py\u001b[0m:112)\n"
     ]
    }
   ],
   "source": [
    "nist_weights = NISTWeightsComp('H-O')"
   ]
  },
  {
   "cell_type": "code",
   "execution_count": 3,
   "metadata": {
    "execution": {
     "iopub.execute_input": "2025-05-12T14:50:46.078600Z",
     "iopub.status.busy": "2025-05-12T14:50:46.078272Z",
     "iopub.status.idle": "2025-05-12T14:50:46.087258Z",
     "shell.execute_reply": "2025-05-12T14:50:46.086757Z"
    }
   },
   "outputs": [
    {
     "data": {
      "text/html": [
       "<div>\n",
       "<style scoped>\n",
       "    .dataframe tbody tr th:only-of-type {\n",
       "        vertical-align: middle;\n",
       "    }\n",
       "\n",
       "    .dataframe tbody tr th {\n",
       "        vertical-align: top;\n",
       "    }\n",
       "\n",
       "    .dataframe thead th {\n",
       "        text-align: right;\n",
       "    }\n",
       "</style>\n",
       "<table border=\"1\" class=\"dataframe\">\n",
       "  <thead>\n",
       "    <tr style=\"text-align: right;\">\n",
       "      <th></th>\n",
       "      <th>symbol</th>\n",
       "      <th>name</th>\n",
       "      <th>mass</th>\n",
       "    </tr>\n",
       "    <tr>\n",
       "      <th>atomic_number</th>\n",
       "      <th></th>\n",
       "      <th></th>\n",
       "      <th></th>\n",
       "    </tr>\n",
       "  </thead>\n",
       "  <tbody>\n",
       "    <tr>\n",
       "      <th>1</th>\n",
       "      <td>H</td>\n",
       "      <td>Hydrogen</td>\n",
       "      <td>1.007975</td>\n",
       "    </tr>\n",
       "    <tr>\n",
       "      <th>2</th>\n",
       "      <td>He</td>\n",
       "      <td>Helium</td>\n",
       "      <td>4.002602</td>\n",
       "    </tr>\n",
       "    <tr>\n",
       "      <th>3</th>\n",
       "      <td>Li</td>\n",
       "      <td>Lithium</td>\n",
       "      <td>6.967500</td>\n",
       "    </tr>\n",
       "    <tr>\n",
       "      <th>4</th>\n",
       "      <td>Be</td>\n",
       "      <td>Beryllium</td>\n",
       "      <td>9.012183</td>\n",
       "    </tr>\n",
       "    <tr>\n",
       "      <th>5</th>\n",
       "      <td>B</td>\n",
       "      <td>Boron</td>\n",
       "      <td>10.813500</td>\n",
       "    </tr>\n",
       "    <tr>\n",
       "      <th>6</th>\n",
       "      <td>C</td>\n",
       "      <td>Carbon</td>\n",
       "      <td>12.010600</td>\n",
       "    </tr>\n",
       "    <tr>\n",
       "      <th>7</th>\n",
       "      <td>N</td>\n",
       "      <td>Nitrogen</td>\n",
       "      <td>14.006855</td>\n",
       "    </tr>\n",
       "    <tr>\n",
       "      <th>8</th>\n",
       "      <td>O</td>\n",
       "      <td>Oxygen</td>\n",
       "      <td>15.999400</td>\n",
       "    </tr>\n",
       "  </tbody>\n",
       "</table>\n",
       "</div>"
      ],
      "text/plain": [
       "              symbol       name       mass\n",
       "atomic_number                             \n",
       "1                  H   Hydrogen   1.007975\n",
       "2                 He     Helium   4.002602\n",
       "3                 Li    Lithium   6.967500\n",
       "4                 Be  Beryllium   9.012183\n",
       "5                  B      Boron  10.813500\n",
       "6                  C     Carbon  12.010600\n",
       "7                  N   Nitrogen  14.006855\n",
       "8                  O     Oxygen  15.999400"
      ]
     },
     "execution_count": 3,
     "metadata": {},
     "output_type": "execute_result"
    }
   ],
   "source": [
    "nist_weights.base"
   ]
  },
  {
   "cell_type": "markdown",
   "metadata": {},
   "source": [
    "## Ionization Energies and Ground Levels\n",
    "\n",
    "Provided by the NIST Atomic Spectra Database."
   ]
  },
  {
   "cell_type": "code",
   "execution_count": 4,
   "metadata": {
    "execution": {
     "iopub.execute_input": "2025-05-12T14:50:46.089247Z",
     "iopub.status.busy": "2025-05-12T14:50:46.088824Z",
     "iopub.status.idle": "2025-05-12T14:50:46.091542Z",
     "shell.execute_reply": "2025-05-12T14:50:46.091041Z"
    }
   },
   "outputs": [],
   "source": [
    "from carsus.io.nist import NISTIonizationEnergies"
   ]
  },
  {
   "cell_type": "code",
   "execution_count": 5,
   "metadata": {
    "execution": {
     "iopub.execute_input": "2025-05-12T14:50:46.093544Z",
     "iopub.status.busy": "2025-05-12T14:50:46.093154Z",
     "iopub.status.idle": "2025-05-12T14:50:47.217701Z",
     "shell.execute_reply": "2025-05-12T14:50:47.217194Z"
    }
   },
   "outputs": [
    {
     "name": "stdout",
     "output_type": "stream",
     "text": [
      "[\u001b[1m  carsus.io.nist.ionization\u001b[0m][   \u001b[1;37mINFO\u001b[0m] - Downloading ionization energies from the carsus-data-nist repo. (\u001b[1mionization.py\u001b[0m:87)\n"
     ]
    },
    {
     "name": "stdout",
     "output_type": "stream",
     "text": [
      "[\u001b[1m                py.warnings\u001b[0m][\u001b[1;33mWARNING\u001b[0m] - /home/runner/micromamba/envs/carsus/lib/python3.12/site-packages/urllib3/connectionpool.py:1099: InsecureRequestWarning: Unverified HTTPS request is being made to host 'raw.githubusercontent.com'. Adding certificate verification is strongly advised. See: https://urllib3.readthedocs.io/en/latest/advanced-usage.html#tls-warnings\n",
      "  warnings.warn(\n",
      " (\u001b[1mwarnings.py\u001b[0m:112)\n"
     ]
    }
   ],
   "source": [
    "nist_ioniz = NISTIonizationEnergies('H-O')"
   ]
  },
  {
   "cell_type": "code",
   "execution_count": 6,
   "metadata": {
    "execution": {
     "iopub.execute_input": "2025-05-12T14:50:47.219774Z",
     "iopub.status.busy": "2025-05-12T14:50:47.219593Z",
     "iopub.status.idle": "2025-05-12T14:50:47.224535Z",
     "shell.execute_reply": "2025-05-12T14:50:47.224051Z"
    }
   },
   "outputs": [
    {
     "data": {
      "text/plain": [
       "atomic_number  ion_charge\n",
       "1              0              13.598435\n",
       "2              0              24.587389\n",
       "               1              54.417766\n",
       "3              0               5.391715\n",
       "               1              75.640097\n",
       "               2             122.454359\n",
       "4              0               9.322699\n",
       "               1              18.211150\n",
       "               2             153.896205\n",
       "               3             217.718585\n",
       "5              0               8.298019\n",
       "               1              25.154830\n",
       "               2              37.930590\n",
       "               3             259.374379\n",
       "               4             340.226022\n",
       "6              0              11.260288\n",
       "               1              24.383143\n",
       "               2              47.887780\n",
       "               3              64.493520\n",
       "               4             392.090560\n",
       "               5             489.993208\n",
       "7              0              14.534130\n",
       "               1              29.601250\n",
       "               2              47.445300\n",
       "               3              77.473500\n",
       "               4              97.890100\n",
       "               5             552.067410\n",
       "               6             667.046138\n",
       "8              0              13.618055\n",
       "               1              35.121120\n",
       "               2              54.935540\n",
       "               3              77.413500\n",
       "               4             113.899000\n",
       "               5             138.118900\n",
       "               6             739.326970\n",
       "               7             871.409914\n",
       "Name: ionization_energy, dtype: float64"
      ]
     },
     "execution_count": 6,
     "metadata": {},
     "output_type": "execute_result"
    }
   ],
   "source": [
    "nist_ioniz.base"
   ]
  },
  {
   "cell_type": "code",
   "execution_count": 7,
   "metadata": {
    "execution": {
     "iopub.execute_input": "2025-05-12T14:50:47.226366Z",
     "iopub.status.busy": "2025-05-12T14:50:47.226201Z",
     "iopub.status.idle": "2025-05-12T14:50:47.282234Z",
     "shell.execute_reply": "2025-05-12T14:50:47.281811Z"
    }
   },
   "outputs": [
    {
     "name": "stdout",
     "output_type": "stream",
     "text": [
      "[\u001b[1m                py.warnings\u001b[0m][\u001b[1;33mWARNING\u001b[0m] - /home/runner/work/carsus/carsus/carsus/io/nist/ionization.py:248: FutureWarning: Setting an item of incompatible dtype is deprecated and will raise an error in a future version of pandas. Value '2S' has dtype incompatible with float64, please explicitly cast to a compatible dtype first.\n",
      "  lvl[\"term\"] = \"\".join([str(_) for _ in lvl_tokens[\"ls_term\"]])\n",
      " (\u001b[1mwarnings.py\u001b[0m:112)\n"
     ]
    },
    {
     "name": "stdout",
     "output_type": "stream",
     "text": [
      "[\u001b[1m                py.warnings\u001b[0m][\u001b[1;33mWARNING\u001b[0m] - /home/runner/work/carsus/carsus/carsus/io/nist/ionization.py:248: FutureWarning: Setting an item of incompatible dtype is deprecated and will raise an error in a future version of pandas. Value '1S' has dtype incompatible with float64, please explicitly cast to a compatible dtype first.\n",
      "  lvl[\"term\"] = \"\".join([str(_) for _ in lvl_tokens[\"ls_term\"]])\n",
      " (\u001b[1mwarnings.py\u001b[0m:112)\n"
     ]
    },
    {
     "name": "stdout",
     "output_type": "stream",
     "text": [
      "[\u001b[1m                py.warnings\u001b[0m][\u001b[1;33mWARNING\u001b[0m] - /home/runner/work/carsus/carsus/carsus/io/nist/ionization.py:248: FutureWarning: Setting an item of incompatible dtype is deprecated and will raise an error in a future version of pandas. Value '2S' has dtype incompatible with float64, please explicitly cast to a compatible dtype first.\n",
      "  lvl[\"term\"] = \"\".join([str(_) for _ in lvl_tokens[\"ls_term\"]])\n",
      " (\u001b[1mwarnings.py\u001b[0m:112)\n"
     ]
    },
    {
     "name": "stdout",
     "output_type": "stream",
     "text": [
      "[\u001b[1m                py.warnings\u001b[0m][\u001b[1;33mWARNING\u001b[0m] - /home/runner/work/carsus/carsus/carsus/io/nist/ionization.py:248: FutureWarning: Setting an item of incompatible dtype is deprecated and will raise an error in a future version of pandas. Value '2S' has dtype incompatible with float64, please explicitly cast to a compatible dtype first.\n",
      "  lvl[\"term\"] = \"\".join([str(_) for _ in lvl_tokens[\"ls_term\"]])\n",
      " (\u001b[1mwarnings.py\u001b[0m:112)\n"
     ]
    },
    {
     "name": "stdout",
     "output_type": "stream",
     "text": [
      "[\u001b[1m                py.warnings\u001b[0m][\u001b[1;33mWARNING\u001b[0m] - /home/runner/work/carsus/carsus/carsus/io/nist/ionization.py:248: FutureWarning: Setting an item of incompatible dtype is deprecated and will raise an error in a future version of pandas. Value '1S' has dtype incompatible with float64, please explicitly cast to a compatible dtype first.\n",
      "  lvl[\"term\"] = \"\".join([str(_) for _ in lvl_tokens[\"ls_term\"]])\n",
      " (\u001b[1mwarnings.py\u001b[0m:112)\n"
     ]
    },
    {
     "name": "stdout",
     "output_type": "stream",
     "text": [
      "[\u001b[1m                py.warnings\u001b[0m][\u001b[1;33mWARNING\u001b[0m] - /home/runner/work/carsus/carsus/carsus/io/nist/ionization.py:248: FutureWarning: Setting an item of incompatible dtype is deprecated and will raise an error in a future version of pandas. Value '2S' has dtype incompatible with float64, please explicitly cast to a compatible dtype first.\n",
      "  lvl[\"term\"] = \"\".join([str(_) for _ in lvl_tokens[\"ls_term\"]])\n",
      " (\u001b[1mwarnings.py\u001b[0m:112)\n"
     ]
    },
    {
     "name": "stdout",
     "output_type": "stream",
     "text": [
      "[\u001b[1m                py.warnings\u001b[0m][\u001b[1;33mWARNING\u001b[0m] - /home/runner/work/carsus/carsus/carsus/io/nist/ionization.py:248: FutureWarning: Setting an item of incompatible dtype is deprecated and will raise an error in a future version of pandas. Value '1S' has dtype incompatible with float64, please explicitly cast to a compatible dtype first.\n",
      "  lvl[\"term\"] = \"\".join([str(_) for _ in lvl_tokens[\"ls_term\"]])\n",
      " (\u001b[1mwarnings.py\u001b[0m:112)\n"
     ]
    },
    {
     "name": "stdout",
     "output_type": "stream",
     "text": [
      "[\u001b[1m                py.warnings\u001b[0m][\u001b[1;33mWARNING\u001b[0m] - /home/runner/work/carsus/carsus/carsus/io/nist/ionization.py:248: FutureWarning: Setting an item of incompatible dtype is deprecated and will raise an error in a future version of pandas. Value '2S' has dtype incompatible with float64, please explicitly cast to a compatible dtype first.\n",
      "  lvl[\"term\"] = \"\".join([str(_) for _ in lvl_tokens[\"ls_term\"]])\n",
      " (\u001b[1mwarnings.py\u001b[0m:112)\n"
     ]
    },
    {
     "name": "stdout",
     "output_type": "stream",
     "text": [
      "[\u001b[1m                py.warnings\u001b[0m][\u001b[1;33mWARNING\u001b[0m] - /home/runner/work/carsus/carsus/carsus/io/nist/ionization.py:248: FutureWarning: Setting an item of incompatible dtype is deprecated and will raise an error in a future version of pandas. Value '1S' has dtype incompatible with float64, please explicitly cast to a compatible dtype first.\n",
      "  lvl[\"term\"] = \"\".join([str(_) for _ in lvl_tokens[\"ls_term\"]])\n",
      " (\u001b[1mwarnings.py\u001b[0m:112)\n"
     ]
    },
    {
     "name": "stdout",
     "output_type": "stream",
     "text": [
      "[\u001b[1m                py.warnings\u001b[0m][\u001b[1;33mWARNING\u001b[0m] - /home/runner/work/carsus/carsus/carsus/io/nist/ionization.py:248: FutureWarning: Setting an item of incompatible dtype is deprecated and will raise an error in a future version of pandas. Value '2S' has dtype incompatible with float64, please explicitly cast to a compatible dtype first.\n",
      "  lvl[\"term\"] = \"\".join([str(_) for _ in lvl_tokens[\"ls_term\"]])\n",
      " (\u001b[1mwarnings.py\u001b[0m:112)\n"
     ]
    },
    {
     "name": "stdout",
     "output_type": "stream",
     "text": [
      "[\u001b[1m                py.warnings\u001b[0m][\u001b[1;33mWARNING\u001b[0m] - /home/runner/work/carsus/carsus/carsus/io/nist/ionization.py:248: FutureWarning: Setting an item of incompatible dtype is deprecated and will raise an error in a future version of pandas. Value '2P' has dtype incompatible with float64, please explicitly cast to a compatible dtype first.\n",
      "  lvl[\"term\"] = \"\".join([str(_) for _ in lvl_tokens[\"ls_term\"]])\n",
      " (\u001b[1mwarnings.py\u001b[0m:112)\n"
     ]
    },
    {
     "name": "stdout",
     "output_type": "stream",
     "text": [
      "[\u001b[1m                py.warnings\u001b[0m][\u001b[1;33mWARNING\u001b[0m] - /home/runner/work/carsus/carsus/carsus/io/nist/ionization.py:248: FutureWarning: Setting an item of incompatible dtype is deprecated and will raise an error in a future version of pandas. Value '1S' has dtype incompatible with float64, please explicitly cast to a compatible dtype first.\n",
      "  lvl[\"term\"] = \"\".join([str(_) for _ in lvl_tokens[\"ls_term\"]])\n",
      " (\u001b[1mwarnings.py\u001b[0m:112)\n"
     ]
    },
    {
     "name": "stdout",
     "output_type": "stream",
     "text": [
      "[\u001b[1m                py.warnings\u001b[0m][\u001b[1;33mWARNING\u001b[0m] - /home/runner/work/carsus/carsus/carsus/io/nist/ionization.py:248: FutureWarning: Setting an item of incompatible dtype is deprecated and will raise an error in a future version of pandas. Value '2S' has dtype incompatible with float64, please explicitly cast to a compatible dtype first.\n",
      "  lvl[\"term\"] = \"\".join([str(_) for _ in lvl_tokens[\"ls_term\"]])\n",
      " (\u001b[1mwarnings.py\u001b[0m:112)\n"
     ]
    },
    {
     "name": "stdout",
     "output_type": "stream",
     "text": [
      "[\u001b[1m                py.warnings\u001b[0m][\u001b[1;33mWARNING\u001b[0m] - /home/runner/work/carsus/carsus/carsus/io/nist/ionization.py:248: FutureWarning: Setting an item of incompatible dtype is deprecated and will raise an error in a future version of pandas. Value '1S' has dtype incompatible with float64, please explicitly cast to a compatible dtype first.\n",
      "  lvl[\"term\"] = \"\".join([str(_) for _ in lvl_tokens[\"ls_term\"]])\n",
      " (\u001b[1mwarnings.py\u001b[0m:112)\n"
     ]
    },
    {
     "name": "stdout",
     "output_type": "stream",
     "text": [
      "[\u001b[1m                py.warnings\u001b[0m][\u001b[1;33mWARNING\u001b[0m] - /home/runner/work/carsus/carsus/carsus/io/nist/ionization.py:248: FutureWarning: Setting an item of incompatible dtype is deprecated and will raise an error in a future version of pandas. Value '2S' has dtype incompatible with float64, please explicitly cast to a compatible dtype first.\n",
      "  lvl[\"term\"] = \"\".join([str(_) for _ in lvl_tokens[\"ls_term\"]])\n",
      " (\u001b[1mwarnings.py\u001b[0m:112)\n"
     ]
    },
    {
     "name": "stdout",
     "output_type": "stream",
     "text": [
      "[\u001b[1m                py.warnings\u001b[0m][\u001b[1;33mWARNING\u001b[0m] - /home/runner/work/carsus/carsus/carsus/io/nist/ionization.py:248: FutureWarning: Setting an item of incompatible dtype is deprecated and will raise an error in a future version of pandas. Value '3P' has dtype incompatible with float64, please explicitly cast to a compatible dtype first.\n",
      "  lvl[\"term\"] = \"\".join([str(_) for _ in lvl_tokens[\"ls_term\"]])\n",
      " (\u001b[1mwarnings.py\u001b[0m:112)\n"
     ]
    },
    {
     "name": "stdout",
     "output_type": "stream",
     "text": [
      "[\u001b[1m                py.warnings\u001b[0m][\u001b[1;33mWARNING\u001b[0m] - /home/runner/work/carsus/carsus/carsus/io/nist/ionization.py:248: FutureWarning: Setting an item of incompatible dtype is deprecated and will raise an error in a future version of pandas. Value '2P' has dtype incompatible with float64, please explicitly cast to a compatible dtype first.\n",
      "  lvl[\"term\"] = \"\".join([str(_) for _ in lvl_tokens[\"ls_term\"]])\n",
      " (\u001b[1mwarnings.py\u001b[0m:112)\n"
     ]
    },
    {
     "name": "stdout",
     "output_type": "stream",
     "text": [
      "[\u001b[1m                py.warnings\u001b[0m][\u001b[1;33mWARNING\u001b[0m] - /home/runner/work/carsus/carsus/carsus/io/nist/ionization.py:248: FutureWarning: Setting an item of incompatible dtype is deprecated and will raise an error in a future version of pandas. Value '1S' has dtype incompatible with float64, please explicitly cast to a compatible dtype first.\n",
      "  lvl[\"term\"] = \"\".join([str(_) for _ in lvl_tokens[\"ls_term\"]])\n",
      " (\u001b[1mwarnings.py\u001b[0m:112)\n"
     ]
    },
    {
     "name": "stdout",
     "output_type": "stream",
     "text": [
      "[\u001b[1m                py.warnings\u001b[0m][\u001b[1;33mWARNING\u001b[0m] - /home/runner/work/carsus/carsus/carsus/io/nist/ionization.py:248: FutureWarning: Setting an item of incompatible dtype is deprecated and will raise an error in a future version of pandas. Value '2S' has dtype incompatible with float64, please explicitly cast to a compatible dtype first.\n",
      "  lvl[\"term\"] = \"\".join([str(_) for _ in lvl_tokens[\"ls_term\"]])\n",
      " (\u001b[1mwarnings.py\u001b[0m:112)\n"
     ]
    },
    {
     "name": "stdout",
     "output_type": "stream",
     "text": [
      "[\u001b[1m                py.warnings\u001b[0m][\u001b[1;33mWARNING\u001b[0m] - /home/runner/work/carsus/carsus/carsus/io/nist/ionization.py:248: FutureWarning: Setting an item of incompatible dtype is deprecated and will raise an error in a future version of pandas. Value '1S' has dtype incompatible with float64, please explicitly cast to a compatible dtype first.\n",
      "  lvl[\"term\"] = \"\".join([str(_) for _ in lvl_tokens[\"ls_term\"]])\n",
      " (\u001b[1mwarnings.py\u001b[0m:112)\n"
     ]
    },
    {
     "name": "stdout",
     "output_type": "stream",
     "text": [
      "[\u001b[1m                py.warnings\u001b[0m][\u001b[1;33mWARNING\u001b[0m] - /home/runner/work/carsus/carsus/carsus/io/nist/ionization.py:248: FutureWarning: Setting an item of incompatible dtype is deprecated and will raise an error in a future version of pandas. Value '2S' has dtype incompatible with float64, please explicitly cast to a compatible dtype first.\n",
      "  lvl[\"term\"] = \"\".join([str(_) for _ in lvl_tokens[\"ls_term\"]])\n",
      " (\u001b[1mwarnings.py\u001b[0m:112)\n"
     ]
    },
    {
     "name": "stdout",
     "output_type": "stream",
     "text": [
      "[\u001b[1m                py.warnings\u001b[0m][\u001b[1;33mWARNING\u001b[0m] - /home/runner/work/carsus/carsus/carsus/io/nist/ionization.py:248: FutureWarning: Setting an item of incompatible dtype is deprecated and will raise an error in a future version of pandas. Value '4S' has dtype incompatible with float64, please explicitly cast to a compatible dtype first.\n",
      "  lvl[\"term\"] = \"\".join([str(_) for _ in lvl_tokens[\"ls_term\"]])\n",
      " (\u001b[1mwarnings.py\u001b[0m:112)\n"
     ]
    },
    {
     "name": "stdout",
     "output_type": "stream",
     "text": [
      "[\u001b[1m                py.warnings\u001b[0m][\u001b[1;33mWARNING\u001b[0m] - /home/runner/work/carsus/carsus/carsus/io/nist/ionization.py:248: FutureWarning: Setting an item of incompatible dtype is deprecated and will raise an error in a future version of pandas. Value '3P' has dtype incompatible with float64, please explicitly cast to a compatible dtype first.\n",
      "  lvl[\"term\"] = \"\".join([str(_) for _ in lvl_tokens[\"ls_term\"]])\n",
      " (\u001b[1mwarnings.py\u001b[0m:112)\n"
     ]
    },
    {
     "name": "stdout",
     "output_type": "stream",
     "text": [
      "[\u001b[1m                py.warnings\u001b[0m][\u001b[1;33mWARNING\u001b[0m] - /home/runner/work/carsus/carsus/carsus/io/nist/ionization.py:248: FutureWarning: Setting an item of incompatible dtype is deprecated and will raise an error in a future version of pandas. Value '2P' has dtype incompatible with float64, please explicitly cast to a compatible dtype first.\n",
      "  lvl[\"term\"] = \"\".join([str(_) for _ in lvl_tokens[\"ls_term\"]])\n",
      " (\u001b[1mwarnings.py\u001b[0m:112)\n"
     ]
    },
    {
     "name": "stdout",
     "output_type": "stream",
     "text": [
      "[\u001b[1m                py.warnings\u001b[0m][\u001b[1;33mWARNING\u001b[0m] - /home/runner/work/carsus/carsus/carsus/io/nist/ionization.py:248: FutureWarning: Setting an item of incompatible dtype is deprecated and will raise an error in a future version of pandas. Value '1S' has dtype incompatible with float64, please explicitly cast to a compatible dtype first.\n",
      "  lvl[\"term\"] = \"\".join([str(_) for _ in lvl_tokens[\"ls_term\"]])\n",
      " (\u001b[1mwarnings.py\u001b[0m:112)\n"
     ]
    },
    {
     "name": "stdout",
     "output_type": "stream",
     "text": [
      "[\u001b[1m                py.warnings\u001b[0m][\u001b[1;33mWARNING\u001b[0m] - /home/runner/work/carsus/carsus/carsus/io/nist/ionization.py:248: FutureWarning: Setting an item of incompatible dtype is deprecated and will raise an error in a future version of pandas. Value '2S' has dtype incompatible with float64, please explicitly cast to a compatible dtype first.\n",
      "  lvl[\"term\"] = \"\".join([str(_) for _ in lvl_tokens[\"ls_term\"]])\n",
      " (\u001b[1mwarnings.py\u001b[0m:112)\n"
     ]
    },
    {
     "name": "stdout",
     "output_type": "stream",
     "text": [
      "[\u001b[1m                py.warnings\u001b[0m][\u001b[1;33mWARNING\u001b[0m] - /home/runner/work/carsus/carsus/carsus/io/nist/ionization.py:248: FutureWarning: Setting an item of incompatible dtype is deprecated and will raise an error in a future version of pandas. Value '1S' has dtype incompatible with float64, please explicitly cast to a compatible dtype first.\n",
      "  lvl[\"term\"] = \"\".join([str(_) for _ in lvl_tokens[\"ls_term\"]])\n",
      " (\u001b[1mwarnings.py\u001b[0m:112)\n"
     ]
    },
    {
     "name": "stdout",
     "output_type": "stream",
     "text": [
      "[\u001b[1m                py.warnings\u001b[0m][\u001b[1;33mWARNING\u001b[0m] - /home/runner/work/carsus/carsus/carsus/io/nist/ionization.py:248: FutureWarning: Setting an item of incompatible dtype is deprecated and will raise an error in a future version of pandas. Value '2S' has dtype incompatible with float64, please explicitly cast to a compatible dtype first.\n",
      "  lvl[\"term\"] = \"\".join([str(_) for _ in lvl_tokens[\"ls_term\"]])\n",
      " (\u001b[1mwarnings.py\u001b[0m:112)\n"
     ]
    },
    {
     "name": "stdout",
     "output_type": "stream",
     "text": [
      "[\u001b[1m                py.warnings\u001b[0m][\u001b[1;33mWARNING\u001b[0m] - /home/runner/work/carsus/carsus/carsus/io/nist/ionization.py:248: FutureWarning: Setting an item of incompatible dtype is deprecated and will raise an error in a future version of pandas. Value '3P' has dtype incompatible with float64, please explicitly cast to a compatible dtype first.\n",
      "  lvl[\"term\"] = \"\".join([str(_) for _ in lvl_tokens[\"ls_term\"]])\n",
      " (\u001b[1mwarnings.py\u001b[0m:112)\n"
     ]
    },
    {
     "name": "stdout",
     "output_type": "stream",
     "text": [
      "[\u001b[1m                py.warnings\u001b[0m][\u001b[1;33mWARNING\u001b[0m] - /home/runner/work/carsus/carsus/carsus/io/nist/ionization.py:248: FutureWarning: Setting an item of incompatible dtype is deprecated and will raise an error in a future version of pandas. Value '4S' has dtype incompatible with float64, please explicitly cast to a compatible dtype first.\n",
      "  lvl[\"term\"] = \"\".join([str(_) for _ in lvl_tokens[\"ls_term\"]])\n",
      " (\u001b[1mwarnings.py\u001b[0m:112)\n"
     ]
    },
    {
     "name": "stdout",
     "output_type": "stream",
     "text": [
      "[\u001b[1m                py.warnings\u001b[0m][\u001b[1;33mWARNING\u001b[0m] - /home/runner/work/carsus/carsus/carsus/io/nist/ionization.py:248: FutureWarning: Setting an item of incompatible dtype is deprecated and will raise an error in a future version of pandas. Value '3P' has dtype incompatible with float64, please explicitly cast to a compatible dtype first.\n",
      "  lvl[\"term\"] = \"\".join([str(_) for _ in lvl_tokens[\"ls_term\"]])\n",
      " (\u001b[1mwarnings.py\u001b[0m:112)\n"
     ]
    },
    {
     "name": "stdout",
     "output_type": "stream",
     "text": [
      "[\u001b[1m                py.warnings\u001b[0m][\u001b[1;33mWARNING\u001b[0m] - /home/runner/work/carsus/carsus/carsus/io/nist/ionization.py:248: FutureWarning: Setting an item of incompatible dtype is deprecated and will raise an error in a future version of pandas. Value '2P' has dtype incompatible with float64, please explicitly cast to a compatible dtype first.\n",
      "  lvl[\"term\"] = \"\".join([str(_) for _ in lvl_tokens[\"ls_term\"]])\n",
      " (\u001b[1mwarnings.py\u001b[0m:112)\n"
     ]
    },
    {
     "name": "stdout",
     "output_type": "stream",
     "text": [
      "[\u001b[1m                py.warnings\u001b[0m][\u001b[1;33mWARNING\u001b[0m] - /home/runner/work/carsus/carsus/carsus/io/nist/ionization.py:248: FutureWarning: Setting an item of incompatible dtype is deprecated and will raise an error in a future version of pandas. Value '1S' has dtype incompatible with float64, please explicitly cast to a compatible dtype first.\n",
      "  lvl[\"term\"] = \"\".join([str(_) for _ in lvl_tokens[\"ls_term\"]])\n",
      " (\u001b[1mwarnings.py\u001b[0m:112)\n"
     ]
    },
    {
     "name": "stdout",
     "output_type": "stream",
     "text": [
      "[\u001b[1m                py.warnings\u001b[0m][\u001b[1;33mWARNING\u001b[0m] - /home/runner/work/carsus/carsus/carsus/io/nist/ionization.py:248: FutureWarning: Setting an item of incompatible dtype is deprecated and will raise an error in a future version of pandas. Value '2S' has dtype incompatible with float64, please explicitly cast to a compatible dtype first.\n",
      "  lvl[\"term\"] = \"\".join([str(_) for _ in lvl_tokens[\"ls_term\"]])\n",
      " (\u001b[1mwarnings.py\u001b[0m:112)\n"
     ]
    },
    {
     "name": "stdout",
     "output_type": "stream",
     "text": [
      "[\u001b[1m                py.warnings\u001b[0m][\u001b[1;33mWARNING\u001b[0m] - /home/runner/work/carsus/carsus/carsus/io/nist/ionization.py:248: FutureWarning: Setting an item of incompatible dtype is deprecated and will raise an error in a future version of pandas. Value '1S' has dtype incompatible with float64, please explicitly cast to a compatible dtype first.\n",
      "  lvl[\"term\"] = \"\".join([str(_) for _ in lvl_tokens[\"ls_term\"]])\n",
      " (\u001b[1mwarnings.py\u001b[0m:112)\n"
     ]
    },
    {
     "name": "stdout",
     "output_type": "stream",
     "text": [
      "[\u001b[1m                py.warnings\u001b[0m][\u001b[1;33mWARNING\u001b[0m] - /home/runner/work/carsus/carsus/carsus/io/nist/ionization.py:248: FutureWarning: Setting an item of incompatible dtype is deprecated and will raise an error in a future version of pandas. Value '2S' has dtype incompatible with float64, please explicitly cast to a compatible dtype first.\n",
      "  lvl[\"term\"] = \"\".join([str(_) for _ in lvl_tokens[\"ls_term\"]])\n",
      " (\u001b[1mwarnings.py\u001b[0m:112)\n"
     ]
    },
    {
     "data": {
      "text/html": [
       "<div>\n",
       "<style scoped>\n",
       "    .dataframe tbody tr th:only-of-type {\n",
       "        vertical-align: middle;\n",
       "    }\n",
       "\n",
       "    .dataframe tbody tr th {\n",
       "        vertical-align: top;\n",
       "    }\n",
       "\n",
       "    .dataframe thead th {\n",
       "        text-align: right;\n",
       "    }\n",
       "</style>\n",
       "<table border=\"1\" class=\"dataframe\">\n",
       "  <thead>\n",
       "    <tr style=\"text-align: right;\">\n",
       "      <th></th>\n",
       "      <th>atomic_number</th>\n",
       "      <th>ion_charge</th>\n",
       "      <th>g</th>\n",
       "      <th>energy</th>\n",
       "    </tr>\n",
       "  </thead>\n",
       "  <tbody>\n",
       "    <tr>\n",
       "      <th>0</th>\n",
       "      <td>1</td>\n",
       "      <td>0</td>\n",
       "      <td>2</td>\n",
       "      <td>0.0</td>\n",
       "    </tr>\n",
       "    <tr>\n",
       "      <th>1</th>\n",
       "      <td>2</td>\n",
       "      <td>0</td>\n",
       "      <td>1</td>\n",
       "      <td>0.0</td>\n",
       "    </tr>\n",
       "    <tr>\n",
       "      <th>2</th>\n",
       "      <td>2</td>\n",
       "      <td>1</td>\n",
       "      <td>2</td>\n",
       "      <td>0.0</td>\n",
       "    </tr>\n",
       "    <tr>\n",
       "      <th>3</th>\n",
       "      <td>3</td>\n",
       "      <td>0</td>\n",
       "      <td>2</td>\n",
       "      <td>0.0</td>\n",
       "    </tr>\n",
       "    <tr>\n",
       "      <th>4</th>\n",
       "      <td>3</td>\n",
       "      <td>1</td>\n",
       "      <td>1</td>\n",
       "      <td>0.0</td>\n",
       "    </tr>\n",
       "    <tr>\n",
       "      <th>5</th>\n",
       "      <td>3</td>\n",
       "      <td>2</td>\n",
       "      <td>2</td>\n",
       "      <td>0.0</td>\n",
       "    </tr>\n",
       "    <tr>\n",
       "      <th>6</th>\n",
       "      <td>4</td>\n",
       "      <td>0</td>\n",
       "      <td>1</td>\n",
       "      <td>0.0</td>\n",
       "    </tr>\n",
       "    <tr>\n",
       "      <th>7</th>\n",
       "      <td>4</td>\n",
       "      <td>1</td>\n",
       "      <td>2</td>\n",
       "      <td>0.0</td>\n",
       "    </tr>\n",
       "    <tr>\n",
       "      <th>8</th>\n",
       "      <td>4</td>\n",
       "      <td>2</td>\n",
       "      <td>1</td>\n",
       "      <td>0.0</td>\n",
       "    </tr>\n",
       "    <tr>\n",
       "      <th>9</th>\n",
       "      <td>4</td>\n",
       "      <td>3</td>\n",
       "      <td>2</td>\n",
       "      <td>0.0</td>\n",
       "    </tr>\n",
       "    <tr>\n",
       "      <th>10</th>\n",
       "      <td>5</td>\n",
       "      <td>0</td>\n",
       "      <td>2</td>\n",
       "      <td>0.0</td>\n",
       "    </tr>\n",
       "    <tr>\n",
       "      <th>11</th>\n",
       "      <td>5</td>\n",
       "      <td>1</td>\n",
       "      <td>1</td>\n",
       "      <td>0.0</td>\n",
       "    </tr>\n",
       "    <tr>\n",
       "      <th>12</th>\n",
       "      <td>5</td>\n",
       "      <td>2</td>\n",
       "      <td>2</td>\n",
       "      <td>0.0</td>\n",
       "    </tr>\n",
       "    <tr>\n",
       "      <th>13</th>\n",
       "      <td>5</td>\n",
       "      <td>3</td>\n",
       "      <td>1</td>\n",
       "      <td>0.0</td>\n",
       "    </tr>\n",
       "    <tr>\n",
       "      <th>14</th>\n",
       "      <td>5</td>\n",
       "      <td>4</td>\n",
       "      <td>2</td>\n",
       "      <td>0.0</td>\n",
       "    </tr>\n",
       "    <tr>\n",
       "      <th>15</th>\n",
       "      <td>6</td>\n",
       "      <td>0</td>\n",
       "      <td>1</td>\n",
       "      <td>0.0</td>\n",
       "    </tr>\n",
       "    <tr>\n",
       "      <th>16</th>\n",
       "      <td>6</td>\n",
       "      <td>1</td>\n",
       "      <td>2</td>\n",
       "      <td>0.0</td>\n",
       "    </tr>\n",
       "    <tr>\n",
       "      <th>17</th>\n",
       "      <td>6</td>\n",
       "      <td>2</td>\n",
       "      <td>1</td>\n",
       "      <td>0.0</td>\n",
       "    </tr>\n",
       "    <tr>\n",
       "      <th>18</th>\n",
       "      <td>6</td>\n",
       "      <td>3</td>\n",
       "      <td>2</td>\n",
       "      <td>0.0</td>\n",
       "    </tr>\n",
       "    <tr>\n",
       "      <th>19</th>\n",
       "      <td>6</td>\n",
       "      <td>4</td>\n",
       "      <td>1</td>\n",
       "      <td>0.0</td>\n",
       "    </tr>\n",
       "    <tr>\n",
       "      <th>20</th>\n",
       "      <td>6</td>\n",
       "      <td>5</td>\n",
       "      <td>2</td>\n",
       "      <td>0.0</td>\n",
       "    </tr>\n",
       "    <tr>\n",
       "      <th>21</th>\n",
       "      <td>7</td>\n",
       "      <td>0</td>\n",
       "      <td>4</td>\n",
       "      <td>0.0</td>\n",
       "    </tr>\n",
       "    <tr>\n",
       "      <th>22</th>\n",
       "      <td>7</td>\n",
       "      <td>1</td>\n",
       "      <td>1</td>\n",
       "      <td>0.0</td>\n",
       "    </tr>\n",
       "    <tr>\n",
       "      <th>23</th>\n",
       "      <td>7</td>\n",
       "      <td>2</td>\n",
       "      <td>2</td>\n",
       "      <td>0.0</td>\n",
       "    </tr>\n",
       "    <tr>\n",
       "      <th>24</th>\n",
       "      <td>7</td>\n",
       "      <td>3</td>\n",
       "      <td>1</td>\n",
       "      <td>0.0</td>\n",
       "    </tr>\n",
       "    <tr>\n",
       "      <th>25</th>\n",
       "      <td>7</td>\n",
       "      <td>4</td>\n",
       "      <td>2</td>\n",
       "      <td>0.0</td>\n",
       "    </tr>\n",
       "    <tr>\n",
       "      <th>26</th>\n",
       "      <td>7</td>\n",
       "      <td>5</td>\n",
       "      <td>1</td>\n",
       "      <td>0.0</td>\n",
       "    </tr>\n",
       "    <tr>\n",
       "      <th>27</th>\n",
       "      <td>7</td>\n",
       "      <td>6</td>\n",
       "      <td>2</td>\n",
       "      <td>0.0</td>\n",
       "    </tr>\n",
       "    <tr>\n",
       "      <th>28</th>\n",
       "      <td>8</td>\n",
       "      <td>0</td>\n",
       "      <td>5</td>\n",
       "      <td>0.0</td>\n",
       "    </tr>\n",
       "    <tr>\n",
       "      <th>29</th>\n",
       "      <td>8</td>\n",
       "      <td>1</td>\n",
       "      <td>4</td>\n",
       "      <td>0.0</td>\n",
       "    </tr>\n",
       "    <tr>\n",
       "      <th>30</th>\n",
       "      <td>8</td>\n",
       "      <td>2</td>\n",
       "      <td>1</td>\n",
       "      <td>0.0</td>\n",
       "    </tr>\n",
       "    <tr>\n",
       "      <th>31</th>\n",
       "      <td>8</td>\n",
       "      <td>3</td>\n",
       "      <td>2</td>\n",
       "      <td>0.0</td>\n",
       "    </tr>\n",
       "    <tr>\n",
       "      <th>32</th>\n",
       "      <td>8</td>\n",
       "      <td>4</td>\n",
       "      <td>1</td>\n",
       "      <td>0.0</td>\n",
       "    </tr>\n",
       "    <tr>\n",
       "      <th>33</th>\n",
       "      <td>8</td>\n",
       "      <td>5</td>\n",
       "      <td>2</td>\n",
       "      <td>0.0</td>\n",
       "    </tr>\n",
       "    <tr>\n",
       "      <th>34</th>\n",
       "      <td>8</td>\n",
       "      <td>6</td>\n",
       "      <td>1</td>\n",
       "      <td>0.0</td>\n",
       "    </tr>\n",
       "    <tr>\n",
       "      <th>35</th>\n",
       "      <td>8</td>\n",
       "      <td>7</td>\n",
       "      <td>2</td>\n",
       "      <td>0.0</td>\n",
       "    </tr>\n",
       "  </tbody>\n",
       "</table>\n",
       "</div>"
      ],
      "text/plain": [
       "    atomic_number  ion_charge  g  energy\n",
       "0               1           0  2     0.0\n",
       "1               2           0  1     0.0\n",
       "2               2           1  2     0.0\n",
       "3               3           0  2     0.0\n",
       "4               3           1  1     0.0\n",
       "5               3           2  2     0.0\n",
       "6               4           0  1     0.0\n",
       "7               4           1  2     0.0\n",
       "8               4           2  1     0.0\n",
       "9               4           3  2     0.0\n",
       "10              5           0  2     0.0\n",
       "11              5           1  1     0.0\n",
       "12              5           2  2     0.0\n",
       "13              5           3  1     0.0\n",
       "14              5           4  2     0.0\n",
       "15              6           0  1     0.0\n",
       "16              6           1  2     0.0\n",
       "17              6           2  1     0.0\n",
       "18              6           3  2     0.0\n",
       "19              6           4  1     0.0\n",
       "20              6           5  2     0.0\n",
       "21              7           0  4     0.0\n",
       "22              7           1  1     0.0\n",
       "23              7           2  2     0.0\n",
       "24              7           3  1     0.0\n",
       "25              7           4  2     0.0\n",
       "26              7           5  1     0.0\n",
       "27              7           6  2     0.0\n",
       "28              8           0  5     0.0\n",
       "29              8           1  4     0.0\n",
       "30              8           2  1     0.0\n",
       "31              8           3  2     0.0\n",
       "32              8           4  1     0.0\n",
       "33              8           5  2     0.0\n",
       "34              8           6  1     0.0\n",
       "35              8           7  2     0.0"
      ]
     },
     "execution_count": 7,
     "metadata": {},
     "output_type": "execute_result"
    }
   ],
   "source": [
    "nist_ioniz.get_ground_levels()"
   ]
  }
 ],
 "metadata": {
  "kernelspec": {
   "display_name": "Python 3",
   "language": "python",
   "name": "python3"
  },
  "language_info": {
   "codemirror_mode": {
    "name": "ipython",
    "version": 3
   },
   "file_extension": ".py",
   "mimetype": "text/x-python",
   "name": "python",
   "nbconvert_exporter": "python",
   "pygments_lexer": "ipython3",
   "version": "3.12.5"
  },
  "widgets": {
   "application/vnd.jupyter.widget-state+json": {
    "state": {},
    "version_major": 2,
    "version_minor": 0
   }
  }
 },
 "nbformat": 4,
 "nbformat_minor": 1
}
