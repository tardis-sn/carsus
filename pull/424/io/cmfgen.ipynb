{
 "cells": [
  {
   "cell_type": "markdown",
   "metadata": {},
   "source": [
    "# CMFGEN\n",
    "\n",
    "Database from John Hillier’s CMFGEN, a radiative transfer code designed to solve the radiative transfer and statistical equilibrium equations in spherical geometry.\n",
    "\n",
    "<div class=\"alert alert-info\">\n",
    "\n",
    "**Note:**\n",
    "    \n",
    "In this example, the data was downloaded from the [CMFGEN website](http://kookaburra.phyast.pitt.edu/hillier/web/CMFGEN.htm) and extracted to the `/tmp/atomic` folder.\n",
    "    \n",
    "</div>\n",
    "\n"
   ]
  },
  {
   "cell_type": "markdown",
   "metadata": {},
   "source": [
    "## Parsers\n",
    "\n",
    "The CMFGEN parsers retrieves data from text files preserving its original form (no unit conversions) and stores it in DataFrames. Currently, just `osc`, `col` and `pho` files are supported.\n",
    "\n",
    "\n",
    "### Levels, Lines and Collisions\n",
    "\n",
    "Energy levels and spectral lines are stored in the `osc` files, while collisions strengths are provided by the `col` files."
   ]
  },
  {
   "cell_type": "code",
   "execution_count": 1,
   "metadata": {
    "execution": {
     "iopub.execute_input": "2025-05-12T14:50:35.173227Z",
     "iopub.status.busy": "2025-05-12T14:50:35.173060Z",
     "iopub.status.idle": "2025-05-12T14:50:36.707249Z",
     "shell.execute_reply": "2025-05-12T14:50:36.706715Z"
    }
   },
   "outputs": [
    {
     "name": "stdout",
     "output_type": "stream",
     "text": [
      " ChiantiPy version 0.15.0 \n",
      " found PyQt5 widgets\n",
      " using PyQt5 widgets\n"
     ]
    },
    {
     "name": "stdout",
     "output_type": "stream",
     "text": [
      "[\u001b[1m                py.warnings\u001b[0m][\u001b[1;33mWARNING\u001b[0m] - /home/runner/micromamba/envs/carsus/lib/python3.12/site-packages/ChiantiPy/tools/data.py:72: UserWarning: klgfb files are not present: \n",
      "  it will not be possible to use the freeBound continuum method\n",
      "  warnings.warn('klgfb files are not present: \\n  it will not be possible to use the freeBound continuum method')\n",
      " (\u001b[1mwarnings.py\u001b[0m:112)\n"
     ]
    }
   ],
   "source": [
    "from carsus.io.cmfgen import CMFGENEnergyLevelsParser, CMFGENOscillatorStrengthsParser, CMFGENCollisionalStrengthsParser"
   ]
  },
  {
   "cell_type": "code",
   "execution_count": 2,
   "metadata": {
    "execution": {
     "iopub.execute_input": "2025-05-12T14:50:36.709541Z",
     "iopub.status.busy": "2025-05-12T14:50:36.709267Z",
     "iopub.status.idle": "2025-05-12T14:50:36.716202Z",
     "shell.execute_reply": "2025-05-12T14:50:36.715656Z"
    }
   },
   "outputs": [],
   "source": [
    "si2_lvl = CMFGENEnergyLevelsParser('/tmp/atomic/SIL/II/16sep15/si2_osc_kurucz')"
   ]
  },
  {
   "cell_type": "code",
   "execution_count": 3,
   "metadata": {
    "execution": {
     "iopub.execute_input": "2025-05-12T14:50:36.718256Z",
     "iopub.status.busy": "2025-05-12T14:50:36.718077Z",
     "iopub.status.idle": "2025-05-12T14:50:36.763050Z",
     "shell.execute_reply": "2025-05-12T14:50:36.762581Z"
    }
   },
   "outputs": [],
   "source": [
    "si2_osc = CMFGENOscillatorStrengthsParser('/tmp/atomic/SIL/II/16sep15/si2_osc_kurucz')"
   ]
  },
  {
   "cell_type": "code",
   "execution_count": 4,
   "metadata": {
    "execution": {
     "iopub.execute_input": "2025-05-12T14:50:36.765380Z",
     "iopub.status.busy": "2025-05-12T14:50:36.764927Z",
     "iopub.status.idle": "2025-05-12T14:50:36.780825Z",
     "shell.execute_reply": "2025-05-12T14:50:36.780360Z"
    }
   },
   "outputs": [],
   "source": [
    "si2_col = CMFGENCollisionalStrengthsParser('/tmp/atomic/SIL/II/16sep15/si2_col')"
   ]
  },
  {
   "cell_type": "markdown",
   "metadata": {},
   "source": [
    "Header information is stored in the `header` attribute and the DataFrame in the `base` attribute:"
   ]
  },
  {
   "cell_type": "code",
   "execution_count": 5,
   "metadata": {
    "execution": {
     "iopub.execute_input": "2025-05-12T14:50:36.782928Z",
     "iopub.status.busy": "2025-05-12T14:50:36.782731Z",
     "iopub.status.idle": "2025-05-12T14:50:36.787969Z",
     "shell.execute_reply": "2025-05-12T14:50:36.787459Z"
    }
   },
   "outputs": [
    {
     "data": {
      "text/plain": [
       "{'Number of transitions': '406',\n",
       " 'Number of T values OMEGA tabulated at': '14',\n",
       " 'Scaling factor for OMEGA': '1.0',\n",
       " 'Value for OMEGA if f=0': '0.1'}"
      ]
     },
     "execution_count": 5,
     "metadata": {},
     "output_type": "execute_result"
    }
   ],
   "source": [
    "si2_col.header"
   ]
  },
  {
   "cell_type": "code",
   "execution_count": 6,
   "metadata": {
    "execution": {
     "iopub.execute_input": "2025-05-12T14:50:36.789699Z",
     "iopub.status.busy": "2025-05-12T14:50:36.789531Z",
     "iopub.status.idle": "2025-05-12T14:50:36.802705Z",
     "shell.execute_reply": "2025-05-12T14:50:36.802234Z"
    }
   },
   "outputs": [
    {
     "data": {
      "text/html": [
       "<div>\n",
       "<style scoped>\n",
       "    .dataframe tbody tr th:only-of-type {\n",
       "        vertical-align: middle;\n",
       "    }\n",
       "\n",
       "    .dataframe tbody tr th {\n",
       "        vertical-align: top;\n",
       "    }\n",
       "\n",
       "    .dataframe thead th {\n",
       "        text-align: right;\n",
       "    }\n",
       "</style>\n",
       "<table border=\"1\" class=\"dataframe\">\n",
       "  <thead>\n",
       "    <tr style=\"text-align: right;\">\n",
       "      <th></th>\n",
       "      <th>label</th>\n",
       "      <th>g</th>\n",
       "      <th>E(cm^-1)</th>\n",
       "      <th>10^15 Hz</th>\n",
       "      <th>eV</th>\n",
       "      <th>Lam(A)</th>\n",
       "      <th>ID</th>\n",
       "      <th>ARAD</th>\n",
       "      <th>C4</th>\n",
       "      <th>C6</th>\n",
       "    </tr>\n",
       "  </thead>\n",
       "  <tbody>\n",
       "    <tr>\n",
       "      <th>0</th>\n",
       "      <td>3s2_3p_2Po[1/2]</td>\n",
       "      <td>2.0</td>\n",
       "      <td>0.00</td>\n",
       "      <td>3.95241</td>\n",
       "      <td>16.346</td>\n",
       "      <td>758.505847</td>\n",
       "      <td>1</td>\n",
       "      <td>0.000000e+00</td>\n",
       "      <td>-5.290000e-17</td>\n",
       "      <td>7.470000e-33</td>\n",
       "    </tr>\n",
       "    <tr>\n",
       "      <th>1</th>\n",
       "      <td>3s2_3p_2Po[3/2]</td>\n",
       "      <td>4.0</td>\n",
       "      <td>287.24</td>\n",
       "      <td>3.94380</td>\n",
       "      <td>16.310</td>\n",
       "      <td>760.162036</td>\n",
       "      <td>2</td>\n",
       "      <td>0.000000e+00</td>\n",
       "      <td>-5.300000e-17</td>\n",
       "      <td>7.460000e-33</td>\n",
       "    </tr>\n",
       "    <tr>\n",
       "      <th>2</th>\n",
       "      <td>3s_3p2_4Pe[1/2]</td>\n",
       "      <td>2.0</td>\n",
       "      <td>42824.29</td>\n",
       "      <td>2.66857</td>\n",
       "      <td>11.036</td>\n",
       "      <td>1123.420681</td>\n",
       "      <td>3</td>\n",
       "      <td>1.222000e+04</td>\n",
       "      <td>-5.340000e-17</td>\n",
       "      <td>7.490000e-33</td>\n",
       "    </tr>\n",
       "    <tr>\n",
       "      <th>3</th>\n",
       "      <td>3s_3p2_4Pe[3/2]</td>\n",
       "      <td>4.0</td>\n",
       "      <td>42932.62</td>\n",
       "      <td>2.66532</td>\n",
       "      <td>11.023</td>\n",
       "      <td>1124.789552</td>\n",
       "      <td>4</td>\n",
       "      <td>2.110000e+03</td>\n",
       "      <td>-5.340000e-17</td>\n",
       "      <td>7.490000e-33</td>\n",
       "    </tr>\n",
       "    <tr>\n",
       "      <th>4</th>\n",
       "      <td>3s_3p2_4Pe[5/2]</td>\n",
       "      <td>6.0</td>\n",
       "      <td>43107.91</td>\n",
       "      <td>2.66007</td>\n",
       "      <td>11.001</td>\n",
       "      <td>1127.011617</td>\n",
       "      <td>5</td>\n",
       "      <td>3.246000e+03</td>\n",
       "      <td>-5.350000e-17</td>\n",
       "      <td>7.490000e-33</td>\n",
       "    </tr>\n",
       "    <tr>\n",
       "      <th>...</th>\n",
       "      <td>...</td>\n",
       "      <td>...</td>\n",
       "      <td>...</td>\n",
       "      <td>...</td>\n",
       "      <td>...</td>\n",
       "      <td>...</td>\n",
       "      <td>...</td>\n",
       "      <td>...</td>\n",
       "      <td>...</td>\n",
       "      <td>...</td>\n",
       "    </tr>\n",
       "    <tr>\n",
       "      <th>152</th>\n",
       "      <td>3s_3p(3Po)4p_4Pe[3/2]</td>\n",
       "      <td>4.0</td>\n",
       "      <td>134079.00</td>\n",
       "      <td>-0.06718</td>\n",
       "      <td>-0.278</td>\n",
       "      <td>-44625.724052</td>\n",
       "      <td>153</td>\n",
       "      <td>1.159000e+08</td>\n",
       "      <td>-1.500000e-16</td>\n",
       "      <td>3.080000e-32</td>\n",
       "    </tr>\n",
       "    <tr>\n",
       "      <th>153</th>\n",
       "      <td>3s_3p(3Po)4p_4Pe[5/2]</td>\n",
       "      <td>6.0</td>\n",
       "      <td>134213.63</td>\n",
       "      <td>-0.07122</td>\n",
       "      <td>-0.295</td>\n",
       "      <td>-42096.577969</td>\n",
       "      <td>154</td>\n",
       "      <td>1.167000e+08</td>\n",
       "      <td>-1.500000e-16</td>\n",
       "      <td>3.090000e-32</td>\n",
       "    </tr>\n",
       "    <tr>\n",
       "      <th>154</th>\n",
       "      <td>3s_3p(3Po)4p_4Se[3/2]</td>\n",
       "      <td>4.0</td>\n",
       "      <td>134905.28</td>\n",
       "      <td>-0.09195</td>\n",
       "      <td>-0.380</td>\n",
       "      <td>-32603.663348</td>\n",
       "      <td>155</td>\n",
       "      <td>9.275000e+07</td>\n",
       "      <td>-9.750000e-17</td>\n",
       "      <td>2.770000e-32</td>\n",
       "    </tr>\n",
       "    <tr>\n",
       "      <th>155</th>\n",
       "      <td>3p3_2Do[5/2]</td>\n",
       "      <td>6.0</td>\n",
       "      <td>135297.30</td>\n",
       "      <td>-0.10370</td>\n",
       "      <td>-0.429</td>\n",
       "      <td>-28908.752414</td>\n",
       "      <td>156</td>\n",
       "      <td>2.437000e+09</td>\n",
       "      <td>4.200000e-17</td>\n",
       "      <td>1.450000e-32</td>\n",
       "    </tr>\n",
       "    <tr>\n",
       "      <th>156</th>\n",
       "      <td>3p3_2Do[3/2]</td>\n",
       "      <td>4.0</td>\n",
       "      <td>135303.50</td>\n",
       "      <td>-0.10389</td>\n",
       "      <td>-0.430</td>\n",
       "      <td>-28857.030727</td>\n",
       "      <td>157</td>\n",
       "      <td>2.438000e+09</td>\n",
       "      <td>1.390000e-17</td>\n",
       "      <td>1.460000e-32</td>\n",
       "    </tr>\n",
       "  </tbody>\n",
       "</table>\n",
       "<p>157 rows × 10 columns</p>\n",
       "</div>"
      ],
      "text/plain": [
       "                     label    g   E(cm^-1)  10^15 Hz      eV        Lam(A)  \\\n",
       "0          3s2_3p_2Po[1/2]  2.0       0.00   3.95241  16.346    758.505847   \n",
       "1          3s2_3p_2Po[3/2]  4.0     287.24   3.94380  16.310    760.162036   \n",
       "2          3s_3p2_4Pe[1/2]  2.0   42824.29   2.66857  11.036   1123.420681   \n",
       "3          3s_3p2_4Pe[3/2]  4.0   42932.62   2.66532  11.023   1124.789552   \n",
       "4          3s_3p2_4Pe[5/2]  6.0   43107.91   2.66007  11.001   1127.011617   \n",
       "..                     ...  ...        ...       ...     ...           ...   \n",
       "152  3s_3p(3Po)4p_4Pe[3/2]  4.0  134079.00  -0.06718  -0.278 -44625.724052   \n",
       "153  3s_3p(3Po)4p_4Pe[5/2]  6.0  134213.63  -0.07122  -0.295 -42096.577969   \n",
       "154  3s_3p(3Po)4p_4Se[3/2]  4.0  134905.28  -0.09195  -0.380 -32603.663348   \n",
       "155           3p3_2Do[5/2]  6.0  135297.30  -0.10370  -0.429 -28908.752414   \n",
       "156           3p3_2Do[3/2]  4.0  135303.50  -0.10389  -0.430 -28857.030727   \n",
       "\n",
       "      ID          ARAD            C4            C6  \n",
       "0      1  0.000000e+00 -5.290000e-17  7.470000e-33  \n",
       "1      2  0.000000e+00 -5.300000e-17  7.460000e-33  \n",
       "2      3  1.222000e+04 -5.340000e-17  7.490000e-33  \n",
       "3      4  2.110000e+03 -5.340000e-17  7.490000e-33  \n",
       "4      5  3.246000e+03 -5.350000e-17  7.490000e-33  \n",
       "..   ...           ...           ...           ...  \n",
       "152  153  1.159000e+08 -1.500000e-16  3.080000e-32  \n",
       "153  154  1.167000e+08 -1.500000e-16  3.090000e-32  \n",
       "154  155  9.275000e+07 -9.750000e-17  2.770000e-32  \n",
       "155  156  2.437000e+09  4.200000e-17  1.450000e-32  \n",
       "156  157  2.438000e+09  1.390000e-17  1.460000e-32  \n",
       "\n",
       "[157 rows x 10 columns]"
      ]
     },
     "execution_count": 6,
     "metadata": {},
     "output_type": "execute_result"
    }
   ],
   "source": [
    "si2_lvl.base"
   ]
  },
  {
   "cell_type": "markdown",
   "metadata": {},
   "source": [
    "### Photoionization Cross-sections\n",
    "\n",
    "Photoionization cross-sections are provided by the `pho` files."
   ]
  },
  {
   "cell_type": "code",
   "execution_count": 7,
   "metadata": {
    "execution": {
     "iopub.execute_input": "2025-05-12T14:50:36.804725Z",
     "iopub.status.busy": "2025-05-12T14:50:36.804547Z",
     "iopub.status.idle": "2025-05-12T14:50:36.807320Z",
     "shell.execute_reply": "2025-05-12T14:50:36.806792Z"
    }
   },
   "outputs": [],
   "source": [
    "from carsus.io.cmfgen import CMFGENPhoCrossSectionsParser"
   ]
  },
  {
   "cell_type": "code",
   "execution_count": 8,
   "metadata": {
    "execution": {
     "iopub.execute_input": "2025-05-12T14:50:36.809113Z",
     "iopub.status.busy": "2025-05-12T14:50:36.808942Z",
     "iopub.status.idle": "2025-05-12T14:50:37.285675Z",
     "shell.execute_reply": "2025-05-12T14:50:37.285137Z"
    }
   },
   "outputs": [],
   "source": [
    "si2_cross_sections = CMFGENPhoCrossSectionsParser('/tmp/atomic/SIL/II/16sep15/phot_nahar_A')"
   ]
  },
  {
   "cell_type": "code",
   "execution_count": 9,
   "metadata": {
    "execution": {
     "iopub.execute_input": "2025-05-12T14:50:37.287825Z",
     "iopub.status.busy": "2025-05-12T14:50:37.287639Z",
     "iopub.status.idle": "2025-05-12T14:50:37.291369Z",
     "shell.execute_reply": "2025-05-12T14:50:37.290955Z"
    }
   },
   "outputs": [
    {
     "data": {
      "text/plain": [
       "{'Date': '05-Sep-2015 16:54:54',\n",
       " 'Number of energy levels': '93',\n",
       " 'Number of photoionization routes': '2',\n",
       " 'Screened nuclear charge': '2.0',\n",
       " 'Final state in ion': '3s2_1Se/3s21Se',\n",
       " 'Excitation energy of final state': '0.0',\n",
       " 'Statistical weight of ion': '1.0',\n",
       " 'Sigma used for Gaussian smoothing': '0.0D0',\n",
       " 'Cross-section unit': 'Megabarns',\n",
       " 'Split J levels': 'False',\n",
       " 'Total number of data pairs': '95107',\n",
       " 'Configuration name': '3s2_3p_2Po',\n",
       " 'Type of cross-section': '20',\n",
       " 'Number of cross-section points': '1487'}"
      ]
     },
     "execution_count": 9,
     "metadata": {},
     "output_type": "execute_result"
    }
   ],
   "source": [
    "si2_cross_sections.header"
   ]
  },
  {
   "cell_type": "markdown",
   "metadata": {},
   "source": [
    "In this case, `base` is a list containing many DataFrames. Also, each individual DataFrame contains information relative to that specific target under the attribute `attr`."
   ]
  },
  {
   "cell_type": "code",
   "execution_count": 10,
   "metadata": {
    "execution": {
     "iopub.execute_input": "2025-05-12T14:50:37.292993Z",
     "iopub.status.busy": "2025-05-12T14:50:37.292821Z",
     "iopub.status.idle": "2025-05-12T14:50:37.296170Z",
     "shell.execute_reply": "2025-05-12T14:50:37.295743Z"
    }
   },
   "outputs": [
    {
     "data": {
      "text/plain": [
       "list"
      ]
     },
     "execution_count": 10,
     "metadata": {},
     "output_type": "execute_result"
    }
   ],
   "source": [
    "type(si2_cross_sections.base)"
   ]
  },
  {
   "cell_type": "code",
   "execution_count": 11,
   "metadata": {
    "execution": {
     "iopub.execute_input": "2025-05-12T14:50:37.298023Z",
     "iopub.status.busy": "2025-05-12T14:50:37.297622Z",
     "iopub.status.idle": "2025-05-12T14:50:37.300919Z",
     "shell.execute_reply": "2025-05-12T14:50:37.300426Z"
    }
   },
   "outputs": [
    {
     "data": {
      "text/plain": [
       "93"
      ]
     },
     "execution_count": 11,
     "metadata": {},
     "output_type": "execute_result"
    }
   ],
   "source": [
    "len(si2_cross_sections.base)"
   ]
  },
  {
   "cell_type": "code",
   "execution_count": 12,
   "metadata": {
    "execution": {
     "iopub.execute_input": "2025-05-12T14:50:37.302554Z",
     "iopub.status.busy": "2025-05-12T14:50:37.302304Z",
     "iopub.status.idle": "2025-05-12T14:50:37.308373Z",
     "shell.execute_reply": "2025-05-12T14:50:37.307917Z"
    }
   },
   "outputs": [
    {
     "data": {
      "text/html": [
       "<div>\n",
       "<style scoped>\n",
       "    .dataframe tbody tr th:only-of-type {\n",
       "        vertical-align: middle;\n",
       "    }\n",
       "\n",
       "    .dataframe tbody tr th {\n",
       "        vertical-align: top;\n",
       "    }\n",
       "\n",
       "    .dataframe thead th {\n",
       "        text-align: right;\n",
       "    }\n",
       "</style>\n",
       "<table border=\"1\" class=\"dataframe\">\n",
       "  <thead>\n",
       "    <tr style=\"text-align: right;\">\n",
       "      <th></th>\n",
       "      <th>energy</th>\n",
       "      <th>sigma</th>\n",
       "    </tr>\n",
       "  </thead>\n",
       "  <tbody>\n",
       "    <tr>\n",
       "      <th>0</th>\n",
       "      <td>1.000000</td>\n",
       "      <td>1.414000</td>\n",
       "    </tr>\n",
       "    <tr>\n",
       "      <th>1</th>\n",
       "      <td>1.000333</td>\n",
       "      <td>1.405000</td>\n",
       "    </tr>\n",
       "    <tr>\n",
       "      <th>2</th>\n",
       "      <td>1.000666</td>\n",
       "      <td>1.397000</td>\n",
       "    </tr>\n",
       "    <tr>\n",
       "      <th>3</th>\n",
       "      <td>1.000999</td>\n",
       "      <td>1.388000</td>\n",
       "    </tr>\n",
       "    <tr>\n",
       "      <th>4</th>\n",
       "      <td>1.001332</td>\n",
       "      <td>1.379000</td>\n",
       "    </tr>\n",
       "    <tr>\n",
       "      <th>...</th>\n",
       "      <td>...</td>\n",
       "      <td>...</td>\n",
       "    </tr>\n",
       "    <tr>\n",
       "      <th>1482</th>\n",
       "      <td>17.034180</td>\n",
       "      <td>0.001255</td>\n",
       "    </tr>\n",
       "    <tr>\n",
       "      <th>1483</th>\n",
       "      <td>18.825680</td>\n",
       "      <td>0.000929</td>\n",
       "    </tr>\n",
       "    <tr>\n",
       "      <th>1484</th>\n",
       "      <td>20.805590</td>\n",
       "      <td>0.000689</td>\n",
       "    </tr>\n",
       "    <tr>\n",
       "      <th>1485</th>\n",
       "      <td>22.993730</td>\n",
       "      <td>0.000510</td>\n",
       "    </tr>\n",
       "    <tr>\n",
       "      <th>1486</th>\n",
       "      <td>25.412010</td>\n",
       "      <td>0.000378</td>\n",
       "    </tr>\n",
       "  </tbody>\n",
       "</table>\n",
       "<p>1487 rows × 2 columns</p>\n",
       "</div>"
      ],
      "text/plain": [
       "         energy     sigma\n",
       "0      1.000000  1.414000\n",
       "1      1.000333  1.405000\n",
       "2      1.000666  1.397000\n",
       "3      1.000999  1.388000\n",
       "4      1.001332  1.379000\n",
       "...         ...       ...\n",
       "1482  17.034180  0.001255\n",
       "1483  18.825680  0.000929\n",
       "1484  20.805590  0.000689\n",
       "1485  22.993730  0.000510\n",
       "1486  25.412010  0.000378\n",
       "\n",
       "[1487 rows x 2 columns]"
      ]
     },
     "execution_count": 12,
     "metadata": {},
     "output_type": "execute_result"
    }
   ],
   "source": [
    "si2_cross_sections.base[0]"
   ]
  },
  {
   "cell_type": "code",
   "execution_count": 13,
   "metadata": {
    "execution": {
     "iopub.execute_input": "2025-05-12T14:50:37.310187Z",
     "iopub.status.busy": "2025-05-12T14:50:37.309763Z",
     "iopub.status.idle": "2025-05-12T14:50:37.313087Z",
     "shell.execute_reply": "2025-05-12T14:50:37.312621Z"
    }
   },
   "outputs": [
    {
     "data": {
      "text/plain": [
       "{'Configuration name': '3s2_3p_2Po',\n",
       " 'Type of cross-section': 20,\n",
       " 'Number of cross-section points': 1487}"
      ]
     },
     "execution_count": 13,
     "metadata": {},
     "output_type": "execute_result"
    }
   ],
   "source": [
    "si2_cross_sections.base[0].attrs"
   ]
  },
  {
   "cell_type": "markdown",
   "metadata": {},
   "source": [
    "### Batch Convert Files to HDF5\n",
    "\n",
    "To convert multiple CMFGEN files to the HDF5 format import the `hdf_dump` function.\n",
    "\n",
    "<div class=\"alert alert-info\">\n",
    "\n",
    "**Note:**\n",
    "    \n",
    "This feature has been temporary disabled.\n",
    "    \n",
    "</div>"
   ]
  },
  {
   "cell_type": "raw",
   "metadata": {},
   "source": [
    "from carsus.io.cmfgen import hdf_dump"
   ]
  },
  {
   "cell_type": "raw",
   "metadata": {},
   "source": [
    "hdf_dump('/tmp/atomic/', ['osc', 'OSC', 'Osc'], CMFGENEnergyLevelsParser(), chunk_size=10, ignore_patterns=['ERROR_CHK'])"
   ]
  },
  {
   "cell_type": "markdown",
   "metadata": {},
   "source": [
    "Required parameters are `cmfgen_dir`, `patterns` and `parser`, while `chunk_size` and `ignore_patterns` are optional."
   ]
  },
  {
   "cell_type": "markdown",
   "metadata": {},
   "source": [
    "## CMFGENReader\n",
    "\n",
    "The `CMFGENReader` provides processed `levels`, `lines`, `ionization_energies`, `cross_sections` and `collisions` tables to work with. You can provide temperatures for the `collisions` dataframe using the `temperature_grid` option. "
   ]
  },
  {
   "cell_type": "code",
   "execution_count": 14,
   "metadata": {
    "execution": {
     "iopub.execute_input": "2025-05-12T14:50:37.315064Z",
     "iopub.status.busy": "2025-05-12T14:50:37.314752Z",
     "iopub.status.idle": "2025-05-12T14:50:37.317159Z",
     "shell.execute_reply": "2025-05-12T14:50:37.316678Z"
    }
   },
   "outputs": [],
   "source": [
    "from carsus.io.cmfgen import CMFGENReader"
   ]
  },
  {
   "cell_type": "code",
   "execution_count": 15,
   "metadata": {
    "execution": {
     "iopub.execute_input": "2025-05-12T14:50:37.318664Z",
     "iopub.status.busy": "2025-05-12T14:50:37.318528Z",
     "iopub.status.idle": "2025-05-12T14:50:40.132249Z",
     "shell.execute_reply": "2025-05-12T14:50:40.131706Z"
    }
   },
   "outputs": [
    {
     "name": "stdout",
     "output_type": "stream",
     "text": [
      "[\u001b[1m      carsus.io.cmfgen.base\u001b[0m][\u001b[1;33mWARNING\u001b[0m] - Selecting H 0 from CMFGEN (required to ingest cross-sections). (\u001b[1mbase.py\u001b[0m:562)\n"
     ]
    },
    {
     "name": "stdout",
     "output_type": "stream",
     "text": [
      "[\u001b[1m      carsus.io.cmfgen.base\u001b[0m][   \u001b[1;37mINFO\u001b[0m] - Configuration schema found for H 0. (\u001b[1mbase.py\u001b[0m:576)\n"
     ]
    },
    {
     "name": "stdout",
     "output_type": "stream",
     "text": [
      "[\u001b[1m      carsus.io.cmfgen.base\u001b[0m][   \u001b[1;37mINFO\u001b[0m] - Configuration schema found for Si 0. (\u001b[1mbase.py\u001b[0m:576)\n"
     ]
    },
    {
     "name": "stdout",
     "output_type": "stream",
     "text": [
      "[\u001b[1m      carsus.io.cmfgen.base\u001b[0m][   \u001b[1;37mINFO\u001b[0m] - Configuration schema found for Si 1. (\u001b[1mbase.py\u001b[0m:576)\n"
     ]
    },
    {
     "name": "stdout",
     "output_type": "stream",
     "text": [
      "[\u001b[1m      carsus.io.cmfgen.base\u001b[0m][   \u001b[1;37mINFO\u001b[0m] - Loading atomic data for H 0. (\u001b[1mbase.py\u001b[0m:861)\n"
     ]
    },
    {
     "name": "stdout",
     "output_type": "stream",
     "text": [
      "[\u001b[1m      carsus.io.cmfgen.base\u001b[0m][   \u001b[1;37mINFO\u001b[0m] - Loading atomic data for Si 0. (\u001b[1mbase.py\u001b[0m:861)\n"
     ]
    },
    {
     "name": "stdout",
     "output_type": "stream",
     "text": [
      "[\u001b[1m      carsus.io.cmfgen.base\u001b[0m][   \u001b[1;37mINFO\u001b[0m] - Loading atomic data for Si 1. (\u001b[1mbase.py\u001b[0m:861)\n"
     ]
    },
    {
     "name": "stdout",
     "output_type": "stream",
     "text": [
      "[\u001b[1m      carsus.io.cmfgen.base\u001b[0m][   \u001b[1;37mINFO\u001b[0m] - Dropping collisional ionization data. (\u001b[1mbase.py\u001b[0m:1059)\n"
     ]
    },
    {
     "name": "stdout",
     "output_type": "stream",
     "text": [
      "[\u001b[1m      carsus.io.cmfgen.base\u001b[0m][   \u001b[1;37mINFO\u001b[0m] - Dropping collisional ionization data. (\u001b[1mbase.py\u001b[0m:1059)\n"
     ]
    },
    {
     "name": "stdout",
     "output_type": "stream",
     "text": [
      "[\u001b[1m      carsus.io.cmfgen.base\u001b[0m][   \u001b[1;37mINFO\u001b[0m] - Dropping collisional ionization data. (\u001b[1mbase.py\u001b[0m:1059)\n"
     ]
    },
    {
     "name": "stdout",
     "output_type": "stream",
     "text": [
      "[\u001b[1m      carsus.io.cmfgen.base\u001b[0m][   \u001b[1;37mINFO\u001b[0m] - Dropping collisional ionization data. (\u001b[1mbase.py\u001b[0m:1059)\n"
     ]
    },
    {
     "name": "stdout",
     "output_type": "stream",
     "text": [
      "[\u001b[1m      carsus.io.cmfgen.base\u001b[0m][   \u001b[1;37mINFO\u001b[0m] - Dropping collisional ionization data. (\u001b[1mbase.py\u001b[0m:1059)\n"
     ]
    },
    {
     "name": "stdout",
     "output_type": "stream",
     "text": [
      "[\u001b[1m      carsus.io.cmfgen.base\u001b[0m][   \u001b[1;37mINFO\u001b[0m] - Dropping collisional ionization data. (\u001b[1mbase.py\u001b[0m:1059)\n"
     ]
    },
    {
     "name": "stdout",
     "output_type": "stream",
     "text": [
      "[\u001b[1m      carsus.io.cmfgen.base\u001b[0m][   \u001b[1;37mINFO\u001b[0m] - Dropping collisional ionization data. (\u001b[1mbase.py\u001b[0m:1059)\n"
     ]
    },
    {
     "name": "stdout",
     "output_type": "stream",
     "text": [
      "[\u001b[1m      carsus.io.cmfgen.base\u001b[0m][   \u001b[1;37mINFO\u001b[0m] - Dropping collisional ionization data. (\u001b[1mbase.py\u001b[0m:1059)\n"
     ]
    },
    {
     "name": "stdout",
     "output_type": "stream",
     "text": [
      "[\u001b[1m      carsus.io.cmfgen.base\u001b[0m][   \u001b[1;37mINFO\u001b[0m] - Dropping collisional ionization data. (\u001b[1mbase.py\u001b[0m:1059)\n"
     ]
    },
    {
     "name": "stdout",
     "output_type": "stream",
     "text": [
      "[\u001b[1m      carsus.io.cmfgen.base\u001b[0m][   \u001b[1;37mINFO\u001b[0m] - Dropping collisional ionization data. (\u001b[1mbase.py\u001b[0m:1059)\n"
     ]
    },
    {
     "name": "stdout",
     "output_type": "stream",
     "text": [
      "[\u001b[1m      carsus.io.cmfgen.base\u001b[0m][   \u001b[1;37mINFO\u001b[0m] - Dropping collisional ionization data. (\u001b[1mbase.py\u001b[0m:1059)\n"
     ]
    },
    {
     "name": "stdout",
     "output_type": "stream",
     "text": [
      "[\u001b[1m      carsus.io.cmfgen.base\u001b[0m][   \u001b[1;37mINFO\u001b[0m] - Dropping collisional ionization data. (\u001b[1mbase.py\u001b[0m:1059)\n"
     ]
    },
    {
     "name": "stdout",
     "output_type": "stream",
     "text": [
      "[\u001b[1m      carsus.io.cmfgen.base\u001b[0m][   \u001b[1;37mINFO\u001b[0m] - Dropping collisional ionization data. (\u001b[1mbase.py\u001b[0m:1059)\n"
     ]
    },
    {
     "name": "stdout",
     "output_type": "stream",
     "text": [
      "[\u001b[1m      carsus.io.cmfgen.base\u001b[0m][   \u001b[1;37mINFO\u001b[0m] - Dropping collisional ionization data. (\u001b[1mbase.py\u001b[0m:1059)\n"
     ]
    },
    {
     "name": "stdout",
     "output_type": "stream",
     "text": [
      "[\u001b[1m      carsus.io.cmfgen.base\u001b[0m][   \u001b[1;37mINFO\u001b[0m] - Dropping collisional ionization data. (\u001b[1mbase.py\u001b[0m:1059)\n"
     ]
    },
    {
     "name": "stdout",
     "output_type": "stream",
     "text": [
      "[\u001b[1m      carsus.io.cmfgen.base\u001b[0m][   \u001b[1;37mINFO\u001b[0m] - Dropping collisional ionization data. (\u001b[1mbase.py\u001b[0m:1059)\n"
     ]
    },
    {
     "name": "stdout",
     "output_type": "stream",
     "text": [
      "[\u001b[1m      carsus.io.cmfgen.base\u001b[0m][   \u001b[1;37mINFO\u001b[0m] - Dropping collisional ionization data. (\u001b[1mbase.py\u001b[0m:1059)\n"
     ]
    },
    {
     "name": "stdout",
     "output_type": "stream",
     "text": [
      "[\u001b[1m      carsus.io.cmfgen.base\u001b[0m][   \u001b[1;37mINFO\u001b[0m] - Dropping collisional ionization data. (\u001b[1mbase.py\u001b[0m:1059)\n"
     ]
    },
    {
     "name": "stdout",
     "output_type": "stream",
     "text": [
      "[\u001b[1m      carsus.io.cmfgen.base\u001b[0m][   \u001b[1;37mINFO\u001b[0m] - Dropping collisional ionization data. (\u001b[1mbase.py\u001b[0m:1059)\n"
     ]
    },
    {
     "name": "stdout",
     "output_type": "stream",
     "text": [
      "[\u001b[1m      carsus.io.cmfgen.base\u001b[0m][   \u001b[1;37mINFO\u001b[0m] - Dropping collisional ionization data. (\u001b[1mbase.py\u001b[0m:1059)\n"
     ]
    },
    {
     "name": "stdout",
     "output_type": "stream",
     "text": [
      "[\u001b[1m      carsus.io.cmfgen.base\u001b[0m][   \u001b[1;37mINFO\u001b[0m] - Dropping collisional ionization data. (\u001b[1mbase.py\u001b[0m:1059)\n"
     ]
    },
    {
     "name": "stdout",
     "output_type": "stream",
     "text": [
      "[\u001b[1m      carsus.io.cmfgen.base\u001b[0m][   \u001b[1;37mINFO\u001b[0m] - Dropping collisional ionization data. (\u001b[1mbase.py\u001b[0m:1059)\n"
     ]
    },
    {
     "name": "stdout",
     "output_type": "stream",
     "text": [
      "[\u001b[1m      carsus.io.cmfgen.base\u001b[0m][   \u001b[1;37mINFO\u001b[0m] - Dropping collisional ionization data. (\u001b[1mbase.py\u001b[0m:1059)\n"
     ]
    },
    {
     "name": "stdout",
     "output_type": "stream",
     "text": [
      "[\u001b[1m      carsus.io.cmfgen.base\u001b[0m][   \u001b[1;37mINFO\u001b[0m] - Dropping collisional ionization data. (\u001b[1mbase.py\u001b[0m:1059)\n"
     ]
    },
    {
     "name": "stdout",
     "output_type": "stream",
     "text": [
      "[\u001b[1m      carsus.io.cmfgen.base\u001b[0m][   \u001b[1;37mINFO\u001b[0m] - Dropping collisional ionization data. (\u001b[1mbase.py\u001b[0m:1059)\n"
     ]
    },
    {
     "name": "stdout",
     "output_type": "stream",
     "text": [
      "[\u001b[1m      carsus.io.cmfgen.base\u001b[0m][   \u001b[1;37mINFO\u001b[0m] - Dropping collisional ionization data. (\u001b[1mbase.py\u001b[0m:1059)\n"
     ]
    },
    {
     "name": "stdout",
     "output_type": "stream",
     "text": [
      "[\u001b[1m      carsus.io.cmfgen.base\u001b[0m][   \u001b[1;37mINFO\u001b[0m] - Dropping collisional ionization data. (\u001b[1mbase.py\u001b[0m:1059)\n"
     ]
    },
    {
     "name": "stdout",
     "output_type": "stream",
     "text": [
      "[\u001b[1m      carsus.io.cmfgen.base\u001b[0m][   \u001b[1;37mINFO\u001b[0m] - Dropping collisional ionization data. (\u001b[1mbase.py\u001b[0m:1059)\n"
     ]
    },
    {
     "name": "stdout",
     "output_type": "stream",
     "text": [
      "[\u001b[1m      carsus.io.cmfgen.base\u001b[0m][   \u001b[1;37mINFO\u001b[0m] - Dropping collisional ionization data. (\u001b[1mbase.py\u001b[0m:1059)\n"
     ]
    },
    {
     "name": "stdout",
     "output_type": "stream",
     "text": [
      "[\u001b[1m      carsus.io.cmfgen.base\u001b[0m][   \u001b[1;37mINFO\u001b[0m] - Dropping collisional ionization data. (\u001b[1mbase.py\u001b[0m:1059)\n"
     ]
    },
    {
     "name": "stdout",
     "output_type": "stream",
     "text": [
      "[\u001b[1m      carsus.io.cmfgen.base\u001b[0m][   \u001b[1;37mINFO\u001b[0m] - Entries having label(s): 3s_3p3_5So, 3s2_3p2_3Pe will be dropped for ion: (np.int64(14), 0). (\u001b[1mbase.py\u001b[0m:1064)\n"
     ]
    },
    {
     "name": "stdout",
     "output_type": "stream",
     "text": [
      "[\u001b[1m      carsus.io.cmfgen.base\u001b[0m][   \u001b[1;37mINFO\u001b[0m] - Filling in 1 values for ion (1, 0) that are outside the tabulated temperature range using the last tabulated value. (\u001b[1mbase.py\u001b[0m:1124)\n"
     ]
    },
    {
     "name": "stdout",
     "output_type": "stream",
     "text": [
      "[\u001b[1m      carsus.io.cmfgen.base\u001b[0m][   \u001b[1;37mINFO\u001b[0m] - Filling in 7 values for ion (np.int64(14), 0) that are outside the tabulated temperature range using the last tabulated value. (\u001b[1mbase.py\u001b[0m:1124)\n"
     ]
    },
    {
     "name": "stdout",
     "output_type": "stream",
     "text": [
      "[\u001b[1m      carsus.io.cmfgen.base\u001b[0m][   \u001b[1;37mINFO\u001b[0m] - Filling in 4 values for ion (np.int64(14), 1) that are outside the tabulated temperature range using the last tabulated value. (\u001b[1mbase.py\u001b[0m:1124)\n"
     ]
    }
   ],
   "source": [
    "cmfgen_reader = CMFGENReader.from_config('Si 0-1', '/tmp/atomic', ionization_energies=True, cross_sections=True, collisions=True, drop_mismatched_labels=True)"
   ]
  },
  {
   "cell_type": "code",
   "execution_count": 16,
   "metadata": {
    "execution": {
     "iopub.execute_input": "2025-05-12T14:50:40.134424Z",
     "iopub.status.busy": "2025-05-12T14:50:40.134102Z",
     "iopub.status.idle": "2025-05-12T14:50:40.142856Z",
     "shell.execute_reply": "2025-05-12T14:50:40.142378Z"
    }
   },
   "outputs": [
    {
     "data": {
      "text/html": [
       "<div>\n",
       "<style scoped>\n",
       "    .dataframe tbody tr th:only-of-type {\n",
       "        vertical-align: middle;\n",
       "    }\n",
       "\n",
       "    .dataframe tbody tr th {\n",
       "        vertical-align: top;\n",
       "    }\n",
       "\n",
       "    .dataframe thead th {\n",
       "        text-align: right;\n",
       "    }\n",
       "</style>\n",
       "<table border=\"1\" class=\"dataframe\">\n",
       "  <thead>\n",
       "    <tr style=\"text-align: right;\">\n",
       "      <th></th>\n",
       "      <th></th>\n",
       "      <th></th>\n",
       "      <th>energy</th>\n",
       "      <th>j</th>\n",
       "      <th>label</th>\n",
       "      <th>method</th>\n",
       "      <th>priority</th>\n",
       "    </tr>\n",
       "    <tr>\n",
       "      <th>atomic_number</th>\n",
       "      <th>ion_charge</th>\n",
       "      <th>level_index</th>\n",
       "      <th></th>\n",
       "      <th></th>\n",
       "      <th></th>\n",
       "      <th></th>\n",
       "      <th></th>\n",
       "    </tr>\n",
       "  </thead>\n",
       "  <tbody>\n",
       "    <tr>\n",
       "      <th rowspan=\"5\" valign=\"top\">1</th>\n",
       "      <th rowspan=\"5\" valign=\"top\">0</th>\n",
       "      <th>0</th>\n",
       "      <td>0.000000</td>\n",
       "      <td>0.5</td>\n",
       "      <td>1___</td>\n",
       "      <td>meas</td>\n",
       "      <td>10</td>\n",
       "    </tr>\n",
       "    <tr>\n",
       "      <th>1</th>\n",
       "      <td>82259.096334</td>\n",
       "      <td>3.5</td>\n",
       "      <td>2___</td>\n",
       "      <td>meas</td>\n",
       "      <td>10</td>\n",
       "    </tr>\n",
       "    <tr>\n",
       "      <th>2</th>\n",
       "      <td>97492.300647</td>\n",
       "      <td>8.5</td>\n",
       "      <td>3___</td>\n",
       "      <td>meas</td>\n",
       "      <td>10</td>\n",
       "    </tr>\n",
       "    <tr>\n",
       "      <th>3</th>\n",
       "      <td>102823.892736</td>\n",
       "      <td>15.5</td>\n",
       "      <td>4___</td>\n",
       "      <td>meas</td>\n",
       "      <td>10</td>\n",
       "    </tr>\n",
       "    <tr>\n",
       "      <th>4</th>\n",
       "      <td>105291.651183</td>\n",
       "      <td>24.5</td>\n",
       "      <td>5___</td>\n",
       "      <td>meas</td>\n",
       "      <td>10</td>\n",
       "    </tr>\n",
       "    <tr>\n",
       "      <th>...</th>\n",
       "      <th>...</th>\n",
       "      <th>...</th>\n",
       "      <td>...</td>\n",
       "      <td>...</td>\n",
       "      <td>...</td>\n",
       "      <td>...</td>\n",
       "      <td>...</td>\n",
       "    </tr>\n",
       "    <tr>\n",
       "      <th rowspan=\"5\" valign=\"top\">14</th>\n",
       "      <th rowspan=\"5\" valign=\"top\">1</th>\n",
       "      <th>152</th>\n",
       "      <td>134079.000000</td>\n",
       "      <td>1.5</td>\n",
       "      <td>3s_3p(3Po)4p_4Pe[3/2]</td>\n",
       "      <td>meas</td>\n",
       "      <td>10</td>\n",
       "    </tr>\n",
       "    <tr>\n",
       "      <th>153</th>\n",
       "      <td>134213.630000</td>\n",
       "      <td>2.5</td>\n",
       "      <td>3s_3p(3Po)4p_4Pe[5/2]</td>\n",
       "      <td>meas</td>\n",
       "      <td>10</td>\n",
       "    </tr>\n",
       "    <tr>\n",
       "      <th>154</th>\n",
       "      <td>134905.280000</td>\n",
       "      <td>1.5</td>\n",
       "      <td>3s_3p(3Po)4p_4Se[3/2]</td>\n",
       "      <td>meas</td>\n",
       "      <td>10</td>\n",
       "    </tr>\n",
       "    <tr>\n",
       "      <th>155</th>\n",
       "      <td>135297.300000</td>\n",
       "      <td>2.5</td>\n",
       "      <td>3p3_2Do[5/2]</td>\n",
       "      <td>meas</td>\n",
       "      <td>10</td>\n",
       "    </tr>\n",
       "    <tr>\n",
       "      <th>156</th>\n",
       "      <td>135303.500000</td>\n",
       "      <td>1.5</td>\n",
       "      <td>3p3_2Do[3/2]</td>\n",
       "      <td>meas</td>\n",
       "      <td>10</td>\n",
       "    </tr>\n",
       "  </tbody>\n",
       "</table>\n",
       "<p>680 rows × 5 columns</p>\n",
       "</div>"
      ],
      "text/plain": [
       "                                             energy     j  \\\n",
       "atomic_number ion_charge level_index                        \n",
       "1             0          0                 0.000000   0.5   \n",
       "                         1             82259.096334   3.5   \n",
       "                         2             97492.300647   8.5   \n",
       "                         3            102823.892736  15.5   \n",
       "                         4            105291.651183  24.5   \n",
       "...                                             ...   ...   \n",
       "14            1          152          134079.000000   1.5   \n",
       "                         153          134213.630000   2.5   \n",
       "                         154          134905.280000   1.5   \n",
       "                         155          135297.300000   2.5   \n",
       "                         156          135303.500000   1.5   \n",
       "\n",
       "                                                      label method  priority  \n",
       "atomic_number ion_charge level_index                                          \n",
       "1             0          0                             1___   meas        10  \n",
       "                         1                             2___   meas        10  \n",
       "                         2                             3___   meas        10  \n",
       "                         3                             4___   meas        10  \n",
       "                         4                             5___   meas        10  \n",
       "...                                                     ...    ...       ...  \n",
       "14            1          152          3s_3p(3Po)4p_4Pe[3/2]   meas        10  \n",
       "                         153          3s_3p(3Po)4p_4Pe[5/2]   meas        10  \n",
       "                         154          3s_3p(3Po)4p_4Se[3/2]   meas        10  \n",
       "                         155                   3p3_2Do[5/2]   meas        10  \n",
       "                         156                   3p3_2Do[3/2]   meas        10  \n",
       "\n",
       "[680 rows x 5 columns]"
      ]
     },
     "execution_count": 16,
     "metadata": {},
     "output_type": "execute_result"
    }
   ],
   "source": [
    "cmfgen_reader.levels"
   ]
  },
  {
   "cell_type": "code",
   "execution_count": 17,
   "metadata": {
    "execution": {
     "iopub.execute_input": "2025-05-12T14:50:40.144801Z",
     "iopub.status.busy": "2025-05-12T14:50:40.144509Z",
     "iopub.status.idle": "2025-05-12T14:50:40.154717Z",
     "shell.execute_reply": "2025-05-12T14:50:40.154228Z"
    }
   },
   "outputs": [
    {
     "data": {
      "text/html": [
       "<div>\n",
       "<style scoped>\n",
       "    .dataframe tbody tr th:only-of-type {\n",
       "        vertical-align: middle;\n",
       "    }\n",
       "\n",
       "    .dataframe tbody tr th {\n",
       "        vertical-align: top;\n",
       "    }\n",
       "\n",
       "    .dataframe thead th {\n",
       "        text-align: right;\n",
       "    }\n",
       "</style>\n",
       "<table border=\"1\" class=\"dataframe\">\n",
       "  <thead>\n",
       "    <tr style=\"text-align: right;\">\n",
       "      <th></th>\n",
       "      <th></th>\n",
       "      <th></th>\n",
       "      <th></th>\n",
       "      <th>energy_lower</th>\n",
       "      <th>energy_upper</th>\n",
       "      <th>gf</th>\n",
       "      <th>j_lower</th>\n",
       "      <th>j_upper</th>\n",
       "      <th>wavelength</th>\n",
       "    </tr>\n",
       "    <tr>\n",
       "      <th>atomic_number</th>\n",
       "      <th>ion_charge</th>\n",
       "      <th>level_index_lower</th>\n",
       "      <th>level_index_upper</th>\n",
       "      <th></th>\n",
       "      <th></th>\n",
       "      <th></th>\n",
       "      <th></th>\n",
       "      <th></th>\n",
       "      <th></th>\n",
       "    </tr>\n",
       "  </thead>\n",
       "  <tbody>\n",
       "    <tr>\n",
       "      <th rowspan=\"5\" valign=\"top\">1</th>\n",
       "      <th rowspan=\"5\" valign=\"top\">0</th>\n",
       "      <th rowspan=\"5\" valign=\"top\">0</th>\n",
       "      <th>1</th>\n",
       "      <td>0.00</td>\n",
       "      <td>82259.096334</td>\n",
       "      <td>8.324000e-01</td>\n",
       "      <td>0.5</td>\n",
       "      <td>3.5</td>\n",
       "      <td>121.5670</td>\n",
       "    </tr>\n",
       "    <tr>\n",
       "      <th>2</th>\n",
       "      <td>0.00</td>\n",
       "      <td>97492.300647</td>\n",
       "      <td>1.582000e-01</td>\n",
       "      <td>0.5</td>\n",
       "      <td>8.5</td>\n",
       "      <td>102.5720</td>\n",
       "    </tr>\n",
       "    <tr>\n",
       "      <th>3</th>\n",
       "      <td>0.00</td>\n",
       "      <td>102823.892736</td>\n",
       "      <td>5.798000e-02</td>\n",
       "      <td>0.5</td>\n",
       "      <td>15.5</td>\n",
       "      <td>97.2540</td>\n",
       "    </tr>\n",
       "    <tr>\n",
       "      <th>4</th>\n",
       "      <td>0.00</td>\n",
       "      <td>105291.651183</td>\n",
       "      <td>2.788000e-02</td>\n",
       "      <td>0.5</td>\n",
       "      <td>24.5</td>\n",
       "      <td>94.9740</td>\n",
       "    </tr>\n",
       "    <tr>\n",
       "      <th>5</th>\n",
       "      <td>0.00</td>\n",
       "      <td>106632.159810</td>\n",
       "      <td>1.559800e-02</td>\n",
       "      <td>0.5</td>\n",
       "      <td>35.5</td>\n",
       "      <td>93.7800</td>\n",
       "    </tr>\n",
       "    <tr>\n",
       "      <th>...</th>\n",
       "      <th>...</th>\n",
       "      <th>...</th>\n",
       "      <th>...</th>\n",
       "      <td>...</td>\n",
       "      <td>...</td>\n",
       "      <td>...</td>\n",
       "      <td>...</td>\n",
       "      <td>...</td>\n",
       "      <td>...</td>\n",
       "    </tr>\n",
       "    <tr>\n",
       "      <th rowspan=\"5\" valign=\"top\">14</th>\n",
       "      <th rowspan=\"5\" valign=\"top\">1</th>\n",
       "      <th>152</th>\n",
       "      <th>156</th>\n",
       "      <td>134079.00</td>\n",
       "      <td>135303.500000</td>\n",
       "      <td>1.300000e-05</td>\n",
       "      <td>1.5</td>\n",
       "      <td>1.5</td>\n",
       "      <td>8164.3728</td>\n",
       "    </tr>\n",
       "    <tr>\n",
       "      <th rowspan=\"2\" valign=\"top\">153</th>\n",
       "      <th>155</th>\n",
       "      <td>134213.63</td>\n",
       "      <td>135297.300000</td>\n",
       "      <td>3.963000e-06</td>\n",
       "      <td>2.5</td>\n",
       "      <td>2.5</td>\n",
       "      <td>9225.3865</td>\n",
       "    </tr>\n",
       "    <tr>\n",
       "      <th>156</th>\n",
       "      <td>134213.63</td>\n",
       "      <td>135303.500000</td>\n",
       "      <td>2.477400e-07</td>\n",
       "      <td>2.5</td>\n",
       "      <td>1.5</td>\n",
       "      <td>9172.9055</td>\n",
       "    </tr>\n",
       "    <tr>\n",
       "      <th rowspan=\"2\" valign=\"top\">154</th>\n",
       "      <th>155</th>\n",
       "      <td>134905.28</td>\n",
       "      <td>135297.300000</td>\n",
       "      <td>3.069200e-05</td>\n",
       "      <td>1.5</td>\n",
       "      <td>2.5</td>\n",
       "      <td>25500.0000</td>\n",
       "    </tr>\n",
       "    <tr>\n",
       "      <th>156</th>\n",
       "      <td>134905.28</td>\n",
       "      <td>135303.500000</td>\n",
       "      <td>2.697600e-06</td>\n",
       "      <td>1.5</td>\n",
       "      <td>1.5</td>\n",
       "      <td>25100.0000</td>\n",
       "    </tr>\n",
       "  </tbody>\n",
       "</table>\n",
       "<p>26422 rows × 6 columns</p>\n",
       "</div>"
      ],
      "text/plain": [
       "                                                              energy_lower  \\\n",
       "atomic_number ion_charge level_index_lower level_index_upper                 \n",
       "1             0          0                 1                          0.00   \n",
       "                                           2                          0.00   \n",
       "                                           3                          0.00   \n",
       "                                           4                          0.00   \n",
       "                                           5                          0.00   \n",
       "...                                                                    ...   \n",
       "14            1          152               156                   134079.00   \n",
       "                         153               155                   134213.63   \n",
       "                                           156                   134213.63   \n",
       "                         154               155                   134905.28   \n",
       "                                           156                   134905.28   \n",
       "\n",
       "                                                               energy_upper  \\\n",
       "atomic_number ion_charge level_index_lower level_index_upper                  \n",
       "1             0          0                 1                   82259.096334   \n",
       "                                           2                   97492.300647   \n",
       "                                           3                  102823.892736   \n",
       "                                           4                  105291.651183   \n",
       "                                           5                  106632.159810   \n",
       "...                                                                     ...   \n",
       "14            1          152               156                135303.500000   \n",
       "                         153               155                135297.300000   \n",
       "                                           156                135303.500000   \n",
       "                         154               155                135297.300000   \n",
       "                                           156                135303.500000   \n",
       "\n",
       "                                                                        gf  \\\n",
       "atomic_number ion_charge level_index_lower level_index_upper                 \n",
       "1             0          0                 1                  8.324000e-01   \n",
       "                                           2                  1.582000e-01   \n",
       "                                           3                  5.798000e-02   \n",
       "                                           4                  2.788000e-02   \n",
       "                                           5                  1.559800e-02   \n",
       "...                                                                    ...   \n",
       "14            1          152               156                1.300000e-05   \n",
       "                         153               155                3.963000e-06   \n",
       "                                           156                2.477400e-07   \n",
       "                         154               155                3.069200e-05   \n",
       "                                           156                2.697600e-06   \n",
       "\n",
       "                                                              j_lower  \\\n",
       "atomic_number ion_charge level_index_lower level_index_upper            \n",
       "1             0          0                 1                      0.5   \n",
       "                                           2                      0.5   \n",
       "                                           3                      0.5   \n",
       "                                           4                      0.5   \n",
       "                                           5                      0.5   \n",
       "...                                                               ...   \n",
       "14            1          152               156                    1.5   \n",
       "                         153               155                    2.5   \n",
       "                                           156                    2.5   \n",
       "                         154               155                    1.5   \n",
       "                                           156                    1.5   \n",
       "\n",
       "                                                              j_upper  \\\n",
       "atomic_number ion_charge level_index_lower level_index_upper            \n",
       "1             0          0                 1                      3.5   \n",
       "                                           2                      8.5   \n",
       "                                           3                     15.5   \n",
       "                                           4                     24.5   \n",
       "                                           5                     35.5   \n",
       "...                                                               ...   \n",
       "14            1          152               156                    1.5   \n",
       "                         153               155                    2.5   \n",
       "                                           156                    1.5   \n",
       "                         154               155                    2.5   \n",
       "                                           156                    1.5   \n",
       "\n",
       "                                                              wavelength  \n",
       "atomic_number ion_charge level_index_lower level_index_upper              \n",
       "1             0          0                 1                    121.5670  \n",
       "                                           2                    102.5720  \n",
       "                                           3                     97.2540  \n",
       "                                           4                     94.9740  \n",
       "                                           5                     93.7800  \n",
       "...                                                                  ...  \n",
       "14            1          152               156                 8164.3728  \n",
       "                         153               155                 9225.3865  \n",
       "                                           156                 9172.9055  \n",
       "                         154               155                25500.0000  \n",
       "                                           156                25100.0000  \n",
       "\n",
       "[26422 rows x 6 columns]"
      ]
     },
     "execution_count": 17,
     "metadata": {},
     "output_type": "execute_result"
    }
   ],
   "source": [
    "cmfgen_reader.lines"
   ]
  },
  {
   "cell_type": "code",
   "execution_count": 18,
   "metadata": {
    "execution": {
     "iopub.execute_input": "2025-05-12T14:50:40.156569Z",
     "iopub.status.busy": "2025-05-12T14:50:40.156259Z",
     "iopub.status.idle": "2025-05-12T14:50:40.163333Z",
     "shell.execute_reply": "2025-05-12T14:50:40.162837Z"
    }
   },
   "outputs": [
    {
     "data": {
      "text/html": [
       "<div>\n",
       "<style scoped>\n",
       "    .dataframe tbody tr th:only-of-type {\n",
       "        vertical-align: middle;\n",
       "    }\n",
       "\n",
       "    .dataframe tbody tr th {\n",
       "        vertical-align: top;\n",
       "    }\n",
       "\n",
       "    .dataframe thead th {\n",
       "        text-align: right;\n",
       "    }\n",
       "</style>\n",
       "<table border=\"1\" class=\"dataframe\">\n",
       "  <thead>\n",
       "    <tr style=\"text-align: right;\">\n",
       "      <th></th>\n",
       "      <th></th>\n",
       "      <th></th>\n",
       "      <th>energy</th>\n",
       "      <th>sigma</th>\n",
       "    </tr>\n",
       "    <tr>\n",
       "      <th>atomic_number</th>\n",
       "      <th>ion_charge</th>\n",
       "      <th>level_index</th>\n",
       "      <th></th>\n",
       "      <th></th>\n",
       "    </tr>\n",
       "  </thead>\n",
       "  <tbody>\n",
       "    <tr>\n",
       "      <th rowspan=\"5\" valign=\"top\">1</th>\n",
       "      <th rowspan=\"5\" valign=\"top\">0</th>\n",
       "      <th>0</th>\n",
       "      <td>0.999466</td>\n",
       "      <td>6.310022</td>\n",
       "    </tr>\n",
       "    <tr>\n",
       "      <th>0</th>\n",
       "      <td>1.015765</td>\n",
       "      <td>6.042398</td>\n",
       "    </tr>\n",
       "    <tr>\n",
       "      <th>0</th>\n",
       "      <td>1.032328</td>\n",
       "      <td>5.786125</td>\n",
       "    </tr>\n",
       "    <tr>\n",
       "      <th>0</th>\n",
       "      <td>1.049162</td>\n",
       "      <td>5.540721</td>\n",
       "    </tr>\n",
       "    <tr>\n",
       "      <th>0</th>\n",
       "      <td>1.066271</td>\n",
       "      <td>5.305726</td>\n",
       "    </tr>\n",
       "    <tr>\n",
       "      <th>...</th>\n",
       "      <th>...</th>\n",
       "      <th>...</th>\n",
       "      <td>...</td>\n",
       "      <td>...</td>\n",
       "    </tr>\n",
       "    <tr>\n",
       "      <th rowspan=\"5\" valign=\"top\">14</th>\n",
       "      <th rowspan=\"5\" valign=\"top\">1</th>\n",
       "      <th>154</th>\n",
       "      <td>-263.073454</td>\n",
       "      <td>0.000000</td>\n",
       "    </tr>\n",
       "    <tr>\n",
       "      <th>155</th>\n",
       "      <td>-0.031522</td>\n",
       "      <td>0.000000</td>\n",
       "    </tr>\n",
       "    <tr>\n",
       "      <th>155</th>\n",
       "      <td>-3.152219</td>\n",
       "      <td>0.000000</td>\n",
       "    </tr>\n",
       "    <tr>\n",
       "      <th>156</th>\n",
       "      <td>-0.031579</td>\n",
       "      <td>0.000000</td>\n",
       "    </tr>\n",
       "    <tr>\n",
       "      <th>156</th>\n",
       "      <td>-3.157868</td>\n",
       "      <td>0.000000</td>\n",
       "    </tr>\n",
       "  </tbody>\n",
       "</table>\n",
       "<p>385466 rows × 2 columns</p>\n",
       "</div>"
      ],
      "text/plain": [
       "                                          energy     sigma\n",
       "atomic_number ion_charge level_index                      \n",
       "1             0          0              0.999466  6.310022\n",
       "                         0              1.015765  6.042398\n",
       "                         0              1.032328  5.786125\n",
       "                         0              1.049162  5.540721\n",
       "                         0              1.066271  5.305726\n",
       "...                                          ...       ...\n",
       "14            1          154         -263.073454  0.000000\n",
       "                         155           -0.031522  0.000000\n",
       "                         155           -3.152219  0.000000\n",
       "                         156           -0.031579  0.000000\n",
       "                         156           -3.157868  0.000000\n",
       "\n",
       "[385466 rows x 2 columns]"
      ]
     },
     "execution_count": 18,
     "metadata": {},
     "output_type": "execute_result"
    }
   ],
   "source": [
    "cmfgen_reader.cross_sections"
   ]
  },
  {
   "cell_type": "code",
   "execution_count": 19,
   "metadata": {
    "execution": {
     "iopub.execute_input": "2025-05-12T14:50:40.165043Z",
     "iopub.status.busy": "2025-05-12T14:50:40.164865Z",
     "iopub.status.idle": "2025-05-12T14:50:40.169137Z",
     "shell.execute_reply": "2025-05-12T14:50:40.168652Z"
    }
   },
   "outputs": [
    {
     "data": {
      "text/plain": [
       "atomic_number  ion_charge\n",
       "1              0             13.598434\n",
       "14             0              8.151683\n",
       "               1             16.345846\n",
       "Name: ionization_energy, dtype: float64"
      ]
     },
     "execution_count": 19,
     "metadata": {},
     "output_type": "execute_result"
    }
   ],
   "source": [
    "cmfgen_reader.ionization_energies"
   ]
  },
  {
   "cell_type": "markdown",
   "metadata": {},
   "source": [
    "The values in the collisions dataframe are thermally-averaged effective collision strengths divided by the statistical weights of the lower levels. Please see Eq. A1 and A2 of <cite data-cite=\"2004ApJ...609.1181P\">Przybilla & Butler, 2004 </cite> for definitions. More information about the `collisions` table is stored inside the `collisional_metadata` attribute. "
   ]
  },
  {
   "cell_type": "code",
   "execution_count": 20,
   "metadata": {
    "execution": {
     "iopub.execute_input": "2025-05-12T14:50:40.170966Z",
     "iopub.status.busy": "2025-05-12T14:50:40.170753Z",
     "iopub.status.idle": "2025-05-12T14:50:40.187582Z",
     "shell.execute_reply": "2025-05-12T14:50:40.187146Z"
    }
   },
   "outputs": [
    {
     "data": {
      "text/html": [
       "<div>\n",
       "<style scoped>\n",
       "    .dataframe tbody tr th:only-of-type {\n",
       "        vertical-align: middle;\n",
       "    }\n",
       "\n",
       "    .dataframe tbody tr th {\n",
       "        vertical-align: top;\n",
       "    }\n",
       "\n",
       "    .dataframe thead th {\n",
       "        text-align: right;\n",
       "    }\n",
       "</style>\n",
       "<table border=\"1\" class=\"dataframe\">\n",
       "  <thead>\n",
       "    <tr style=\"text-align: right;\">\n",
       "      <th></th>\n",
       "      <th></th>\n",
       "      <th></th>\n",
       "      <th></th>\n",
       "      <th>0</th>\n",
       "      <th>1</th>\n",
       "      <th>2</th>\n",
       "      <th>3</th>\n",
       "      <th>4</th>\n",
       "      <th>5</th>\n",
       "      <th>6</th>\n",
       "      <th>7</th>\n",
       "      <th>8</th>\n",
       "      <th>9</th>\n",
       "      <th>...</th>\n",
       "      <th>11</th>\n",
       "      <th>12</th>\n",
       "      <th>13</th>\n",
       "      <th>14</th>\n",
       "      <th>15</th>\n",
       "      <th>16</th>\n",
       "      <th>17</th>\n",
       "      <th>18</th>\n",
       "      <th>19</th>\n",
       "      <th>20</th>\n",
       "    </tr>\n",
       "    <tr>\n",
       "      <th>atomic_number</th>\n",
       "      <th>ion_charge</th>\n",
       "      <th>level_index_lower</th>\n",
       "      <th>level_index_upper</th>\n",
       "      <th></th>\n",
       "      <th></th>\n",
       "      <th></th>\n",
       "      <th></th>\n",
       "      <th></th>\n",
       "      <th></th>\n",
       "      <th></th>\n",
       "      <th></th>\n",
       "      <th></th>\n",
       "      <th></th>\n",
       "      <th></th>\n",
       "      <th></th>\n",
       "      <th></th>\n",
       "      <th></th>\n",
       "      <th></th>\n",
       "      <th></th>\n",
       "      <th></th>\n",
       "      <th></th>\n",
       "      <th></th>\n",
       "      <th></th>\n",
       "      <th></th>\n",
       "    </tr>\n",
       "  </thead>\n",
       "  <tbody>\n",
       "    <tr>\n",
       "      <th rowspan=\"5\" valign=\"top\">1</th>\n",
       "      <th rowspan=\"5\" valign=\"top\">0</th>\n",
       "      <th rowspan=\"5\" valign=\"top\">0</th>\n",
       "      <th>1</th>\n",
       "      <td>0.331250</td>\n",
       "      <td>0.331250</td>\n",
       "      <td>0.331250</td>\n",
       "      <td>0.331250</td>\n",
       "      <td>0.331250</td>\n",
       "      <td>0.342092</td>\n",
       "      <td>0.372950</td>\n",
       "      <td>0.393113</td>\n",
       "      <td>0.417929</td>\n",
       "      <td>0.450500</td>\n",
       "      <td>...</td>\n",
       "      <td>0.531217</td>\n",
       "      <td>0.589667</td>\n",
       "      <td>0.659250</td>\n",
       "      <td>0.701471</td>\n",
       "      <td>0.820400</td>\n",
       "      <td>0.820400</td>\n",
       "      <td>0.820400</td>\n",
       "      <td>0.820400</td>\n",
       "      <td>0.820400</td>\n",
       "      <td>0.820400</td>\n",
       "    </tr>\n",
       "    <tr>\n",
       "      <th>2</th>\n",
       "      <td>0.096550</td>\n",
       "      <td>0.096550</td>\n",
       "      <td>0.096550</td>\n",
       "      <td>0.096550</td>\n",
       "      <td>0.096550</td>\n",
       "      <td>0.096992</td>\n",
       "      <td>0.098250</td>\n",
       "      <td>0.100395</td>\n",
       "      <td>0.103035</td>\n",
       "      <td>0.106500</td>\n",
       "      <td>...</td>\n",
       "      <td>0.125060</td>\n",
       "      <td>0.138500</td>\n",
       "      <td>0.154500</td>\n",
       "      <td>0.164377</td>\n",
       "      <td>0.192200</td>\n",
       "      <td>0.192200</td>\n",
       "      <td>0.192200</td>\n",
       "      <td>0.192200</td>\n",
       "      <td>0.192200</td>\n",
       "      <td>0.192200</td>\n",
       "    </tr>\n",
       "    <tr>\n",
       "      <th>3</th>\n",
       "      <td>0.008550</td>\n",
       "      <td>0.008550</td>\n",
       "      <td>0.008550</td>\n",
       "      <td>0.008550</td>\n",
       "      <td>0.008550</td>\n",
       "      <td>0.009850</td>\n",
       "      <td>0.013550</td>\n",
       "      <td>0.015903</td>\n",
       "      <td>0.018799</td>\n",
       "      <td>0.022600</td>\n",
       "      <td>...</td>\n",
       "      <td>0.031010</td>\n",
       "      <td>0.037100</td>\n",
       "      <td>0.044350</td>\n",
       "      <td>0.047992</td>\n",
       "      <td>0.058250</td>\n",
       "      <td>0.058250</td>\n",
       "      <td>0.058250</td>\n",
       "      <td>0.058250</td>\n",
       "      <td>0.058250</td>\n",
       "      <td>0.058250</td>\n",
       "    </tr>\n",
       "    <tr>\n",
       "      <th>4</th>\n",
       "      <td>0.011700</td>\n",
       "      <td>0.011700</td>\n",
       "      <td>0.011700</td>\n",
       "      <td>0.011700</td>\n",
       "      <td>0.011700</td>\n",
       "      <td>0.012090</td>\n",
       "      <td>0.013200</td>\n",
       "      <td>0.013980</td>\n",
       "      <td>0.014940</td>\n",
       "      <td>0.016200</td>\n",
       "      <td>...</td>\n",
       "      <td>0.019583</td>\n",
       "      <td>0.022033</td>\n",
       "      <td>0.024950</td>\n",
       "      <td>0.026535</td>\n",
       "      <td>0.031000</td>\n",
       "      <td>0.031000</td>\n",
       "      <td>0.031000</td>\n",
       "      <td>0.031000</td>\n",
       "      <td>0.031000</td>\n",
       "      <td>0.031000</td>\n",
       "    </tr>\n",
       "    <tr>\n",
       "      <th>5</th>\n",
       "      <td>0.006550</td>\n",
       "      <td>0.006550</td>\n",
       "      <td>0.006550</td>\n",
       "      <td>0.006550</td>\n",
       "      <td>0.006550</td>\n",
       "      <td>0.006771</td>\n",
       "      <td>0.007400</td>\n",
       "      <td>0.007829</td>\n",
       "      <td>0.008357</td>\n",
       "      <td>0.009050</td>\n",
       "      <td>...</td>\n",
       "      <td>0.010964</td>\n",
       "      <td>0.012350</td>\n",
       "      <td>0.014000</td>\n",
       "      <td>0.014891</td>\n",
       "      <td>0.017400</td>\n",
       "      <td>0.017400</td>\n",
       "      <td>0.017400</td>\n",
       "      <td>0.017400</td>\n",
       "      <td>0.017400</td>\n",
       "      <td>0.017400</td>\n",
       "    </tr>\n",
       "    <tr>\n",
       "      <th>...</th>\n",
       "      <th>...</th>\n",
       "      <th>...</th>\n",
       "      <th>...</th>\n",
       "      <td>...</td>\n",
       "      <td>...</td>\n",
       "      <td>...</td>\n",
       "      <td>...</td>\n",
       "      <td>...</td>\n",
       "      <td>...</td>\n",
       "      <td>...</td>\n",
       "      <td>...</td>\n",
       "      <td>...</td>\n",
       "      <td>...</td>\n",
       "      <td>...</td>\n",
       "      <td>...</td>\n",
       "      <td>...</td>\n",
       "      <td>...</td>\n",
       "      <td>...</td>\n",
       "      <td>...</td>\n",
       "      <td>...</td>\n",
       "      <td>...</td>\n",
       "      <td>...</td>\n",
       "      <td>...</td>\n",
       "      <td>...</td>\n",
       "    </tr>\n",
       "    <tr>\n",
       "      <th rowspan=\"5\" valign=\"top\">14</th>\n",
       "      <th rowspan=\"5\" valign=\"top\">1</th>\n",
       "      <th rowspan=\"2\" valign=\"top\">25</th>\n",
       "      <th>29</th>\n",
       "      <td>39.000000</td>\n",
       "      <td>39.000000</td>\n",
       "      <td>39.000000</td>\n",
       "      <td>43.500000</td>\n",
       "      <td>46.652174</td>\n",
       "      <td>50.750000</td>\n",
       "      <td>61.750000</td>\n",
       "      <td>68.750000</td>\n",
       "      <td>76.000000</td>\n",
       "      <td>83.250000</td>\n",
       "      <td>...</td>\n",
       "      <td>97.000000</td>\n",
       "      <td>102.500000</td>\n",
       "      <td>105.638528</td>\n",
       "      <td>109.750000</td>\n",
       "      <td>110.750000</td>\n",
       "      <td>105.500000</td>\n",
       "      <td>100.794276</td>\n",
       "      <td>95.000000</td>\n",
       "      <td>95.000000</td>\n",
       "      <td>95.000000</td>\n",
       "    </tr>\n",
       "    <tr>\n",
       "      <th>30</th>\n",
       "      <td>13.950000</td>\n",
       "      <td>13.950000</td>\n",
       "      <td>13.950000</td>\n",
       "      <td>15.300000</td>\n",
       "      <td>16.180435</td>\n",
       "      <td>17.325000</td>\n",
       "      <td>20.175000</td>\n",
       "      <td>21.925000</td>\n",
       "      <td>23.775000</td>\n",
       "      <td>25.750000</td>\n",
       "      <td>...</td>\n",
       "      <td>29.250000</td>\n",
       "      <td>30.500000</td>\n",
       "      <td>31.257576</td>\n",
       "      <td>32.250000</td>\n",
       "      <td>32.500000</td>\n",
       "      <td>31.000000</td>\n",
       "      <td>29.543467</td>\n",
       "      <td>27.750000</td>\n",
       "      <td>27.750000</td>\n",
       "      <td>27.750000</td>\n",
       "    </tr>\n",
       "    <tr>\n",
       "      <th rowspan=\"2\" valign=\"top\">26</th>\n",
       "      <th>29</th>\n",
       "      <td>3.550000</td>\n",
       "      <td>3.550000</td>\n",
       "      <td>3.550000</td>\n",
       "      <td>3.866667</td>\n",
       "      <td>4.011594</td>\n",
       "      <td>4.200000</td>\n",
       "      <td>4.600000</td>\n",
       "      <td>4.816667</td>\n",
       "      <td>5.050000</td>\n",
       "      <td>5.283333</td>\n",
       "      <td>...</td>\n",
       "      <td>5.716667</td>\n",
       "      <td>5.883333</td>\n",
       "      <td>5.962698</td>\n",
       "      <td>6.066667</td>\n",
       "      <td>6.016667</td>\n",
       "      <td>5.700000</td>\n",
       "      <td>5.460979</td>\n",
       "      <td>5.166667</td>\n",
       "      <td>5.166667</td>\n",
       "      <td>5.166667</td>\n",
       "    </tr>\n",
       "    <tr>\n",
       "      <th>30</th>\n",
       "      <td>44.833333</td>\n",
       "      <td>44.833333</td>\n",
       "      <td>44.833333</td>\n",
       "      <td>51.333333</td>\n",
       "      <td>55.681159</td>\n",
       "      <td>61.333333</td>\n",
       "      <td>75.666667</td>\n",
       "      <td>84.333333</td>\n",
       "      <td>93.666667</td>\n",
       "      <td>103.000000</td>\n",
       "      <td>...</td>\n",
       "      <td>120.500000</td>\n",
       "      <td>127.666667</td>\n",
       "      <td>131.707071</td>\n",
       "      <td>137.000000</td>\n",
       "      <td>138.666667</td>\n",
       "      <td>132.333333</td>\n",
       "      <td>126.432505</td>\n",
       "      <td>119.166667</td>\n",
       "      <td>119.166667</td>\n",
       "      <td>119.166667</td>\n",
       "    </tr>\n",
       "    <tr>\n",
       "      <th>29</th>\n",
       "      <th>30</th>\n",
       "      <td>17.900000</td>\n",
       "      <td>17.900000</td>\n",
       "      <td>17.900000</td>\n",
       "      <td>19.350000</td>\n",
       "      <td>20.241304</td>\n",
       "      <td>21.400000</td>\n",
       "      <td>24.250000</td>\n",
       "      <td>26.100000</td>\n",
       "      <td>28.150000</td>\n",
       "      <td>30.400000</td>\n",
       "      <td>...</td>\n",
       "      <td>35.250000</td>\n",
       "      <td>37.700000</td>\n",
       "      <td>39.583117</td>\n",
       "      <td>42.050000</td>\n",
       "      <td>44.950000</td>\n",
       "      <td>45.500000</td>\n",
       "      <td>44.626080</td>\n",
       "      <td>43.550000</td>\n",
       "      <td>43.550000</td>\n",
       "      <td>43.550000</td>\n",
       "    </tr>\n",
       "  </tbody>\n",
       "</table>\n",
       "<p>849 rows × 21 columns</p>\n",
       "</div>"
      ],
      "text/plain": [
       "                                                                     0   \\\n",
       "atomic_number ion_charge level_index_lower level_index_upper              \n",
       "1             0          0                 1                   0.331250   \n",
       "                                           2                   0.096550   \n",
       "                                           3                   0.008550   \n",
       "                                           4                   0.011700   \n",
       "                                           5                   0.006550   \n",
       "...                                                                 ...   \n",
       "14            1          25                29                 39.000000   \n",
       "                                           30                 13.950000   \n",
       "                         26                29                  3.550000   \n",
       "                                           30                 44.833333   \n",
       "                         29                30                 17.900000   \n",
       "\n",
       "                                                                     1   \\\n",
       "atomic_number ion_charge level_index_lower level_index_upper              \n",
       "1             0          0                 1                   0.331250   \n",
       "                                           2                   0.096550   \n",
       "                                           3                   0.008550   \n",
       "                                           4                   0.011700   \n",
       "                                           5                   0.006550   \n",
       "...                                                                 ...   \n",
       "14            1          25                29                 39.000000   \n",
       "                                           30                 13.950000   \n",
       "                         26                29                  3.550000   \n",
       "                                           30                 44.833333   \n",
       "                         29                30                 17.900000   \n",
       "\n",
       "                                                                     2   \\\n",
       "atomic_number ion_charge level_index_lower level_index_upper              \n",
       "1             0          0                 1                   0.331250   \n",
       "                                           2                   0.096550   \n",
       "                                           3                   0.008550   \n",
       "                                           4                   0.011700   \n",
       "                                           5                   0.006550   \n",
       "...                                                                 ...   \n",
       "14            1          25                29                 39.000000   \n",
       "                                           30                 13.950000   \n",
       "                         26                29                  3.550000   \n",
       "                                           30                 44.833333   \n",
       "                         29                30                 17.900000   \n",
       "\n",
       "                                                                     3   \\\n",
       "atomic_number ion_charge level_index_lower level_index_upper              \n",
       "1             0          0                 1                   0.331250   \n",
       "                                           2                   0.096550   \n",
       "                                           3                   0.008550   \n",
       "                                           4                   0.011700   \n",
       "                                           5                   0.006550   \n",
       "...                                                                 ...   \n",
       "14            1          25                29                 43.500000   \n",
       "                                           30                 15.300000   \n",
       "                         26                29                  3.866667   \n",
       "                                           30                 51.333333   \n",
       "                         29                30                 19.350000   \n",
       "\n",
       "                                                                     4   \\\n",
       "atomic_number ion_charge level_index_lower level_index_upper              \n",
       "1             0          0                 1                   0.331250   \n",
       "                                           2                   0.096550   \n",
       "                                           3                   0.008550   \n",
       "                                           4                   0.011700   \n",
       "                                           5                   0.006550   \n",
       "...                                                                 ...   \n",
       "14            1          25                29                 46.652174   \n",
       "                                           30                 16.180435   \n",
       "                         26                29                  4.011594   \n",
       "                                           30                 55.681159   \n",
       "                         29                30                 20.241304   \n",
       "\n",
       "                                                                     5   \\\n",
       "atomic_number ion_charge level_index_lower level_index_upper              \n",
       "1             0          0                 1                   0.342092   \n",
       "                                           2                   0.096992   \n",
       "                                           3                   0.009850   \n",
       "                                           4                   0.012090   \n",
       "                                           5                   0.006771   \n",
       "...                                                                 ...   \n",
       "14            1          25                29                 50.750000   \n",
       "                                           30                 17.325000   \n",
       "                         26                29                  4.200000   \n",
       "                                           30                 61.333333   \n",
       "                         29                30                 21.400000   \n",
       "\n",
       "                                                                     6   \\\n",
       "atomic_number ion_charge level_index_lower level_index_upper              \n",
       "1             0          0                 1                   0.372950   \n",
       "                                           2                   0.098250   \n",
       "                                           3                   0.013550   \n",
       "                                           4                   0.013200   \n",
       "                                           5                   0.007400   \n",
       "...                                                                 ...   \n",
       "14            1          25                29                 61.750000   \n",
       "                                           30                 20.175000   \n",
       "                         26                29                  4.600000   \n",
       "                                           30                 75.666667   \n",
       "                         29                30                 24.250000   \n",
       "\n",
       "                                                                     7   \\\n",
       "atomic_number ion_charge level_index_lower level_index_upper              \n",
       "1             0          0                 1                   0.393113   \n",
       "                                           2                   0.100395   \n",
       "                                           3                   0.015903   \n",
       "                                           4                   0.013980   \n",
       "                                           5                   0.007829   \n",
       "...                                                                 ...   \n",
       "14            1          25                29                 68.750000   \n",
       "                                           30                 21.925000   \n",
       "                         26                29                  4.816667   \n",
       "                                           30                 84.333333   \n",
       "                         29                30                 26.100000   \n",
       "\n",
       "                                                                     8   \\\n",
       "atomic_number ion_charge level_index_lower level_index_upper              \n",
       "1             0          0                 1                   0.417929   \n",
       "                                           2                   0.103035   \n",
       "                                           3                   0.018799   \n",
       "                                           4                   0.014940   \n",
       "                                           5                   0.008357   \n",
       "...                                                                 ...   \n",
       "14            1          25                29                 76.000000   \n",
       "                                           30                 23.775000   \n",
       "                         26                29                  5.050000   \n",
       "                                           30                 93.666667   \n",
       "                         29                30                 28.150000   \n",
       "\n",
       "                                                                      9   ...  \\\n",
       "atomic_number ion_charge level_index_lower level_index_upper              ...   \n",
       "1             0          0                 1                    0.450500  ...   \n",
       "                                           2                    0.106500  ...   \n",
       "                                           3                    0.022600  ...   \n",
       "                                           4                    0.016200  ...   \n",
       "                                           5                    0.009050  ...   \n",
       "...                                                                  ...  ...   \n",
       "14            1          25                29                  83.250000  ...   \n",
       "                                           30                  25.750000  ...   \n",
       "                         26                29                   5.283333  ...   \n",
       "                                           30                 103.000000  ...   \n",
       "                         29                30                  30.400000  ...   \n",
       "\n",
       "                                                                      11  \\\n",
       "atomic_number ion_charge level_index_lower level_index_upper               \n",
       "1             0          0                 1                    0.531217   \n",
       "                                           2                    0.125060   \n",
       "                                           3                    0.031010   \n",
       "                                           4                    0.019583   \n",
       "                                           5                    0.010964   \n",
       "...                                                                  ...   \n",
       "14            1          25                29                  97.000000   \n",
       "                                           30                  29.250000   \n",
       "                         26                29                   5.716667   \n",
       "                                           30                 120.500000   \n",
       "                         29                30                  35.250000   \n",
       "\n",
       "                                                                      12  \\\n",
       "atomic_number ion_charge level_index_lower level_index_upper               \n",
       "1             0          0                 1                    0.589667   \n",
       "                                           2                    0.138500   \n",
       "                                           3                    0.037100   \n",
       "                                           4                    0.022033   \n",
       "                                           5                    0.012350   \n",
       "...                                                                  ...   \n",
       "14            1          25                29                 102.500000   \n",
       "                                           30                  30.500000   \n",
       "                         26                29                   5.883333   \n",
       "                                           30                 127.666667   \n",
       "                         29                30                  37.700000   \n",
       "\n",
       "                                                                      13  \\\n",
       "atomic_number ion_charge level_index_lower level_index_upper               \n",
       "1             0          0                 1                    0.659250   \n",
       "                                           2                    0.154500   \n",
       "                                           3                    0.044350   \n",
       "                                           4                    0.024950   \n",
       "                                           5                    0.014000   \n",
       "...                                                                  ...   \n",
       "14            1          25                29                 105.638528   \n",
       "                                           30                  31.257576   \n",
       "                         26                29                   5.962698   \n",
       "                                           30                 131.707071   \n",
       "                         29                30                  39.583117   \n",
       "\n",
       "                                                                      14  \\\n",
       "atomic_number ion_charge level_index_lower level_index_upper               \n",
       "1             0          0                 1                    0.701471   \n",
       "                                           2                    0.164377   \n",
       "                                           3                    0.047992   \n",
       "                                           4                    0.026535   \n",
       "                                           5                    0.014891   \n",
       "...                                                                  ...   \n",
       "14            1          25                29                 109.750000   \n",
       "                                           30                  32.250000   \n",
       "                         26                29                   6.066667   \n",
       "                                           30                 137.000000   \n",
       "                         29                30                  42.050000   \n",
       "\n",
       "                                                                      15  \\\n",
       "atomic_number ion_charge level_index_lower level_index_upper               \n",
       "1             0          0                 1                    0.820400   \n",
       "                                           2                    0.192200   \n",
       "                                           3                    0.058250   \n",
       "                                           4                    0.031000   \n",
       "                                           5                    0.017400   \n",
       "...                                                                  ...   \n",
       "14            1          25                29                 110.750000   \n",
       "                                           30                  32.500000   \n",
       "                         26                29                   6.016667   \n",
       "                                           30                 138.666667   \n",
       "                         29                30                  44.950000   \n",
       "\n",
       "                                                                      16  \\\n",
       "atomic_number ion_charge level_index_lower level_index_upper               \n",
       "1             0          0                 1                    0.820400   \n",
       "                                           2                    0.192200   \n",
       "                                           3                    0.058250   \n",
       "                                           4                    0.031000   \n",
       "                                           5                    0.017400   \n",
       "...                                                                  ...   \n",
       "14            1          25                29                 105.500000   \n",
       "                                           30                  31.000000   \n",
       "                         26                29                   5.700000   \n",
       "                                           30                 132.333333   \n",
       "                         29                30                  45.500000   \n",
       "\n",
       "                                                                      17  \\\n",
       "atomic_number ion_charge level_index_lower level_index_upper               \n",
       "1             0          0                 1                    0.820400   \n",
       "                                           2                    0.192200   \n",
       "                                           3                    0.058250   \n",
       "                                           4                    0.031000   \n",
       "                                           5                    0.017400   \n",
       "...                                                                  ...   \n",
       "14            1          25                29                 100.794276   \n",
       "                                           30                  29.543467   \n",
       "                         26                29                   5.460979   \n",
       "                                           30                 126.432505   \n",
       "                         29                30                  44.626080   \n",
       "\n",
       "                                                                      18  \\\n",
       "atomic_number ion_charge level_index_lower level_index_upper               \n",
       "1             0          0                 1                    0.820400   \n",
       "                                           2                    0.192200   \n",
       "                                           3                    0.058250   \n",
       "                                           4                    0.031000   \n",
       "                                           5                    0.017400   \n",
       "...                                                                  ...   \n",
       "14            1          25                29                  95.000000   \n",
       "                                           30                  27.750000   \n",
       "                         26                29                   5.166667   \n",
       "                                           30                 119.166667   \n",
       "                         29                30                  43.550000   \n",
       "\n",
       "                                                                      19  \\\n",
       "atomic_number ion_charge level_index_lower level_index_upper               \n",
       "1             0          0                 1                    0.820400   \n",
       "                                           2                    0.192200   \n",
       "                                           3                    0.058250   \n",
       "                                           4                    0.031000   \n",
       "                                           5                    0.017400   \n",
       "...                                                                  ...   \n",
       "14            1          25                29                  95.000000   \n",
       "                                           30                  27.750000   \n",
       "                         26                29                   5.166667   \n",
       "                                           30                 119.166667   \n",
       "                         29                30                  43.550000   \n",
       "\n",
       "                                                                      20  \n",
       "atomic_number ion_charge level_index_lower level_index_upper              \n",
       "1             0          0                 1                    0.820400  \n",
       "                                           2                    0.192200  \n",
       "                                           3                    0.058250  \n",
       "                                           4                    0.031000  \n",
       "                                           5                    0.017400  \n",
       "...                                                                  ...  \n",
       "14            1          25                29                  95.000000  \n",
       "                                           30                  27.750000  \n",
       "                         26                29                   5.166667  \n",
       "                                           30                 119.166667  \n",
       "                         29                30                  43.550000  \n",
       "\n",
       "[849 rows x 21 columns]"
      ]
     },
     "execution_count": 20,
     "metadata": {},
     "output_type": "execute_result"
    }
   ],
   "source": [
    "cmfgen_reader.collisions"
   ]
  },
  {
   "cell_type": "code",
   "execution_count": 21,
   "metadata": {
    "execution": {
     "iopub.execute_input": "2025-05-12T14:50:40.189347Z",
     "iopub.status.busy": "2025-05-12T14:50:40.189187Z",
     "iopub.status.idle": "2025-05-12T14:50:40.193450Z",
     "shell.execute_reply": "2025-05-12T14:50:40.192959Z"
    }
   },
   "outputs": [
    {
     "data": {
      "text/plain": [
       "temperatures    [100, 2000, 2500, 4000, 5000, 6300, 10000, 126...\n",
       "dataset                                                  [cmfgen]\n",
       "info            The dataframe values are thermally-averaged ef...\n",
       "dtype: object"
      ]
     },
     "execution_count": 21,
     "metadata": {},
     "output_type": "execute_result"
    }
   ],
   "source": [
    "cmfgen_reader.collisional_metadata"
   ]
  }
 ],
 "metadata": {
  "kernelspec": {
   "display_name": "Python 3",
   "language": "python",
   "name": "python3"
  },
  "language_info": {
   "codemirror_mode": {
    "name": "ipython",
    "version": 3
   },
   "file_extension": ".py",
   "mimetype": "text/x-python",
   "name": "python",
   "nbconvert_exporter": "python",
   "pygments_lexer": "ipython3",
   "version": "3.12.5"
  }
 },
 "nbformat": 4,
 "nbformat_minor": 4
}
