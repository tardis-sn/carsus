{
 "cells": [
  {
   "cell_type": "markdown",
   "metadata": {},
   "source": [
    "# Test `output` module \n",
    "\n",
    "**IMPORTANT:** `nbval` runs the notebook and compares every cell against the saved output, so this notebook should not be commited with cleared outputs."
   ]
  },
  {
   "cell_type": "code",
   "execution_count": 1,
   "metadata": {},
   "outputs": [],
   "source": [
    "import os\n",
    "import logging\n",
    "import pandas as pd\n",
    "from pandas.testing import assert_frame_equal, assert_series_equal\n",
    "\n",
    "logger = logging.disable(logging.WARNING)  # nbval requires disabled logger"
   ]
  },
  {
   "cell_type": "code",
   "execution_count": 2,
   "metadata": {},
   "outputs": [],
   "source": [
    "GFALL_IONS = \"H-Be\"\n",
    "CHIANTI_IONS = \"H-He\""
   ]
  },
  {
   "cell_type": "markdown",
   "metadata": {},
   "source": [
    "## Load reference data"
   ]
  },
  {
   "cell_type": "code",
   "execution_count": 3,
   "metadata": {},
   "outputs": [],
   "source": [
    "CARSUS_REFDATA = os.environ[\"CARSUS_REFDATA\"]"
   ]
  },
  {
   "cell_type": "code",
   "execution_count": 4,
   "metadata": {},
   "outputs": [],
   "source": [
    "refdata = pd.HDFStore(os.path.join(CARSUS_REFDATA, f\"kurucz_{GFALL_IONS}_chianti_{CHIANTI_IONS}.h5\"))"
   ]
  },
  {
   "cell_type": "markdown",
   "metadata": {},
   "source": [
    "## Create atomic data"
   ]
  },
  {
   "cell_type": "code",
   "execution_count": 5,
   "metadata": {},
   "outputs": [
    {
     "name": "stdout",
     "output_type": "stream",
     "text": [
      " ChiantiPy version 0.8.4 \n",
      " found PyQt5 widgets\n",
      " using PyQt5 widgets\n"
     ]
    }
   ],
   "source": [
    "from carsus.io.nist import NISTWeightsComp, NISTIonizationEnergies\n",
    "from carsus.io.kurucz import GFALLReader\n",
    "from carsus.io.zeta import KnoxLongZeta\n",
    "from carsus.io.chianti_ import ChiantiReader\n",
    "from carsus.io.output import TARDISAtomData\n",
    "\n",
    "atomic_weights = NISTWeightsComp()\n",
    "ionization_energies = NISTIonizationEnergies(GFALL_IONS)\n",
    "gfall_reader = GFALLReader(ions=GFALL_IONS)\n",
    "chianti_reader = ChiantiReader(ions=CHIANTI_IONS, collisions=True, priority=20)\n",
    "zeta_data = KnoxLongZeta()\n",
    "\n",
    "atom_data = TARDISAtomData(atomic_weights,\n",
    "                            ionization_energies,\n",
    "                            gfall_reader,\n",
    "                            zeta_data,\n",
    "                            chianti_reader)"
   ]
  },
  {
   "cell_type": "markdown",
   "metadata": {},
   "source": [
    "## Create objects"
   ]
  },
  {
   "cell_type": "code",
   "execution_count": 6,
   "metadata": {},
   "outputs": [],
   "source": [
    "atomic_weights = atom_data.atomic_weights.base.loc[1:4]  # H-Be"
   ]
  },
  {
   "cell_type": "code",
   "execution_count": 7,
   "metadata": {},
   "outputs": [],
   "source": [
    "ionization_energies = atom_data.ionization_energies.base"
   ]
  },
  {
   "cell_type": "code",
   "execution_count": 8,
   "metadata": {},
   "outputs": [],
   "source": [
    "levels_all = atom_data._get_all_levels_data().drop(columns=[\"ds_id\"])"
   ]
  },
  {
   "cell_type": "code",
   "execution_count": 9,
   "metadata": {},
   "outputs": [],
   "source": [
    "levels = atom_data.levels.drop(columns=[\"ds_id\"])"
   ]
  },
  {
   "cell_type": "code",
   "execution_count": 10,
   "metadata": {},
   "outputs": [],
   "source": [
    "levels_prepared = atom_data.levels_prepared"
   ]
  },
  {
   "cell_type": "code",
   "execution_count": 11,
   "metadata": {},
   "outputs": [],
   "source": [
    "lines_all = atom_data._get_all_lines_data().drop(columns=[\"ds_id\"])"
   ]
  },
  {
   "cell_type": "code",
   "execution_count": 12,
   "metadata": {},
   "outputs": [],
   "source": [
    "lines = atom_data.lines.drop(columns=[\"ds_id\"])"
   ]
  },
  {
   "cell_type": "code",
   "execution_count": 13,
   "metadata": {},
   "outputs": [],
   "source": [
    "lines_prepared = atom_data.lines_prepared"
   ]
  },
  {
   "cell_type": "code",
   "execution_count": 14,
   "metadata": {},
   "outputs": [],
   "source": [
    "macro_atom = atom_data.macro_atom"
   ]
  },
  {
   "cell_type": "code",
   "execution_count": 15,
   "metadata": {},
   "outputs": [],
   "source": [
    "macro_atom_prepared = atom_data.macro_atom_prepared"
   ]
  },
  {
   "cell_type": "code",
   "execution_count": 16,
   "metadata": {},
   "outputs": [],
   "source": [
    "macro_atom_references = atom_data.macro_atom_references"
   ]
  },
  {
   "cell_type": "code",
   "execution_count": 17,
   "metadata": {},
   "outputs": [],
   "source": [
    "macro_atom_references_prepared = atom_data.macro_atom_references_prepared"
   ]
  },
  {
   "cell_type": "code",
   "execution_count": 18,
   "metadata": {},
   "outputs": [],
   "source": [
    "collisions = atom_data.collisions.drop(columns=[\"btemp\", \"bscups\"])"
   ]
  },
  {
   "cell_type": "code",
   "execution_count": 19,
   "metadata": {},
   "outputs": [],
   "source": [
    "collisions_prepared = atom_data.collisions_prepared"
   ]
  },
  {
   "cell_type": "code",
   "execution_count": 20,
   "metadata": {},
   "outputs": [],
   "source": [
    "zeta_data = atom_data.zeta_data.base"
   ]
  },
  {
   "cell_type": "markdown",
   "metadata": {},
   "source": [
    "## Assert equal"
   ]
  },
  {
   "cell_type": "code",
   "execution_count": 21,
   "metadata": {},
   "outputs": [],
   "source": [
    "assert_frame_equal(atomic_weights, refdata['atomic_weights'])"
   ]
  },
  {
   "cell_type": "code",
   "execution_count": 22,
   "metadata": {},
   "outputs": [],
   "source": [
    "assert_series_equal(ionization_energies, refdata['ionization_energies'])"
   ]
  },
  {
   "cell_type": "code",
   "execution_count": 23,
   "metadata": {},
   "outputs": [],
   "source": [
    "assert_frame_equal(levels_all, refdata['levels_all'])"
   ]
  },
  {
   "cell_type": "code",
   "execution_count": 24,
   "metadata": {},
   "outputs": [],
   "source": [
    "assert_frame_equal(levels, refdata['levels'])"
   ]
  },
  {
   "cell_type": "code",
   "execution_count": 25,
   "metadata": {},
   "outputs": [],
   "source": [
    "assert_frame_equal(levels_prepared, refdata['levels_prepared'])"
   ]
  },
  {
   "cell_type": "code",
   "execution_count": 26,
   "metadata": {},
   "outputs": [],
   "source": [
    "assert_frame_equal(lines_all, refdata['lines_all'])"
   ]
  },
  {
   "cell_type": "code",
   "execution_count": 27,
   "metadata": {},
   "outputs": [],
   "source": [
    "assert_frame_equal(lines, refdata['lines'])"
   ]
  },
  {
   "cell_type": "code",
   "execution_count": 28,
   "metadata": {},
   "outputs": [],
   "source": [
    "assert_frame_equal(lines_prepared, refdata['lines_prepared'])"
   ]
  },
  {
   "cell_type": "code",
   "execution_count": 29,
   "metadata": {},
   "outputs": [],
   "source": [
    "assert_frame_equal(macro_atom, refdata['macro_atom'])"
   ]
  },
  {
   "cell_type": "code",
   "execution_count": 30,
   "metadata": {},
   "outputs": [],
   "source": [
    "assert_frame_equal(macro_atom_prepared, refdata['macro_atom_prepared'])"
   ]
  },
  {
   "cell_type": "code",
   "execution_count": 31,
   "metadata": {},
   "outputs": [],
   "source": [
    "assert_frame_equal(macro_atom_references, refdata['macro_atom_references'])"
   ]
  },
  {
   "cell_type": "code",
   "execution_count": 32,
   "metadata": {},
   "outputs": [],
   "source": [
    "assert_frame_equal(macro_atom_references_prepared, refdata['macro_atom_references_prepared'])"
   ]
  },
  {
   "cell_type": "code",
   "execution_count": 33,
   "metadata": {},
   "outputs": [],
   "source": [
    "assert_frame_equal(collisions, refdata['collisions'])"
   ]
  },
  {
   "cell_type": "code",
   "execution_count": 34,
   "metadata": {},
   "outputs": [],
   "source": [
    "assert_frame_equal(collisions_prepared, refdata['collisions_prepared'])"
   ]
  },
  {
   "cell_type": "code",
   "execution_count": 35,
   "metadata": {},
   "outputs": [],
   "source": [
    "assert_frame_equal(zeta_data, refdata['zeta_data'])"
   ]
  }
 ],
 "metadata": {
  "kernelspec": {
   "display_name": "Python 3",
   "language": "python",
   "name": "python3"
  },
  "language_info": {
   "codemirror_mode": {
    "name": "ipython",
    "version": 3
   },
   "file_extension": ".py",
   "mimetype": "text/x-python",
   "name": "python",
   "nbconvert_exporter": "python",
   "pygments_lexer": "ipython3",
   "version": "3.6.12"
  }
 },
 "nbformat": 4,
 "nbformat_minor": 4
}
