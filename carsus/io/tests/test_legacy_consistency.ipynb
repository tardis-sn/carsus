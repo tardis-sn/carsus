{
 "cells": [
  {
   "cell_type": "markdown",
   "metadata": {},
   "source": [
    "# Test consistency between `legacy` and new `output` module\n",
    "\n",
    "*Test if the two `carsus` interfaces make identical atomic files.*\n",
    "\n",
    "**IMPORTANT:** `pytest --nbval-lax` runs the notebook and evaluate cells marked with `#NBVAL_CHECK_OUTPUT` as tests by comparing the new cell output with the previously saved result, so think carefully before pushing changes.\n",
    "\n",
    "The `assert_frame_equal` and `assert_series_equal` returns nothing when objects are identical.\n",
    "\n",
    "---"
   ]
  },
  {
   "cell_type": "code",
   "execution_count": 1,
   "metadata": {},
   "outputs": [],
   "source": [
    "import pandas as pd\n",
    "from pandas.testing import assert_frame_equal, assert_series_equal"
   ]
  },
  {
   "cell_type": "code",
   "execution_count": 2,
   "metadata": {},
   "outputs": [],
   "source": [
    "GFALL_IONS = \"H-Be\"\n",
    "CHIANTI_IONS = \"H-He\"\n",
    "CHIANTI_DB_VERSION = \"9.0.1\""
   ]
  },
  {
   "cell_type": "markdown",
   "metadata": {},
   "source": [
    "## 1. Create `old` atomic data"
   ]
  },
  {
   "cell_type": "code",
   "execution_count": 3,
   "metadata": {},
   "outputs": [
    {
     "name": "stdout",
     "output_type": "stream",
     "text": [
      " ChiantiPy version 0.8.4 \n",
      " found PyQt5 widgets\n",
      " using PyQt5 widgets\n",
      "[\u001b[1m                carsus.base\u001b[0m][\u001b[1;37mINFO\u001b[0m] - Initializing the database at sqlite:// (\u001b[1mbase.py\u001b[0m:32)\n",
      "[\u001b[1m                carsus.base\u001b[0m][\u001b[1;37mINFO\u001b[0m] - Ingesting basic atomic data. (\u001b[1mbase.py\u001b[0m:45)\n",
      "[\u001b[1m carsus.io.nist.weightscomp\u001b[0m][\u001b[1;37mINFO\u001b[0m] - Downloading data from the NIST Atomic Weights and Isotopic Compositions Database. (\u001b[1mweightscomp.py\u001b[0m:49)\n",
      "[\u001b[1m carsus.io.nist.weightscomp\u001b[0m][\u001b[1;37mINFO\u001b[0m] - Ingesting atomic weights from `nist`. (\u001b[1mweightscomp.py\u001b[0m:174)\n",
      "[\u001b[1m  carsus.io.nist.ionization\u001b[0m][\u001b[1;37mINFO\u001b[0m] - Downloading ionization energies from the NIST Atomic Spectra Database. (\u001b[1mionization.py\u001b[0m:65)\n",
      "[\u001b[1m  carsus.io.nist.ionization\u001b[0m][\u001b[1;37mINFO\u001b[0m] - Ingesting ionization energies from `nist-asd`. (\u001b[1mionization.py\u001b[0m:239)\n",
      "[\u001b[1m  carsus.io.nist.ionization\u001b[0m][\u001b[1;37mINFO\u001b[0m] - Ingesting ground levels from `nist-asd`. (\u001b[1mionization.py\u001b[0m:261)\n",
      "[\u001b[1m     carsus.io.kurucz.gfall\u001b[0m][\u001b[1;33mWARNING\u001b[0m] - A specific combination to identify unique levels from GFALL data has not been given. Defaulting to [\"energy\", \"j\"]. (\u001b[1mgfall.py\u001b[0m:95)\n",
      "[\u001b[1m     carsus.io.kurucz.gfall\u001b[0m][\u001b[1;37mINFO\u001b[0m] - Parsing GFALL from: https://media.githubusercontent.com/media/tardis-sn/carsus-db/master/gfall/gfall_latest.dat (\u001b[1mgfall.py\u001b[0m:148)\n",
      "[\u001b[1m     carsus.io.kurucz.gfall\u001b[0m][\u001b[1;37mINFO\u001b[0m] - Ingesting levels from `ku_latest`. (\u001b[1mgfall.py\u001b[0m:490)\n",
      "[\u001b[1m     carsus.io.kurucz.gfall\u001b[0m][\u001b[1;37mINFO\u001b[0m] - Ingesting levels for He 0. (\u001b[1mgfall.py\u001b[0m:499)\n",
      "[\u001b[1m     carsus.io.kurucz.gfall\u001b[0m][\u001b[1;37mINFO\u001b[0m] - Ingesting levels for He 1. (\u001b[1mgfall.py\u001b[0m:499)\n",
      "[\u001b[1m     carsus.io.kurucz.gfall\u001b[0m][\u001b[1;37mINFO\u001b[0m] - Ingesting levels for Li 0. (\u001b[1mgfall.py\u001b[0m:499)\n",
      "[\u001b[1m     carsus.io.kurucz.gfall\u001b[0m][\u001b[1;37mINFO\u001b[0m] - Ingesting levels for Li 1. (\u001b[1mgfall.py\u001b[0m:499)\n",
      "[\u001b[1m     carsus.io.kurucz.gfall\u001b[0m][\u001b[1;37mINFO\u001b[0m] - Ingesting levels for Be 0. (\u001b[1mgfall.py\u001b[0m:499)\n",
      "[\u001b[1m     carsus.io.kurucz.gfall\u001b[0m][\u001b[1;37mINFO\u001b[0m] - Ingesting levels for Be 1. (\u001b[1mgfall.py\u001b[0m:499)\n",
      "[\u001b[1m     carsus.io.kurucz.gfall\u001b[0m][\u001b[1;37mINFO\u001b[0m] - Ingesting levels for Be 2. (\u001b[1mgfall.py\u001b[0m:499)\n",
      "[\u001b[1m     carsus.io.kurucz.gfall\u001b[0m][\u001b[1;37mINFO\u001b[0m] - Extracting line data: atomic_number, ion_charge, energy_lower, j_lower, energy_upper, j_upper, wavelength, loggf. (\u001b[1mgfall.py\u001b[0m:352)\n",
      "[\u001b[1m     carsus.io.kurucz.gfall\u001b[0m][\u001b[1;37mINFO\u001b[0m] - Ingesting lines from `ku_latest`. (\u001b[1mgfall.py\u001b[0m:530)\n",
      "[\u001b[1m     carsus.io.kurucz.gfall\u001b[0m][\u001b[1;37mINFO\u001b[0m] - Ingesting lines for He 0. (\u001b[1mgfall.py\u001b[0m:539)\n",
      "[\u001b[1m     carsus.io.kurucz.gfall\u001b[0m][\u001b[1;37mINFO\u001b[0m] - Ingesting lines for He 1. (\u001b[1mgfall.py\u001b[0m:539)\n",
      "[\u001b[1m     carsus.io.kurucz.gfall\u001b[0m][\u001b[1;37mINFO\u001b[0m] - Ingesting lines for Li 0. (\u001b[1mgfall.py\u001b[0m:539)\n",
      "[\u001b[1m     carsus.io.kurucz.gfall\u001b[0m][\u001b[1;37mINFO\u001b[0m] - Ingesting lines for Li 1. (\u001b[1mgfall.py\u001b[0m:539)\n",
      "[\u001b[1m     carsus.io.kurucz.gfall\u001b[0m][\u001b[1;37mINFO\u001b[0m] - Ingesting lines for Be 0. (\u001b[1mgfall.py\u001b[0m:539)\n",
      "[\u001b[1m     carsus.io.kurucz.gfall\u001b[0m][\u001b[1;37mINFO\u001b[0m] - Ingesting lines for Be 1. (\u001b[1mgfall.py\u001b[0m:539)\n",
      "[\u001b[1m     carsus.io.kurucz.gfall\u001b[0m][\u001b[1;37mINFO\u001b[0m] - Ingesting lines for Be 2. (\u001b[1mgfall.py\u001b[0m:539)\n",
      "[\u001b[1mcarsus.io.chianti_.chianti_\u001b[0m][\u001b[1;37mINFO\u001b[0m] - Ingesting levels from `chianti_v9.0.1`. (\u001b[1mchianti_.py\u001b[0m:349)\n",
      "[\u001b[1mcarsus.io.chianti_.chianti_\u001b[0m][\u001b[1;37mINFO\u001b[0m] - Ingesting levels for H 0. (\u001b[1mchianti_.py\u001b[0m:367)\n",
      "[\u001b[1mcarsus.io.chianti_.chianti_\u001b[0m][\u001b[1;37mINFO\u001b[0m] - Ingesting levels for He 0. (\u001b[1mchianti_.py\u001b[0m:367)\n",
      "[\u001b[1mcarsus.io.chianti_.chianti_\u001b[0m][\u001b[1;37mINFO\u001b[0m] - Ingesting levels for He 1. (\u001b[1mchianti_.py\u001b[0m:367)\n",
      "[\u001b[1mcarsus.io.chianti_.chianti_\u001b[0m][\u001b[1;37mINFO\u001b[0m] - Ingesting lines from `chianti_v9.0.1`. (\u001b[1mchianti_.py\u001b[0m:391)\n",
      "[\u001b[1mcarsus.io.chianti_.chianti_\u001b[0m][\u001b[1;37mINFO\u001b[0m] - Ingesting lines for H 0. (\u001b[1mchianti_.py\u001b[0m:409)\n",
      "[\u001b[1mcarsus.io.chianti_.chianti_\u001b[0m][\u001b[1;37mINFO\u001b[0m] - Ingesting lines for He 0. (\u001b[1mchianti_.py\u001b[0m:409)\n",
      "[\u001b[1mcarsus.io.chianti_.chianti_\u001b[0m][\u001b[1;37mINFO\u001b[0m] - Ingesting lines for He 1. (\u001b[1mchianti_.py\u001b[0m:409)\n",
      "[\u001b[1mcarsus.io.chianti_.chianti_\u001b[0m][\u001b[1;37mINFO\u001b[0m] - Ingesting collisions from `chianti_v9.0.1`. (\u001b[1mchianti_.py\u001b[0m:451)\n",
      "[\u001b[1mcarsus.io.chianti_.chianti_\u001b[0m][\u001b[1;37mINFO\u001b[0m] - Ingesting collisions for H 0. (\u001b[1mchianti_.py\u001b[0m:469)\n",
      "[\u001b[1mcarsus.io.chianti_.chianti_\u001b[0m][\u001b[1;37mINFO\u001b[0m] - Ingesting collisions for He 0. (\u001b[1mchianti_.py\u001b[0m:469)\n",
      "[\u001b[1mcarsus.io.chianti_.chianti_\u001b[0m][\u001b[1;37mINFO\u001b[0m] - Ingesting collisions for He 1. (\u001b[1mchianti_.py\u001b[0m:469)\n"
     ]
    }
   ],
   "source": [
    "from carsus import init_db\n",
    "from carsus.io.nist import NISTIonizationEnergiesIngester, NISTWeightsCompIngester\n",
    "from carsus.io.kurucz import GFALLIngester\n",
    "from carsus.io.chianti_ import ChiantiIngester\n",
    "from carsus.io.zeta import KnoxLongZetaIngester\n",
    "from carsus.io.output import AtomData\n",
    "\n",
    "session = init_db()\n",
    "\n",
    "weightscomp_ingester = NISTWeightsCompIngester(session)\n",
    "weightscomp_ingester.ingest()\n",
    "session.commit()\n",
    "\n",
    "ioniz_energies_ingester = NISTIonizationEnergiesIngester(session, spectra=GFALL_IONS)\n",
    "ioniz_energies_ingester.ingest(ionization_energies=True, ground_levels=True)\n",
    "session.commit()\n",
    "\n",
    "gfall_ingester = GFALLIngester(session, ions=GFALL_IONS)\n",
    "gfall_ingester.ingest(levels=True, lines=True)\n",
    "session.commit()\n",
    "\n",
    "chianti_ingester = ChiantiIngester(session, ions=CHIANTI_IONS)\n",
    "chianti_ingester.ingest(levels=True, lines=True, collisions=True)\n",
    "session.commit()\n",
    "\n",
    "zeta_ingester = KnoxLongZetaIngester(session)\n",
    "zeta_ingester.ingest()\n",
    "session.commit()\n",
    "\n",
    "old_atom_data = AtomData(session,\n",
    "                         selected_atoms=GFALL_IONS, \n",
    "                         chianti_short_name=f\"chianti_v{CHIANTI_DB_VERSION}\", \n",
    "                         chianti_ions=CHIANTI_IONS)"
   ]
  },
  {
   "cell_type": "markdown",
   "metadata": {},
   "source": [
    "## 2. Create `new` atomic data"
   ]
  },
  {
   "cell_type": "code",
   "execution_count": 4,
   "metadata": {},
   "outputs": [
    {
     "name": "stdout",
     "output_type": "stream",
     "text": [
      "[\u001b[1m carsus.io.nist.weightscomp\u001b[0m][\u001b[1;37mINFO\u001b[0m] - Downloading data from the NIST Atomic Weights and Isotopic Compositions Database. (\u001b[1mweightscomp.py\u001b[0m:49)\n",
      "[\u001b[1m  carsus.io.nist.ionization\u001b[0m][\u001b[1;37mINFO\u001b[0m] - Downloading ionization energies from the NIST Atomic Spectra Database. (\u001b[1mionization.py\u001b[0m:65)\n",
      "[\u001b[1m     carsus.io.kurucz.gfall\u001b[0m][\u001b[1;33mWARNING\u001b[0m] - A specific combination to identify unique levels from GFALL data has not been given. Defaulting to [\"energy\", \"j\"]. (\u001b[1mgfall.py\u001b[0m:95)\n",
      "[\u001b[1m      carsus.io.output.base\u001b[0m][\u001b[1;37mINFO\u001b[0m] - Ingesting energy levels. (\u001b[1mbase.py\u001b[0m:291)\n",
      "[\u001b[1m     carsus.io.kurucz.gfall\u001b[0m][\u001b[1;37mINFO\u001b[0m] - Parsing GFALL from: https://media.githubusercontent.com/media/tardis-sn/carsus-db/master/gfall/gfall_latest.dat (\u001b[1mgfall.py\u001b[0m:148)\n",
      "[\u001b[1m      carsus.io.output.base\u001b[0m][\u001b[1;37mINFO\u001b[0m] - GFALL selected species: Li 0, Li 1, Be 0, Be 1, Be 2. (\u001b[1mbase.py\u001b[0m:328)\n",
      "[\u001b[1m      carsus.io.output.base\u001b[0m][\u001b[1;37mINFO\u001b[0m] - Chianti selected species: H 0, He 0, He 1. (\u001b[1mbase.py\u001b[0m:332)\n",
      "[\u001b[1m      carsus.io.output.base\u001b[0m][\u001b[1;37mINFO\u001b[0m] - Ingesting transition lines. (\u001b[1mbase.py\u001b[0m:384)\n",
      "[\u001b[1m     carsus.io.kurucz.gfall\u001b[0m][\u001b[1;37mINFO\u001b[0m] - Extracting line data: atomic_number, ion_charge, energy_lower, j_lower, energy_upper, j_upper, wavelength, loggf. (\u001b[1mgfall.py\u001b[0m:352)\n",
      "[\u001b[1m      carsus.io.output.base\u001b[0m][\u001b[1;37mINFO\u001b[0m] - Matching lines and levels. (\u001b[1mbase.py\u001b[0m:423)\n",
      "[\u001b[1m      carsus.io.output.base\u001b[0m][\u001b[1;37mINFO\u001b[0m] - Ingesting collisional strengths. (\u001b[1mbase.py\u001b[0m:574)\n",
      "[\u001b[1m      carsus.io.output.base\u001b[0m][\u001b[1;37mINFO\u001b[0m] - Matching collisions and levels. (\u001b[1mbase.py\u001b[0m:586)\n",
      "[\u001b[1m      carsus.io.output.base\u001b[0m][\u001b[1;37mINFO\u001b[0m] - Finished. (\u001b[1mbase.py\u001b[0m:77)\n"
     ]
    }
   ],
   "source": [
    "from carsus.io.nist import NISTWeightsComp, NISTIonizationEnergies\n",
    "from carsus.io.kurucz import GFALLReader\n",
    "from carsus.io.zeta import KnoxLongZeta\n",
    "from carsus.io.chianti_ import ChiantiReader\n",
    "from carsus.io.output import TARDISAtomData\n",
    "\n",
    "atomic_weights = NISTWeightsComp()\n",
    "ionization_energies = NISTIonizationEnergies(GFALL_IONS)\n",
    "gfall_reader = GFALLReader(ions=GFALL_IONS)\n",
    "chianti_reader = ChiantiReader(ions=CHIANTI_IONS, collisions=True, priority=20)\n",
    "zeta_data = KnoxLongZeta()\n",
    "\n",
    "new_atom_data = TARDISAtomData(atomic_weights,\n",
    "                               ionization_energies,\n",
    "                               gfall_reader,\n",
    "                               zeta_data,\n",
    "                               chianti_reader)"
   ]
  },
  {
   "cell_type": "markdown",
   "metadata": {},
   "source": [
    "## 3. Create objects"
   ]
  },
  {
   "cell_type": "code",
   "execution_count": 5,
   "metadata": {},
   "outputs": [],
   "source": [
    "# to do: make more consistent\n",
    "old_atomic_weights = old_atom_data.atom_masses_prepared\n",
    "old_atomic_weights['symbol'] = old_atomic_weights['symbol'].str.decode('UTF-8')\n",
    "old_atomic_weights['name'] = old_atomic_weights['name'].str.decode('UTF-8')\n",
    "\n",
    "new_atomic_weights = new_atom_data.atomic_weights.base.loc[1:4]  # H-Be"
   ]
  },
  {
   "cell_type": "code",
   "execution_count": 6,
   "metadata": {},
   "outputs": [],
   "source": [
    "# to do: make more consistent\n",
    "old_ionization_energies = old_atom_data.ionization_energies_prepared\n",
    "new_ionization_energies = new_atom_data.ionization_energies.base"
   ]
  },
  {
   "cell_type": "code",
   "execution_count": 7,
   "metadata": {},
   "outputs": [
    {
     "name": "stdout",
     "output_type": "stream",
     "text": [
      "[\u001b[1m      carsus.io.output.base\u001b[0m][\u001b[1;37mINFO\u001b[0m] - Ingesting energy levels. (\u001b[1mbase.py\u001b[0m:291)\n",
      "[\u001b[1m      carsus.io.output.base\u001b[0m][\u001b[1;37mINFO\u001b[0m] - GFALL selected species: Li 0, Li 1, Be 0, Be 1, Be 2. (\u001b[1mbase.py\u001b[0m:328)\n",
      "[\u001b[1m      carsus.io.output.base\u001b[0m][\u001b[1;37mINFO\u001b[0m] - Chianti selected species: H 0, He 0, He 1. (\u001b[1mbase.py\u001b[0m:332)\n"
     ]
    }
   ],
   "source": [
    "old_levels_all = old_atom_data._get_all_levels_data().reset_index()\n",
    "new_levels_all = new_atom_data._get_all_levels_data().drop(columns=[\"ds_id\"])"
   ]
  },
  {
   "cell_type": "code",
   "execution_count": 8,
   "metadata": {},
   "outputs": [
    {
     "name": "stdout",
     "output_type": "stream",
     "text": [
      "[\u001b[1m                py.warnings\u001b[0m][\u001b[1;33mWARNING\u001b[0m] - /home/epassaro/miniconda3/envs/carsus/lib/python3.6/site-packages/pandas/core/series.py:679: RuntimeWarning: divide by zero encountered in log10\n",
      "  result = getattr(ufunc, method)(*inputs, **kwargs)\n",
      " (\u001b[1mwarnings.py\u001b[0m:99)\n"
     ]
    }
   ],
   "source": [
    "old_levels = old_atom_data.levels\n",
    "new_levels = new_atom_data.levels.drop(columns=[\"ds_id\"])"
   ]
  },
  {
   "cell_type": "code",
   "execution_count": 9,
   "metadata": {},
   "outputs": [],
   "source": [
    "old_levels_prepared = old_atom_data.levels_prepared\n",
    "new_levels_prepared = new_atom_data.levels_prepared"
   ]
  },
  {
   "cell_type": "code",
   "execution_count": 10,
   "metadata": {},
   "outputs": [
    {
     "name": "stdout",
     "output_type": "stream",
     "text": [
      "[\u001b[1m      carsus.io.output.base\u001b[0m][\u001b[1;37mINFO\u001b[0m] - Ingesting transition lines. (\u001b[1mbase.py\u001b[0m:384)\n",
      "[\u001b[1m      carsus.io.output.base\u001b[0m][\u001b[1;37mINFO\u001b[0m] - Matching lines and levels. (\u001b[1mbase.py\u001b[0m:423)\n"
     ]
    }
   ],
   "source": [
    "old_lines_all = old_atom_data._get_all_lines_data()\n",
    "new_lines_all = new_atom_data._get_all_lines_data().drop(columns=[\"ds_id\"])"
   ]
  },
  {
   "cell_type": "code",
   "execution_count": 11,
   "metadata": {},
   "outputs": [],
   "source": [
    "old_lines = old_atom_data.lines\n",
    "new_lines = new_atom_data.lines.drop(columns=[\"ds_id\"])"
   ]
  },
  {
   "cell_type": "code",
   "execution_count": 12,
   "metadata": {},
   "outputs": [],
   "source": [
    "old_lines_prepared = old_atom_data.lines_prepared\n",
    "new_lines_prepared = new_atom_data.lines_prepared"
   ]
  },
  {
   "cell_type": "code",
   "execution_count": 13,
   "metadata": {},
   "outputs": [],
   "source": [
    "old_macro_atom = old_atom_data.macro_atom\n",
    "new_macro_atom = new_atom_data.macro_atom"
   ]
  },
  {
   "cell_type": "code",
   "execution_count": 14,
   "metadata": {},
   "outputs": [],
   "source": [
    "old_macro_atom_prepared = old_atom_data.macro_atom_prepared\n",
    "new_macro_atom_prepared = new_atom_data.macro_atom_prepared"
   ]
  },
  {
   "cell_type": "code",
   "execution_count": 15,
   "metadata": {},
   "outputs": [],
   "source": [
    "old_macro_atom_references = old_atom_data.macro_atom_references\n",
    "new_macro_atom_references = new_atom_data.macro_atom_references"
   ]
  },
  {
   "cell_type": "code",
   "execution_count": 16,
   "metadata": {},
   "outputs": [],
   "source": [
    "old_macro_atom_references_prepared = old_atom_data.macro_atom_references_prepared\n",
    "new_macro_atom_references_prepared = new_atom_data.macro_atom_references_prepared"
   ]
  },
  {
   "cell_type": "code",
   "execution_count": 17,
   "metadata": {},
   "outputs": [],
   "source": [
    "old_collisions = old_atom_data.collisions.drop(columns=[\"btemp\", \"bscups\"])\n",
    "new_collisions = new_atom_data.collisions.drop(columns=[\"btemp\", \"bscups\"])"
   ]
  },
  {
   "cell_type": "code",
   "execution_count": 18,
   "metadata": {},
   "outputs": [],
   "source": [
    "old_collisions_prepared = old_atom_data.collisions_prepared\n",
    "new_collisions_prepared = new_atom_data.collisions_prepared"
   ]
  },
  {
   "cell_type": "code",
   "execution_count": 19,
   "metadata": {},
   "outputs": [],
   "source": [
    "# to do: make more consistent\n",
    "old_zeta_data = old_atom_data.zeta_data\n",
    "new_zeta_data = new_atom_data.zeta_data.base"
   ]
  },
  {
   "cell_type": "markdown",
   "metadata": {},
   "source": [
    "## 4. Assert equal"
   ]
  },
  {
   "cell_type": "code",
   "execution_count": 20,
   "metadata": {},
   "outputs": [],
   "source": [
    "#NBVAL_CHECK_OUTPUT\n",
    "assert_frame_equal(old_atomic_weights, new_atomic_weights)"
   ]
  },
  {
   "cell_type": "code",
   "execution_count": 21,
   "metadata": {},
   "outputs": [],
   "source": [
    "#NBVAL_CHECK_OUTPUT\n",
    "assert_series_equal(old_ionization_energies, new_ionization_energies)"
   ]
  },
  {
   "cell_type": "code",
   "execution_count": 22,
   "metadata": {},
   "outputs": [],
   "source": [
    "#NBVAL_CHECK_OUTPUT\n",
    "assert_frame_equal(old_levels_all, new_levels_all)"
   ]
  },
  {
   "cell_type": "code",
   "execution_count": 23,
   "metadata": {},
   "outputs": [],
   "source": [
    "#NBVAL_CHECK_OUTPUT\n",
    "assert_frame_equal(old_levels, new_levels)"
   ]
  },
  {
   "cell_type": "code",
   "execution_count": 24,
   "metadata": {},
   "outputs": [],
   "source": [
    "#NBVAL_CHECK_OUTPUT\n",
    "assert_frame_equal(old_levels_prepared, new_levels_prepared)"
   ]
  },
  {
   "cell_type": "code",
   "execution_count": 25,
   "metadata": {},
   "outputs": [],
   "source": [
    "#NBVAL_CHECK_OUTPUT\n",
    "assert_frame_equal(old_lines_all, new_lines_all)"
   ]
  },
  {
   "cell_type": "code",
   "execution_count": 26,
   "metadata": {},
   "outputs": [],
   "source": [
    "#NBVAL_CHECK_OUTPUT\n",
    "assert_frame_equal(old_lines, new_lines)"
   ]
  },
  {
   "cell_type": "code",
   "execution_count": 27,
   "metadata": {},
   "outputs": [],
   "source": [
    "#NBVAL_CHECK_OUTPUT\n",
    "assert_frame_equal(old_lines_prepared, new_lines_prepared)"
   ]
  },
  {
   "cell_type": "code",
   "execution_count": 28,
   "metadata": {},
   "outputs": [],
   "source": [
    "#NBVAL_CHECK_OUTPUT\n",
    "assert_frame_equal(old_macro_atom, new_macro_atom)"
   ]
  },
  {
   "cell_type": "code",
   "execution_count": 29,
   "metadata": {},
   "outputs": [],
   "source": [
    "#NBVAL_CHECK_OUTPUT\n",
    "assert_frame_equal(old_macro_atom_prepared, new_macro_atom_prepared)"
   ]
  },
  {
   "cell_type": "code",
   "execution_count": 30,
   "metadata": {},
   "outputs": [],
   "source": [
    "#NBVAL_CHECK_OUTPUT\n",
    "assert_frame_equal(old_macro_atom_references, new_macro_atom_references)"
   ]
  },
  {
   "cell_type": "code",
   "execution_count": 31,
   "metadata": {},
   "outputs": [],
   "source": [
    "#NBVAL_CHECK_OUTPUT\n",
    "assert_frame_equal(old_macro_atom_references_prepared, new_macro_atom_references_prepared)"
   ]
  },
  {
   "cell_type": "code",
   "execution_count": 32,
   "metadata": {},
   "outputs": [],
   "source": [
    "#NBVAL_CHECK_OUTPUT\n",
    "assert_frame_equal(old_collisions, new_collisions)"
   ]
  },
  {
   "cell_type": "code",
   "execution_count": 33,
   "metadata": {},
   "outputs": [],
   "source": [
    "#NBVAL_CHECK_OUTPUT\n",
    "assert_frame_equal(old_collisions_prepared, new_collisions_prepared)"
   ]
  },
  {
   "cell_type": "code",
   "execution_count": 34,
   "metadata": {},
   "outputs": [],
   "source": [
    "#NBVAL_CHECK_OUTPUT\n",
    "assert_frame_equal(old_zeta_data, new_zeta_data)"
   ]
  }
 ],
 "metadata": {
  "kernelspec": {
   "display_name": "Python 3",
   "language": "python",
   "name": "python3"
  },
  "language_info": {
   "codemirror_mode": {
    "name": "ipython",
    "version": 3
   },
   "file_extension": ".py",
   "mimetype": "text/x-python",
   "name": "python",
   "nbconvert_exporter": "python",
   "pygments_lexer": "ipython3",
   "version": "3.6.13"
  }
 },
 "nbformat": 4,
 "nbformat_minor": 4
}
