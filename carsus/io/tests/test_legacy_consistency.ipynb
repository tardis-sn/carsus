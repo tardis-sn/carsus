{
 "cells": [
  {
   "cell_type": "markdown",
   "metadata": {},
   "source": [
    "# Test consistency between `legacy` and new `output` module\n",
    "\n",
    "*Test if the two `carsus` interfaces make identical atomic files, **step by step**.*\n",
    "\n",
    "> **IMPORTANT:** `pytest-notebook` runs the notebook and `diff`'s every cell against the previously saved result. So, the result of the test depends on the `diff` output and indirectly on the assertion. Logging is disabled to avoid comparing unnecesary strings. Keep in mind that the functions `assert_frame_equal` and `assert_series_equal` returns nothing when objects are identical.\n",
    "\n",
    "---"
   ]
  },
  {
   "cell_type": "code",
   "execution_count": 1,
   "metadata": {},
   "outputs": [],
   "source": [
    "import logging\n",
    "\n",
    "logging.disable(logging.CRITICAL)"
   ]
  },
  {
   "cell_type": "code",
   "execution_count": 2,
   "metadata": {},
   "outputs": [],
   "source": [
    "import pandas as pd\n",
    "from pandas.testing import assert_frame_equal, assert_series_equal"
   ]
  },
  {
   "cell_type": "code",
   "execution_count": 3,
   "metadata": {},
   "outputs": [],
   "source": [
    "GFALL_IONS = \"H-Be\"\n",
    "CHIANTI_IONS = \"H-He\"\n",
    "CHIANTI_DB_VERSION = \"9.0.1\""
   ]
  },
  {
   "cell_type": "markdown",
   "metadata": {},
   "source": [
    "## 1. Create `old` atomic data"
   ]
  },
  {
   "cell_type": "code",
   "execution_count": 4,
   "metadata": {},
   "outputs": [
    {
     "name": "stdout",
     "output_type": "stream",
     "text": [
      " ChiantiPy version 0.8.4 \n",
      " found PyQt5 widgets\n",
      " using PyQt5 widgets\n"
     ]
    }
   ],
   "source": [
    "from carsus import init_db\n",
    "from carsus.io.nist import NISTIonizationEnergiesIngester, NISTWeightsCompIngester\n",
    "from carsus.io.kurucz import GFALLIngester\n",
    "from carsus.io.chianti_ import ChiantiIngester\n",
    "from carsus.io.zeta import KnoxLongZetaIngester\n",
    "from carsus.io.output import AtomData\n",
    "\n",
    "session = init_db()\n",
    "\n",
    "weightscomp_ingester = NISTWeightsCompIngester(session)\n",
    "weightscomp_ingester.ingest()\n",
    "session.commit()\n",
    "\n",
    "ioniz_energies_ingester = NISTIonizationEnergiesIngester(session, spectra=GFALL_IONS)\n",
    "ioniz_energies_ingester.ingest(ionization_energies=True, ground_levels=True)\n",
    "session.commit()\n",
    "\n",
    "gfall_ingester = GFALLIngester(session, ions=GFALL_IONS)\n",
    "gfall_ingester.ingest(levels=True, lines=True)\n",
    "session.commit()\n",
    "\n",
    "chianti_ingester = ChiantiIngester(session, ions=CHIANTI_IONS)\n",
    "chianti_ingester.ingest(levels=True, lines=True, collisions=True)\n",
    "session.commit()\n",
    "\n",
    "zeta_ingester = KnoxLongZetaIngester(session)\n",
    "zeta_ingester.ingest()\n",
    "session.commit()\n",
    "\n",
    "old_atom_data = AtomData(session,\n",
    "                         selected_atoms=GFALL_IONS, \n",
    "                         chianti_short_name=f\"chianti_v{CHIANTI_DB_VERSION}\", \n",
    "                         chianti_ions=CHIANTI_IONS)"
   ]
  },
  {
   "cell_type": "markdown",
   "metadata": {},
   "source": [
    "## 2. Create `new` atomic data"
   ]
  },
  {
   "cell_type": "code",
   "execution_count": 5,
   "metadata": {},
   "outputs": [],
   "source": [
    "from carsus.io.nist import NISTWeightsComp, NISTIonizationEnergies\n",
    "from carsus.io.kurucz import GFALLReader\n",
    "from carsus.io.zeta import KnoxLongZeta\n",
    "from carsus.io.chianti_ import ChiantiReader\n",
    "from carsus.io.output import TARDISAtomData\n",
    "\n",
    "atomic_weights = NISTWeightsComp()\n",
    "ionization_energies = NISTIonizationEnergies(GFALL_IONS)\n",
    "gfall_reader = GFALLReader(ions=GFALL_IONS)\n",
    "chianti_reader = ChiantiReader(ions=CHIANTI_IONS, collisions=True, priority=20)\n",
    "zeta_data = KnoxLongZeta()\n",
    "\n",
    "new_atom_data = TARDISAtomData(atomic_weights,\n",
    "                               ionization_energies,\n",
    "                               gfall_reader,\n",
    "                               zeta_data,\n",
    "                               chianti_reader)"
   ]
  },
  {
   "cell_type": "markdown",
   "metadata": {},
   "source": [
    "## 3. Create objects"
   ]
  },
  {
   "cell_type": "code",
   "execution_count": 6,
   "metadata": {},
   "outputs": [],
   "source": [
    "# to do: make consistent with legacy `AtomData` class\n",
    "old_atomic_weights = old_atom_data.atom_masses_prepared\n",
    "old_atomic_weights['symbol'] = old_atomic_weights['symbol'].str.decode('UTF-8')\n",
    "old_atomic_weights['name'] = old_atomic_weights['name'].str.decode('UTF-8')\n",
    "\n",
    "new_atomic_weights = new_atom_data.atomic_weights.base.loc[1:4]  # H-Be"
   ]
  },
  {
   "cell_type": "code",
   "execution_count": 7,
   "metadata": {},
   "outputs": [],
   "source": [
    "# to do: make consistent with legacy `AtomData` class\n",
    "old_ionization_energies = old_atom_data.ionization_energies_prepared\n",
    "new_ionization_energies = new_atom_data.ionization_energies_prepared"
   ]
  },
  {
   "cell_type": "code",
   "execution_count": 8,
   "metadata": {},
   "outputs": [],
   "source": [
    "old_levels_all = old_atom_data._get_all_levels_data().reset_index()\n",
    "new_levels_all = new_atom_data._get_all_levels_data().drop(columns=[\"ds_id\"])"
   ]
  },
  {
   "cell_type": "code",
   "execution_count": 9,
   "metadata": {},
   "outputs": [],
   "source": [
    "old_levels = old_atom_data.levels\n",
    "new_levels = new_atom_data.levels.drop(columns=[\"ds_id\"])"
   ]
  },
  {
   "cell_type": "code",
   "execution_count": 10,
   "metadata": {},
   "outputs": [],
   "source": [
    "old_levels_prepared = old_atom_data.levels_prepared\n",
    "new_levels_prepared = new_atom_data.levels_prepared"
   ]
  },
  {
   "cell_type": "code",
   "execution_count": 11,
   "metadata": {},
   "outputs": [],
   "source": [
    "old_lines_all = old_atom_data._get_all_lines_data()\n",
    "new_lines_all = new_atom_data._get_all_lines_data().drop(columns=[\"ds_id\"])"
   ]
  },
  {
   "cell_type": "code",
   "execution_count": 12,
   "metadata": {},
   "outputs": [],
   "source": [
    "old_lines = old_atom_data.lines\n",
    "new_lines = new_atom_data.lines.drop(columns=[\"ds_id\"])"
   ]
  },
  {
   "cell_type": "code",
   "execution_count": 13,
   "metadata": {},
   "outputs": [],
   "source": [
    "old_lines_prepared = old_atom_data.lines_prepared\n",
    "new_lines_prepared = new_atom_data.lines_prepared"
   ]
  },
  {
   "cell_type": "code",
   "execution_count": 14,
   "metadata": {},
   "outputs": [],
   "source": [
    "old_macro_atom = old_atom_data.macro_atom\n",
    "new_macro_atom = new_atom_data.macro_atom"
   ]
  },
  {
   "cell_type": "code",
   "execution_count": 15,
   "metadata": {},
   "outputs": [],
   "source": [
    "old_macro_atom_prepared = old_atom_data.macro_atom_prepared\n",
    "new_macro_atom_prepared = new_atom_data.macro_atom_prepared"
   ]
  },
  {
   "cell_type": "code",
   "execution_count": 16,
   "metadata": {},
   "outputs": [],
   "source": [
    "old_macro_atom_references = old_atom_data.macro_atom_references\n",
    "new_macro_atom_references = new_atom_data.macro_atom_references"
   ]
  },
  {
   "cell_type": "code",
   "execution_count": 17,
   "metadata": {},
   "outputs": [],
   "source": [
    "old_macro_atom_references_prepared = old_atom_data.macro_atom_references_prepared\n",
    "new_macro_atom_references_prepared = new_atom_data.macro_atom_references_prepared"
   ]
  },
  {
   "cell_type": "code",
   "execution_count": 18,
   "metadata": {},
   "outputs": [],
   "source": [
    "old_collisions = old_atom_data.collisions.drop(columns=[\"btemp\", \"bscups\"])\n",
    "new_collisions = new_atom_data.collisions.drop(columns=[\"btemp\", \"bscups\"])"
   ]
  },
  {
   "cell_type": "code",
   "execution_count": 19,
   "metadata": {},
   "outputs": [],
   "source": [
    "old_collisions_prepared = old_atom_data.collisions_prepared\n",
    "new_collisions_prepared = new_atom_data.collisions_prepared"
   ]
  },
  {
   "cell_type": "code",
   "execution_count": 20,
   "metadata": {},
   "outputs": [],
   "source": [
    "# to do: make consistent with legacy `AtomData` class\n",
    "old_zeta_data = old_atom_data.zeta_data\n",
    "new_zeta_data = new_atom_data.zeta_data.base"
   ]
  },
  {
   "cell_type": "markdown",
   "metadata": {},
   "source": [
    "## 4. Assert equal"
   ]
  },
  {
   "cell_type": "code",
   "execution_count": 21,
   "metadata": {},
   "outputs": [],
   "source": [
    "assert_frame_equal(old_atomic_weights, new_atomic_weights)"
   ]
  },
  {
   "cell_type": "code",
   "execution_count": 22,
   "metadata": {},
   "outputs": [],
   "source": [
    "assert_series_equal(old_ionization_energies, new_ionization_energies)"
   ]
  },
  {
   "cell_type": "code",
   "execution_count": 23,
   "metadata": {},
   "outputs": [],
   "source": [
    "assert_frame_equal(old_levels_all, new_levels_all)"
   ]
  },
  {
   "cell_type": "code",
   "execution_count": 24,
   "metadata": {},
   "outputs": [],
   "source": [
    "assert_frame_equal(old_levels, new_levels)"
   ]
  },
  {
   "cell_type": "code",
   "execution_count": 25,
   "metadata": {},
   "outputs": [],
   "source": [
    "assert_frame_equal(old_levels_prepared, new_levels_prepared)"
   ]
  },
  {
   "cell_type": "code",
   "execution_count": 26,
   "metadata": {},
   "outputs": [],
   "source": [
    "assert_frame_equal(old_lines_all, new_lines_all)"
   ]
  },
  {
   "cell_type": "code",
   "execution_count": 27,
   "metadata": {},
   "outputs": [],
   "source": [
    "assert_frame_equal(old_lines, new_lines)"
   ]
  },
  {
   "cell_type": "code",
   "execution_count": 28,
   "metadata": {},
   "outputs": [],
   "source": [
    "assert_frame_equal(old_lines_prepared, new_lines_prepared)"
   ]
  },
  {
   "cell_type": "code",
   "execution_count": 29,
   "metadata": {},
   "outputs": [],
   "source": [
    "assert_frame_equal(old_macro_atom, new_macro_atom)"
   ]
  },
  {
   "cell_type": "code",
   "execution_count": 30,
   "metadata": {},
   "outputs": [],
   "source": [
    "assert_frame_equal(old_macro_atom_prepared, new_macro_atom_prepared)"
   ]
  },
  {
   "cell_type": "code",
   "execution_count": 31,
   "metadata": {},
   "outputs": [],
   "source": [
    "assert_frame_equal(old_macro_atom_references, new_macro_atom_references)"
   ]
  },
  {
   "cell_type": "code",
   "execution_count": 32,
   "metadata": {},
   "outputs": [],
   "source": [
    "assert_frame_equal(old_macro_atom_references_prepared, new_macro_atom_references_prepared)"
   ]
  },
  {
   "cell_type": "code",
   "execution_count": 33,
   "metadata": {},
   "outputs": [],
   "source": [
    "assert_frame_equal(old_collisions, new_collisions)"
   ]
  },
  {
   "cell_type": "code",
   "execution_count": 34,
   "metadata": {},
   "outputs": [],
   "source": [
    "assert_frame_equal(old_collisions_prepared, new_collisions_prepared)"
   ]
  },
  {
   "cell_type": "code",
   "execution_count": 35,
   "metadata": {},
   "outputs": [],
   "source": [
    "assert_frame_equal(old_zeta_data, new_zeta_data)"
   ]
  }
 ],
 "metadata": {
  "kernelspec": {
   "display_name": "Python 3",
   "language": "python",
   "name": "python3"
  },
  "language_info": {
   "codemirror_mode": {
    "name": "ipython",
    "version": 3
   },
   "file_extension": ".py",
   "mimetype": "text/x-python",
   "name": "python",
   "nbconvert_exporter": "python",
   "pygments_lexer": "ipython3",
   "version": "3.6.13"
  }
 },
 "nbformat": 4,
 "nbformat_minor": 4
}
